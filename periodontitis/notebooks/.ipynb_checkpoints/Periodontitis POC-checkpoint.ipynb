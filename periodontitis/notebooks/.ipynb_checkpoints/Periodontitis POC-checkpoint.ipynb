{
 "cells": [
  {
   "cell_type": "markdown",
   "id": "7a5b3f3c",
   "metadata": {},
   "source": [
    "Periodontitis Detection: Proof of Concept\n",
    "\n",
    "This notebook serves as an initial proof of concept for detecting periodontitis using image enhancement, tooth segmentation, and bone loss measurement.\n",
    "\n",
    "1. Preprocessing – Apply K-CFDO image enhancement to improve the clarity of the X-ray.\n",
    "2. Tooth Segmentation – Use YOLOv8 to segment individual teeth in the image.\n",
    "3. CEJ and Alveolar Bone Crest Segmentation – Use U-Net to segment the CEJ and alveolar bone crest for bone loss measurement.\n",
    "4. Bone Loss Measurement – Calculate the CEJ-to-bone crest distance in pixels and convert it to millimeters using a scaling factor.\n",
    "5. Periodontitis Detection – Classify teeth based on bone loss severity (≥ 2 mm for periodontitis).\n"
   ]
  },
  {
   "cell_type": "code",
   "execution_count": null,
   "id": "b0721d60",
   "metadata": {},
   "outputs": [],
   "source": [
    "# 1. Preprocessing – Apply K-CFDO image enhancement.\n",
    "\"\"\"\n",
    "K-CFDO (Kernel-based Contrast and Feature Detail Optimization) Image Enhancement\n",
    "\n",
    "Parameters:\n",
    "-----------\n",
    "ρ (rho): A regularization parameter in the range [0,1] that controls the balance between\n",
    "         noise reduction and detail preservation. Lower values preserve more details but may\n",
    "         retain more noise, while higher values reduce noise but might blur fine details.\n",
    "         - When ρ approaches 0: Emphasizes detail preservation\n",
    "         - When ρ approaches 1: Emphasizes noise reduction\n",
    "\n",
    "k: A scaling factor that adjusts the strength of the kernel filter. It controls the \n",
    "   emphasis on image features and the smoothing effects. Typically a value > 1.\n",
    "   - Smaller k values: Result in stronger enhancement effects\n",
    "   - Larger k values: Produce more subtle enhancements\n",
    "\n",
    "r: Represents the normalized pixel intensity value in the range [0,1], which is treated\n",
    "   as a probability value in the context of the algorithm. Each pixel's intensity is\n",
    "   transformed according to its value and the parameters.\n",
    "\n",
    "E_k^(1,1-ρ/k)(r): Represents a special function (related to the Mittag-Leffler function)\n",
    "                  that is approximated using the Gamma function in this implementation.\n",
    "                  The Gamma function (Γ) helps in calculating the denominator part of the \n",
    "                  enhancement equation.\n",
    "\n",
    "The algorithm enhances each pixel according to the formula:\n",
    "Enhanced_value = Original_value × [r^((1-ρ)/k) / Γ(2-ρ/k)]\n",
    "\n",
    "This transformation:\n",
    "1. Increases contrast in regions with significant intensity variations\n",
    "2. Preserves edges and fine details based on the parameter settings\n",
    "3. Reduces noise in homogeneous regions\n",
    "4. Improves overall visibility of features in medical images, particularly X-rays\n",
    "\"\"\"\n",
    "import os\n",
    "import shutil\n",
    "import numpy as np\n",
    "import cv2\n",
    "from tqdm import tqdm\n",
    "from scipy import special\n",
    "\n",
    "# K-CFDO Enhancement Function\n",
    "def k_cfdo_enhancement(image, rho=0.5, k=1.5):\n",
    "    img = image.astype(np.float64)\n",
    "    if img.max() > 1.0:\n",
    "        img = img / 255.0  # Normalize\n",
    "    n, m = img.shape\n",
    "    enhanced_img = np.zeros_like(img)\n",
    "    for i in range(n):\n",
    "        for j in range(m):\n",
    "            r = img[i, j]\n",
    "            numerator = r ** ((1 - rho) / k)\n",
    "            denominator = special.gamma(2 - rho / k)\n",
    "            enhanced_img[i, j] = img[i, j] * (numerator / denominator)\n",
    "    enhanced_img = (enhanced_img - enhanced_img.min()) / (enhanced_img.max() - enhanced_img.min())\n",
    "    return (enhanced_img * 255).astype(np.uint8)\n",
    "\n",
    "# Function to process images and move labels\n",
    "def process_and_move_data(set_name):\n",
    "    \"\"\"\n",
    "    Process images using K-CFDO enhancement and move corresponding labels.\n",
    "    \n",
    "    Parameters:\n",
    "    -----------\n",
    "    set_name : str\n",
    "        Name of the dataset split (train, valid, or test).\n",
    "    \"\"\"\n",
    "    # Define paths\n",
    "    input_image_dir = f\"../data/{set_name}/images\"\n",
    "    input_label_dir = f\"../data/{set_name}/labels\"\n",
    "    \n",
    "    # Define the output paths to be outside of the notebook folder\n",
    "    output_image_dir = f\"../enhanced_data/{set_name}/images\"\n",
    "    output_label_dir = f\"../enhanced_data/{set_name}/labels\"\n",
    "    \n",
    "    # Create output directories if they do not exist\n",
    "    os.makedirs(output_image_dir, exist_ok=True)\n",
    "    os.makedirs(output_label_dir, exist_ok=True)\n",
    "    \n",
    "    # Process images\n",
    "    for filename in tqdm(os.listdir(input_image_dir), desc=f\"Processing {set_name} images\"):\n",
    "        if filename.endswith((\".jpg\", \".png\", \".jpeg\")):\n",
    "            img_path = os.path.join(input_image_dir, filename)\n",
    "            img = cv2.imread(img_path, cv2.IMREAD_GRAYSCALE)\n",
    "            \n",
    "            # Apply enhancement\n",
    "            enhanced_img = k_cfdo_enhancement(img, rho=0.5, k=1.5)\n",
    "            \n",
    "            # Save the enhanced image\n",
    "            cv2.imwrite(os.path.join(output_image_dir, filename), enhanced_img)\n",
    "            \n",
    "            # Move the corresponding label file\n",
    "            label_file = filename.replace('.jpg', '.txt').replace('.png', '.txt').replace('.jpeg', '.txt')\n",
    "            label_path = os.path.join(input_label_dir, label_file)\n",
    "            if os.path.exists(label_path):\n",
    "                shutil.copy(label_path, os.path.join(output_label_dir, label_file))\n",
    "\n",
    "# Process each dataset split\n",
    "for split in [\"train\", \"valid\", \"test\"]:\n",
    "    process_and_move_data(split)\n",
    "\n",
    "# Create data.yaml file for YOLOv8\n",
    "data_yaml_content = f\"\"\"\n",
    "train: train/images\n",
    "val: valid/images\n",
    "test: test/images\n",
    "\n",
    "nc: 1\n",
    "names: ['Individual Tooth']\n",
    "\"\"\"\n",
    "\n",
    "# Save the data.yaml file in the correct directory\n",
    "yaml_path = \"../enhanced_data/data.yaml\"\n",
    "with open(yaml_path, \"w\") as f:\n",
    "    f.write(data_yaml_content)\n",
    "\n",
    "print(\"✅ Enhancement complete! Final dataset stored in '../enhanced_data/'.\")\n",
    "print(\"✅ Labels moved successfully.\")\n",
    "print(f\"✅ 'data.yaml' created at {yaml_path}.\")\n"
   ]
  },
  {
   "cell_type": "code",
   "execution_count": 1,
   "id": "26e8294d",
   "metadata": {},
   "outputs": [
    {
     "name": "stdout",
     "output_type": "stream",
     "text": [
      "New https://pypi.org/project/ultralytics/8.3.100 available  Update with 'pip install -U ultralytics'\n",
      "Ultralytics 8.3.99  Python-3.9.13 torch-2.6.0+cpu CPU (AMD Ryzen 5 5500U with Radeon Graphics)\n",
      "\u001b[34m\u001b[1mengine\\trainer: \u001b[0mtask=segment, mode=train, model=yolov8n-seg.pt, data=C:/Users/pauli/DeepDent/periodontitis/enhanced_data/data.yaml, epochs=50, time=None, patience=100, batch=8, imgsz=640, save=True, save_period=-1, cache=False, device=cpu, workers=8, project=None, name=train13, exist_ok=False, pretrained=True, optimizer=AdamW, verbose=True, seed=0, deterministic=True, single_cls=False, rect=False, cos_lr=False, close_mosaic=10, resume=False, amp=True, fraction=1.0, profile=False, freeze=None, multi_scale=False, overlap_mask=True, mask_ratio=4, dropout=0.0, val=True, split=val, save_json=False, save_hybrid=False, conf=None, iou=0.7, max_det=300, half=False, dnn=False, plots=True, source=None, vid_stride=1, stream_buffer=False, visualize=False, augment=False, agnostic_nms=False, classes=None, retina_masks=False, embed=None, show=False, save_frames=False, save_txt=False, save_conf=False, save_crop=False, show_labels=True, show_conf=True, show_boxes=True, line_width=None, format=torchscript, keras=False, optimize=False, int8=False, dynamic=False, simplify=True, opset=None, workspace=None, nms=False, lr0=0.001, lrf=0.01, momentum=0.937, weight_decay=0.0005, warmup_epochs=3, warmup_momentum=0.8, warmup_bias_lr=0.1, box=7.5, cls=0.5, dfl=1.5, pose=12.0, kobj=1.0, nbs=64, hsv_h=0.015, hsv_s=0.7, hsv_v=0.4, degrees=0.0, translate=0.1, scale=0.5, shear=0.0, perspective=0.0, flipud=0.0, fliplr=0.5, bgr=0.0, mosaic=1.0, mixup=0.0, copy_paste=0.0, copy_paste_mode=flip, auto_augment=randaugment, erasing=0.4, crop_fraction=1.0, cfg=None, tracker=botsort.yaml, save_dir=runs\\segment\\train13\n",
      "Overriding model.yaml nc=80 with nc=1\n",
      "\n",
      "                   from  n    params  module                                       arguments                     \n",
      "  0                  -1  1       464  ultralytics.nn.modules.conv.Conv             [3, 16, 3, 2]                 \n",
      "  1                  -1  1      4672  ultralytics.nn.modules.conv.Conv             [16, 32, 3, 2]                \n",
      "  2                  -1  1      7360  ultralytics.nn.modules.block.C2f             [32, 32, 1, True]             \n",
      "  3                  -1  1     18560  ultralytics.nn.modules.conv.Conv             [32, 64, 3, 2]                \n",
      "  4                  -1  2     49664  ultralytics.nn.modules.block.C2f             [64, 64, 2, True]             \n",
      "  5                  -1  1     73984  ultralytics.nn.modules.conv.Conv             [64, 128, 3, 2]               \n",
      "  6                  -1  2    197632  ultralytics.nn.modules.block.C2f             [128, 128, 2, True]           \n",
      "  7                  -1  1    295424  ultralytics.nn.modules.conv.Conv             [128, 256, 3, 2]              \n",
      "  8                  -1  1    460288  ultralytics.nn.modules.block.C2f             [256, 256, 1, True]           \n",
      "  9                  -1  1    164608  ultralytics.nn.modules.block.SPPF            [256, 256, 5]                 \n",
      " 10                  -1  1         0  torch.nn.modules.upsampling.Upsample         [None, 2, 'nearest']          \n",
      " 11             [-1, 6]  1         0  ultralytics.nn.modules.conv.Concat           [1]                           \n",
      " 12                  -1  1    148224  ultralytics.nn.modules.block.C2f             [384, 128, 1]                 \n",
      " 13                  -1  1         0  torch.nn.modules.upsampling.Upsample         [None, 2, 'nearest']          \n",
      " 14             [-1, 4]  1         0  ultralytics.nn.modules.conv.Concat           [1]                           \n",
      " 15                  -1  1     37248  ultralytics.nn.modules.block.C2f             [192, 64, 1]                  \n",
      " 16                  -1  1     36992  ultralytics.nn.modules.conv.Conv             [64, 64, 3, 2]                \n",
      " 17            [-1, 12]  1         0  ultralytics.nn.modules.conv.Concat           [1]                           \n",
      " 18                  -1  1    123648  ultralytics.nn.modules.block.C2f             [192, 128, 1]                 \n",
      " 19                  -1  1    147712  ultralytics.nn.modules.conv.Conv             [128, 128, 3, 2]              \n",
      " 20             [-1, 9]  1         0  ultralytics.nn.modules.conv.Concat           [1]                           \n",
      " 21                  -1  1    493056  ultralytics.nn.modules.block.C2f             [384, 256, 1]                 \n",
      " 22        [15, 18, 21]  1   1004275  ultralytics.nn.modules.head.Segment          [1, 32, 64, [64, 128, 256]]   \n",
      "YOLOv8n-seg summary: 151 layers, 3,263,811 parameters, 3,263,795 gradients, 12.1 GFLOPs\n",
      "\n",
      "Transferred 381/417 items from pretrained weights\n",
      "\u001b[34m\u001b[1mTensorBoard: \u001b[0mStart with 'tensorboard --logdir runs\\segment\\train13', view at http://localhost:6006/\n",
      "Freezing layer 'model.22.dfl.conv.weight'\n"
     ]
    },
    {
     "name": "stderr",
     "output_type": "stream",
     "text": [
      "\u001b[34m\u001b[1mtrain: \u001b[0mScanning C:\\Users\\pauli\\DeepDent\\periodontitis\\enhanced_\u001b[0m\n",
      "\u001b[34m\u001b[1mval: \u001b[0mScanning C:\\Users\\pauli\\DeepDent\\periodontitis\\enhanced_da\u001b[0m\n"
     ]
    },
    {
     "name": "stdout",
     "output_type": "stream",
     "text": [
      "module 'matplotlib.cm' has no attribute 'register_cmap'\n",
      "\u001b[34m\u001b[1moptimizer:\u001b[0m AdamW(lr=0.001, momentum=0.937) with parameter groups 66 weight(decay=0.0), 77 weight(decay=0.0005), 76 bias(decay=0.0)\n",
      "\u001b[34m\u001b[1mTensorBoard: \u001b[0mmodel graph visualization added \n",
      "Image sizes 640 train, 640 val\n",
      "Using 0 dataloader workers\n",
      "Logging results to \u001b[1mruns\\segment\\train13\u001b[0m\n",
      "Starting training for 50 epochs...\n",
      "\n",
      "      Epoch    GPU_mem   box_loss   seg_loss   cls_loss   dfl_loss  Instances       Size\n"
     ]
    },
    {
     "name": "stderr",
     "output_type": "stream",
     "text": [
      "       1/50         0G      1.689      4.112      3.187       1\n",
      "                 Class     Images  Instances      Box(P        "
     ]
    },
    {
     "name": "stdout",
     "output_type": "stream",
     "text": [
      "                   all         10        270     0.0673      0.748      0.297      0.101          0          0          0          0\n"
     ]
    },
    {
     "name": "stderr",
     "output_type": "stream",
     "text": [
      "\n"
     ]
    },
    {
     "name": "stdout",
     "output_type": "stream",
     "text": [
      "\n",
      "      Epoch    GPU_mem   box_loss   seg_loss   cls_loss   dfl_loss  Instances       Size\n"
     ]
    },
    {
     "name": "stderr",
     "output_type": "stream",
     "text": [
      "       2/50         0G      1.603      2.899      2.262        \n",
      "                 Class     Images  Instances      Box(P        "
     ]
    },
    {
     "name": "stdout",
     "output_type": "stream",
     "text": [
      "                   all         10        270     0.0527      0.585       0.14     0.0283   0.000333     0.0037   0.000313   9.38e-05\n"
     ]
    },
    {
     "name": "stderr",
     "output_type": "stream",
     "text": [
      "\n"
     ]
    },
    {
     "name": "stdout",
     "output_type": "stream",
     "text": [
      "\n",
      "      Epoch    GPU_mem   box_loss   seg_loss   cls_loss   dfl_loss  Instances       Size\n"
     ]
    },
    {
     "name": "stderr",
     "output_type": "stream",
     "text": [
      "       3/50         0G      1.497      2.539      1.682       1\n",
      "                 Class     Images  Instances      Box(P        "
     ]
    },
    {
     "name": "stdout",
     "output_type": "stream",
     "text": [
      "                   all         10        270     0.0583      0.648      0.179      0.038   0.000667    0.00741   0.000429   0.000168\n"
     ]
    },
    {
     "name": "stderr",
     "output_type": "stream",
     "text": [
      "\n"
     ]
    },
    {
     "name": "stdout",
     "output_type": "stream",
     "text": [
      "\n",
      "      Epoch    GPU_mem   box_loss   seg_loss   cls_loss   dfl_loss  Instances       Size\n"
     ]
    },
    {
     "name": "stderr",
     "output_type": "stream",
     "text": [
      "       4/50         0G      1.439      2.382      1.556      1.\n",
      "                 Class     Images  Instances      Box(P        "
     ]
    },
    {
     "name": "stdout",
     "output_type": "stream",
     "text": [
      "                   all         10        270     0.0677      0.752      0.362     0.0998          0          0          0          0\n"
     ]
    },
    {
     "name": "stderr",
     "output_type": "stream",
     "text": [
      "\n"
     ]
    },
    {
     "name": "stdout",
     "output_type": "stream",
     "text": [
      "\n",
      "      Epoch    GPU_mem   box_loss   seg_loss   cls_loss   dfl_loss  Instances       Size\n"
     ]
    },
    {
     "name": "stderr",
     "output_type": "stream",
     "text": [
      "       5/50         0G      1.378      2.274      1.432      1.\n",
      "                 Class     Images  Instances      Box(P        "
     ]
    },
    {
     "name": "stdout",
     "output_type": "stream",
     "text": [
      "                   all         10        270     0.0653      0.726       0.38      0.124   0.000333     0.0037   0.000168   6.71e-05\n"
     ]
    },
    {
     "name": "stderr",
     "output_type": "stream",
     "text": [
      "\n"
     ]
    },
    {
     "name": "stdout",
     "output_type": "stream",
     "text": [
      "\n",
      "      Epoch    GPU_mem   box_loss   seg_loss   cls_loss   dfl_loss  Instances       Size\n"
     ]
    },
    {
     "name": "stderr",
     "output_type": "stream",
     "text": [
      "       6/50         0G      1.331      2.176      1.348      1.\n",
      "                 Class     Images  Instances      Box(P        "
     ]
    },
    {
     "name": "stdout",
     "output_type": "stream",
     "text": [
      "                   all         10        270     0.0643      0.715      0.427      0.162      0.001     0.0111    0.00563    0.00366\n"
     ]
    },
    {
     "name": "stderr",
     "output_type": "stream",
     "text": [
      "\n"
     ]
    },
    {
     "name": "stdout",
     "output_type": "stream",
     "text": [
      "\n",
      "      Epoch    GPU_mem   box_loss   seg_loss   cls_loss   dfl_loss  Instances       Size\n"
     ]
    },
    {
     "name": "stderr",
     "output_type": "stream",
     "text": [
      "       7/50         0G      1.357      2.218      1.179      1.\n",
      "                 Class     Images  Instances      Box(P        "
     ]
    },
    {
     "name": "stdout",
     "output_type": "stream",
     "text": [
      "                   all         10        270     0.0797      0.885      0.592      0.263     0.0201     0.0667     0.0116    0.00329\n"
     ]
    },
    {
     "name": "stderr",
     "output_type": "stream",
     "text": [
      "\n"
     ]
    },
    {
     "name": "stdout",
     "output_type": "stream",
     "text": [
      "\n",
      "      Epoch    GPU_mem   box_loss   seg_loss   cls_loss   dfl_loss  Instances       Size\n"
     ]
    },
    {
     "name": "stderr",
     "output_type": "stream",
     "text": [
      "       8/50         0G      1.282      2.073      1.184       1\n",
      "                 Class     Images  Instances      Box(P        "
     ]
    },
    {
     "name": "stdout",
     "output_type": "stream",
     "text": [
      "                   all         10        270      0.387        0.7      0.576      0.256     0.0316      0.107     0.0162    0.00481\n"
     ]
    },
    {
     "name": "stderr",
     "output_type": "stream",
     "text": [
      "\n"
     ]
    },
    {
     "name": "stdout",
     "output_type": "stream",
     "text": [
      "\n",
      "      Epoch    GPU_mem   box_loss   seg_loss   cls_loss   dfl_loss  Instances       Size\n"
     ]
    },
    {
     "name": "stderr",
     "output_type": "stream",
     "text": [
      "       9/50         0G      1.206      1.836      1.087       1\n",
      "                 Class     Images  Instances      Box(P        "
     ]
    },
    {
     "name": "stdout",
     "output_type": "stream",
     "text": [
      "                   all         10        270      0.588      0.437       0.54      0.223     0.0813      0.111     0.0254    0.00579\n"
     ]
    },
    {
     "name": "stderr",
     "output_type": "stream",
     "text": [
      "\n"
     ]
    },
    {
     "name": "stdout",
     "output_type": "stream",
     "text": [
      "\n",
      "      Epoch    GPU_mem   box_loss   seg_loss   cls_loss   dfl_loss  Instances       Size\n"
     ]
    },
    {
     "name": "stderr",
     "output_type": "stream",
     "text": [
      "      10/50         0G       1.32      2.054      1.063      1.\n",
      "                 Class     Images  Instances      Box(P        "
     ]
    },
    {
     "name": "stdout",
     "output_type": "stream",
     "text": [
      "                   all         10        270      0.848      0.452      0.764      0.372      0.286      0.159      0.125     0.0324\n"
     ]
    },
    {
     "name": "stderr",
     "output_type": "stream",
     "text": [
      "\n"
     ]
    },
    {
     "name": "stdout",
     "output_type": "stream",
     "text": [
      "\n",
      "      Epoch    GPU_mem   box_loss   seg_loss   cls_loss   dfl_loss  Instances       Size\n"
     ]
    },
    {
     "name": "stderr",
     "output_type": "stream",
     "text": [
      "      11/50         0G      1.193      1.873      1.028       1\n",
      "                 Class     Images  Instances      Box(P        "
     ]
    },
    {
     "name": "stdout",
     "output_type": "stream",
     "text": [
      "                   all         10        270      0.877       0.61       0.87      0.473      0.492      0.348      0.289     0.0776\n"
     ]
    },
    {
     "name": "stderr",
     "output_type": "stream",
     "text": [
      "\n"
     ]
    },
    {
     "name": "stdout",
     "output_type": "stream",
     "text": [
      "\n",
      "      Epoch    GPU_mem   box_loss   seg_loss   cls_loss   dfl_loss  Instances       Size\n"
     ]
    },
    {
     "name": "stderr",
     "output_type": "stream",
     "text": [
      "      12/50         0G      1.229      1.973      1.031       1\n",
      "                 Class     Images  Instances      Box(P        "
     ]
    },
    {
     "name": "stdout",
     "output_type": "stream",
     "text": [
      "                   all         10        270      0.913      0.775      0.922      0.521      0.629      0.534      0.464      0.133\n"
     ]
    },
    {
     "name": "stderr",
     "output_type": "stream",
     "text": [
      "\n"
     ]
    },
    {
     "name": "stdout",
     "output_type": "stream",
     "text": [
      "\n",
      "      Epoch    GPU_mem   box_loss   seg_loss   cls_loss   dfl_loss  Instances       Size\n"
     ]
    },
    {
     "name": "stderr",
     "output_type": "stream",
     "text": [
      "      13/50         0G      1.236      1.851     0.9832       1\n",
      "                 Class     Images  Instances      Box(P        "
     ]
    },
    {
     "name": "stdout",
     "output_type": "stream",
     "text": [
      "                   all         10        270      0.896      0.796      0.923      0.501      0.696      0.619      0.577      0.176\n"
     ]
    },
    {
     "name": "stderr",
     "output_type": "stream",
     "text": [
      "\n"
     ]
    },
    {
     "name": "stdout",
     "output_type": "stream",
     "text": [
      "\n",
      "      Epoch    GPU_mem   box_loss   seg_loss   cls_loss   dfl_loss  Instances       Size\n"
     ]
    },
    {
     "name": "stderr",
     "output_type": "stream",
     "text": [
      "      14/50         0G      1.223      1.868     0.9542      1.\n",
      "                 Class     Images  Instances      Box(P        "
     ]
    },
    {
     "name": "stdout",
     "output_type": "stream",
     "text": [
      "                   all         10        270      0.896      0.796      0.923      0.501      0.696      0.619      0.577      0.176\n"
     ]
    },
    {
     "name": "stderr",
     "output_type": "stream",
     "text": [
      "\n"
     ]
    },
    {
     "name": "stdout",
     "output_type": "stream",
     "text": [
      "\n",
      "      Epoch    GPU_mem   box_loss   seg_loss   cls_loss   dfl_loss  Instances       Size\n"
     ]
    },
    {
     "name": "stderr",
     "output_type": "stream",
     "text": [
      "      15/50         0G       1.25      1.847     0.9469      1.\n",
      "                 Class     Images  Instances      Box(P        "
     ]
    },
    {
     "name": "stdout",
     "output_type": "stream",
     "text": [
      "                   all         10        270      0.868      0.825      0.915      0.485       0.77      0.733      0.745      0.269\n"
     ]
    },
    {
     "name": "stderr",
     "output_type": "stream",
     "text": [
      "\n"
     ]
    },
    {
     "name": "stdout",
     "output_type": "stream",
     "text": [
      "\n",
      "      Epoch    GPU_mem   box_loss   seg_loss   cls_loss   dfl_loss  Instances       Size\n"
     ]
    },
    {
     "name": "stderr",
     "output_type": "stream",
     "text": [
      "      16/50         0G      1.182      1.726     0.9377      1.\n",
      "                 Class     Images  Instances      Box(P        "
     ]
    },
    {
     "name": "stdout",
     "output_type": "stream",
     "text": [
      "                   all         10        270      0.903      0.894      0.955      0.566       0.86      0.852      0.868      0.365\n"
     ]
    },
    {
     "name": "stderr",
     "output_type": "stream",
     "text": [
      "\n"
     ]
    },
    {
     "name": "stdout",
     "output_type": "stream",
     "text": [
      "\n",
      "      Epoch    GPU_mem   box_loss   seg_loss   cls_loss   dfl_loss  Instances       Size\n"
     ]
    },
    {
     "name": "stderr",
     "output_type": "stream",
     "text": [
      "      17/50         0G      1.211      1.871     0.9799      1.\n",
      "                 Class     Images  Instances      Box(P        "
     ]
    },
    {
     "name": "stdout",
     "output_type": "stream",
     "text": [
      "                   all         10        270      0.943      0.926      0.976      0.615      0.913       0.89      0.942      0.452\n"
     ]
    },
    {
     "name": "stderr",
     "output_type": "stream",
     "text": [
      "\n"
     ]
    },
    {
     "name": "stdout",
     "output_type": "stream",
     "text": [
      "\n",
      "      Epoch    GPU_mem   box_loss   seg_loss   cls_loss   dfl_loss  Instances       Size\n"
     ]
    },
    {
     "name": "stderr",
     "output_type": "stream",
     "text": [
      "      18/50         0G      1.216      1.805     0.9022       1\n",
      "                 Class     Images  Instances      Box(P        "
     ]
    },
    {
     "name": "stdout",
     "output_type": "stream",
     "text": [
      "                   all         10        270      0.943      0.926      0.976      0.615      0.913       0.89      0.942      0.452\n"
     ]
    },
    {
     "name": "stderr",
     "output_type": "stream",
     "text": [
      "\n"
     ]
    },
    {
     "name": "stdout",
     "output_type": "stream",
     "text": [
      "\n",
      "      Epoch    GPU_mem   box_loss   seg_loss   cls_loss   dfl_loss  Instances       Size\n"
     ]
    },
    {
     "name": "stderr",
     "output_type": "stream",
     "text": [
      "      19/50         0G      1.231      1.846     0.9245       1\n",
      "                 Class     Images  Instances      Box(P        "
     ]
    },
    {
     "name": "stdout",
     "output_type": "stream",
     "text": [
      "                   all         10        270      0.966      0.935      0.985      0.635      0.945      0.911      0.957      0.483\n"
     ]
    },
    {
     "name": "stderr",
     "output_type": "stream",
     "text": [
      "\n"
     ]
    },
    {
     "name": "stdout",
     "output_type": "stream",
     "text": [
      "\n",
      "      Epoch    GPU_mem   box_loss   seg_loss   cls_loss   dfl_loss  Instances       Size\n"
     ]
    },
    {
     "name": "stderr",
     "output_type": "stream",
     "text": [
      "      20/50         0G       1.15      1.686     0.8972     0.9\n",
      "                 Class     Images  Instances      Box(P        "
     ]
    },
    {
     "name": "stdout",
     "output_type": "stream",
     "text": [
      "                   all         10        270      0.976      0.948      0.991      0.633      0.965      0.928      0.979      0.515\n"
     ]
    },
    {
     "name": "stderr",
     "output_type": "stream",
     "text": [
      "\n"
     ]
    },
    {
     "name": "stdout",
     "output_type": "stream",
     "text": [
      "\n",
      "      Epoch    GPU_mem   box_loss   seg_loss   cls_loss   dfl_loss  Instances       Size\n"
     ]
    },
    {
     "name": "stderr",
     "output_type": "stream",
     "text": [
      "      21/50         0G       1.16      1.649     0.8774      1.\n",
      "                 Class     Images  Instances      Box(P        "
     ]
    },
    {
     "name": "stdout",
     "output_type": "stream",
     "text": [
      "                   all         10        270      0.976      0.948      0.991      0.633      0.965      0.928      0.979      0.515\n"
     ]
    },
    {
     "name": "stderr",
     "output_type": "stream",
     "text": [
      "\n"
     ]
    },
    {
     "name": "stdout",
     "output_type": "stream",
     "text": [
      "\n",
      "      Epoch    GPU_mem   box_loss   seg_loss   cls_loss   dfl_loss  Instances       Size\n"
     ]
    },
    {
     "name": "stderr",
     "output_type": "stream",
     "text": [
      "      22/50         0G      1.111       1.61     0.8956      1.\n",
      "                 Class     Images  Instances      Box(P        "
     ]
    },
    {
     "name": "stdout",
     "output_type": "stream",
     "text": [
      "                   all         10        270      0.973      0.959       0.99       0.64      0.975      0.963      0.989      0.549\n"
     ]
    },
    {
     "name": "stderr",
     "output_type": "stream",
     "text": [
      "\n"
     ]
    },
    {
     "name": "stdout",
     "output_type": "stream",
     "text": [
      "\n",
      "      Epoch    GPU_mem   box_loss   seg_loss   cls_loss   dfl_loss  Instances       Size\n"
     ]
    },
    {
     "name": "stderr",
     "output_type": "stream",
     "text": [
      "      23/50         0G      1.219      1.847     0.8618     0.9\n",
      "                 Class     Images  Instances      Box(P        "
     ]
    },
    {
     "name": "stdout",
     "output_type": "stream",
     "text": [
      "                   all         10        270      0.977      0.959      0.989      0.654      0.969      0.956      0.981      0.556\n"
     ]
    },
    {
     "name": "stderr",
     "output_type": "stream",
     "text": [
      "\n"
     ]
    },
    {
     "name": "stdout",
     "output_type": "stream",
     "text": [
      "\n",
      "      Epoch    GPU_mem   box_loss   seg_loss   cls_loss   dfl_loss  Instances       Size\n"
     ]
    },
    {
     "name": "stderr",
     "output_type": "stream",
     "text": [
      "      24/50         0G       1.16      1.753     0.8335     0.9\n",
      "                 Class     Images  Instances      Box(P        "
     ]
    },
    {
     "name": "stdout",
     "output_type": "stream",
     "text": [
      "                   all         10        270      0.977      0.959      0.989      0.654      0.969      0.956      0.981      0.556\n"
     ]
    },
    {
     "name": "stderr",
     "output_type": "stream",
     "text": [
      "\n"
     ]
    },
    {
     "name": "stdout",
     "output_type": "stream",
     "text": [
      "\n",
      "      Epoch    GPU_mem   box_loss   seg_loss   cls_loss   dfl_loss  Instances       Size\n"
     ]
    },
    {
     "name": "stderr",
     "output_type": "stream",
     "text": [
      "      25/50         0G       1.15      1.744      0.844     0.9\n",
      "                 Class     Images  Instances      Box(P        "
     ]
    },
    {
     "name": "stdout",
     "output_type": "stream",
     "text": [
      "                   all         10        270      0.972      0.978      0.993      0.671      0.965       0.97      0.989       0.57\n"
     ]
    },
    {
     "name": "stderr",
     "output_type": "stream",
     "text": [
      "\n"
     ]
    },
    {
     "name": "stdout",
     "output_type": "stream",
     "text": [
      "\n",
      "      Epoch    GPU_mem   box_loss   seg_loss   cls_loss   dfl_loss  Instances       Size\n"
     ]
    },
    {
     "name": "stderr",
     "output_type": "stream",
     "text": [
      "      26/50         0G      1.154      1.705     0.8587      1.\n",
      "                 Class     Images  Instances      Box(P        "
     ]
    },
    {
     "name": "stdout",
     "output_type": "stream",
     "text": [
      "                   all         10        270      0.972      0.978      0.993      0.671      0.965       0.97      0.989       0.57\n"
     ]
    },
    {
     "name": "stderr",
     "output_type": "stream",
     "text": [
      "\n"
     ]
    },
    {
     "name": "stdout",
     "output_type": "stream",
     "text": [
      "\n",
      "      Epoch    GPU_mem   box_loss   seg_loss   cls_loss   dfl_loss  Instances       Size\n"
     ]
    },
    {
     "name": "stderr",
     "output_type": "stream",
     "text": [
      "      27/50         0G      1.126      1.739     0.8322       1\n",
      "                 Class     Images  Instances      Box(P        "
     ]
    },
    {
     "name": "stdout",
     "output_type": "stream",
     "text": [
      "                   all         10        270      0.981      0.985      0.994      0.685       0.97      0.972      0.987      0.576\n"
     ]
    },
    {
     "name": "stderr",
     "output_type": "stream",
     "text": [
      "\n"
     ]
    },
    {
     "name": "stdout",
     "output_type": "stream",
     "text": [
      "\n",
      "      Epoch    GPU_mem   box_loss   seg_loss   cls_loss   dfl_loss  Instances       Size\n"
     ]
    },
    {
     "name": "stderr",
     "output_type": "stream",
     "text": [
      "      28/50         0G      1.162      1.685     0.8275     0.9\n",
      "                 Class     Images  Instances      Box(P        "
     ]
    },
    {
     "name": "stdout",
     "output_type": "stream",
     "text": [
      "                   all         10        270      0.983      0.981      0.994      0.694       0.98      0.978      0.993      0.569\n"
     ]
    },
    {
     "name": "stderr",
     "output_type": "stream",
     "text": [
      "\n"
     ]
    },
    {
     "name": "stdout",
     "output_type": "stream",
     "text": [
      "\n",
      "      Epoch    GPU_mem   box_loss   seg_loss   cls_loss   dfl_loss  Instances       Size\n"
     ]
    },
    {
     "name": "stderr",
     "output_type": "stream",
     "text": [
      "      29/50         0G      1.102      1.723     0.8181     0.9\n",
      "                 Class     Images  Instances      Box(P        "
     ]
    },
    {
     "name": "stdout",
     "output_type": "stream",
     "text": [
      "                   all         10        270      0.983      0.981      0.994      0.694       0.98      0.978      0.993      0.569\n"
     ]
    },
    {
     "name": "stderr",
     "output_type": "stream",
     "text": [
      "\n"
     ]
    },
    {
     "name": "stdout",
     "output_type": "stream",
     "text": [
      "\n",
      "      Epoch    GPU_mem   box_loss   seg_loss   cls_loss   dfl_loss  Instances       Size\n"
     ]
    },
    {
     "name": "stderr",
     "output_type": "stream",
     "text": [
      "      30/50         0G      1.064      1.582     0.8035     0.9\n",
      "                 Class     Images  Instances      Box(P        "
     ]
    },
    {
     "name": "stdout",
     "output_type": "stream",
     "text": [
      "                   all         10        270      0.993      0.978      0.994      0.693      0.982      0.967      0.988      0.572\n"
     ]
    },
    {
     "name": "stderr",
     "output_type": "stream",
     "text": [
      "\n"
     ]
    },
    {
     "name": "stdout",
     "output_type": "stream",
     "text": [
      "\n",
      "      Epoch    GPU_mem   box_loss   seg_loss   cls_loss   dfl_loss  Instances       Size\n"
     ]
    },
    {
     "name": "stderr",
     "output_type": "stream",
     "text": [
      "      31/50         0G      1.085      1.591     0.7897      0.\n",
      "                 Class     Images  Instances      Box(P        "
     ]
    },
    {
     "name": "stdout",
     "output_type": "stream",
     "text": [
      "                   all         10        270      0.992       0.98      0.994      0.701      0.989      0.978      0.994      0.576\n"
     ]
    },
    {
     "name": "stderr",
     "output_type": "stream",
     "text": [
      "\n"
     ]
    },
    {
     "name": "stdout",
     "output_type": "stream",
     "text": [
      "\n",
      "      Epoch    GPU_mem   box_loss   seg_loss   cls_loss   dfl_loss  Instances       Size\n"
     ]
    },
    {
     "name": "stderr",
     "output_type": "stream",
     "text": [
      "      32/50         0G      1.068      1.549     0.8257     0.9\n",
      "                 Class     Images  Instances      Box(P        "
     ]
    },
    {
     "name": "stdout",
     "output_type": "stream",
     "text": [
      "                   all         10        270      0.992       0.98      0.994      0.701      0.989      0.978      0.994      0.576\n"
     ]
    },
    {
     "name": "stderr",
     "output_type": "stream",
     "text": [
      "\n"
     ]
    },
    {
     "name": "stdout",
     "output_type": "stream",
     "text": [
      "\n",
      "      Epoch    GPU_mem   box_loss   seg_loss   cls_loss   dfl_loss  Instances       Size\n"
     ]
    },
    {
     "name": "stderr",
     "output_type": "stream",
     "text": [
      "      33/50         0G      1.084      1.646      0.807     0.9\n",
      "                 Class     Images  Instances      Box(P        "
     ]
    },
    {
     "name": "stdout",
     "output_type": "stream",
     "text": [
      "                   all         10        270      0.989      0.978      0.994      0.698      0.989      0.978      0.994      0.576\n"
     ]
    },
    {
     "name": "stderr",
     "output_type": "stream",
     "text": [
      "\n"
     ]
    },
    {
     "name": "stdout",
     "output_type": "stream",
     "text": [
      "\n",
      "      Epoch    GPU_mem   box_loss   seg_loss   cls_loss   dfl_loss  Instances       Size\n"
     ]
    },
    {
     "name": "stderr",
     "output_type": "stream",
     "text": [
      "      34/50         0G      1.073      1.618     0.7858     0.9\n",
      "                 Class     Images  Instances      Box(P        "
     ]
    },
    {
     "name": "stdout",
     "output_type": "stream",
     "text": [
      "                   all         10        270      0.989      0.978      0.994      0.698      0.989      0.978      0.994      0.576\n"
     ]
    },
    {
     "name": "stderr",
     "output_type": "stream",
     "text": [
      "\n"
     ]
    },
    {
     "name": "stdout",
     "output_type": "stream",
     "text": [
      "\n",
      "      Epoch    GPU_mem   box_loss   seg_loss   cls_loss   dfl_loss  Instances       Size\n"
     ]
    },
    {
     "name": "stderr",
     "output_type": "stream",
     "text": [
      "      35/50         0G      1.052       1.52     0.7868      0.\n",
      "                 Class     Images  Instances      Box(P        "
     ]
    },
    {
     "name": "stdout",
     "output_type": "stream",
     "text": [
      "                   all         10        270      0.985      0.973      0.993      0.699      0.978      0.966      0.992      0.574\n"
     ]
    },
    {
     "name": "stderr",
     "output_type": "stream",
     "text": [
      "\n"
     ]
    },
    {
     "name": "stdout",
     "output_type": "stream",
     "text": [
      "\n",
      "      Epoch    GPU_mem   box_loss   seg_loss   cls_loss   dfl_loss  Instances       Size\n"
     ]
    },
    {
     "name": "stderr",
     "output_type": "stream",
     "text": [
      "      36/50         0G       1.05      1.466     0.7928       0\n",
      "                 Class     Images  Instances      Box(P        "
     ]
    },
    {
     "name": "stdout",
     "output_type": "stream",
     "text": [
      "                   all         10        270      0.982       0.97      0.993      0.701      0.974      0.966      0.992      0.574\n"
     ]
    },
    {
     "name": "stderr",
     "output_type": "stream",
     "text": [
      "\n"
     ]
    },
    {
     "name": "stdout",
     "output_type": "stream",
     "text": [
      "\n",
      "      Epoch    GPU_mem   box_loss   seg_loss   cls_loss   dfl_loss  Instances       Size\n"
     ]
    },
    {
     "name": "stderr",
     "output_type": "stream",
     "text": [
      "      37/50         0G      1.103      1.659     0.7898     0.9\n",
      "                 Class     Images  Instances      Box(P        "
     ]
    },
    {
     "name": "stdout",
     "output_type": "stream",
     "text": [
      "                   all         10        270      0.982       0.97      0.993      0.701      0.974      0.966      0.992      0.574\n"
     ]
    },
    {
     "name": "stderr",
     "output_type": "stream",
     "text": [
      "\n"
     ]
    },
    {
     "name": "stdout",
     "output_type": "stream",
     "text": [
      "\n",
      "      Epoch    GPU_mem   box_loss   seg_loss   cls_loss   dfl_loss  Instances       Size\n"
     ]
    },
    {
     "name": "stderr",
     "output_type": "stream",
     "text": [
      "      38/50         0G      1.074      1.583     0.8011     0.9\n",
      "                 Class     Images  Instances      Box(P        "
     ]
    },
    {
     "name": "stdout",
     "output_type": "stream",
     "text": [
      "                   all         10        270      0.982       0.97      0.994      0.706      0.985      0.974      0.994      0.582\n"
     ]
    },
    {
     "name": "stderr",
     "output_type": "stream",
     "text": [
      "\n"
     ]
    },
    {
     "name": "stdout",
     "output_type": "stream",
     "text": [
      "\n",
      "      Epoch    GPU_mem   box_loss   seg_loss   cls_loss   dfl_loss  Instances       Size\n"
     ]
    },
    {
     "name": "stderr",
     "output_type": "stream",
     "text": [
      "      39/50         0G      1.183      1.801     0.7959     0.9\n",
      "                 Class     Images  Instances      Box(P        "
     ]
    },
    {
     "name": "stdout",
     "output_type": "stream",
     "text": [
      "                   all         10        270      0.982       0.97      0.994      0.708      0.975       0.97      0.991      0.587\n"
     ]
    },
    {
     "name": "stderr",
     "output_type": "stream",
     "text": [
      "\n"
     ]
    },
    {
     "name": "stdout",
     "output_type": "stream",
     "text": [
      "\n",
      "      Epoch    GPU_mem   box_loss   seg_loss   cls_loss   dfl_loss  Instances       Size\n"
     ]
    },
    {
     "name": "stderr",
     "output_type": "stream",
     "text": [
      "      40/50         0G      1.079      1.554     0.7688      0.\n",
      "                 Class     Images  Instances      Box(P        "
     ]
    },
    {
     "name": "stdout",
     "output_type": "stream",
     "text": [
      "                   all         10        270      0.982       0.97      0.994      0.708      0.975       0.97      0.991      0.587\n"
     ]
    },
    {
     "name": "stderr",
     "output_type": "stream",
     "text": [
      "\n"
     ]
    },
    {
     "name": "stdout",
     "output_type": "stream",
     "text": [
      "Closing dataloader mosaic\n",
      "\n",
      "      Epoch    GPU_mem   box_loss   seg_loss   cls_loss   dfl_loss  Instances       Size\n"
     ]
    },
    {
     "name": "stderr",
     "output_type": "stream",
     "text": [
      "      41/50         0G      1.083       1.67      1.018     0.9\n",
      "                 Class     Images  Instances      Box(P        "
     ]
    },
    {
     "name": "stdout",
     "output_type": "stream",
     "text": [
      "                   all         10        270      0.975      0.974      0.994      0.712      0.975      0.974      0.992      0.596\n"
     ]
    },
    {
     "name": "stderr",
     "output_type": "stream",
     "text": [
      "\n"
     ]
    },
    {
     "name": "stdout",
     "output_type": "stream",
     "text": [
      "\n",
      "      Epoch    GPU_mem   box_loss   seg_loss   cls_loss   dfl_loss  Instances       Size\n"
     ]
    },
    {
     "name": "stderr",
     "output_type": "stream",
     "text": [
      "      42/50         0G      1.047       1.59     0.9261     0.9\n",
      "                 Class     Images  Instances      Box(P        "
     ]
    },
    {
     "name": "stdout",
     "output_type": "stream",
     "text": [
      "                   all         10        270      0.975      0.974      0.994      0.712      0.975      0.974      0.992      0.596\n"
     ]
    },
    {
     "name": "stderr",
     "output_type": "stream",
     "text": [
      "\n"
     ]
    },
    {
     "name": "stdout",
     "output_type": "stream",
     "text": [
      "\n",
      "      Epoch    GPU_mem   box_loss   seg_loss   cls_loss   dfl_loss  Instances       Size\n"
     ]
    },
    {
     "name": "stderr",
     "output_type": "stream",
     "text": [
      "      43/50         0G       1.07      1.645     0.9487     0.9\n",
      "                 Class     Images  Instances      Box(P        "
     ]
    },
    {
     "name": "stdout",
     "output_type": "stream",
     "text": [
      "                   all         10        270      0.981      0.978      0.994      0.708      0.984      0.981      0.994      0.606\n"
     ]
    },
    {
     "name": "stderr",
     "output_type": "stream",
     "text": [
      "\n"
     ]
    },
    {
     "name": "stdout",
     "output_type": "stream",
     "text": [
      "\n",
      "      Epoch    GPU_mem   box_loss   seg_loss   cls_loss   dfl_loss  Instances       Size\n"
     ]
    },
    {
     "name": "stderr",
     "output_type": "stream",
     "text": [
      "      44/50         0G      1.006      1.504     0.8822     0.9\n",
      "                 Class     Images  Instances      Box(P        "
     ]
    },
    {
     "name": "stdout",
     "output_type": "stream",
     "text": [
      "                   all         10        270      0.984      0.981      0.994      0.708      0.987      0.985      0.994      0.618\n"
     ]
    },
    {
     "name": "stderr",
     "output_type": "stream",
     "text": [
      "\n"
     ]
    },
    {
     "name": "stdout",
     "output_type": "stream",
     "text": [
      "\n",
      "      Epoch    GPU_mem   box_loss   seg_loss   cls_loss   dfl_loss  Instances       Size\n"
     ]
    },
    {
     "name": "stderr",
     "output_type": "stream",
     "text": [
      "      45/50         0G     0.9981      1.495     0.8564      1.\n",
      "                 Class     Images  Instances      Box(P        "
     ]
    },
    {
     "name": "stdout",
     "output_type": "stream",
     "text": [
      "                   all         10        270      0.984      0.981      0.994      0.708      0.987      0.985      0.994      0.618\n"
     ]
    },
    {
     "name": "stderr",
     "output_type": "stream",
     "text": [
      "\n"
     ]
    },
    {
     "name": "stdout",
     "output_type": "stream",
     "text": [
      "\n",
      "      Epoch    GPU_mem   box_loss   seg_loss   cls_loss   dfl_loss  Instances       Size\n"
     ]
    },
    {
     "name": "stderr",
     "output_type": "stream",
     "text": [
      "      46/50         0G     0.9979      1.456     0.8545      0.\n",
      "                 Class     Images  Instances      Box(P        "
     ]
    },
    {
     "name": "stdout",
     "output_type": "stream",
     "text": [
      "                   all         10        270      0.974      0.981      0.993      0.707      0.983      0.981      0.994       0.62\n"
     ]
    },
    {
     "name": "stderr",
     "output_type": "stream",
     "text": [
      "\n"
     ]
    },
    {
     "name": "stdout",
     "output_type": "stream",
     "text": [
      "\n",
      "      Epoch    GPU_mem   box_loss   seg_loss   cls_loss   dfl_loss  Instances       Size\n"
     ]
    },
    {
     "name": "stderr",
     "output_type": "stream",
     "text": [
      "      47/50         0G      1.034      1.493     0.8721     0.9\n",
      "                 Class     Images  Instances      Box(P        "
     ]
    },
    {
     "name": "stdout",
     "output_type": "stream",
     "text": [
      "                   all         10        270      0.978      0.976      0.993      0.703      0.978      0.976      0.993      0.614\n"
     ]
    },
    {
     "name": "stderr",
     "output_type": "stream",
     "text": [
      "\n"
     ]
    },
    {
     "name": "stdout",
     "output_type": "stream",
     "text": [
      "\n",
      "      Epoch    GPU_mem   box_loss   seg_loss   cls_loss   dfl_loss  Instances       Size\n"
     ]
    },
    {
     "name": "stderr",
     "output_type": "stream",
     "text": [
      "      48/50         0G      1.025      1.515     0.8621     0.9\n",
      "                 Class     Images  Instances      Box(P        "
     ]
    },
    {
     "name": "stdout",
     "output_type": "stream",
     "text": [
      "                   all         10        270      0.978      0.976      0.993      0.703      0.978      0.976      0.993      0.614\n"
     ]
    },
    {
     "name": "stderr",
     "output_type": "stream",
     "text": [
      "\n"
     ]
    },
    {
     "name": "stdout",
     "output_type": "stream",
     "text": [
      "\n",
      "      Epoch    GPU_mem   box_loss   seg_loss   cls_loss   dfl_loss  Instances       Size\n"
     ]
    },
    {
     "name": "stderr",
     "output_type": "stream",
     "text": [
      "      49/50         0G      1.038      1.571     0.8848     0.9\n",
      "                 Class     Images  Instances      Box(P        "
     ]
    },
    {
     "name": "stdout",
     "output_type": "stream",
     "text": [
      "                   all         10        270      0.978      0.978      0.993      0.703      0.978      0.977      0.993      0.605\n"
     ]
    },
    {
     "name": "stderr",
     "output_type": "stream",
     "text": [
      "\n"
     ]
    },
    {
     "name": "stdout",
     "output_type": "stream",
     "text": [
      "\n",
      "      Epoch    GPU_mem   box_loss   seg_loss   cls_loss   dfl_loss  Instances       Size\n"
     ]
    },
    {
     "name": "stderr",
     "output_type": "stream",
     "text": [
      "      50/50         0G      1.056      1.544     0.8797     0.9\n",
      "                 Class     Images  Instances      Box(P        "
     ]
    },
    {
     "name": "stdout",
     "output_type": "stream",
     "text": [
      "                   all         10        270      0.978      0.978      0.993      0.703      0.978      0.977      0.993      0.605\n"
     ]
    },
    {
     "name": "stderr",
     "output_type": "stream",
     "text": [
      "\n"
     ]
    },
    {
     "name": "stdout",
     "output_type": "stream",
     "text": [
      "\n",
      "50 epochs completed in 0.463 hours.\n",
      "Optimizer stripped from runs\\segment\\train13\\weights\\last.pt, 6.8MB\n",
      "Optimizer stripped from runs\\segment\\train13\\weights\\best.pt, 6.8MB\n",
      "\n",
      "Validating runs\\segment\\train13\\weights\\best.pt...\n",
      "Ultralytics 8.3.99  Python-3.9.13 torch-2.6.0+cpu CPU (AMD Ryzen 5 5500U with Radeon Graphics)\n",
      "YOLOv8n-seg summary (fused): 85 layers, 3,258,259 parameters, 0 gradients, 12.0 GFLOPs\n"
     ]
    },
    {
     "name": "stderr",
     "output_type": "stream",
     "text": [
      "\r",
      "                 Class     Images  Instances      Box(P        "
     ]
    },
    {
     "name": "stdout",
     "output_type": "stream",
     "text": [
      "WARNING  Limiting validation plots to first 50 items per image for speed...\n",
      "WARNING  Limiting validation plots to first 50 items per image for speed...\n",
      "WARNING  Limiting validation plots to first 50 items per image for speed...\n",
      "WARNING  Limiting validation plots to first 50 items per image for speed...\n",
      "WARNING  Limiting validation plots to first 50 items per image for speed...\n",
      "WARNING  Limiting validation plots to first 50 items per image for speed...\n",
      "WARNING  Limiting validation plots to first 50 items per image for speed...\n",
      "WARNING  Limiting validation plots to first 50 items per image for speed...\n",
      "WARNING  Limiting validation plots to first 50 items per image for speed...\n",
      "WARNING  Limiting validation plots to first 50 items per image for speed...\n"
     ]
    },
    {
     "name": "stderr",
     "output_type": "stream",
     "text": [
      "                 Class     Images  Instances      Box(P        \n"
     ]
    },
    {
     "name": "stdout",
     "output_type": "stream",
     "text": [
      "                   all         10        270      0.974      0.981      0.993      0.707      0.983      0.981      0.994       0.62\n",
      "WARNING  ConfusionMatrix plot failure: module 'matplotlib.cm' has no attribute 'register_cmap'\n",
      "WARNING  ConfusionMatrix plot failure: module 'matplotlib.cm' has no attribute 'register_cmap'\n",
      "Speed: 16.7ms preprocess, 88.8ms inference, 0.0ms loss, 85.3ms postprocess per image\n",
      "Results saved to \u001b[1mruns\\segment\\train13\u001b[0m\n"
     ]
    },
    {
     "data": {
      "text/plain": [
       "ultralytics.utils.metrics.SegmentMetrics object with attributes:\n",
       "\n",
       "ap_class_index: array([0])\n",
       "box: ultralytics.utils.metrics.Metric object\n",
       "confusion_matrix: <ultralytics.utils.metrics.ConfusionMatrix object at 0x0000018B470CA0A0>\n",
       "curves: ['Precision-Recall(B)', 'F1-Confidence(B)', 'Precision-Confidence(B)', 'Recall-Confidence(B)', 'Precision-Recall(M)', 'F1-Confidence(M)', 'Precision-Confidence(M)', 'Recall-Confidence(M)']\n",
       "curves_results: [[array([          0,    0.001001,    0.002002,    0.003003,    0.004004,    0.005005,    0.006006,    0.007007,    0.008008,    0.009009,     0.01001,    0.011011,    0.012012,    0.013013,    0.014014,    0.015015,    0.016016,    0.017017,    0.018018,    0.019019,     0.02002,    0.021021,    0.022022,    0.023023,\n",
       "          0.024024,    0.025025,    0.026026,    0.027027,    0.028028,    0.029029,     0.03003,    0.031031,    0.032032,    0.033033,    0.034034,    0.035035,    0.036036,    0.037037,    0.038038,    0.039039,     0.04004,    0.041041,    0.042042,    0.043043,    0.044044,    0.045045,    0.046046,    0.047047,\n",
       "          0.048048,    0.049049,     0.05005,    0.051051,    0.052052,    0.053053,    0.054054,    0.055055,    0.056056,    0.057057,    0.058058,    0.059059,     0.06006,    0.061061,    0.062062,    0.063063,    0.064064,    0.065065,    0.066066,    0.067067,    0.068068,    0.069069,     0.07007,    0.071071,\n",
       "          0.072072,    0.073073,    0.074074,    0.075075,    0.076076,    0.077077,    0.078078,    0.079079,     0.08008,    0.081081,    0.082082,    0.083083,    0.084084,    0.085085,    0.086086,    0.087087,    0.088088,    0.089089,     0.09009,    0.091091,    0.092092,    0.093093,    0.094094,    0.095095,\n",
       "          0.096096,    0.097097,    0.098098,    0.099099,      0.1001,      0.1011,      0.1021,      0.1031,      0.1041,     0.10511,     0.10611,     0.10711,     0.10811,     0.10911,     0.11011,     0.11111,     0.11211,     0.11311,     0.11411,     0.11512,     0.11612,     0.11712,     0.11812,     0.11912,\n",
       "           0.12012,     0.12112,     0.12212,     0.12312,     0.12412,     0.12513,     0.12613,     0.12713,     0.12813,     0.12913,     0.13013,     0.13113,     0.13213,     0.13313,     0.13413,     0.13514,     0.13614,     0.13714,     0.13814,     0.13914,     0.14014,     0.14114,     0.14214,     0.14314,\n",
       "           0.14414,     0.14515,     0.14615,     0.14715,     0.14815,     0.14915,     0.15015,     0.15115,     0.15215,     0.15315,     0.15415,     0.15516,     0.15616,     0.15716,     0.15816,     0.15916,     0.16016,     0.16116,     0.16216,     0.16316,     0.16416,     0.16517,     0.16617,     0.16717,\n",
       "           0.16817,     0.16917,     0.17017,     0.17117,     0.17217,     0.17317,     0.17417,     0.17518,     0.17618,     0.17718,     0.17818,     0.17918,     0.18018,     0.18118,     0.18218,     0.18318,     0.18418,     0.18519,     0.18619,     0.18719,     0.18819,     0.18919,     0.19019,     0.19119,\n",
       "           0.19219,     0.19319,     0.19419,      0.1952,      0.1962,      0.1972,      0.1982,      0.1992,      0.2002,      0.2012,      0.2022,      0.2032,      0.2042,     0.20521,     0.20621,     0.20721,     0.20821,     0.20921,     0.21021,     0.21121,     0.21221,     0.21321,     0.21421,     0.21522,\n",
       "           0.21622,     0.21722,     0.21822,     0.21922,     0.22022,     0.22122,     0.22222,     0.22322,     0.22422,     0.22523,     0.22623,     0.22723,     0.22823,     0.22923,     0.23023,     0.23123,     0.23223,     0.23323,     0.23423,     0.23524,     0.23624,     0.23724,     0.23824,     0.23924,\n",
       "           0.24024,     0.24124,     0.24224,     0.24324,     0.24424,     0.24525,     0.24625,     0.24725,     0.24825,     0.24925,     0.25025,     0.25125,     0.25225,     0.25325,     0.25425,     0.25526,     0.25626,     0.25726,     0.25826,     0.25926,     0.26026,     0.26126,     0.26226,     0.26326,\n",
       "           0.26426,     0.26527,     0.26627,     0.26727,     0.26827,     0.26927,     0.27027,     0.27127,     0.27227,     0.27327,     0.27427,     0.27528,     0.27628,     0.27728,     0.27828,     0.27928,     0.28028,     0.28128,     0.28228,     0.28328,     0.28428,     0.28529,     0.28629,     0.28729,\n",
       "           0.28829,     0.28929,     0.29029,     0.29129,     0.29229,     0.29329,     0.29429,      0.2953,      0.2963,      0.2973,      0.2983,      0.2993,      0.3003,      0.3013,      0.3023,      0.3033,      0.3043,     0.30531,     0.30631,     0.30731,     0.30831,     0.30931,     0.31031,     0.31131,\n",
       "           0.31231,     0.31331,     0.31431,     0.31532,     0.31632,     0.31732,     0.31832,     0.31932,     0.32032,     0.32132,     0.32232,     0.32332,     0.32432,     0.32533,     0.32633,     0.32733,     0.32833,     0.32933,     0.33033,     0.33133,     0.33233,     0.33333,     0.33433,     0.33534,\n",
       "           0.33634,     0.33734,     0.33834,     0.33934,     0.34034,     0.34134,     0.34234,     0.34334,     0.34434,     0.34535,     0.34635,     0.34735,     0.34835,     0.34935,     0.35035,     0.35135,     0.35235,     0.35335,     0.35435,     0.35536,     0.35636,     0.35736,     0.35836,     0.35936,\n",
       "           0.36036,     0.36136,     0.36236,     0.36336,     0.36436,     0.36537,     0.36637,     0.36737,     0.36837,     0.36937,     0.37037,     0.37137,     0.37237,     0.37337,     0.37437,     0.37538,     0.37638,     0.37738,     0.37838,     0.37938,     0.38038,     0.38138,     0.38238,     0.38338,\n",
       "           0.38438,     0.38539,     0.38639,     0.38739,     0.38839,     0.38939,     0.39039,     0.39139,     0.39239,     0.39339,     0.39439,      0.3954,      0.3964,      0.3974,      0.3984,      0.3994,      0.4004,      0.4014,      0.4024,      0.4034,      0.4044,     0.40541,     0.40641,     0.40741,\n",
       "           0.40841,     0.40941,     0.41041,     0.41141,     0.41241,     0.41341,     0.41441,     0.41542,     0.41642,     0.41742,     0.41842,     0.41942,     0.42042,     0.42142,     0.42242,     0.42342,     0.42442,     0.42543,     0.42643,     0.42743,     0.42843,     0.42943,     0.43043,     0.43143,\n",
       "           0.43243,     0.43343,     0.43443,     0.43544,     0.43644,     0.43744,     0.43844,     0.43944,     0.44044,     0.44144,     0.44244,     0.44344,     0.44444,     0.44545,     0.44645,     0.44745,     0.44845,     0.44945,     0.45045,     0.45145,     0.45245,     0.45345,     0.45445,     0.45546,\n",
       "           0.45646,     0.45746,     0.45846,     0.45946,     0.46046,     0.46146,     0.46246,     0.46346,     0.46446,     0.46547,     0.46647,     0.46747,     0.46847,     0.46947,     0.47047,     0.47147,     0.47247,     0.47347,     0.47447,     0.47548,     0.47648,     0.47748,     0.47848,     0.47948,\n",
       "           0.48048,     0.48148,     0.48248,     0.48348,     0.48448,     0.48549,     0.48649,     0.48749,     0.48849,     0.48949,     0.49049,     0.49149,     0.49249,     0.49349,     0.49449,      0.4955,      0.4965,      0.4975,      0.4985,      0.4995,      0.5005,      0.5015,      0.5025,      0.5035,\n",
       "            0.5045,     0.50551,     0.50651,     0.50751,     0.50851,     0.50951,     0.51051,     0.51151,     0.51251,     0.51351,     0.51451,     0.51552,     0.51652,     0.51752,     0.51852,     0.51952,     0.52052,     0.52152,     0.52252,     0.52352,     0.52452,     0.52553,     0.52653,     0.52753,\n",
       "           0.52853,     0.52953,     0.53053,     0.53153,     0.53253,     0.53353,     0.53453,     0.53554,     0.53654,     0.53754,     0.53854,     0.53954,     0.54054,     0.54154,     0.54254,     0.54354,     0.54454,     0.54555,     0.54655,     0.54755,     0.54855,     0.54955,     0.55055,     0.55155,\n",
       "           0.55255,     0.55355,     0.55455,     0.55556,     0.55656,     0.55756,     0.55856,     0.55956,     0.56056,     0.56156,     0.56256,     0.56356,     0.56456,     0.56557,     0.56657,     0.56757,     0.56857,     0.56957,     0.57057,     0.57157,     0.57257,     0.57357,     0.57457,     0.57558,\n",
       "           0.57658,     0.57758,     0.57858,     0.57958,     0.58058,     0.58158,     0.58258,     0.58358,     0.58458,     0.58559,     0.58659,     0.58759,     0.58859,     0.58959,     0.59059,     0.59159,     0.59259,     0.59359,     0.59459,      0.5956,      0.5966,      0.5976,      0.5986,      0.5996,\n",
       "            0.6006,      0.6016,      0.6026,      0.6036,      0.6046,     0.60561,     0.60661,     0.60761,     0.60861,     0.60961,     0.61061,     0.61161,     0.61261,     0.61361,     0.61461,     0.61562,     0.61662,     0.61762,     0.61862,     0.61962,     0.62062,     0.62162,     0.62262,     0.62362,\n",
       "           0.62462,     0.62563,     0.62663,     0.62763,     0.62863,     0.62963,     0.63063,     0.63163,     0.63263,     0.63363,     0.63463,     0.63564,     0.63664,     0.63764,     0.63864,     0.63964,     0.64064,     0.64164,     0.64264,     0.64364,     0.64464,     0.64565,     0.64665,     0.64765,\n",
       "           0.64865,     0.64965,     0.65065,     0.65165,     0.65265,     0.65365,     0.65465,     0.65566,     0.65666,     0.65766,     0.65866,     0.65966,     0.66066,     0.66166,     0.66266,     0.66366,     0.66466,     0.66567,     0.66667,     0.66767,     0.66867,     0.66967,     0.67067,     0.67167,\n",
       "           0.67267,     0.67367,     0.67467,     0.67568,     0.67668,     0.67768,     0.67868,     0.67968,     0.68068,     0.68168,     0.68268,     0.68368,     0.68468,     0.68569,     0.68669,     0.68769,     0.68869,     0.68969,     0.69069,     0.69169,     0.69269,     0.69369,     0.69469,      0.6957,\n",
       "            0.6967,      0.6977,      0.6987,      0.6997,      0.7007,      0.7017,      0.7027,      0.7037,      0.7047,     0.70571,     0.70671,     0.70771,     0.70871,     0.70971,     0.71071,     0.71171,     0.71271,     0.71371,     0.71471,     0.71572,     0.71672,     0.71772,     0.71872,     0.71972,\n",
       "           0.72072,     0.72172,     0.72272,     0.72372,     0.72472,     0.72573,     0.72673,     0.72773,     0.72873,     0.72973,     0.73073,     0.73173,     0.73273,     0.73373,     0.73473,     0.73574,     0.73674,     0.73774,     0.73874,     0.73974,     0.74074,     0.74174,     0.74274,     0.74374,\n",
       "           0.74474,     0.74575,     0.74675,     0.74775,     0.74875,     0.74975,     0.75075,     0.75175,     0.75275,     0.75375,     0.75475,     0.75576,     0.75676,     0.75776,     0.75876,     0.75976,     0.76076,     0.76176,     0.76276,     0.76376,     0.76476,     0.76577,     0.76677,     0.76777,\n",
       "           0.76877,     0.76977,     0.77077,     0.77177,     0.77277,     0.77377,     0.77477,     0.77578,     0.77678,     0.77778,     0.77878,     0.77978,     0.78078,     0.78178,     0.78278,     0.78378,     0.78478,     0.78579,     0.78679,     0.78779,     0.78879,     0.78979,     0.79079,     0.79179,\n",
       "           0.79279,     0.79379,     0.79479,      0.7958,      0.7968,      0.7978,      0.7988,      0.7998,      0.8008,      0.8018,      0.8028,      0.8038,      0.8048,     0.80581,     0.80681,     0.80781,     0.80881,     0.80981,     0.81081,     0.81181,     0.81281,     0.81381,     0.81481,     0.81582,\n",
       "           0.81682,     0.81782,     0.81882,     0.81982,     0.82082,     0.82182,     0.82282,     0.82382,     0.82482,     0.82583,     0.82683,     0.82783,     0.82883,     0.82983,     0.83083,     0.83183,     0.83283,     0.83383,     0.83483,     0.83584,     0.83684,     0.83784,     0.83884,     0.83984,\n",
       "           0.84084,     0.84184,     0.84284,     0.84384,     0.84484,     0.84585,     0.84685,     0.84785,     0.84885,     0.84985,     0.85085,     0.85185,     0.85285,     0.85385,     0.85485,     0.85586,     0.85686,     0.85786,     0.85886,     0.85986,     0.86086,     0.86186,     0.86286,     0.86386,\n",
       "           0.86486,     0.86587,     0.86687,     0.86787,     0.86887,     0.86987,     0.87087,     0.87187,     0.87287,     0.87387,     0.87487,     0.87588,     0.87688,     0.87788,     0.87888,     0.87988,     0.88088,     0.88188,     0.88288,     0.88388,     0.88488,     0.88589,     0.88689,     0.88789,\n",
       "           0.88889,     0.88989,     0.89089,     0.89189,     0.89289,     0.89389,     0.89489,      0.8959,      0.8969,      0.8979,      0.8989,      0.8999,      0.9009,      0.9019,      0.9029,      0.9039,      0.9049,     0.90591,     0.90691,     0.90791,     0.90891,     0.90991,     0.91091,     0.91191,\n",
       "           0.91291,     0.91391,     0.91491,     0.91592,     0.91692,     0.91792,     0.91892,     0.91992,     0.92092,     0.92192,     0.92292,     0.92392,     0.92492,     0.92593,     0.92693,     0.92793,     0.92893,     0.92993,     0.93093,     0.93193,     0.93293,     0.93393,     0.93493,     0.93594,\n",
       "           0.93694,     0.93794,     0.93894,     0.93994,     0.94094,     0.94194,     0.94294,     0.94394,     0.94494,     0.94595,     0.94695,     0.94795,     0.94895,     0.94995,     0.95095,     0.95195,     0.95295,     0.95395,     0.95495,     0.95596,     0.95696,     0.95796,     0.95896,     0.95996,\n",
       "           0.96096,     0.96196,     0.96296,     0.96396,     0.96496,     0.96597,     0.96697,     0.96797,     0.96897,     0.96997,     0.97097,     0.97197,     0.97297,     0.97397,     0.97497,     0.97598,     0.97698,     0.97798,     0.97898,     0.97998,     0.98098,     0.98198,     0.98298,     0.98398,\n",
       "           0.98498,     0.98599,     0.98699,     0.98799,     0.98899,     0.98999,     0.99099,     0.99199,     0.99299,     0.99399,     0.99499,       0.996,       0.997,       0.998,       0.999,           1]), array([[          1,           1,           1,           1,           1,           1,           1,           1,           1,           1,           1,           1,           1,           1,           1,           1,           1,           1,           1,           1,           1,           1,           1,\n",
       "                  1,           1,           1,           1,           1,           1,           1,           1,           1,           1,           1,           1,           1,           1,           1,           1,           1,           1,           1,           1,           1,           1,           1,\n",
       "                  1,           1,           1,           1,           1,           1,           1,           1,           1,           1,           1,           1,           1,           1,           1,           1,           1,           1,           1,           1,           1,           1,           1,\n",
       "                  1,           1,           1,           1,           1,           1,           1,           1,           1,           1,           1,           1,           1,           1,           1,           1,           1,           1,           1,           1,           1,           1,           1,\n",
       "                  1,           1,           1,           1,           1,           1,           1,           1,           1,           1,           1,           1,           1,           1,           1,           1,           1,           1,           1,           1,           1,           1,           1,\n",
       "                  1,           1,           1,           1,           1,           1,           1,           1,           1,           1,           1,           1,           1,           1,           1,           1,           1,           1,           1,           1,           1,           1,           1,\n",
       "                  1,           1,           1,           1,           1,           1,           1,           1,           1,           1,           1,           1,           1,           1,           1,           1,           1,           1,           1,           1,           1,           1,           1,\n",
       "                  1,           1,           1,           1,           1,           1,           1,           1,           1,           1,           1,           1,           1,           1,           1,           1,           1,           1,           1,           1,           1,           1,           1,\n",
       "                  1,           1,           1,           1,           1,           1,           1,           1,           1,           1,           1,           1,           1,           1,           1,           1,           1,           1,           1,           1,           1,           1,           1,\n",
       "                  1,           1,           1,           1,           1,           1,           1,           1,           1,           1,           1,           1,           1,           1,           1,           1,           1,           1,           1,           1,           1,           1,           1,\n",
       "                  1,           1,           1,           1,           1,           1,           1,           1,           1,           1,           1,           1,           1,           1,           1,           1,           1,           1,           1,           1,           1,           1,           1,\n",
       "                  1,           1,           1,           1,           1,           1,           1,           1,           1,           1,           1,           1,           1,           1,           1,           1,           1,           1,           1,           1,           1,           1,           1,\n",
       "                  1,           1,           1,           1,           1,           1,           1,           1,           1,           1,           1,           1,           1,           1,           1,           1,           1,           1,           1,           1,           1,           1,           1,\n",
       "                  1,           1,           1,           1,           1,           1,           1,           1,           1,           1,           1,           1,           1,           1,           1,           1,           1,           1,           1,           1,           1,           1,           1,\n",
       "                  1,           1,           1,           1,           1,           1,           1,           1,           1,           1,           1,           1,           1,           1,           1,           1,           1,           1,           1,           1,           1,           1,           1,\n",
       "                  1,           1,           1,           1,           1,           1,           1,           1,           1,           1,           1,           1,           1,           1,           1,           1,           1,           1,           1,           1,           1,           1,           1,\n",
       "                  1,           1,           1,           1,           1,           1,           1,           1,           1,           1,           1,           1,           1,           1,           1,           1,           1,           1,           1,           1,           1,           1,           1,\n",
       "                  1,           1,           1,           1,           1,           1,           1,           1,           1,           1,           1,           1,           1,           1,           1,           1,           1,           1,           1,           1,           1,           1,           1,\n",
       "                  1,           1,           1,           1,           1,           1,           1,           1,           1,           1,           1,           1,           1,           1,           1,           1,           1,           1,           1,           1,           1,           1,           1,\n",
       "                  1,           1,           1,           1,           1,           1,           1,           1,           1,           1,           1,           1,           1,           1,           1,           1,           1,           1,           1,           1,           1,           1,           1,\n",
       "                  1,           1,           1,           1,           1,           1,           1,           1,           1,           1,           1,           1,           1,           1,           1,           1,           1,           1,           1,           1,           1,           1,           1,\n",
       "                  1,           1,           1,           1,           1,           1,           1,           1,           1,           1,           1,           1,           1,           1,           1,           1,           1,           1,           1,           1,           1,           1,           1,\n",
       "                  1,           1,           1,           1,           1,           1,           1,           1,           1,           1,           1,           1,           1,           1,           1,           1,           1,           1,           1,           1,           1,           1,           1,\n",
       "                  1,           1,           1,           1,           1,           1,           1,           1,           1,           1,           1,           1,           1,           1,           1,           1,           1,           1,           1,           1,           1,           1,           1,\n",
       "                  1,           1,           1,           1,           1,           1,           1,           1,           1,           1,           1,           1,           1,           1,           1,           1,           1,           1,           1,           1,           1,           1,           1,\n",
       "                  1,           1,           1,           1,           1,           1,           1,           1,           1,           1,           1,           1,           1,           1,           1,           1,           1,           1,           1,           1,           1,           1,           1,\n",
       "                  1,           1,           1,           1,           1,           1,           1,           1,           1,           1,           1,           1,           1,           1,           1,           1,           1,           1,           1,           1,           1,           1,           1,\n",
       "                  1,           1,           1,           1,           1,           1,           1,           1,           1,           1,           1,           1,           1,           1,           1,           1,           1,           1,           1,           1,           1,           1,           1,\n",
       "                  1,           1,           1,           1,           1,           1,           1,           1,           1,           1,           1,           1,           1,           1,           1,           1,           1,           1,           1,           1,           1,           1,           1,\n",
       "                  1,           1,           1,           1,           1,           1,           1,           1,           1,           1,           1,           1,           1,           1,           1,           1,           1,           1,           1,           1,           1,           1,           1,\n",
       "                  1,           1,           1,           1,           1,           1,           1,           1,           1,           1,           1,           1,           1,           1,           1,           1,           1,           1,           1,           1,           1,           1,           1,\n",
       "                  1,           1,           1,           1,           1,           1,           1,           1,           1,           1,           1,           1,           1,           1,           1,           1,           1,           1,           1,           1,           1,           1,           1,\n",
       "                  1,           1,           1,           1,           1,           1,           1,           1,           1,           1,           1,           1,           1,           1,           1,           1,           1,           1,           1,           1,           1,           1,           1,\n",
       "                  1,           1,           1,           1,           1,           1,           1,           1,           1,           1,           1,           1,           1,           1,           1,           1,           1,           1,           1,           1,           1,           1,           1,\n",
       "                  1,           1,           1,           1,           1,           1,           1,           1,           1,           1,           1,           1,           1,           1,           1,           1,           1,           1,           1,           1,           1,           1,           1,\n",
       "                  1,           1,           1,           1,           1,           1,           1,           1,           1,           1,           1,           1,           1,           1,           1,           1,           1,           1,           1,           1,           1,           1,           1,\n",
       "                  1,           1,           1,           1,           1,           1,           1,           1,           1,           1,           1,           1,           1,           1,           1,           1,           1,           1,           1,           1,           1,           1,           1,\n",
       "                  1,           1,           1,           1,           1,           1,           1,           1,           1,           1,           1,           1,           1,           1,           1,           1,           1,           1,           1,           1,           1,           1,           1,\n",
       "                  1,           1,           1,           1,           1,           1,           1,           1,           1,           1,           1,           1,           1,           1,           1,           1,           1,           1,     0.99593,     0.99593,     0.99593,     0.99593,     0.99593,\n",
       "            0.99593,     0.99593,     0.99593,     0.99593,     0.99593,     0.99593,     0.99593,     0.99593,     0.99593,     0.99593,     0.99213,     0.99213,     0.99213,     0.99213,     0.99213,     0.99213,     0.99213,     0.99213,     0.99213,     0.99213,     0.99213,     0.99213,     0.99213,\n",
       "            0.99213,     0.99213,     0.99213,     0.99213,     0.99213,     0.99213,     0.99213,     0.99213,     0.99213,     0.99213,     0.99213,     0.99213,     0.99213,     0.98833,     0.98833,     0.98833,     0.98833,     0.98833,     0.98833,     0.98833,     0.98502,     0.98502,     0.98502,\n",
       "            0.98502,     0.98502,     0.98502,     0.98502,     0.98502,     0.98502,     0.98502,     0.98502,     0.98502,     0.98502,     0.98502,     0.98502,     0.98502,     0.98502,     0.98502,     0.98502,     0.98502,     0.98502,     0.98502,     0.98502,     0.98502,     0.98502,     0.98502,\n",
       "            0.98502,     0.98502,     0.98502,     0.98502,     0.98502,     0.98502,     0.98502,     0.98502,     0.98141,     0.98141,     0.98141,     0.97426,     0.97426,     0.97426,     0.97426,      0.9708,      0.9708,      0.9708,      0.9708,     0.94681,     0.94681,     0.94681,     0.94035,\n",
       "            0.94035,     0.94035,     0.94035,      0.9244,      0.9244,      0.9244,      0.9244,     0.87379,     0.87379,     0.87379,           0]]), 'Recall', 'Precision'], [array([          0,    0.001001,    0.002002,    0.003003,    0.004004,    0.005005,    0.006006,    0.007007,    0.008008,    0.009009,     0.01001,    0.011011,    0.012012,    0.013013,    0.014014,    0.015015,    0.016016,    0.017017,    0.018018,    0.019019,     0.02002,    0.021021,    0.022022,    0.023023,\n",
       "          0.024024,    0.025025,    0.026026,    0.027027,    0.028028,    0.029029,     0.03003,    0.031031,    0.032032,    0.033033,    0.034034,    0.035035,    0.036036,    0.037037,    0.038038,    0.039039,     0.04004,    0.041041,    0.042042,    0.043043,    0.044044,    0.045045,    0.046046,    0.047047,\n",
       "          0.048048,    0.049049,     0.05005,    0.051051,    0.052052,    0.053053,    0.054054,    0.055055,    0.056056,    0.057057,    0.058058,    0.059059,     0.06006,    0.061061,    0.062062,    0.063063,    0.064064,    0.065065,    0.066066,    0.067067,    0.068068,    0.069069,     0.07007,    0.071071,\n",
       "          0.072072,    0.073073,    0.074074,    0.075075,    0.076076,    0.077077,    0.078078,    0.079079,     0.08008,    0.081081,    0.082082,    0.083083,    0.084084,    0.085085,    0.086086,    0.087087,    0.088088,    0.089089,     0.09009,    0.091091,    0.092092,    0.093093,    0.094094,    0.095095,\n",
       "          0.096096,    0.097097,    0.098098,    0.099099,      0.1001,      0.1011,      0.1021,      0.1031,      0.1041,     0.10511,     0.10611,     0.10711,     0.10811,     0.10911,     0.11011,     0.11111,     0.11211,     0.11311,     0.11411,     0.11512,     0.11612,     0.11712,     0.11812,     0.11912,\n",
       "           0.12012,     0.12112,     0.12212,     0.12312,     0.12412,     0.12513,     0.12613,     0.12713,     0.12813,     0.12913,     0.13013,     0.13113,     0.13213,     0.13313,     0.13413,     0.13514,     0.13614,     0.13714,     0.13814,     0.13914,     0.14014,     0.14114,     0.14214,     0.14314,\n",
       "           0.14414,     0.14515,     0.14615,     0.14715,     0.14815,     0.14915,     0.15015,     0.15115,     0.15215,     0.15315,     0.15415,     0.15516,     0.15616,     0.15716,     0.15816,     0.15916,     0.16016,     0.16116,     0.16216,     0.16316,     0.16416,     0.16517,     0.16617,     0.16717,\n",
       "           0.16817,     0.16917,     0.17017,     0.17117,     0.17217,     0.17317,     0.17417,     0.17518,     0.17618,     0.17718,     0.17818,     0.17918,     0.18018,     0.18118,     0.18218,     0.18318,     0.18418,     0.18519,     0.18619,     0.18719,     0.18819,     0.18919,     0.19019,     0.19119,\n",
       "           0.19219,     0.19319,     0.19419,      0.1952,      0.1962,      0.1972,      0.1982,      0.1992,      0.2002,      0.2012,      0.2022,      0.2032,      0.2042,     0.20521,     0.20621,     0.20721,     0.20821,     0.20921,     0.21021,     0.21121,     0.21221,     0.21321,     0.21421,     0.21522,\n",
       "           0.21622,     0.21722,     0.21822,     0.21922,     0.22022,     0.22122,     0.22222,     0.22322,     0.22422,     0.22523,     0.22623,     0.22723,     0.22823,     0.22923,     0.23023,     0.23123,     0.23223,     0.23323,     0.23423,     0.23524,     0.23624,     0.23724,     0.23824,     0.23924,\n",
       "           0.24024,     0.24124,     0.24224,     0.24324,     0.24424,     0.24525,     0.24625,     0.24725,     0.24825,     0.24925,     0.25025,     0.25125,     0.25225,     0.25325,     0.25425,     0.25526,     0.25626,     0.25726,     0.25826,     0.25926,     0.26026,     0.26126,     0.26226,     0.26326,\n",
       "           0.26426,     0.26527,     0.26627,     0.26727,     0.26827,     0.26927,     0.27027,     0.27127,     0.27227,     0.27327,     0.27427,     0.27528,     0.27628,     0.27728,     0.27828,     0.27928,     0.28028,     0.28128,     0.28228,     0.28328,     0.28428,     0.28529,     0.28629,     0.28729,\n",
       "           0.28829,     0.28929,     0.29029,     0.29129,     0.29229,     0.29329,     0.29429,      0.2953,      0.2963,      0.2973,      0.2983,      0.2993,      0.3003,      0.3013,      0.3023,      0.3033,      0.3043,     0.30531,     0.30631,     0.30731,     0.30831,     0.30931,     0.31031,     0.31131,\n",
       "           0.31231,     0.31331,     0.31431,     0.31532,     0.31632,     0.31732,     0.31832,     0.31932,     0.32032,     0.32132,     0.32232,     0.32332,     0.32432,     0.32533,     0.32633,     0.32733,     0.32833,     0.32933,     0.33033,     0.33133,     0.33233,     0.33333,     0.33433,     0.33534,\n",
       "           0.33634,     0.33734,     0.33834,     0.33934,     0.34034,     0.34134,     0.34234,     0.34334,     0.34434,     0.34535,     0.34635,     0.34735,     0.34835,     0.34935,     0.35035,     0.35135,     0.35235,     0.35335,     0.35435,     0.35536,     0.35636,     0.35736,     0.35836,     0.35936,\n",
       "           0.36036,     0.36136,     0.36236,     0.36336,     0.36436,     0.36537,     0.36637,     0.36737,     0.36837,     0.36937,     0.37037,     0.37137,     0.37237,     0.37337,     0.37437,     0.37538,     0.37638,     0.37738,     0.37838,     0.37938,     0.38038,     0.38138,     0.38238,     0.38338,\n",
       "           0.38438,     0.38539,     0.38639,     0.38739,     0.38839,     0.38939,     0.39039,     0.39139,     0.39239,     0.39339,     0.39439,      0.3954,      0.3964,      0.3974,      0.3984,      0.3994,      0.4004,      0.4014,      0.4024,      0.4034,      0.4044,     0.40541,     0.40641,     0.40741,\n",
       "           0.40841,     0.40941,     0.41041,     0.41141,     0.41241,     0.41341,     0.41441,     0.41542,     0.41642,     0.41742,     0.41842,     0.41942,     0.42042,     0.42142,     0.42242,     0.42342,     0.42442,     0.42543,     0.42643,     0.42743,     0.42843,     0.42943,     0.43043,     0.43143,\n",
       "           0.43243,     0.43343,     0.43443,     0.43544,     0.43644,     0.43744,     0.43844,     0.43944,     0.44044,     0.44144,     0.44244,     0.44344,     0.44444,     0.44545,     0.44645,     0.44745,     0.44845,     0.44945,     0.45045,     0.45145,     0.45245,     0.45345,     0.45445,     0.45546,\n",
       "           0.45646,     0.45746,     0.45846,     0.45946,     0.46046,     0.46146,     0.46246,     0.46346,     0.46446,     0.46547,     0.46647,     0.46747,     0.46847,     0.46947,     0.47047,     0.47147,     0.47247,     0.47347,     0.47447,     0.47548,     0.47648,     0.47748,     0.47848,     0.47948,\n",
       "           0.48048,     0.48148,     0.48248,     0.48348,     0.48448,     0.48549,     0.48649,     0.48749,     0.48849,     0.48949,     0.49049,     0.49149,     0.49249,     0.49349,     0.49449,      0.4955,      0.4965,      0.4975,      0.4985,      0.4995,      0.5005,      0.5015,      0.5025,      0.5035,\n",
       "            0.5045,     0.50551,     0.50651,     0.50751,     0.50851,     0.50951,     0.51051,     0.51151,     0.51251,     0.51351,     0.51451,     0.51552,     0.51652,     0.51752,     0.51852,     0.51952,     0.52052,     0.52152,     0.52252,     0.52352,     0.52452,     0.52553,     0.52653,     0.52753,\n",
       "           0.52853,     0.52953,     0.53053,     0.53153,     0.53253,     0.53353,     0.53453,     0.53554,     0.53654,     0.53754,     0.53854,     0.53954,     0.54054,     0.54154,     0.54254,     0.54354,     0.54454,     0.54555,     0.54655,     0.54755,     0.54855,     0.54955,     0.55055,     0.55155,\n",
       "           0.55255,     0.55355,     0.55455,     0.55556,     0.55656,     0.55756,     0.55856,     0.55956,     0.56056,     0.56156,     0.56256,     0.56356,     0.56456,     0.56557,     0.56657,     0.56757,     0.56857,     0.56957,     0.57057,     0.57157,     0.57257,     0.57357,     0.57457,     0.57558,\n",
       "           0.57658,     0.57758,     0.57858,     0.57958,     0.58058,     0.58158,     0.58258,     0.58358,     0.58458,     0.58559,     0.58659,     0.58759,     0.58859,     0.58959,     0.59059,     0.59159,     0.59259,     0.59359,     0.59459,      0.5956,      0.5966,      0.5976,      0.5986,      0.5996,\n",
       "            0.6006,      0.6016,      0.6026,      0.6036,      0.6046,     0.60561,     0.60661,     0.60761,     0.60861,     0.60961,     0.61061,     0.61161,     0.61261,     0.61361,     0.61461,     0.61562,     0.61662,     0.61762,     0.61862,     0.61962,     0.62062,     0.62162,     0.62262,     0.62362,\n",
       "           0.62462,     0.62563,     0.62663,     0.62763,     0.62863,     0.62963,     0.63063,     0.63163,     0.63263,     0.63363,     0.63463,     0.63564,     0.63664,     0.63764,     0.63864,     0.63964,     0.64064,     0.64164,     0.64264,     0.64364,     0.64464,     0.64565,     0.64665,     0.64765,\n",
       "           0.64865,     0.64965,     0.65065,     0.65165,     0.65265,     0.65365,     0.65465,     0.65566,     0.65666,     0.65766,     0.65866,     0.65966,     0.66066,     0.66166,     0.66266,     0.66366,     0.66466,     0.66567,     0.66667,     0.66767,     0.66867,     0.66967,     0.67067,     0.67167,\n",
       "           0.67267,     0.67367,     0.67467,     0.67568,     0.67668,     0.67768,     0.67868,     0.67968,     0.68068,     0.68168,     0.68268,     0.68368,     0.68468,     0.68569,     0.68669,     0.68769,     0.68869,     0.68969,     0.69069,     0.69169,     0.69269,     0.69369,     0.69469,      0.6957,\n",
       "            0.6967,      0.6977,      0.6987,      0.6997,      0.7007,      0.7017,      0.7027,      0.7037,      0.7047,     0.70571,     0.70671,     0.70771,     0.70871,     0.70971,     0.71071,     0.71171,     0.71271,     0.71371,     0.71471,     0.71572,     0.71672,     0.71772,     0.71872,     0.71972,\n",
       "           0.72072,     0.72172,     0.72272,     0.72372,     0.72472,     0.72573,     0.72673,     0.72773,     0.72873,     0.72973,     0.73073,     0.73173,     0.73273,     0.73373,     0.73473,     0.73574,     0.73674,     0.73774,     0.73874,     0.73974,     0.74074,     0.74174,     0.74274,     0.74374,\n",
       "           0.74474,     0.74575,     0.74675,     0.74775,     0.74875,     0.74975,     0.75075,     0.75175,     0.75275,     0.75375,     0.75475,     0.75576,     0.75676,     0.75776,     0.75876,     0.75976,     0.76076,     0.76176,     0.76276,     0.76376,     0.76476,     0.76577,     0.76677,     0.76777,\n",
       "           0.76877,     0.76977,     0.77077,     0.77177,     0.77277,     0.77377,     0.77477,     0.77578,     0.77678,     0.77778,     0.77878,     0.77978,     0.78078,     0.78178,     0.78278,     0.78378,     0.78478,     0.78579,     0.78679,     0.78779,     0.78879,     0.78979,     0.79079,     0.79179,\n",
       "           0.79279,     0.79379,     0.79479,      0.7958,      0.7968,      0.7978,      0.7988,      0.7998,      0.8008,      0.8018,      0.8028,      0.8038,      0.8048,     0.80581,     0.80681,     0.80781,     0.80881,     0.80981,     0.81081,     0.81181,     0.81281,     0.81381,     0.81481,     0.81582,\n",
       "           0.81682,     0.81782,     0.81882,     0.81982,     0.82082,     0.82182,     0.82282,     0.82382,     0.82482,     0.82583,     0.82683,     0.82783,     0.82883,     0.82983,     0.83083,     0.83183,     0.83283,     0.83383,     0.83483,     0.83584,     0.83684,     0.83784,     0.83884,     0.83984,\n",
       "           0.84084,     0.84184,     0.84284,     0.84384,     0.84484,     0.84585,     0.84685,     0.84785,     0.84885,     0.84985,     0.85085,     0.85185,     0.85285,     0.85385,     0.85485,     0.85586,     0.85686,     0.85786,     0.85886,     0.85986,     0.86086,     0.86186,     0.86286,     0.86386,\n",
       "           0.86486,     0.86587,     0.86687,     0.86787,     0.86887,     0.86987,     0.87087,     0.87187,     0.87287,     0.87387,     0.87487,     0.87588,     0.87688,     0.87788,     0.87888,     0.87988,     0.88088,     0.88188,     0.88288,     0.88388,     0.88488,     0.88589,     0.88689,     0.88789,\n",
       "           0.88889,     0.88989,     0.89089,     0.89189,     0.89289,     0.89389,     0.89489,      0.8959,      0.8969,      0.8979,      0.8989,      0.8999,      0.9009,      0.9019,      0.9029,      0.9039,      0.9049,     0.90591,     0.90691,     0.90791,     0.90891,     0.90991,     0.91091,     0.91191,\n",
       "           0.91291,     0.91391,     0.91491,     0.91592,     0.91692,     0.91792,     0.91892,     0.91992,     0.92092,     0.92192,     0.92292,     0.92392,     0.92492,     0.92593,     0.92693,     0.92793,     0.92893,     0.92993,     0.93093,     0.93193,     0.93293,     0.93393,     0.93493,     0.93594,\n",
       "           0.93694,     0.93794,     0.93894,     0.93994,     0.94094,     0.94194,     0.94294,     0.94394,     0.94494,     0.94595,     0.94695,     0.94795,     0.94895,     0.94995,     0.95095,     0.95195,     0.95295,     0.95395,     0.95495,     0.95596,     0.95696,     0.95796,     0.95896,     0.95996,\n",
       "           0.96096,     0.96196,     0.96296,     0.96396,     0.96496,     0.96597,     0.96697,     0.96797,     0.96897,     0.96997,     0.97097,     0.97197,     0.97297,     0.97397,     0.97497,     0.97598,     0.97698,     0.97798,     0.97898,     0.97998,     0.98098,     0.98198,     0.98298,     0.98398,\n",
       "           0.98498,     0.98599,     0.98699,     0.98799,     0.98899,     0.98999,     0.99099,     0.99199,     0.99299,     0.99399,     0.99499,       0.996,       0.997,       0.998,       0.999,           1]), array([[    0.16514,     0.16514,     0.16514,     0.16514,     0.16514,     0.16514,     0.16514,     0.16514,     0.16514,     0.16514,      0.1751,     0.21438,     0.25398,     0.29194,     0.33612,     0.37519,     0.40839,     0.43212,     0.45658,     0.48609,     0.50686,      0.5322,     0.55243,\n",
       "            0.56927,      0.5803,     0.59268,     0.60716,     0.61502,     0.62975,     0.63957,     0.65127,     0.65872,     0.66257,     0.66937,     0.67347,      0.6815,     0.68648,     0.69239,     0.69821,     0.70644,     0.71136,     0.71682,     0.72207,     0.72781,     0.73434,     0.73748,\n",
       "            0.74174,      0.7435,     0.74546,     0.74921,     0.75642,     0.75791,     0.76226,     0.76703,     0.77087,     0.77313,     0.77472,     0.78099,     0.78501,     0.78975,     0.79081,     0.79462,     0.79737,      0.7993,     0.80358,     0.80513,     0.80747,       0.809,     0.81193,\n",
       "            0.81428,      0.8161,     0.81765,     0.82036,     0.82391,     0.82735,     0.82803,     0.82975,     0.83024,     0.83073,     0.83465,     0.83589,     0.83831,      0.8389,     0.83936,        0.84,     0.84412,     0.84608,     0.84688,      0.8474,     0.84816,     0.84927,      0.8503,\n",
       "            0.85364,     0.85577,      0.8573,     0.85822,     0.85959,     0.86302,     0.86557,     0.86693,     0.86782,     0.86875,     0.86965,     0.87033,     0.87107,     0.87315,     0.87555,     0.87663,      0.8773,     0.87797,     0.87972,        0.88,     0.88029,     0.88058,     0.88087,\n",
       "            0.88304,     0.88394,     0.88457,     0.88519,     0.88559,     0.88597,     0.88634,     0.88673,     0.88747,     0.88824,     0.88961,     0.89042,     0.89264,     0.89344,     0.89436,     0.89556,     0.89665,     0.89709,      0.8972,     0.89732,     0.89744,     0.89755,     0.89767,\n",
       "            0.89779,      0.8979,     0.89802,     0.89814,     0.89825,     0.89837,     0.89849,     0.89884,     0.89924,     0.89964,     0.90024,     0.90193,     0.90284,     0.90412,     0.90702,     0.90938,      0.9123,     0.91276,     0.91323,      0.9137,     0.91414,     0.91457,     0.91501,\n",
       "            0.91554,     0.91618,     0.91685,     0.91834,     0.91952,     0.92153,     0.92167,     0.92181,     0.92195,      0.9221,     0.92224,     0.92238,     0.92252,     0.92266,     0.92281,     0.92295,      0.9231,     0.92332,     0.92354,     0.92376,     0.92398,      0.9242,     0.92442,\n",
       "            0.92464,     0.92504,     0.92545,     0.92587,     0.92627,     0.92662,     0.92696,     0.92731,     0.92765,     0.92882,     0.93166,     0.93254,     0.93209,     0.93164,      0.9312,     0.93115,     0.93274,     0.93328,     0.93382,      0.9341,     0.93421,     0.93433,     0.93444,\n",
       "            0.93456,     0.93467,     0.93479,      0.9349,     0.93502,     0.93513,     0.93525,     0.93536,     0.93548,     0.93559,     0.93665,     0.93848,     0.93901,     0.93914,     0.93926,     0.93939,     0.93951,     0.93964,     0.93976,     0.93989,     0.94001,     0.94014,     0.94026,\n",
       "            0.94039,     0.94052,     0.94091,     0.94146,     0.94201,      0.9426,     0.94323,     0.94385,     0.94467,     0.94548,     0.94559,     0.94566,     0.94574,     0.94581,     0.94588,     0.94596,     0.94603,      0.9461,     0.94618,     0.94625,     0.94632,      0.9464,     0.94647,\n",
       "            0.94654,     0.94662,     0.94669,     0.94676,     0.94684,     0.94691,     0.94698,     0.94706,     0.94713,     0.94738,     0.94812,     0.94886,     0.94923,     0.94961,     0.94998,     0.95035,     0.95061,     0.95075,     0.95089,     0.95104,     0.95118,     0.95132,     0.95146,\n",
       "            0.95161,     0.95175,     0.95189,     0.95204,     0.95218,     0.95301,     0.95429,     0.95637,     0.95738,      0.9576,     0.95783,     0.95805,     0.95828,      0.9585,     0.95873,     0.95895,     0.95833,     0.95747,     0.95763,     0.95841,      0.9589,       0.959,     0.95909,\n",
       "            0.95919,     0.95929,     0.95939,     0.95949,     0.95959,     0.95969,     0.95978,     0.95988,     0.95998,     0.96008,     0.96018,     0.96028,     0.96038,     0.96047,     0.96057,     0.96068,     0.96079,      0.9609,     0.96101,     0.96112,     0.96124,     0.96135,     0.96146,\n",
       "            0.96157,     0.96168,     0.96179,      0.9619,     0.96201,     0.96212,     0.96223,     0.96238,     0.96258,     0.96279,       0.963,      0.9632,     0.96341,     0.96362,     0.96382,      0.9641,     0.96558,     0.96534,     0.96511,     0.96488,     0.96464,     0.96441,     0.96417,\n",
       "            0.96394,     0.96406,     0.96426,     0.96446,     0.96466,     0.96486,     0.96506,     0.96526,     0.96546,     0.96565,     0.96578,      0.9659,     0.96602,     0.96614,     0.96627,     0.96639,     0.96651,     0.96663,     0.96676,     0.96688,       0.967,     0.96712,     0.96725,\n",
       "            0.96737,     0.96704,     0.96661,     0.96617,     0.96574,     0.96573,     0.96617,      0.9666,     0.96703,     0.96734,      0.9675,     0.96765,     0.96781,     0.96796,     0.96812,     0.96827,     0.96843,     0.96859,     0.96874,      0.9689,     0.96907,     0.96941,     0.96975,\n",
       "            0.97009,     0.97042,     0.97076,     0.97093,     0.97108,     0.97122,     0.97137,     0.97151,     0.97165,      0.9718,     0.97194,     0.97209,     0.97223,     0.97238,     0.97252,     0.97278,     0.97309,     0.97341,     0.97373,     0.97405,     0.97436,     0.97449,     0.97462,\n",
       "            0.97475,     0.97488,     0.97501,     0.97514,     0.97527,      0.9754,     0.97553,     0.97566,     0.97579,     0.97592,     0.97605,     0.97618,     0.97628,     0.97639,      0.9765,      0.9766,     0.97671,     0.97682,     0.97692,     0.97703,     0.97714,     0.97724,     0.97735,\n",
       "            0.97746,     0.97756,     0.97767,     0.97777,     0.97788,     0.97788,     0.97775,     0.97762,     0.97749,     0.97736,     0.97722,     0.97709,     0.97696,     0.97683,      0.9767,     0.97656,     0.97643,      0.9763,     0.97617,      0.9761,     0.97629,     0.97648,     0.97668,\n",
       "            0.97687,     0.97706,     0.97726,     0.97745,     0.97764,     0.97784,     0.97704,      0.9761,     0.97613,     0.97632,     0.97651,     0.97669,     0.97688,     0.97707,     0.97725,     0.97744,     0.97763,     0.97781,     0.97799,     0.97816,     0.97834,     0.97851,     0.97869,\n",
       "            0.97886,     0.97904,     0.97921,     0.97939,     0.97957,      0.9778,     0.97795,     0.97823,      0.9785,     0.97877,     0.97904,     0.97931,     0.97939,     0.97888,     0.97837,     0.97786,     0.97714,     0.97622,     0.97567,     0.97561,     0.97555,     0.97549,     0.97542,\n",
       "            0.97536,      0.9753,     0.97524,     0.97517,     0.97511,     0.97505,     0.97499,     0.97492,     0.97486,      0.9748,     0.97474,     0.97467,     0.97461,     0.97455,     0.97449,     0.97442,     0.97436,      0.9743,     0.97423,     0.97417,     0.97411,     0.97405,     0.97398,\n",
       "            0.97392,     0.97386,      0.9738,     0.97333,     0.97275,     0.97217,     0.97181,     0.97169,     0.97158,     0.97147,     0.97135,     0.97124,     0.97113,     0.97101,      0.9709,     0.97079,     0.97067,     0.97056,     0.97045,     0.97033,     0.97022,     0.97011,     0.96999,\n",
       "            0.96987,     0.96974,     0.96961,     0.96947,     0.96934,     0.96921,     0.96908,     0.96894,     0.96881,     0.96868,     0.96854,     0.96841,     0.96828,     0.96815,     0.96801,      0.9679,     0.96779,     0.96768,     0.96757,     0.96747,     0.96736,     0.96725,     0.96714,\n",
       "            0.96703,     0.96693,     0.96682,     0.96671,      0.9666,     0.96649,     0.96638,     0.96627,     0.96617,     0.96606,     0.96585,     0.96563,      0.9654,     0.96517,     0.96495,     0.96472,     0.96449,     0.96427,     0.96406,     0.96396,     0.96385,     0.96374,     0.96364,\n",
       "            0.96353,     0.96342,     0.96332,     0.96321,      0.9631,       0.963,     0.96289,     0.96278,     0.96268,     0.96257,     0.96246,     0.96236,     0.96225,     0.96214,     0.96336,     0.96183,     0.96163,     0.96142,     0.96122,     0.96102,     0.96082,     0.96061,     0.96041,\n",
       "            0.96021,        0.96,     0.96033,     0.96067,     0.96101,     0.96135,     0.96169,     0.96096,     0.95776,     0.95714,     0.95652,      0.9559,     0.95503,     0.95413,     0.95359,     0.95321,     0.95283,     0.95245,     0.95208,     0.95179,     0.95167,     0.95154,     0.95142,\n",
       "             0.9513,     0.95118,     0.95106,     0.95093,     0.95081,     0.95069,     0.95057,     0.95044,     0.95032,      0.9502,     0.95008,     0.94995,     0.94983,       0.949,     0.94797,     0.94814,      0.9486,     0.94905,     0.94951,     0.94946,     0.94926,     0.94907,     0.94887,\n",
       "            0.94867,     0.94848,     0.94828,     0.94808,     0.94788,     0.94769,     0.94736,     0.94686,     0.94635,     0.94585,     0.94508,     0.94388,     0.94313,     0.94262,     0.94211,     0.94159,     0.94319,     0.94252,     0.94185,     0.94117,     0.94044,     0.93971,     0.93882,\n",
       "            0.93701,     0.93446,     0.93396,     0.93347,     0.93297,     0.93194,     0.93067,     0.93013,     0.92959,     0.92905,      0.9285,     0.92791,     0.92733,     0.92674,     0.92627,     0.92591,     0.92555,     0.92519,     0.92483,     0.92447,     0.92379,     0.92282,     0.92034,\n",
       "            0.91967,     0.91932,     0.91897,     0.91862,     0.91827,     0.91793,     0.91734,     0.91668,     0.91602,     0.91544,     0.91495,     0.91446,     0.91397,     0.91348,     0.91315,     0.91282,     0.91249,     0.91217,     0.91184,     0.91151,     0.91121,       0.911,     0.91078,\n",
       "            0.91056,     0.91034,     0.91012,      0.9099,     0.90968,     0.90945,     0.90923,     0.90889,     0.90832,     0.90774,     0.90716,     0.90549,      0.9042,     0.90353,     0.90286,     0.90228,     0.90185,     0.90142,     0.90098,     0.90055,     0.89998,      0.8989,     0.89783,\n",
       "            0.89684,     0.89585,     0.89218,     0.89023,     0.88906,     0.88648,     0.88589,      0.8853,     0.88471,     0.88412,     0.88353,     0.88294,     0.88236,     0.88178,     0.88124,      0.8807,     0.88016,     0.87961,     0.87907,     0.87853,     0.87799,     0.87745,     0.87686,\n",
       "            0.87627,     0.87568,     0.87509,     0.87464,     0.87421,     0.87378,     0.87336,     0.87293,     0.87159,     0.87007,     0.86967,     0.86927,     0.86888,     0.86848,     0.86809,     0.86488,      0.8627,     0.86213,     0.86155,     0.86098,     0.85912,     0.85753,     0.85635,\n",
       "            0.85429,     0.85129,     0.85017,      0.8492,     0.84677,     0.84519,     0.84408,     0.84344,     0.84306,     0.84268,     0.84231,     0.84193,     0.84155,     0.84109,     0.83991,     0.83872,     0.83519,     0.83155,     0.82751,     0.82483,     0.81832,     0.81764,     0.81695,\n",
       "            0.81627,     0.81312,     0.81265,     0.81218,     0.81172,     0.81125,     0.81078,     0.80764,     0.80393,      0.7999,     0.79759,     0.79316,     0.79122,     0.78873,     0.78616,     0.78539,     0.78462,     0.78385,     0.78248,     0.78104,     0.77931,     0.77787,     0.77685,\n",
       "            0.77583,     0.77151,     0.76763,      0.7579,     0.75401,     0.75141,      0.7458,      0.7437,     0.74303,     0.74235,     0.74168,     0.73755,     0.73284,     0.72542,     0.71699,     0.71573,     0.71447,     0.70925,     0.70132,     0.69556,     0.69031,     0.68717,     0.67784,\n",
       "            0.67377,     0.66835,     0.66438,     0.66011,     0.65779,     0.65417,     0.64741,     0.64344,     0.63795,     0.63589,     0.63387,     0.62985,     0.62373,     0.61979,     0.61288,     0.60743,      0.6053,     0.60018,     0.59393,     0.59102,     0.58707,     0.58275,     0.56361,\n",
       "            0.55211,     0.54836,     0.54535,     0.53057,     0.52325,     0.51189,     0.50456,     0.49214,     0.48518,      0.4815,     0.47216,     0.46275,     0.45562,     0.45318,     0.44891,     0.43923,     0.43045,     0.42349,     0.41787,     0.41027,     0.40728,     0.39908,     0.39094,\n",
       "            0.38814,     0.38021,     0.37289,      0.3703,     0.36324,     0.36034,     0.35357,     0.35118,     0.34878,     0.33536,     0.32691,     0.31277,     0.30751,     0.28802,     0.28062,     0.27654,     0.26616,     0.25417,     0.24977,     0.24596,      0.2434,     0.23445,     0.21618,\n",
       "            0.20918,     0.19883,     0.19573,     0.19342,     0.19215,     0.19087,     0.18959,     0.18831,      0.1638,     0.15399,     0.14207,     0.13421,     0.12717,     0.11384,     0.10679,    0.093485,    0.081557,    0.077371,    0.072273,    0.067285,    0.060199,    0.054755,    0.050902,\n",
       "           0.042863,    0.041221,    0.039577,    0.037929,    0.035781,    0.028178,    0.025765,    0.023346,    0.021084,     0.01903,    0.016971,    0.014908,     0.01401,    0.013238,    0.012466,    0.011693,    0.010919,    0.010145,     0.00937,   0.0085946,   0.0078185,           0,           0,\n",
       "                  0,           0,           0,           0,           0,           0,           0,           0,           0,           0,           0]]), 'Confidence', 'F1'], [array([          0,    0.001001,    0.002002,    0.003003,    0.004004,    0.005005,    0.006006,    0.007007,    0.008008,    0.009009,     0.01001,    0.011011,    0.012012,    0.013013,    0.014014,    0.015015,    0.016016,    0.017017,    0.018018,    0.019019,     0.02002,    0.021021,    0.022022,    0.023023,\n",
       "          0.024024,    0.025025,    0.026026,    0.027027,    0.028028,    0.029029,     0.03003,    0.031031,    0.032032,    0.033033,    0.034034,    0.035035,    0.036036,    0.037037,    0.038038,    0.039039,     0.04004,    0.041041,    0.042042,    0.043043,    0.044044,    0.045045,    0.046046,    0.047047,\n",
       "          0.048048,    0.049049,     0.05005,    0.051051,    0.052052,    0.053053,    0.054054,    0.055055,    0.056056,    0.057057,    0.058058,    0.059059,     0.06006,    0.061061,    0.062062,    0.063063,    0.064064,    0.065065,    0.066066,    0.067067,    0.068068,    0.069069,     0.07007,    0.071071,\n",
       "          0.072072,    0.073073,    0.074074,    0.075075,    0.076076,    0.077077,    0.078078,    0.079079,     0.08008,    0.081081,    0.082082,    0.083083,    0.084084,    0.085085,    0.086086,    0.087087,    0.088088,    0.089089,     0.09009,    0.091091,    0.092092,    0.093093,    0.094094,    0.095095,\n",
       "          0.096096,    0.097097,    0.098098,    0.099099,      0.1001,      0.1011,      0.1021,      0.1031,      0.1041,     0.10511,     0.10611,     0.10711,     0.10811,     0.10911,     0.11011,     0.11111,     0.11211,     0.11311,     0.11411,     0.11512,     0.11612,     0.11712,     0.11812,     0.11912,\n",
       "           0.12012,     0.12112,     0.12212,     0.12312,     0.12412,     0.12513,     0.12613,     0.12713,     0.12813,     0.12913,     0.13013,     0.13113,     0.13213,     0.13313,     0.13413,     0.13514,     0.13614,     0.13714,     0.13814,     0.13914,     0.14014,     0.14114,     0.14214,     0.14314,\n",
       "           0.14414,     0.14515,     0.14615,     0.14715,     0.14815,     0.14915,     0.15015,     0.15115,     0.15215,     0.15315,     0.15415,     0.15516,     0.15616,     0.15716,     0.15816,     0.15916,     0.16016,     0.16116,     0.16216,     0.16316,     0.16416,     0.16517,     0.16617,     0.16717,\n",
       "           0.16817,     0.16917,     0.17017,     0.17117,     0.17217,     0.17317,     0.17417,     0.17518,     0.17618,     0.17718,     0.17818,     0.17918,     0.18018,     0.18118,     0.18218,     0.18318,     0.18418,     0.18519,     0.18619,     0.18719,     0.18819,     0.18919,     0.19019,     0.19119,\n",
       "           0.19219,     0.19319,     0.19419,      0.1952,      0.1962,      0.1972,      0.1982,      0.1992,      0.2002,      0.2012,      0.2022,      0.2032,      0.2042,     0.20521,     0.20621,     0.20721,     0.20821,     0.20921,     0.21021,     0.21121,     0.21221,     0.21321,     0.21421,     0.21522,\n",
       "           0.21622,     0.21722,     0.21822,     0.21922,     0.22022,     0.22122,     0.22222,     0.22322,     0.22422,     0.22523,     0.22623,     0.22723,     0.22823,     0.22923,     0.23023,     0.23123,     0.23223,     0.23323,     0.23423,     0.23524,     0.23624,     0.23724,     0.23824,     0.23924,\n",
       "           0.24024,     0.24124,     0.24224,     0.24324,     0.24424,     0.24525,     0.24625,     0.24725,     0.24825,     0.24925,     0.25025,     0.25125,     0.25225,     0.25325,     0.25425,     0.25526,     0.25626,     0.25726,     0.25826,     0.25926,     0.26026,     0.26126,     0.26226,     0.26326,\n",
       "           0.26426,     0.26527,     0.26627,     0.26727,     0.26827,     0.26927,     0.27027,     0.27127,     0.27227,     0.27327,     0.27427,     0.27528,     0.27628,     0.27728,     0.27828,     0.27928,     0.28028,     0.28128,     0.28228,     0.28328,     0.28428,     0.28529,     0.28629,     0.28729,\n",
       "           0.28829,     0.28929,     0.29029,     0.29129,     0.29229,     0.29329,     0.29429,      0.2953,      0.2963,      0.2973,      0.2983,      0.2993,      0.3003,      0.3013,      0.3023,      0.3033,      0.3043,     0.30531,     0.30631,     0.30731,     0.30831,     0.30931,     0.31031,     0.31131,\n",
       "           0.31231,     0.31331,     0.31431,     0.31532,     0.31632,     0.31732,     0.31832,     0.31932,     0.32032,     0.32132,     0.32232,     0.32332,     0.32432,     0.32533,     0.32633,     0.32733,     0.32833,     0.32933,     0.33033,     0.33133,     0.33233,     0.33333,     0.33433,     0.33534,\n",
       "           0.33634,     0.33734,     0.33834,     0.33934,     0.34034,     0.34134,     0.34234,     0.34334,     0.34434,     0.34535,     0.34635,     0.34735,     0.34835,     0.34935,     0.35035,     0.35135,     0.35235,     0.35335,     0.35435,     0.35536,     0.35636,     0.35736,     0.35836,     0.35936,\n",
       "           0.36036,     0.36136,     0.36236,     0.36336,     0.36436,     0.36537,     0.36637,     0.36737,     0.36837,     0.36937,     0.37037,     0.37137,     0.37237,     0.37337,     0.37437,     0.37538,     0.37638,     0.37738,     0.37838,     0.37938,     0.38038,     0.38138,     0.38238,     0.38338,\n",
       "           0.38438,     0.38539,     0.38639,     0.38739,     0.38839,     0.38939,     0.39039,     0.39139,     0.39239,     0.39339,     0.39439,      0.3954,      0.3964,      0.3974,      0.3984,      0.3994,      0.4004,      0.4014,      0.4024,      0.4034,      0.4044,     0.40541,     0.40641,     0.40741,\n",
       "           0.40841,     0.40941,     0.41041,     0.41141,     0.41241,     0.41341,     0.41441,     0.41542,     0.41642,     0.41742,     0.41842,     0.41942,     0.42042,     0.42142,     0.42242,     0.42342,     0.42442,     0.42543,     0.42643,     0.42743,     0.42843,     0.42943,     0.43043,     0.43143,\n",
       "           0.43243,     0.43343,     0.43443,     0.43544,     0.43644,     0.43744,     0.43844,     0.43944,     0.44044,     0.44144,     0.44244,     0.44344,     0.44444,     0.44545,     0.44645,     0.44745,     0.44845,     0.44945,     0.45045,     0.45145,     0.45245,     0.45345,     0.45445,     0.45546,\n",
       "           0.45646,     0.45746,     0.45846,     0.45946,     0.46046,     0.46146,     0.46246,     0.46346,     0.46446,     0.46547,     0.46647,     0.46747,     0.46847,     0.46947,     0.47047,     0.47147,     0.47247,     0.47347,     0.47447,     0.47548,     0.47648,     0.47748,     0.47848,     0.47948,\n",
       "           0.48048,     0.48148,     0.48248,     0.48348,     0.48448,     0.48549,     0.48649,     0.48749,     0.48849,     0.48949,     0.49049,     0.49149,     0.49249,     0.49349,     0.49449,      0.4955,      0.4965,      0.4975,      0.4985,      0.4995,      0.5005,      0.5015,      0.5025,      0.5035,\n",
       "            0.5045,     0.50551,     0.50651,     0.50751,     0.50851,     0.50951,     0.51051,     0.51151,     0.51251,     0.51351,     0.51451,     0.51552,     0.51652,     0.51752,     0.51852,     0.51952,     0.52052,     0.52152,     0.52252,     0.52352,     0.52452,     0.52553,     0.52653,     0.52753,\n",
       "           0.52853,     0.52953,     0.53053,     0.53153,     0.53253,     0.53353,     0.53453,     0.53554,     0.53654,     0.53754,     0.53854,     0.53954,     0.54054,     0.54154,     0.54254,     0.54354,     0.54454,     0.54555,     0.54655,     0.54755,     0.54855,     0.54955,     0.55055,     0.55155,\n",
       "           0.55255,     0.55355,     0.55455,     0.55556,     0.55656,     0.55756,     0.55856,     0.55956,     0.56056,     0.56156,     0.56256,     0.56356,     0.56456,     0.56557,     0.56657,     0.56757,     0.56857,     0.56957,     0.57057,     0.57157,     0.57257,     0.57357,     0.57457,     0.57558,\n",
       "           0.57658,     0.57758,     0.57858,     0.57958,     0.58058,     0.58158,     0.58258,     0.58358,     0.58458,     0.58559,     0.58659,     0.58759,     0.58859,     0.58959,     0.59059,     0.59159,     0.59259,     0.59359,     0.59459,      0.5956,      0.5966,      0.5976,      0.5986,      0.5996,\n",
       "            0.6006,      0.6016,      0.6026,      0.6036,      0.6046,     0.60561,     0.60661,     0.60761,     0.60861,     0.60961,     0.61061,     0.61161,     0.61261,     0.61361,     0.61461,     0.61562,     0.61662,     0.61762,     0.61862,     0.61962,     0.62062,     0.62162,     0.62262,     0.62362,\n",
       "           0.62462,     0.62563,     0.62663,     0.62763,     0.62863,     0.62963,     0.63063,     0.63163,     0.63263,     0.63363,     0.63463,     0.63564,     0.63664,     0.63764,     0.63864,     0.63964,     0.64064,     0.64164,     0.64264,     0.64364,     0.64464,     0.64565,     0.64665,     0.64765,\n",
       "           0.64865,     0.64965,     0.65065,     0.65165,     0.65265,     0.65365,     0.65465,     0.65566,     0.65666,     0.65766,     0.65866,     0.65966,     0.66066,     0.66166,     0.66266,     0.66366,     0.66466,     0.66567,     0.66667,     0.66767,     0.66867,     0.66967,     0.67067,     0.67167,\n",
       "           0.67267,     0.67367,     0.67467,     0.67568,     0.67668,     0.67768,     0.67868,     0.67968,     0.68068,     0.68168,     0.68268,     0.68368,     0.68468,     0.68569,     0.68669,     0.68769,     0.68869,     0.68969,     0.69069,     0.69169,     0.69269,     0.69369,     0.69469,      0.6957,\n",
       "            0.6967,      0.6977,      0.6987,      0.6997,      0.7007,      0.7017,      0.7027,      0.7037,      0.7047,     0.70571,     0.70671,     0.70771,     0.70871,     0.70971,     0.71071,     0.71171,     0.71271,     0.71371,     0.71471,     0.71572,     0.71672,     0.71772,     0.71872,     0.71972,\n",
       "           0.72072,     0.72172,     0.72272,     0.72372,     0.72472,     0.72573,     0.72673,     0.72773,     0.72873,     0.72973,     0.73073,     0.73173,     0.73273,     0.73373,     0.73473,     0.73574,     0.73674,     0.73774,     0.73874,     0.73974,     0.74074,     0.74174,     0.74274,     0.74374,\n",
       "           0.74474,     0.74575,     0.74675,     0.74775,     0.74875,     0.74975,     0.75075,     0.75175,     0.75275,     0.75375,     0.75475,     0.75576,     0.75676,     0.75776,     0.75876,     0.75976,     0.76076,     0.76176,     0.76276,     0.76376,     0.76476,     0.76577,     0.76677,     0.76777,\n",
       "           0.76877,     0.76977,     0.77077,     0.77177,     0.77277,     0.77377,     0.77477,     0.77578,     0.77678,     0.77778,     0.77878,     0.77978,     0.78078,     0.78178,     0.78278,     0.78378,     0.78478,     0.78579,     0.78679,     0.78779,     0.78879,     0.78979,     0.79079,     0.79179,\n",
       "           0.79279,     0.79379,     0.79479,      0.7958,      0.7968,      0.7978,      0.7988,      0.7998,      0.8008,      0.8018,      0.8028,      0.8038,      0.8048,     0.80581,     0.80681,     0.80781,     0.80881,     0.80981,     0.81081,     0.81181,     0.81281,     0.81381,     0.81481,     0.81582,\n",
       "           0.81682,     0.81782,     0.81882,     0.81982,     0.82082,     0.82182,     0.82282,     0.82382,     0.82482,     0.82583,     0.82683,     0.82783,     0.82883,     0.82983,     0.83083,     0.83183,     0.83283,     0.83383,     0.83483,     0.83584,     0.83684,     0.83784,     0.83884,     0.83984,\n",
       "           0.84084,     0.84184,     0.84284,     0.84384,     0.84484,     0.84585,     0.84685,     0.84785,     0.84885,     0.84985,     0.85085,     0.85185,     0.85285,     0.85385,     0.85485,     0.85586,     0.85686,     0.85786,     0.85886,     0.85986,     0.86086,     0.86186,     0.86286,     0.86386,\n",
       "           0.86486,     0.86587,     0.86687,     0.86787,     0.86887,     0.86987,     0.87087,     0.87187,     0.87287,     0.87387,     0.87487,     0.87588,     0.87688,     0.87788,     0.87888,     0.87988,     0.88088,     0.88188,     0.88288,     0.88388,     0.88488,     0.88589,     0.88689,     0.88789,\n",
       "           0.88889,     0.88989,     0.89089,     0.89189,     0.89289,     0.89389,     0.89489,      0.8959,      0.8969,      0.8979,      0.8989,      0.8999,      0.9009,      0.9019,      0.9029,      0.9039,      0.9049,     0.90591,     0.90691,     0.90791,     0.90891,     0.90991,     0.91091,     0.91191,\n",
       "           0.91291,     0.91391,     0.91491,     0.91592,     0.91692,     0.91792,     0.91892,     0.91992,     0.92092,     0.92192,     0.92292,     0.92392,     0.92492,     0.92593,     0.92693,     0.92793,     0.92893,     0.92993,     0.93093,     0.93193,     0.93293,     0.93393,     0.93493,     0.93594,\n",
       "           0.93694,     0.93794,     0.93894,     0.93994,     0.94094,     0.94194,     0.94294,     0.94394,     0.94494,     0.94595,     0.94695,     0.94795,     0.94895,     0.94995,     0.95095,     0.95195,     0.95295,     0.95395,     0.95495,     0.95596,     0.95696,     0.95796,     0.95896,     0.95996,\n",
       "           0.96096,     0.96196,     0.96296,     0.96396,     0.96496,     0.96597,     0.96697,     0.96797,     0.96897,     0.96997,     0.97097,     0.97197,     0.97297,     0.97397,     0.97497,     0.97598,     0.97698,     0.97798,     0.97898,     0.97998,     0.98098,     0.98198,     0.98298,     0.98398,\n",
       "           0.98498,     0.98599,     0.98699,     0.98799,     0.98899,     0.98999,     0.99099,     0.99199,     0.99299,     0.99399,     0.99499,       0.996,       0.997,       0.998,       0.999,           1]), array([[       0.09,        0.09,        0.09,        0.09,        0.09,        0.09,        0.09,        0.09,        0.09,        0.09,    0.095952,     0.12006,     0.14546,     0.17092,     0.20201,     0.23091,     0.25659,     0.27561,     0.29582,     0.32109,     0.33946,     0.36259,     0.38162,\n",
       "            0.39789,     0.40875,     0.42114,     0.43591,     0.44406,     0.45959,     0.47013,     0.48288,     0.49111,     0.49541,     0.50305,      0.5077,     0.51688,     0.52263,     0.52951,     0.53635,     0.54612,     0.55202,     0.55863,     0.56504,     0.57209,      0.5802,     0.58413,\n",
       "             0.5895,     0.59173,     0.59421,     0.59899,     0.60826,     0.61018,     0.61585,      0.6221,     0.62716,     0.63016,     0.63228,     0.64068,      0.6461,     0.65255,       0.654,     0.65923,     0.66302,     0.66569,     0.67166,     0.67382,     0.67711,     0.67926,     0.68341,\n",
       "            0.68673,     0.68934,     0.69154,     0.69544,     0.70055,     0.70554,     0.70653,     0.70904,     0.70975,     0.71047,     0.71622,     0.71805,     0.72163,      0.7225,     0.72319,     0.72413,     0.73028,     0.73323,     0.73443,     0.73521,     0.73636,     0.73803,     0.73958,\n",
       "            0.74466,     0.74791,     0.75023,     0.75164,     0.75376,     0.75904,       0.763,     0.76511,     0.76651,     0.76795,     0.76937,     0.77043,     0.77158,     0.77485,     0.77864,     0.78035,     0.78142,     0.78249,     0.78526,     0.78572,     0.78618,     0.78664,      0.7871,\n",
       "            0.79057,     0.79202,     0.79302,     0.79403,     0.79467,     0.79528,     0.79588,     0.79651,      0.7977,     0.79895,     0.80117,     0.80248,     0.80609,     0.80741,      0.8089,     0.81088,     0.81266,     0.81338,     0.81357,     0.81376,     0.81396,     0.81415,     0.81434,\n",
       "            0.81453,     0.81472,     0.81491,     0.81511,      0.8153,     0.81549,     0.81568,     0.81627,     0.81693,     0.81759,     0.81858,     0.82137,     0.82289,     0.82502,     0.82986,     0.83382,     0.83874,     0.83953,     0.84032,      0.8411,     0.84185,     0.84259,     0.84334,\n",
       "            0.84424,     0.84533,     0.84647,     0.84902,     0.85103,     0.85448,     0.85472,     0.85496,     0.85521,     0.85545,      0.8557,     0.85594,     0.85619,     0.85643,     0.85668,     0.85692,     0.85718,     0.85756,     0.85794,     0.85832,      0.8587,     0.85908,     0.85946,\n",
       "            0.85985,     0.86054,     0.86125,     0.86196,     0.86267,     0.86327,     0.86387,     0.86447,     0.86507,      0.8671,     0.87206,     0.87376,     0.87366,     0.87356,     0.87347,       0.874,     0.87681,     0.87777,     0.87872,     0.87921,     0.87941,     0.87962,     0.87982,\n",
       "            0.88003,     0.88023,     0.88043,     0.88064,     0.88084,     0.88105,     0.88125,     0.88145,     0.88166,     0.88186,     0.88373,       0.887,     0.88796,     0.88818,      0.8884,     0.88863,     0.88885,     0.88908,      0.8893,     0.88953,     0.88975,     0.88998,      0.8902,\n",
       "            0.89042,     0.89065,     0.89136,     0.89235,     0.89333,      0.8944,     0.89553,     0.89665,     0.89812,      0.8996,     0.89979,     0.89993,     0.90006,     0.90019,     0.90032,     0.90046,     0.90059,     0.90072,     0.90086,     0.90099,     0.90112,     0.90126,     0.90139,\n",
       "            0.90152,     0.90166,     0.90179,     0.90192,     0.90205,     0.90219,     0.90232,     0.90245,     0.90259,     0.90304,     0.90439,     0.90573,     0.90641,      0.9071,     0.90778,     0.90846,     0.90892,     0.90918,     0.90945,     0.90971,     0.90997,     0.91023,     0.91049,\n",
       "            0.91076,     0.91102,     0.91128,     0.91154,     0.91181,     0.91333,     0.91568,     0.91953,     0.92138,      0.9218,     0.92222,     0.92264,     0.92306,     0.92347,     0.92389,     0.92431,      0.9243,     0.92418,     0.92504,      0.9265,     0.92741,      0.9276,     0.92778,\n",
       "            0.92797,     0.92815,     0.92834,     0.92852,     0.92871,     0.92889,     0.92908,     0.92926,     0.92945,     0.92963,     0.92981,        0.93,     0.93018,     0.93037,     0.93055,     0.93076,     0.93097,     0.93118,     0.93138,     0.93159,      0.9318,     0.93201,     0.93221,\n",
       "            0.93242,     0.93263,     0.93284,     0.93304,     0.93325,     0.93346,     0.93367,     0.93394,     0.93433,     0.93472,     0.93511,      0.9355,      0.9359,     0.93629,     0.93668,      0.9372,     0.94033,      0.9403,     0.94028,     0.94025,     0.94022,      0.9402,     0.94017,\n",
       "            0.94015,     0.94045,     0.94083,     0.94121,      0.9416,     0.94198,     0.94236,     0.94274,     0.94312,     0.94348,     0.94372,     0.94395,     0.94419,     0.94442,     0.94465,     0.94489,     0.94512,     0.94536,     0.94559,     0.94583,     0.94606,      0.9463,     0.94653,\n",
       "            0.94676,     0.94677,     0.94673,     0.94669,     0.94664,     0.94703,     0.94787,      0.9487,     0.94953,     0.95013,     0.95043,     0.95073,     0.95103,     0.95133,     0.95163,     0.95193,     0.95223,     0.95254,     0.95284,     0.95314,     0.95347,     0.95413,     0.95479,\n",
       "            0.95544,      0.9561,     0.95675,     0.95708,     0.95736,     0.95765,     0.95793,     0.95821,     0.95849,     0.95877,     0.95905,     0.95934,     0.95962,      0.9599,     0.96018,     0.96067,     0.96129,     0.96191,     0.96253,     0.96315,     0.96377,     0.96403,     0.96428,\n",
       "            0.96454,     0.96479,     0.96505,      0.9653,     0.96556,     0.96581,     0.96607,     0.96633,     0.96658,     0.96684,     0.96709,     0.96733,     0.96754,     0.96775,     0.96796,     0.96817,     0.96838,     0.96859,      0.9688,     0.96901,     0.96922,     0.96943,     0.96964,\n",
       "            0.96985,     0.97005,     0.97026,     0.97047,     0.97068,      0.9708,     0.97079,     0.97078,     0.97078,     0.97077,     0.97076,     0.97075,     0.97075,     0.97074,     0.97073,     0.97072,     0.97072,     0.97071,      0.9707,     0.97077,     0.97115,     0.97154,     0.97192,\n",
       "             0.9723,     0.97269,     0.97307,     0.97345,     0.97384,     0.97422,     0.97422,     0.97418,     0.97449,     0.97486,     0.97524,     0.97561,     0.97598,     0.97636,     0.97673,      0.9771,     0.97748,     0.97784,      0.9782,     0.97855,      0.9789,     0.97925,      0.9796,\n",
       "            0.97995,      0.9803,     0.98066,     0.98101,     0.98136,     0.98135,     0.98187,     0.98241,     0.98296,     0.98351,     0.98406,     0.98461,     0.98501,       0.985,     0.98498,     0.98497,     0.98495,     0.98492,      0.9849,      0.9849,      0.9849,      0.9849,      0.9849,\n",
       "             0.9849,     0.98489,     0.98489,     0.98489,     0.98489,     0.98489,     0.98488,     0.98488,     0.98488,     0.98488,     0.98488,     0.98487,     0.98487,     0.98487,     0.98487,     0.98487,     0.98487,     0.98486,     0.98486,     0.98486,     0.98486,     0.98486,     0.98485,\n",
       "            0.98485,     0.98485,     0.98485,     0.98483,     0.98482,      0.9848,     0.98479,     0.98479,     0.98478,     0.98478,     0.98478,     0.98477,     0.98477,     0.98477,     0.98476,     0.98476,     0.98476,     0.98475,     0.98475,     0.98475,     0.98474,     0.98474,     0.98473,\n",
       "            0.98473,     0.98473,     0.98472,     0.98472,     0.98472,     0.98471,     0.98471,      0.9847,      0.9847,      0.9847,     0.98469,     0.98469,     0.98468,     0.98468,     0.98468,     0.98467,     0.98467,     0.98467,     0.98466,     0.98466,     0.98466,     0.98465,     0.98465,\n",
       "            0.98465,     0.98464,     0.98464,     0.98464,     0.98463,     0.98463,     0.98463,     0.98462,     0.98462,     0.98462,     0.98461,      0.9846,      0.9846,     0.98459,     0.98458,     0.98458,     0.98457,     0.98456,     0.98456,     0.98455,     0.98455,     0.98455,     0.98454,\n",
       "            0.98454,     0.98454,     0.98453,     0.98453,     0.98453,     0.98452,     0.98452,     0.98452,     0.98451,     0.98451,     0.98451,      0.9845,      0.9845,      0.9845,     0.98831,     0.98828,     0.98827,     0.98827,     0.98826,     0.98826,     0.98825,     0.98825,     0.98824,\n",
       "            0.98824,     0.98824,     0.98894,     0.98966,     0.99038,      0.9911,     0.99183,     0.99211,     0.99206,     0.99205,     0.99204,     0.99203,     0.99202,       0.992,       0.992,     0.99199,     0.99198,     0.99198,     0.99197,     0.99197,     0.99197,     0.99196,     0.99196,\n",
       "            0.99196,     0.99196,     0.99196,     0.99195,     0.99195,     0.99195,     0.99195,     0.99195,     0.99194,     0.99194,     0.99194,     0.99194,     0.99194,     0.99192,     0.99191,     0.99271,     0.99371,      0.9947,      0.9957,     0.99593,     0.99593,     0.99593,     0.99593,\n",
       "            0.99593,     0.99593,     0.99592,     0.99592,     0.99592,     0.99592,     0.99592,     0.99591,     0.99591,      0.9959,      0.9959,     0.99589,     0.99588,     0.99588,     0.99587,     0.99587,           1,           1,           1,           1,           1,           1,           1,\n",
       "                  1,           1,           1,           1,           1,           1,           1,           1,           1,           1,           1,           1,           1,           1,           1,           1,           1,           1,           1,           1,           1,           1,           1,\n",
       "                  1,           1,           1,           1,           1,           1,           1,           1,           1,           1,           1,           1,           1,           1,           1,           1,           1,           1,           1,           1,           1,           1,           1,\n",
       "                  1,           1,           1,           1,           1,           1,           1,           1,           1,           1,           1,           1,           1,           1,           1,           1,           1,           1,           1,           1,           1,           1,           1,\n",
       "                  1,           1,           1,           1,           1,           1,           1,           1,           1,           1,           1,           1,           1,           1,           1,           1,           1,           1,           1,           1,           1,           1,           1,\n",
       "                  1,           1,           1,           1,           1,           1,           1,           1,           1,           1,           1,           1,           1,           1,           1,           1,           1,           1,           1,           1,           1,           1,           1,\n",
       "                  1,           1,           1,           1,           1,           1,           1,           1,           1,           1,           1,           1,           1,           1,           1,           1,           1,           1,           1,           1,           1,           1,           1,\n",
       "                  1,           1,           1,           1,           1,           1,           1,           1,           1,           1,           1,           1,           1,           1,           1,           1,           1,           1,           1,           1,           1,           1,           1,\n",
       "                  1,           1,           1,           1,           1,           1,           1,           1,           1,           1,           1,           1,           1,           1,           1,           1,           1,           1,           1,           1,           1,           1,           1,\n",
       "                  1,           1,           1,           1,           1,           1,           1,           1,           1,           1,           1,           1,           1,           1,           1,           1,           1,           1,           1,           1,           1,           1,           1,\n",
       "                  1,           1,           1,           1,           1,           1,           1,           1,           1,           1,           1,           1,           1,           1,           1,           1,           1,           1,           1,           1,           1,           1,           1,\n",
       "                  1,           1,           1,           1,           1,           1,           1,           1,           1,           1,           1,           1,           1,           1,           1,           1,           1,           1,           1,           1,           1,           1,           1,\n",
       "                  1,           1,           1,           1,           1,           1,           1,           1,           1,           1,           1,           1,           1,           1,           1,           1,           1,           1,           1,           1,           1,           1,           1,\n",
       "                  1,           1,           1,           1,           1,           1,           1,           1,           1,           1,           1,           1,           1,           1,           1,           1,           1,           1,           1,           1,           1,           1,           1,\n",
       "                  1,           1,           1,           1,           1,           1,           1,           1,           1,           1,           1]]), 'Confidence', 'Precision'], [array([          0,    0.001001,    0.002002,    0.003003,    0.004004,    0.005005,    0.006006,    0.007007,    0.008008,    0.009009,     0.01001,    0.011011,    0.012012,    0.013013,    0.014014,    0.015015,    0.016016,    0.017017,    0.018018,    0.019019,     0.02002,    0.021021,    0.022022,    0.023023,\n",
       "          0.024024,    0.025025,    0.026026,    0.027027,    0.028028,    0.029029,     0.03003,    0.031031,    0.032032,    0.033033,    0.034034,    0.035035,    0.036036,    0.037037,    0.038038,    0.039039,     0.04004,    0.041041,    0.042042,    0.043043,    0.044044,    0.045045,    0.046046,    0.047047,\n",
       "          0.048048,    0.049049,     0.05005,    0.051051,    0.052052,    0.053053,    0.054054,    0.055055,    0.056056,    0.057057,    0.058058,    0.059059,     0.06006,    0.061061,    0.062062,    0.063063,    0.064064,    0.065065,    0.066066,    0.067067,    0.068068,    0.069069,     0.07007,    0.071071,\n",
       "          0.072072,    0.073073,    0.074074,    0.075075,    0.076076,    0.077077,    0.078078,    0.079079,     0.08008,    0.081081,    0.082082,    0.083083,    0.084084,    0.085085,    0.086086,    0.087087,    0.088088,    0.089089,     0.09009,    0.091091,    0.092092,    0.093093,    0.094094,    0.095095,\n",
       "          0.096096,    0.097097,    0.098098,    0.099099,      0.1001,      0.1011,      0.1021,      0.1031,      0.1041,     0.10511,     0.10611,     0.10711,     0.10811,     0.10911,     0.11011,     0.11111,     0.11211,     0.11311,     0.11411,     0.11512,     0.11612,     0.11712,     0.11812,     0.11912,\n",
       "           0.12012,     0.12112,     0.12212,     0.12312,     0.12412,     0.12513,     0.12613,     0.12713,     0.12813,     0.12913,     0.13013,     0.13113,     0.13213,     0.13313,     0.13413,     0.13514,     0.13614,     0.13714,     0.13814,     0.13914,     0.14014,     0.14114,     0.14214,     0.14314,\n",
       "           0.14414,     0.14515,     0.14615,     0.14715,     0.14815,     0.14915,     0.15015,     0.15115,     0.15215,     0.15315,     0.15415,     0.15516,     0.15616,     0.15716,     0.15816,     0.15916,     0.16016,     0.16116,     0.16216,     0.16316,     0.16416,     0.16517,     0.16617,     0.16717,\n",
       "           0.16817,     0.16917,     0.17017,     0.17117,     0.17217,     0.17317,     0.17417,     0.17518,     0.17618,     0.17718,     0.17818,     0.17918,     0.18018,     0.18118,     0.18218,     0.18318,     0.18418,     0.18519,     0.18619,     0.18719,     0.18819,     0.18919,     0.19019,     0.19119,\n",
       "           0.19219,     0.19319,     0.19419,      0.1952,      0.1962,      0.1972,      0.1982,      0.1992,      0.2002,      0.2012,      0.2022,      0.2032,      0.2042,     0.20521,     0.20621,     0.20721,     0.20821,     0.20921,     0.21021,     0.21121,     0.21221,     0.21321,     0.21421,     0.21522,\n",
       "           0.21622,     0.21722,     0.21822,     0.21922,     0.22022,     0.22122,     0.22222,     0.22322,     0.22422,     0.22523,     0.22623,     0.22723,     0.22823,     0.22923,     0.23023,     0.23123,     0.23223,     0.23323,     0.23423,     0.23524,     0.23624,     0.23724,     0.23824,     0.23924,\n",
       "           0.24024,     0.24124,     0.24224,     0.24324,     0.24424,     0.24525,     0.24625,     0.24725,     0.24825,     0.24925,     0.25025,     0.25125,     0.25225,     0.25325,     0.25425,     0.25526,     0.25626,     0.25726,     0.25826,     0.25926,     0.26026,     0.26126,     0.26226,     0.26326,\n",
       "           0.26426,     0.26527,     0.26627,     0.26727,     0.26827,     0.26927,     0.27027,     0.27127,     0.27227,     0.27327,     0.27427,     0.27528,     0.27628,     0.27728,     0.27828,     0.27928,     0.28028,     0.28128,     0.28228,     0.28328,     0.28428,     0.28529,     0.28629,     0.28729,\n",
       "           0.28829,     0.28929,     0.29029,     0.29129,     0.29229,     0.29329,     0.29429,      0.2953,      0.2963,      0.2973,      0.2983,      0.2993,      0.3003,      0.3013,      0.3023,      0.3033,      0.3043,     0.30531,     0.30631,     0.30731,     0.30831,     0.30931,     0.31031,     0.31131,\n",
       "           0.31231,     0.31331,     0.31431,     0.31532,     0.31632,     0.31732,     0.31832,     0.31932,     0.32032,     0.32132,     0.32232,     0.32332,     0.32432,     0.32533,     0.32633,     0.32733,     0.32833,     0.32933,     0.33033,     0.33133,     0.33233,     0.33333,     0.33433,     0.33534,\n",
       "           0.33634,     0.33734,     0.33834,     0.33934,     0.34034,     0.34134,     0.34234,     0.34334,     0.34434,     0.34535,     0.34635,     0.34735,     0.34835,     0.34935,     0.35035,     0.35135,     0.35235,     0.35335,     0.35435,     0.35536,     0.35636,     0.35736,     0.35836,     0.35936,\n",
       "           0.36036,     0.36136,     0.36236,     0.36336,     0.36436,     0.36537,     0.36637,     0.36737,     0.36837,     0.36937,     0.37037,     0.37137,     0.37237,     0.37337,     0.37437,     0.37538,     0.37638,     0.37738,     0.37838,     0.37938,     0.38038,     0.38138,     0.38238,     0.38338,\n",
       "           0.38438,     0.38539,     0.38639,     0.38739,     0.38839,     0.38939,     0.39039,     0.39139,     0.39239,     0.39339,     0.39439,      0.3954,      0.3964,      0.3974,      0.3984,      0.3994,      0.4004,      0.4014,      0.4024,      0.4034,      0.4044,     0.40541,     0.40641,     0.40741,\n",
       "           0.40841,     0.40941,     0.41041,     0.41141,     0.41241,     0.41341,     0.41441,     0.41542,     0.41642,     0.41742,     0.41842,     0.41942,     0.42042,     0.42142,     0.42242,     0.42342,     0.42442,     0.42543,     0.42643,     0.42743,     0.42843,     0.42943,     0.43043,     0.43143,\n",
       "           0.43243,     0.43343,     0.43443,     0.43544,     0.43644,     0.43744,     0.43844,     0.43944,     0.44044,     0.44144,     0.44244,     0.44344,     0.44444,     0.44545,     0.44645,     0.44745,     0.44845,     0.44945,     0.45045,     0.45145,     0.45245,     0.45345,     0.45445,     0.45546,\n",
       "           0.45646,     0.45746,     0.45846,     0.45946,     0.46046,     0.46146,     0.46246,     0.46346,     0.46446,     0.46547,     0.46647,     0.46747,     0.46847,     0.46947,     0.47047,     0.47147,     0.47247,     0.47347,     0.47447,     0.47548,     0.47648,     0.47748,     0.47848,     0.47948,\n",
       "           0.48048,     0.48148,     0.48248,     0.48348,     0.48448,     0.48549,     0.48649,     0.48749,     0.48849,     0.48949,     0.49049,     0.49149,     0.49249,     0.49349,     0.49449,      0.4955,      0.4965,      0.4975,      0.4985,      0.4995,      0.5005,      0.5015,      0.5025,      0.5035,\n",
       "            0.5045,     0.50551,     0.50651,     0.50751,     0.50851,     0.50951,     0.51051,     0.51151,     0.51251,     0.51351,     0.51451,     0.51552,     0.51652,     0.51752,     0.51852,     0.51952,     0.52052,     0.52152,     0.52252,     0.52352,     0.52452,     0.52553,     0.52653,     0.52753,\n",
       "           0.52853,     0.52953,     0.53053,     0.53153,     0.53253,     0.53353,     0.53453,     0.53554,     0.53654,     0.53754,     0.53854,     0.53954,     0.54054,     0.54154,     0.54254,     0.54354,     0.54454,     0.54555,     0.54655,     0.54755,     0.54855,     0.54955,     0.55055,     0.55155,\n",
       "           0.55255,     0.55355,     0.55455,     0.55556,     0.55656,     0.55756,     0.55856,     0.55956,     0.56056,     0.56156,     0.56256,     0.56356,     0.56456,     0.56557,     0.56657,     0.56757,     0.56857,     0.56957,     0.57057,     0.57157,     0.57257,     0.57357,     0.57457,     0.57558,\n",
       "           0.57658,     0.57758,     0.57858,     0.57958,     0.58058,     0.58158,     0.58258,     0.58358,     0.58458,     0.58559,     0.58659,     0.58759,     0.58859,     0.58959,     0.59059,     0.59159,     0.59259,     0.59359,     0.59459,      0.5956,      0.5966,      0.5976,      0.5986,      0.5996,\n",
       "            0.6006,      0.6016,      0.6026,      0.6036,      0.6046,     0.60561,     0.60661,     0.60761,     0.60861,     0.60961,     0.61061,     0.61161,     0.61261,     0.61361,     0.61461,     0.61562,     0.61662,     0.61762,     0.61862,     0.61962,     0.62062,     0.62162,     0.62262,     0.62362,\n",
       "           0.62462,     0.62563,     0.62663,     0.62763,     0.62863,     0.62963,     0.63063,     0.63163,     0.63263,     0.63363,     0.63463,     0.63564,     0.63664,     0.63764,     0.63864,     0.63964,     0.64064,     0.64164,     0.64264,     0.64364,     0.64464,     0.64565,     0.64665,     0.64765,\n",
       "           0.64865,     0.64965,     0.65065,     0.65165,     0.65265,     0.65365,     0.65465,     0.65566,     0.65666,     0.65766,     0.65866,     0.65966,     0.66066,     0.66166,     0.66266,     0.66366,     0.66466,     0.66567,     0.66667,     0.66767,     0.66867,     0.66967,     0.67067,     0.67167,\n",
       "           0.67267,     0.67367,     0.67467,     0.67568,     0.67668,     0.67768,     0.67868,     0.67968,     0.68068,     0.68168,     0.68268,     0.68368,     0.68468,     0.68569,     0.68669,     0.68769,     0.68869,     0.68969,     0.69069,     0.69169,     0.69269,     0.69369,     0.69469,      0.6957,\n",
       "            0.6967,      0.6977,      0.6987,      0.6997,      0.7007,      0.7017,      0.7027,      0.7037,      0.7047,     0.70571,     0.70671,     0.70771,     0.70871,     0.70971,     0.71071,     0.71171,     0.71271,     0.71371,     0.71471,     0.71572,     0.71672,     0.71772,     0.71872,     0.71972,\n",
       "           0.72072,     0.72172,     0.72272,     0.72372,     0.72472,     0.72573,     0.72673,     0.72773,     0.72873,     0.72973,     0.73073,     0.73173,     0.73273,     0.73373,     0.73473,     0.73574,     0.73674,     0.73774,     0.73874,     0.73974,     0.74074,     0.74174,     0.74274,     0.74374,\n",
       "           0.74474,     0.74575,     0.74675,     0.74775,     0.74875,     0.74975,     0.75075,     0.75175,     0.75275,     0.75375,     0.75475,     0.75576,     0.75676,     0.75776,     0.75876,     0.75976,     0.76076,     0.76176,     0.76276,     0.76376,     0.76476,     0.76577,     0.76677,     0.76777,\n",
       "           0.76877,     0.76977,     0.77077,     0.77177,     0.77277,     0.77377,     0.77477,     0.77578,     0.77678,     0.77778,     0.77878,     0.77978,     0.78078,     0.78178,     0.78278,     0.78378,     0.78478,     0.78579,     0.78679,     0.78779,     0.78879,     0.78979,     0.79079,     0.79179,\n",
       "           0.79279,     0.79379,     0.79479,      0.7958,      0.7968,      0.7978,      0.7988,      0.7998,      0.8008,      0.8018,      0.8028,      0.8038,      0.8048,     0.80581,     0.80681,     0.80781,     0.80881,     0.80981,     0.81081,     0.81181,     0.81281,     0.81381,     0.81481,     0.81582,\n",
       "           0.81682,     0.81782,     0.81882,     0.81982,     0.82082,     0.82182,     0.82282,     0.82382,     0.82482,     0.82583,     0.82683,     0.82783,     0.82883,     0.82983,     0.83083,     0.83183,     0.83283,     0.83383,     0.83483,     0.83584,     0.83684,     0.83784,     0.83884,     0.83984,\n",
       "           0.84084,     0.84184,     0.84284,     0.84384,     0.84484,     0.84585,     0.84685,     0.84785,     0.84885,     0.84985,     0.85085,     0.85185,     0.85285,     0.85385,     0.85485,     0.85586,     0.85686,     0.85786,     0.85886,     0.85986,     0.86086,     0.86186,     0.86286,     0.86386,\n",
       "           0.86486,     0.86587,     0.86687,     0.86787,     0.86887,     0.86987,     0.87087,     0.87187,     0.87287,     0.87387,     0.87487,     0.87588,     0.87688,     0.87788,     0.87888,     0.87988,     0.88088,     0.88188,     0.88288,     0.88388,     0.88488,     0.88589,     0.88689,     0.88789,\n",
       "           0.88889,     0.88989,     0.89089,     0.89189,     0.89289,     0.89389,     0.89489,      0.8959,      0.8969,      0.8979,      0.8989,      0.8999,      0.9009,      0.9019,      0.9029,      0.9039,      0.9049,     0.90591,     0.90691,     0.90791,     0.90891,     0.90991,     0.91091,     0.91191,\n",
       "           0.91291,     0.91391,     0.91491,     0.91592,     0.91692,     0.91792,     0.91892,     0.91992,     0.92092,     0.92192,     0.92292,     0.92392,     0.92492,     0.92593,     0.92693,     0.92793,     0.92893,     0.92993,     0.93093,     0.93193,     0.93293,     0.93393,     0.93493,     0.93594,\n",
       "           0.93694,     0.93794,     0.93894,     0.93994,     0.94094,     0.94194,     0.94294,     0.94394,     0.94494,     0.94595,     0.94695,     0.94795,     0.94895,     0.94995,     0.95095,     0.95195,     0.95295,     0.95395,     0.95495,     0.95596,     0.95696,     0.95796,     0.95896,     0.95996,\n",
       "           0.96096,     0.96196,     0.96296,     0.96396,     0.96496,     0.96597,     0.96697,     0.96797,     0.96897,     0.96997,     0.97097,     0.97197,     0.97297,     0.97397,     0.97497,     0.97598,     0.97698,     0.97798,     0.97898,     0.97998,     0.98098,     0.98198,     0.98298,     0.98398,\n",
       "           0.98498,     0.98599,     0.98699,     0.98799,     0.98899,     0.98999,     0.99099,     0.99199,     0.99299,     0.99399,     0.99499,       0.996,       0.997,       0.998,       0.999,           1]), array([[          1,           1,           1,           1,           1,           1,           1,           1,           1,           1,           1,           1,           1,           1,           1,           1,           1,           1,           1,           1,           1,           1,           1,\n",
       "                  1,           1,           1,           1,           1,           1,           1,           1,           1,           1,           1,           1,           1,           1,           1,           1,           1,           1,           1,           1,           1,           1,           1,\n",
       "                  1,           1,           1,           1,           1,           1,           1,           1,           1,           1,           1,           1,           1,           1,           1,           1,           1,           1,           1,           1,           1,           1,           1,\n",
       "                  1,           1,           1,           1,           1,           1,           1,           1,           1,           1,           1,           1,           1,           1,           1,           1,           1,           1,           1,           1,           1,           1,           1,\n",
       "                  1,           1,           1,           1,           1,           1,           1,           1,           1,           1,           1,           1,           1,           1,           1,           1,           1,           1,           1,           1,           1,           1,           1,\n",
       "                  1,           1,           1,           1,           1,           1,           1,           1,           1,           1,           1,           1,           1,           1,           1,           1,           1,           1,           1,           1,           1,           1,           1,\n",
       "                  1,           1,           1,           1,           1,           1,           1,           1,           1,           1,           1,           1,           1,           1,           1,           1,           1,           1,           1,           1,           1,           1,           1,\n",
       "                  1,           1,           1,           1,           1,           1,           1,           1,           1,           1,           1,           1,           1,           1,           1,           1,           1,           1,           1,           1,           1,           1,           1,\n",
       "                  1,           1,           1,           1,           1,           1,           1,           1,           1,           1,           1,     0.99978,     0.99889,     0.99799,      0.9971,      0.9963,      0.9963,      0.9963,      0.9963,      0.9963,      0.9963,      0.9963,      0.9963,\n",
       "             0.9963,      0.9963,      0.9963,      0.9963,      0.9963,      0.9963,      0.9963,      0.9963,      0.9963,      0.9963,      0.9963,      0.9963,      0.9963,      0.9963,      0.9963,      0.9963,      0.9963,      0.9963,      0.9963,      0.9963,      0.9963,      0.9963,      0.9963,\n",
       "             0.9963,      0.9963,      0.9963,      0.9963,      0.9963,      0.9963,      0.9963,      0.9963,      0.9963,      0.9963,      0.9963,      0.9963,      0.9963,      0.9963,      0.9963,      0.9963,      0.9963,      0.9963,      0.9963,      0.9963,      0.9963,      0.9963,      0.9963,\n",
       "             0.9963,      0.9963,      0.9963,      0.9963,      0.9963,      0.9963,      0.9963,      0.9963,      0.9963,      0.9963,      0.9963,      0.9963,      0.9963,      0.9963,      0.9963,      0.9963,      0.9963,      0.9963,      0.9963,      0.9963,      0.9963,      0.9963,      0.9963,\n",
       "             0.9963,      0.9963,      0.9963,      0.9963,      0.9963,      0.9963,      0.9963,      0.9963,      0.9963,      0.9963,      0.9963,      0.9963,      0.9963,      0.9963,      0.9963,      0.9963,     0.99495,     0.99325,     0.99259,     0.99259,     0.99259,     0.99259,     0.99259,\n",
       "            0.99259,     0.99259,     0.99259,     0.99259,     0.99259,     0.99259,     0.99259,     0.99259,     0.99259,     0.99259,     0.99259,     0.99259,     0.99259,     0.99259,     0.99259,     0.99259,     0.99259,     0.99259,     0.99259,     0.99259,     0.99259,     0.99259,     0.99259,\n",
       "            0.99259,     0.99259,     0.99259,     0.99259,     0.99259,     0.99259,     0.99259,     0.99259,     0.99259,     0.99259,     0.99259,     0.99259,     0.99259,     0.99259,     0.99259,     0.99259,     0.99222,     0.99175,     0.99129,     0.99083,     0.99036,      0.9899,     0.98943,\n",
       "            0.98897,     0.98889,     0.98889,     0.98889,     0.98889,     0.98889,     0.98889,     0.98889,     0.98889,     0.98889,     0.98889,     0.98889,     0.98889,     0.98889,     0.98889,     0.98889,     0.98889,     0.98889,     0.98889,     0.98889,     0.98889,     0.98889,     0.98889,\n",
       "            0.98889,     0.98819,     0.98734,     0.98648,     0.98562,     0.98519,     0.98519,     0.98519,     0.98519,     0.98519,     0.98519,     0.98519,     0.98519,     0.98519,     0.98519,     0.98519,     0.98519,     0.98519,     0.98519,     0.98519,     0.98519,     0.98519,     0.98519,\n",
       "            0.98519,     0.98519,     0.98519,     0.98519,     0.98519,     0.98519,     0.98519,     0.98519,     0.98519,     0.98519,     0.98519,     0.98519,     0.98519,     0.98519,     0.98519,     0.98519,     0.98519,     0.98519,     0.98519,     0.98519,     0.98519,     0.98519,     0.98519,\n",
       "            0.98519,     0.98519,     0.98519,     0.98519,     0.98519,     0.98519,     0.98519,     0.98519,     0.98519,     0.98519,     0.98519,     0.98519,     0.98519,     0.98519,     0.98519,     0.98519,     0.98519,     0.98519,     0.98519,     0.98519,     0.98519,     0.98519,     0.98519,\n",
       "            0.98519,     0.98519,     0.98519,     0.98519,     0.98519,     0.98507,     0.98481,     0.98455,     0.98429,     0.98403,     0.98377,     0.98351,     0.98325,     0.98299,     0.98273,     0.98247,     0.98221,     0.98195,     0.98169,     0.98148,     0.98148,     0.98148,     0.98148,\n",
       "            0.98148,     0.98148,     0.98148,     0.98148,     0.98148,     0.98148,     0.97986,     0.97804,     0.97778,     0.97778,     0.97778,     0.97778,     0.97778,     0.97778,     0.97778,     0.97778,     0.97778,     0.97778,     0.97778,     0.97778,     0.97778,     0.97778,     0.97778,\n",
       "            0.97778,     0.97778,     0.97778,     0.97778,     0.97778,     0.97428,     0.97407,     0.97407,     0.97407,     0.97407,     0.97407,     0.97407,     0.97382,     0.97283,     0.97184,     0.97085,     0.96945,     0.96766,     0.96661,     0.96649,     0.96637,     0.96625,     0.96613,\n",
       "            0.96601,     0.96589,     0.96577,     0.96565,     0.96553,      0.9654,     0.96528,     0.96516,     0.96504,     0.96492,      0.9648,     0.96468,     0.96456,     0.96444,     0.96432,      0.9642,     0.96408,     0.96396,     0.96383,     0.96371,     0.96359,     0.96347,     0.96335,\n",
       "            0.96323,     0.96311,     0.96299,     0.96209,     0.96098,     0.95987,     0.95916,     0.95894,     0.95873,     0.95851,     0.95829,     0.95808,     0.95786,     0.95764,     0.95742,     0.95721,     0.95699,     0.95677,     0.95655,     0.95634,     0.95612,      0.9559,     0.95569,\n",
       "            0.95545,      0.9552,     0.95495,     0.95469,     0.95444,     0.95419,     0.95393,     0.95368,     0.95343,     0.95317,     0.95292,     0.95267,     0.95241,     0.95216,     0.95191,     0.95169,     0.95148,     0.95128,     0.95107,     0.95086,     0.95066,     0.95045,     0.95025,\n",
       "            0.95004,     0.94983,     0.94963,     0.94942,     0.94922,     0.94901,      0.9488,      0.9486,     0.94839,     0.94819,      0.9478,     0.94737,     0.94694,     0.94651,     0.94608,     0.94565,     0.94522,     0.94479,     0.94441,     0.94421,       0.944,      0.9438,      0.9436,\n",
       "             0.9434,      0.9432,       0.943,      0.9428,      0.9426,     0.94239,     0.94219,     0.94199,     0.94179,     0.94159,     0.94139,     0.94119,     0.94099,     0.94078,     0.93963,     0.93676,     0.93638,       0.936,     0.93562,     0.93524,     0.93486,     0.93448,      0.9341,\n",
       "            0.93372,     0.93334,     0.93333,     0.93333,     0.93333,     0.93333,     0.93333,      0.9317,     0.92575,      0.9246,     0.92345,     0.92231,     0.92069,     0.91904,     0.91805,     0.91735,     0.91665,     0.91596,     0.91526,     0.91474,     0.91451,     0.91429,     0.91407,\n",
       "            0.91384,     0.91362,     0.91339,     0.91317,     0.91295,     0.91272,      0.9125,     0.91228,     0.91205,     0.91183,      0.9116,     0.91138,     0.91116,     0.90963,     0.90776,     0.90741,     0.90741,     0.90741,     0.90741,     0.90713,     0.90677,     0.90642,     0.90606,\n",
       "             0.9057,     0.90534,     0.90498,     0.90463,     0.90427,     0.90391,     0.90332,     0.90241,     0.90149,     0.90058,      0.8992,     0.89703,     0.89569,     0.89477,     0.89385,     0.89293,     0.89249,     0.89129,     0.89008,     0.88888,     0.88758,     0.88628,     0.88469,\n",
       "            0.88149,     0.87698,     0.87611,     0.87524,     0.87436,     0.87255,     0.87033,     0.86939,     0.86844,      0.8675,     0.86654,     0.86552,      0.8645,     0.86348,     0.86266,     0.86204,     0.86142,      0.8608,     0.86018,     0.85955,     0.85838,     0.85671,     0.85243,\n",
       "            0.85129,     0.85069,     0.85009,      0.8495,      0.8489,      0.8483,     0.84731,     0.84618,     0.84505,     0.84406,     0.84323,      0.8424,     0.84157,     0.84074,     0.84018,     0.83963,     0.83907,     0.83852,     0.83796,      0.8374,     0.83691,     0.83654,     0.83617,\n",
       "             0.8358,     0.83543,     0.83506,     0.83469,     0.83432,     0.83394,     0.83357,       0.833,     0.83203,     0.83107,      0.8301,     0.82729,     0.82515,     0.82404,     0.82293,     0.82196,     0.82124,     0.82053,     0.81981,     0.81909,     0.81815,     0.81636,      0.8146,\n",
       "            0.81297,     0.81135,     0.80535,     0.80217,     0.80028,      0.7961,     0.79515,      0.7942,     0.79325,      0.7923,     0.79136,     0.79042,     0.78948,     0.78856,      0.7877,     0.78683,     0.78597,      0.7851,     0.78424,     0.78338,     0.78251,     0.78165,     0.78073,\n",
       "            0.77979,     0.77885,     0.77791,      0.7772,     0.77653,     0.77586,     0.77518,     0.77451,      0.7724,     0.77001,     0.76939,     0.76878,     0.76816,     0.76754,     0.76692,     0.76193,     0.75856,     0.75767,     0.75678,     0.75589,     0.75304,     0.75059,     0.74879,\n",
       "            0.74565,     0.74109,     0.73939,     0.73792,     0.73426,     0.73189,     0.73023,     0.72927,      0.7287,     0.72814,     0.72757,     0.72701,     0.72644,     0.72576,       0.724,     0.72224,     0.71701,     0.71167,     0.70577,     0.70188,      0.6925,     0.69153,     0.69055,\n",
       "            0.68958,     0.68509,     0.68443,     0.68376,      0.6831,     0.68243,     0.68177,     0.67735,     0.67214,     0.66653,     0.66333,     0.65722,     0.65456,     0.65115,     0.64767,     0.64662,     0.64558,     0.64454,     0.64268,     0.64074,     0.63842,     0.63649,     0.63513,\n",
       "            0.63377,     0.62801,     0.62289,     0.61018,     0.60515,     0.60181,     0.59464,     0.59198,     0.59112,     0.59027,     0.58942,     0.58422,     0.57834,     0.56914,     0.55884,     0.55731,     0.55577,     0.54949,     0.54002,     0.53323,     0.52708,     0.52342,     0.51267,\n",
       "            0.50804,      0.5019,     0.49743,     0.49266,     0.49008,     0.48607,     0.47864,     0.47432,     0.46838,     0.46616,     0.46399,     0.45969,      0.4532,     0.44906,     0.44184,      0.4362,     0.43401,     0.42876,      0.4224,     0.41947,      0.4155,     0.41118,     0.39238,\n",
       "            0.38132,     0.37775,      0.3749,     0.36107,     0.35432,     0.34399,      0.3374,     0.32638,     0.32029,     0.31709,     0.30904,     0.30102,     0.29502,     0.29298,     0.28941,     0.28142,     0.27425,     0.26862,     0.26412,     0.25808,     0.25571,     0.24928,     0.24296,\n",
       "             0.2408,     0.23473,     0.22917,     0.22722,     0.22192,     0.21977,     0.21475,     0.21299,     0.21123,     0.20146,     0.19539,     0.18538,     0.18169,     0.16824,     0.16321,     0.16046,     0.15351,     0.14558,      0.1427,     0.14023,     0.13856,     0.13279,     0.12119,\n",
       "             0.1168,     0.11039,     0.10848,     0.10707,     0.10629,      0.1055,     0.10472,     0.10394,    0.089207,    0.083418,    0.076465,     0.07193,    0.067903,    0.060355,    0.056407,    0.049035,    0.042512,    0.040242,    0.037491,    0.034814,    0.031034,    0.028148,    0.026116,\n",
       "           0.021901,    0.021044,    0.020188,    0.019331,    0.018216,     0.01429,    0.013051,    0.011811,    0.010654,   0.0096062,    0.008558,   0.0075098,   0.0070544,   0.0066632,    0.006272,   0.0058807,   0.0054895,   0.0050983,   0.0047071,   0.0043158,   0.0039246,           0,           0,\n",
       "                  0,           0,           0,           0,           0,           0,           0,           0,           0,           0,           0]]), 'Confidence', 'Recall'], [array([          0,    0.001001,    0.002002,    0.003003,    0.004004,    0.005005,    0.006006,    0.007007,    0.008008,    0.009009,     0.01001,    0.011011,    0.012012,    0.013013,    0.014014,    0.015015,    0.016016,    0.017017,    0.018018,    0.019019,     0.02002,    0.021021,    0.022022,    0.023023,\n",
       "          0.024024,    0.025025,    0.026026,    0.027027,    0.028028,    0.029029,     0.03003,    0.031031,    0.032032,    0.033033,    0.034034,    0.035035,    0.036036,    0.037037,    0.038038,    0.039039,     0.04004,    0.041041,    0.042042,    0.043043,    0.044044,    0.045045,    0.046046,    0.047047,\n",
       "          0.048048,    0.049049,     0.05005,    0.051051,    0.052052,    0.053053,    0.054054,    0.055055,    0.056056,    0.057057,    0.058058,    0.059059,     0.06006,    0.061061,    0.062062,    0.063063,    0.064064,    0.065065,    0.066066,    0.067067,    0.068068,    0.069069,     0.07007,    0.071071,\n",
       "          0.072072,    0.073073,    0.074074,    0.075075,    0.076076,    0.077077,    0.078078,    0.079079,     0.08008,    0.081081,    0.082082,    0.083083,    0.084084,    0.085085,    0.086086,    0.087087,    0.088088,    0.089089,     0.09009,    0.091091,    0.092092,    0.093093,    0.094094,    0.095095,\n",
       "          0.096096,    0.097097,    0.098098,    0.099099,      0.1001,      0.1011,      0.1021,      0.1031,      0.1041,     0.10511,     0.10611,     0.10711,     0.10811,     0.10911,     0.11011,     0.11111,     0.11211,     0.11311,     0.11411,     0.11512,     0.11612,     0.11712,     0.11812,     0.11912,\n",
       "           0.12012,     0.12112,     0.12212,     0.12312,     0.12412,     0.12513,     0.12613,     0.12713,     0.12813,     0.12913,     0.13013,     0.13113,     0.13213,     0.13313,     0.13413,     0.13514,     0.13614,     0.13714,     0.13814,     0.13914,     0.14014,     0.14114,     0.14214,     0.14314,\n",
       "           0.14414,     0.14515,     0.14615,     0.14715,     0.14815,     0.14915,     0.15015,     0.15115,     0.15215,     0.15315,     0.15415,     0.15516,     0.15616,     0.15716,     0.15816,     0.15916,     0.16016,     0.16116,     0.16216,     0.16316,     0.16416,     0.16517,     0.16617,     0.16717,\n",
       "           0.16817,     0.16917,     0.17017,     0.17117,     0.17217,     0.17317,     0.17417,     0.17518,     0.17618,     0.17718,     0.17818,     0.17918,     0.18018,     0.18118,     0.18218,     0.18318,     0.18418,     0.18519,     0.18619,     0.18719,     0.18819,     0.18919,     0.19019,     0.19119,\n",
       "           0.19219,     0.19319,     0.19419,      0.1952,      0.1962,      0.1972,      0.1982,      0.1992,      0.2002,      0.2012,      0.2022,      0.2032,      0.2042,     0.20521,     0.20621,     0.20721,     0.20821,     0.20921,     0.21021,     0.21121,     0.21221,     0.21321,     0.21421,     0.21522,\n",
       "           0.21622,     0.21722,     0.21822,     0.21922,     0.22022,     0.22122,     0.22222,     0.22322,     0.22422,     0.22523,     0.22623,     0.22723,     0.22823,     0.22923,     0.23023,     0.23123,     0.23223,     0.23323,     0.23423,     0.23524,     0.23624,     0.23724,     0.23824,     0.23924,\n",
       "           0.24024,     0.24124,     0.24224,     0.24324,     0.24424,     0.24525,     0.24625,     0.24725,     0.24825,     0.24925,     0.25025,     0.25125,     0.25225,     0.25325,     0.25425,     0.25526,     0.25626,     0.25726,     0.25826,     0.25926,     0.26026,     0.26126,     0.26226,     0.26326,\n",
       "           0.26426,     0.26527,     0.26627,     0.26727,     0.26827,     0.26927,     0.27027,     0.27127,     0.27227,     0.27327,     0.27427,     0.27528,     0.27628,     0.27728,     0.27828,     0.27928,     0.28028,     0.28128,     0.28228,     0.28328,     0.28428,     0.28529,     0.28629,     0.28729,\n",
       "           0.28829,     0.28929,     0.29029,     0.29129,     0.29229,     0.29329,     0.29429,      0.2953,      0.2963,      0.2973,      0.2983,      0.2993,      0.3003,      0.3013,      0.3023,      0.3033,      0.3043,     0.30531,     0.30631,     0.30731,     0.30831,     0.30931,     0.31031,     0.31131,\n",
       "           0.31231,     0.31331,     0.31431,     0.31532,     0.31632,     0.31732,     0.31832,     0.31932,     0.32032,     0.32132,     0.32232,     0.32332,     0.32432,     0.32533,     0.32633,     0.32733,     0.32833,     0.32933,     0.33033,     0.33133,     0.33233,     0.33333,     0.33433,     0.33534,\n",
       "           0.33634,     0.33734,     0.33834,     0.33934,     0.34034,     0.34134,     0.34234,     0.34334,     0.34434,     0.34535,     0.34635,     0.34735,     0.34835,     0.34935,     0.35035,     0.35135,     0.35235,     0.35335,     0.35435,     0.35536,     0.35636,     0.35736,     0.35836,     0.35936,\n",
       "           0.36036,     0.36136,     0.36236,     0.36336,     0.36436,     0.36537,     0.36637,     0.36737,     0.36837,     0.36937,     0.37037,     0.37137,     0.37237,     0.37337,     0.37437,     0.37538,     0.37638,     0.37738,     0.37838,     0.37938,     0.38038,     0.38138,     0.38238,     0.38338,\n",
       "           0.38438,     0.38539,     0.38639,     0.38739,     0.38839,     0.38939,     0.39039,     0.39139,     0.39239,     0.39339,     0.39439,      0.3954,      0.3964,      0.3974,      0.3984,      0.3994,      0.4004,      0.4014,      0.4024,      0.4034,      0.4044,     0.40541,     0.40641,     0.40741,\n",
       "           0.40841,     0.40941,     0.41041,     0.41141,     0.41241,     0.41341,     0.41441,     0.41542,     0.41642,     0.41742,     0.41842,     0.41942,     0.42042,     0.42142,     0.42242,     0.42342,     0.42442,     0.42543,     0.42643,     0.42743,     0.42843,     0.42943,     0.43043,     0.43143,\n",
       "           0.43243,     0.43343,     0.43443,     0.43544,     0.43644,     0.43744,     0.43844,     0.43944,     0.44044,     0.44144,     0.44244,     0.44344,     0.44444,     0.44545,     0.44645,     0.44745,     0.44845,     0.44945,     0.45045,     0.45145,     0.45245,     0.45345,     0.45445,     0.45546,\n",
       "           0.45646,     0.45746,     0.45846,     0.45946,     0.46046,     0.46146,     0.46246,     0.46346,     0.46446,     0.46547,     0.46647,     0.46747,     0.46847,     0.46947,     0.47047,     0.47147,     0.47247,     0.47347,     0.47447,     0.47548,     0.47648,     0.47748,     0.47848,     0.47948,\n",
       "           0.48048,     0.48148,     0.48248,     0.48348,     0.48448,     0.48549,     0.48649,     0.48749,     0.48849,     0.48949,     0.49049,     0.49149,     0.49249,     0.49349,     0.49449,      0.4955,      0.4965,      0.4975,      0.4985,      0.4995,      0.5005,      0.5015,      0.5025,      0.5035,\n",
       "            0.5045,     0.50551,     0.50651,     0.50751,     0.50851,     0.50951,     0.51051,     0.51151,     0.51251,     0.51351,     0.51451,     0.51552,     0.51652,     0.51752,     0.51852,     0.51952,     0.52052,     0.52152,     0.52252,     0.52352,     0.52452,     0.52553,     0.52653,     0.52753,\n",
       "           0.52853,     0.52953,     0.53053,     0.53153,     0.53253,     0.53353,     0.53453,     0.53554,     0.53654,     0.53754,     0.53854,     0.53954,     0.54054,     0.54154,     0.54254,     0.54354,     0.54454,     0.54555,     0.54655,     0.54755,     0.54855,     0.54955,     0.55055,     0.55155,\n",
       "           0.55255,     0.55355,     0.55455,     0.55556,     0.55656,     0.55756,     0.55856,     0.55956,     0.56056,     0.56156,     0.56256,     0.56356,     0.56456,     0.56557,     0.56657,     0.56757,     0.56857,     0.56957,     0.57057,     0.57157,     0.57257,     0.57357,     0.57457,     0.57558,\n",
       "           0.57658,     0.57758,     0.57858,     0.57958,     0.58058,     0.58158,     0.58258,     0.58358,     0.58458,     0.58559,     0.58659,     0.58759,     0.58859,     0.58959,     0.59059,     0.59159,     0.59259,     0.59359,     0.59459,      0.5956,      0.5966,      0.5976,      0.5986,      0.5996,\n",
       "            0.6006,      0.6016,      0.6026,      0.6036,      0.6046,     0.60561,     0.60661,     0.60761,     0.60861,     0.60961,     0.61061,     0.61161,     0.61261,     0.61361,     0.61461,     0.61562,     0.61662,     0.61762,     0.61862,     0.61962,     0.62062,     0.62162,     0.62262,     0.62362,\n",
       "           0.62462,     0.62563,     0.62663,     0.62763,     0.62863,     0.62963,     0.63063,     0.63163,     0.63263,     0.63363,     0.63463,     0.63564,     0.63664,     0.63764,     0.63864,     0.63964,     0.64064,     0.64164,     0.64264,     0.64364,     0.64464,     0.64565,     0.64665,     0.64765,\n",
       "           0.64865,     0.64965,     0.65065,     0.65165,     0.65265,     0.65365,     0.65465,     0.65566,     0.65666,     0.65766,     0.65866,     0.65966,     0.66066,     0.66166,     0.66266,     0.66366,     0.66466,     0.66567,     0.66667,     0.66767,     0.66867,     0.66967,     0.67067,     0.67167,\n",
       "           0.67267,     0.67367,     0.67467,     0.67568,     0.67668,     0.67768,     0.67868,     0.67968,     0.68068,     0.68168,     0.68268,     0.68368,     0.68468,     0.68569,     0.68669,     0.68769,     0.68869,     0.68969,     0.69069,     0.69169,     0.69269,     0.69369,     0.69469,      0.6957,\n",
       "            0.6967,      0.6977,      0.6987,      0.6997,      0.7007,      0.7017,      0.7027,      0.7037,      0.7047,     0.70571,     0.70671,     0.70771,     0.70871,     0.70971,     0.71071,     0.71171,     0.71271,     0.71371,     0.71471,     0.71572,     0.71672,     0.71772,     0.71872,     0.71972,\n",
       "           0.72072,     0.72172,     0.72272,     0.72372,     0.72472,     0.72573,     0.72673,     0.72773,     0.72873,     0.72973,     0.73073,     0.73173,     0.73273,     0.73373,     0.73473,     0.73574,     0.73674,     0.73774,     0.73874,     0.73974,     0.74074,     0.74174,     0.74274,     0.74374,\n",
       "           0.74474,     0.74575,     0.74675,     0.74775,     0.74875,     0.74975,     0.75075,     0.75175,     0.75275,     0.75375,     0.75475,     0.75576,     0.75676,     0.75776,     0.75876,     0.75976,     0.76076,     0.76176,     0.76276,     0.76376,     0.76476,     0.76577,     0.76677,     0.76777,\n",
       "           0.76877,     0.76977,     0.77077,     0.77177,     0.77277,     0.77377,     0.77477,     0.77578,     0.77678,     0.77778,     0.77878,     0.77978,     0.78078,     0.78178,     0.78278,     0.78378,     0.78478,     0.78579,     0.78679,     0.78779,     0.78879,     0.78979,     0.79079,     0.79179,\n",
       "           0.79279,     0.79379,     0.79479,      0.7958,      0.7968,      0.7978,      0.7988,      0.7998,      0.8008,      0.8018,      0.8028,      0.8038,      0.8048,     0.80581,     0.80681,     0.80781,     0.80881,     0.80981,     0.81081,     0.81181,     0.81281,     0.81381,     0.81481,     0.81582,\n",
       "           0.81682,     0.81782,     0.81882,     0.81982,     0.82082,     0.82182,     0.82282,     0.82382,     0.82482,     0.82583,     0.82683,     0.82783,     0.82883,     0.82983,     0.83083,     0.83183,     0.83283,     0.83383,     0.83483,     0.83584,     0.83684,     0.83784,     0.83884,     0.83984,\n",
       "           0.84084,     0.84184,     0.84284,     0.84384,     0.84484,     0.84585,     0.84685,     0.84785,     0.84885,     0.84985,     0.85085,     0.85185,     0.85285,     0.85385,     0.85485,     0.85586,     0.85686,     0.85786,     0.85886,     0.85986,     0.86086,     0.86186,     0.86286,     0.86386,\n",
       "           0.86486,     0.86587,     0.86687,     0.86787,     0.86887,     0.86987,     0.87087,     0.87187,     0.87287,     0.87387,     0.87487,     0.87588,     0.87688,     0.87788,     0.87888,     0.87988,     0.88088,     0.88188,     0.88288,     0.88388,     0.88488,     0.88589,     0.88689,     0.88789,\n",
       "           0.88889,     0.88989,     0.89089,     0.89189,     0.89289,     0.89389,     0.89489,      0.8959,      0.8969,      0.8979,      0.8989,      0.8999,      0.9009,      0.9019,      0.9029,      0.9039,      0.9049,     0.90591,     0.90691,     0.90791,     0.90891,     0.90991,     0.91091,     0.91191,\n",
       "           0.91291,     0.91391,     0.91491,     0.91592,     0.91692,     0.91792,     0.91892,     0.91992,     0.92092,     0.92192,     0.92292,     0.92392,     0.92492,     0.92593,     0.92693,     0.92793,     0.92893,     0.92993,     0.93093,     0.93193,     0.93293,     0.93393,     0.93493,     0.93594,\n",
       "           0.93694,     0.93794,     0.93894,     0.93994,     0.94094,     0.94194,     0.94294,     0.94394,     0.94494,     0.94595,     0.94695,     0.94795,     0.94895,     0.94995,     0.95095,     0.95195,     0.95295,     0.95395,     0.95495,     0.95596,     0.95696,     0.95796,     0.95896,     0.95996,\n",
       "           0.96096,     0.96196,     0.96296,     0.96396,     0.96496,     0.96597,     0.96697,     0.96797,     0.96897,     0.96997,     0.97097,     0.97197,     0.97297,     0.97397,     0.97497,     0.97598,     0.97698,     0.97798,     0.97898,     0.97998,     0.98098,     0.98198,     0.98298,     0.98398,\n",
       "           0.98498,     0.98599,     0.98699,     0.98799,     0.98899,     0.98999,     0.99099,     0.99199,     0.99299,     0.99399,     0.99499,       0.996,       0.997,       0.998,       0.999,           1]), array([[          1,           1,           1,           1,           1,           1,           1,           1,           1,           1,           1,           1,           1,           1,           1,           1,           1,           1,           1,           1,           1,           1,           1,\n",
       "                  1,           1,           1,           1,           1,           1,           1,           1,           1,           1,           1,           1,           1,           1,           1,           1,           1,           1,           1,           1,           1,           1,           1,\n",
       "                  1,           1,           1,           1,           1,           1,           1,           1,           1,           1,           1,           1,           1,           1,           1,           1,           1,           1,           1,           1,           1,           1,           1,\n",
       "                  1,           1,           1,           1,           1,           1,           1,           1,           1,           1,           1,           1,           1,           1,           1,           1,           1,           1,           1,           1,           1,           1,           1,\n",
       "                  1,           1,           1,           1,           1,           1,           1,           1,           1,           1,           1,           1,           1,           1,           1,           1,           1,           1,           1,           1,           1,           1,           1,\n",
       "                  1,           1,           1,           1,           1,           1,           1,           1,           1,           1,           1,           1,           1,           1,           1,           1,           1,           1,           1,           1,           1,           1,           1,\n",
       "                  1,           1,           1,           1,           1,           1,           1,           1,           1,           1,           1,           1,           1,           1,           1,           1,           1,           1,           1,           1,           1,           1,           1,\n",
       "                  1,           1,           1,           1,           1,           1,           1,           1,           1,           1,           1,           1,           1,           1,           1,           1,           1,           1,           1,           1,           1,           1,           1,\n",
       "                  1,           1,           1,           1,           1,           1,           1,           1,           1,           1,           1,           1,           1,           1,           1,           1,           1,           1,           1,           1,           1,           1,           1,\n",
       "                  1,           1,           1,           1,           1,           1,           1,           1,           1,           1,           1,           1,           1,           1,           1,           1,           1,           1,           1,           1,           1,           1,           1,\n",
       "                  1,           1,           1,           1,           1,           1,           1,           1,           1,           1,           1,           1,           1,           1,           1,           1,           1,           1,           1,           1,           1,           1,           1,\n",
       "                  1,           1,           1,           1,           1,           1,           1,           1,           1,           1,           1,           1,           1,           1,           1,           1,           1,           1,           1,           1,           1,           1,           1,\n",
       "                  1,           1,           1,           1,           1,           1,           1,           1,           1,           1,           1,           1,           1,           1,           1,           1,           1,           1,           1,           1,           1,           1,           1,\n",
       "                  1,           1,           1,           1,           1,           1,           1,           1,           1,           1,           1,           1,           1,           1,           1,           1,           1,           1,           1,           1,           1,           1,           1,\n",
       "                  1,           1,           1,           1,           1,           1,           1,           1,           1,           1,           1,           1,           1,           1,           1,           1,           1,           1,           1,           1,           1,           1,           1,\n",
       "                  1,           1,           1,           1,           1,           1,           1,           1,           1,           1,           1,           1,           1,           1,           1,           1,           1,           1,           1,           1,           1,           1,           1,\n",
       "                  1,           1,           1,           1,           1,           1,           1,           1,           1,           1,           1,           1,           1,           1,           1,           1,           1,           1,           1,           1,           1,           1,           1,\n",
       "                  1,           1,           1,           1,           1,           1,           1,           1,           1,           1,           1,           1,           1,           1,           1,           1,           1,           1,           1,           1,           1,           1,           1,\n",
       "                  1,           1,           1,           1,           1,           1,           1,           1,           1,           1,           1,           1,           1,           1,           1,           1,           1,           1,           1,           1,           1,           1,           1,\n",
       "                  1,           1,           1,           1,           1,           1,           1,           1,           1,           1,           1,           1,           1,           1,           1,           1,           1,           1,           1,           1,           1,           1,           1,\n",
       "                  1,           1,           1,           1,           1,           1,           1,           1,           1,           1,           1,           1,           1,           1,           1,           1,           1,           1,           1,           1,           1,           1,           1,\n",
       "                  1,           1,           1,           1,           1,           1,           1,           1,           1,           1,           1,           1,           1,           1,           1,           1,           1,           1,           1,           1,           1,           1,           1,\n",
       "                  1,           1,           1,           1,           1,           1,           1,           1,           1,           1,           1,           1,           1,           1,           1,           1,           1,           1,           1,           1,           1,           1,           1,\n",
       "                  1,           1,           1,           1,           1,           1,           1,           1,           1,           1,           1,           1,           1,           1,           1,           1,           1,           1,           1,           1,           1,           1,           1,\n",
       "                  1,           1,           1,           1,           1,           1,           1,           1,           1,           1,           1,           1,           1,           1,           1,           1,           1,           1,           1,           1,           1,           1,           1,\n",
       "                  1,           1,           1,           1,           1,           1,           1,           1,           1,           1,           1,           1,           1,           1,           1,           1,           1,           1,           1,           1,           1,           1,           1,\n",
       "                  1,           1,           1,           1,           1,           1,           1,           1,           1,           1,           1,           1,           1,           1,           1,           1,           1,           1,           1,           1,           1,           1,           1,\n",
       "                  1,           1,           1,           1,           1,           1,           1,           1,           1,           1,           1,           1,           1,           1,           1,           1,           1,           1,           1,           1,           1,           1,           1,\n",
       "                  1,           1,           1,           1,           1,           1,           1,           1,           1,           1,           1,           1,           1,           1,           1,           1,           1,           1,           1,           1,           1,           1,           1,\n",
       "                  1,           1,           1,           1,           1,           1,           1,           1,           1,           1,           1,           1,           1,           1,           1,           1,           1,           1,           1,           1,           1,           1,           1,\n",
       "                  1,           1,           1,           1,           1,           1,           1,           1,           1,           1,           1,           1,           1,           1,           1,           1,           1,           1,           1,           1,           1,           1,           1,\n",
       "                  1,           1,           1,           1,           1,           1,           1,           1,           1,           1,           1,           1,           1,           1,           1,           1,           1,           1,           1,           1,           1,           1,           1,\n",
       "                  1,           1,           1,           1,           1,           1,           1,           1,           1,           1,           1,           1,           1,           1,           1,           1,           1,           1,           1,           1,           1,           1,           1,\n",
       "                  1,           1,           1,           1,           1,           1,           1,           1,           1,           1,           1,           1,           1,           1,           1,           1,           1,           1,           1,           1,           1,           1,           1,\n",
       "                  1,           1,           1,           1,           1,           1,           1,           1,           1,           1,           1,           1,           1,           1,           1,           1,           1,           1,           1,           1,           1,           1,           1,\n",
       "                  1,           1,           1,           1,           1,           1,           1,           1,           1,           1,           1,           1,           1,           1,           1,           1,           1,           1,           1,           1,           1,           1,           1,\n",
       "                  1,           1,           1,           1,           1,           1,           1,           1,           1,           1,           1,           1,           1,           1,           1,           1,           1,           1,           1,           1,           1,           1,           1,\n",
       "                  1,           1,           1,           1,           1,           1,           1,           1,           1,           1,           1,           1,           1,           1,           1,           1,           1,           1,           1,           1,           1,           1,           1,\n",
       "                  1,           1,           1,           1,           1,           1,           1,           1,           1,           1,           1,           1,           1,           1,           1,           1,           1,           1,     0.99606,     0.99606,     0.99606,     0.99606,     0.99606,\n",
       "            0.99606,     0.99606,     0.99606,     0.99606,     0.99606,     0.99606,     0.99606,     0.99606,     0.99606,     0.99606,     0.99606,     0.99606,     0.99606,     0.99606,     0.99606,     0.99606,     0.99606,     0.99606,     0.99606,     0.99606,     0.99606,     0.99606,     0.99606,\n",
       "            0.99606,     0.99606,     0.99606,     0.99606,     0.99606,     0.99606,     0.99606,     0.99606,     0.99606,     0.99606,     0.99606,     0.99606,     0.99606,     0.99606,     0.99606,     0.99606,     0.99606,     0.99222,     0.99222,     0.99222,     0.99222,     0.99222,     0.99222,\n",
       "            0.99222,     0.98876,     0.98876,     0.98876,     0.98876,     0.98876,     0.98876,     0.98876,     0.98876,     0.98876,     0.98876,     0.98876,     0.98876,     0.98876,     0.98876,     0.98876,     0.98876,     0.98876,     0.98876,     0.98876,     0.98876,     0.98876,     0.98876,\n",
       "            0.98876,     0.98876,     0.98876,     0.98876,     0.98876,     0.98876,     0.98876,     0.98876,     0.98876,     0.98876,     0.98876,     0.98513,     0.98513,     0.98513,     0.98513,     0.97794,     0.97794,     0.97794,     0.97794,     0.94681,     0.94681,     0.94681,     0.94035,\n",
       "            0.94035,     0.94035,     0.94035,      0.9244,      0.9244,      0.9244,      0.9244,     0.87379,     0.87379,     0.87379,           0]]), 'Recall', 'Precision'], [array([          0,    0.001001,    0.002002,    0.003003,    0.004004,    0.005005,    0.006006,    0.007007,    0.008008,    0.009009,     0.01001,    0.011011,    0.012012,    0.013013,    0.014014,    0.015015,    0.016016,    0.017017,    0.018018,    0.019019,     0.02002,    0.021021,    0.022022,    0.023023,\n",
       "          0.024024,    0.025025,    0.026026,    0.027027,    0.028028,    0.029029,     0.03003,    0.031031,    0.032032,    0.033033,    0.034034,    0.035035,    0.036036,    0.037037,    0.038038,    0.039039,     0.04004,    0.041041,    0.042042,    0.043043,    0.044044,    0.045045,    0.046046,    0.047047,\n",
       "          0.048048,    0.049049,     0.05005,    0.051051,    0.052052,    0.053053,    0.054054,    0.055055,    0.056056,    0.057057,    0.058058,    0.059059,     0.06006,    0.061061,    0.062062,    0.063063,    0.064064,    0.065065,    0.066066,    0.067067,    0.068068,    0.069069,     0.07007,    0.071071,\n",
       "          0.072072,    0.073073,    0.074074,    0.075075,    0.076076,    0.077077,    0.078078,    0.079079,     0.08008,    0.081081,    0.082082,    0.083083,    0.084084,    0.085085,    0.086086,    0.087087,    0.088088,    0.089089,     0.09009,    0.091091,    0.092092,    0.093093,    0.094094,    0.095095,\n",
       "          0.096096,    0.097097,    0.098098,    0.099099,      0.1001,      0.1011,      0.1021,      0.1031,      0.1041,     0.10511,     0.10611,     0.10711,     0.10811,     0.10911,     0.11011,     0.11111,     0.11211,     0.11311,     0.11411,     0.11512,     0.11612,     0.11712,     0.11812,     0.11912,\n",
       "           0.12012,     0.12112,     0.12212,     0.12312,     0.12412,     0.12513,     0.12613,     0.12713,     0.12813,     0.12913,     0.13013,     0.13113,     0.13213,     0.13313,     0.13413,     0.13514,     0.13614,     0.13714,     0.13814,     0.13914,     0.14014,     0.14114,     0.14214,     0.14314,\n",
       "           0.14414,     0.14515,     0.14615,     0.14715,     0.14815,     0.14915,     0.15015,     0.15115,     0.15215,     0.15315,     0.15415,     0.15516,     0.15616,     0.15716,     0.15816,     0.15916,     0.16016,     0.16116,     0.16216,     0.16316,     0.16416,     0.16517,     0.16617,     0.16717,\n",
       "           0.16817,     0.16917,     0.17017,     0.17117,     0.17217,     0.17317,     0.17417,     0.17518,     0.17618,     0.17718,     0.17818,     0.17918,     0.18018,     0.18118,     0.18218,     0.18318,     0.18418,     0.18519,     0.18619,     0.18719,     0.18819,     0.18919,     0.19019,     0.19119,\n",
       "           0.19219,     0.19319,     0.19419,      0.1952,      0.1962,      0.1972,      0.1982,      0.1992,      0.2002,      0.2012,      0.2022,      0.2032,      0.2042,     0.20521,     0.20621,     0.20721,     0.20821,     0.20921,     0.21021,     0.21121,     0.21221,     0.21321,     0.21421,     0.21522,\n",
       "           0.21622,     0.21722,     0.21822,     0.21922,     0.22022,     0.22122,     0.22222,     0.22322,     0.22422,     0.22523,     0.22623,     0.22723,     0.22823,     0.22923,     0.23023,     0.23123,     0.23223,     0.23323,     0.23423,     0.23524,     0.23624,     0.23724,     0.23824,     0.23924,\n",
       "           0.24024,     0.24124,     0.24224,     0.24324,     0.24424,     0.24525,     0.24625,     0.24725,     0.24825,     0.24925,     0.25025,     0.25125,     0.25225,     0.25325,     0.25425,     0.25526,     0.25626,     0.25726,     0.25826,     0.25926,     0.26026,     0.26126,     0.26226,     0.26326,\n",
       "           0.26426,     0.26527,     0.26627,     0.26727,     0.26827,     0.26927,     0.27027,     0.27127,     0.27227,     0.27327,     0.27427,     0.27528,     0.27628,     0.27728,     0.27828,     0.27928,     0.28028,     0.28128,     0.28228,     0.28328,     0.28428,     0.28529,     0.28629,     0.28729,\n",
       "           0.28829,     0.28929,     0.29029,     0.29129,     0.29229,     0.29329,     0.29429,      0.2953,      0.2963,      0.2973,      0.2983,      0.2993,      0.3003,      0.3013,      0.3023,      0.3033,      0.3043,     0.30531,     0.30631,     0.30731,     0.30831,     0.30931,     0.31031,     0.31131,\n",
       "           0.31231,     0.31331,     0.31431,     0.31532,     0.31632,     0.31732,     0.31832,     0.31932,     0.32032,     0.32132,     0.32232,     0.32332,     0.32432,     0.32533,     0.32633,     0.32733,     0.32833,     0.32933,     0.33033,     0.33133,     0.33233,     0.33333,     0.33433,     0.33534,\n",
       "           0.33634,     0.33734,     0.33834,     0.33934,     0.34034,     0.34134,     0.34234,     0.34334,     0.34434,     0.34535,     0.34635,     0.34735,     0.34835,     0.34935,     0.35035,     0.35135,     0.35235,     0.35335,     0.35435,     0.35536,     0.35636,     0.35736,     0.35836,     0.35936,\n",
       "           0.36036,     0.36136,     0.36236,     0.36336,     0.36436,     0.36537,     0.36637,     0.36737,     0.36837,     0.36937,     0.37037,     0.37137,     0.37237,     0.37337,     0.37437,     0.37538,     0.37638,     0.37738,     0.37838,     0.37938,     0.38038,     0.38138,     0.38238,     0.38338,\n",
       "           0.38438,     0.38539,     0.38639,     0.38739,     0.38839,     0.38939,     0.39039,     0.39139,     0.39239,     0.39339,     0.39439,      0.3954,      0.3964,      0.3974,      0.3984,      0.3994,      0.4004,      0.4014,      0.4024,      0.4034,      0.4044,     0.40541,     0.40641,     0.40741,\n",
       "           0.40841,     0.40941,     0.41041,     0.41141,     0.41241,     0.41341,     0.41441,     0.41542,     0.41642,     0.41742,     0.41842,     0.41942,     0.42042,     0.42142,     0.42242,     0.42342,     0.42442,     0.42543,     0.42643,     0.42743,     0.42843,     0.42943,     0.43043,     0.43143,\n",
       "           0.43243,     0.43343,     0.43443,     0.43544,     0.43644,     0.43744,     0.43844,     0.43944,     0.44044,     0.44144,     0.44244,     0.44344,     0.44444,     0.44545,     0.44645,     0.44745,     0.44845,     0.44945,     0.45045,     0.45145,     0.45245,     0.45345,     0.45445,     0.45546,\n",
       "           0.45646,     0.45746,     0.45846,     0.45946,     0.46046,     0.46146,     0.46246,     0.46346,     0.46446,     0.46547,     0.46647,     0.46747,     0.46847,     0.46947,     0.47047,     0.47147,     0.47247,     0.47347,     0.47447,     0.47548,     0.47648,     0.47748,     0.47848,     0.47948,\n",
       "           0.48048,     0.48148,     0.48248,     0.48348,     0.48448,     0.48549,     0.48649,     0.48749,     0.48849,     0.48949,     0.49049,     0.49149,     0.49249,     0.49349,     0.49449,      0.4955,      0.4965,      0.4975,      0.4985,      0.4995,      0.5005,      0.5015,      0.5025,      0.5035,\n",
       "            0.5045,     0.50551,     0.50651,     0.50751,     0.50851,     0.50951,     0.51051,     0.51151,     0.51251,     0.51351,     0.51451,     0.51552,     0.51652,     0.51752,     0.51852,     0.51952,     0.52052,     0.52152,     0.52252,     0.52352,     0.52452,     0.52553,     0.52653,     0.52753,\n",
       "           0.52853,     0.52953,     0.53053,     0.53153,     0.53253,     0.53353,     0.53453,     0.53554,     0.53654,     0.53754,     0.53854,     0.53954,     0.54054,     0.54154,     0.54254,     0.54354,     0.54454,     0.54555,     0.54655,     0.54755,     0.54855,     0.54955,     0.55055,     0.55155,\n",
       "           0.55255,     0.55355,     0.55455,     0.55556,     0.55656,     0.55756,     0.55856,     0.55956,     0.56056,     0.56156,     0.56256,     0.56356,     0.56456,     0.56557,     0.56657,     0.56757,     0.56857,     0.56957,     0.57057,     0.57157,     0.57257,     0.57357,     0.57457,     0.57558,\n",
       "           0.57658,     0.57758,     0.57858,     0.57958,     0.58058,     0.58158,     0.58258,     0.58358,     0.58458,     0.58559,     0.58659,     0.58759,     0.58859,     0.58959,     0.59059,     0.59159,     0.59259,     0.59359,     0.59459,      0.5956,      0.5966,      0.5976,      0.5986,      0.5996,\n",
       "            0.6006,      0.6016,      0.6026,      0.6036,      0.6046,     0.60561,     0.60661,     0.60761,     0.60861,     0.60961,     0.61061,     0.61161,     0.61261,     0.61361,     0.61461,     0.61562,     0.61662,     0.61762,     0.61862,     0.61962,     0.62062,     0.62162,     0.62262,     0.62362,\n",
       "           0.62462,     0.62563,     0.62663,     0.62763,     0.62863,     0.62963,     0.63063,     0.63163,     0.63263,     0.63363,     0.63463,     0.63564,     0.63664,     0.63764,     0.63864,     0.63964,     0.64064,     0.64164,     0.64264,     0.64364,     0.64464,     0.64565,     0.64665,     0.64765,\n",
       "           0.64865,     0.64965,     0.65065,     0.65165,     0.65265,     0.65365,     0.65465,     0.65566,     0.65666,     0.65766,     0.65866,     0.65966,     0.66066,     0.66166,     0.66266,     0.66366,     0.66466,     0.66567,     0.66667,     0.66767,     0.66867,     0.66967,     0.67067,     0.67167,\n",
       "           0.67267,     0.67367,     0.67467,     0.67568,     0.67668,     0.67768,     0.67868,     0.67968,     0.68068,     0.68168,     0.68268,     0.68368,     0.68468,     0.68569,     0.68669,     0.68769,     0.68869,     0.68969,     0.69069,     0.69169,     0.69269,     0.69369,     0.69469,      0.6957,\n",
       "            0.6967,      0.6977,      0.6987,      0.6997,      0.7007,      0.7017,      0.7027,      0.7037,      0.7047,     0.70571,     0.70671,     0.70771,     0.70871,     0.70971,     0.71071,     0.71171,     0.71271,     0.71371,     0.71471,     0.71572,     0.71672,     0.71772,     0.71872,     0.71972,\n",
       "           0.72072,     0.72172,     0.72272,     0.72372,     0.72472,     0.72573,     0.72673,     0.72773,     0.72873,     0.72973,     0.73073,     0.73173,     0.73273,     0.73373,     0.73473,     0.73574,     0.73674,     0.73774,     0.73874,     0.73974,     0.74074,     0.74174,     0.74274,     0.74374,\n",
       "           0.74474,     0.74575,     0.74675,     0.74775,     0.74875,     0.74975,     0.75075,     0.75175,     0.75275,     0.75375,     0.75475,     0.75576,     0.75676,     0.75776,     0.75876,     0.75976,     0.76076,     0.76176,     0.76276,     0.76376,     0.76476,     0.76577,     0.76677,     0.76777,\n",
       "           0.76877,     0.76977,     0.77077,     0.77177,     0.77277,     0.77377,     0.77477,     0.77578,     0.77678,     0.77778,     0.77878,     0.77978,     0.78078,     0.78178,     0.78278,     0.78378,     0.78478,     0.78579,     0.78679,     0.78779,     0.78879,     0.78979,     0.79079,     0.79179,\n",
       "           0.79279,     0.79379,     0.79479,      0.7958,      0.7968,      0.7978,      0.7988,      0.7998,      0.8008,      0.8018,      0.8028,      0.8038,      0.8048,     0.80581,     0.80681,     0.80781,     0.80881,     0.80981,     0.81081,     0.81181,     0.81281,     0.81381,     0.81481,     0.81582,\n",
       "           0.81682,     0.81782,     0.81882,     0.81982,     0.82082,     0.82182,     0.82282,     0.82382,     0.82482,     0.82583,     0.82683,     0.82783,     0.82883,     0.82983,     0.83083,     0.83183,     0.83283,     0.83383,     0.83483,     0.83584,     0.83684,     0.83784,     0.83884,     0.83984,\n",
       "           0.84084,     0.84184,     0.84284,     0.84384,     0.84484,     0.84585,     0.84685,     0.84785,     0.84885,     0.84985,     0.85085,     0.85185,     0.85285,     0.85385,     0.85485,     0.85586,     0.85686,     0.85786,     0.85886,     0.85986,     0.86086,     0.86186,     0.86286,     0.86386,\n",
       "           0.86486,     0.86587,     0.86687,     0.86787,     0.86887,     0.86987,     0.87087,     0.87187,     0.87287,     0.87387,     0.87487,     0.87588,     0.87688,     0.87788,     0.87888,     0.87988,     0.88088,     0.88188,     0.88288,     0.88388,     0.88488,     0.88589,     0.88689,     0.88789,\n",
       "           0.88889,     0.88989,     0.89089,     0.89189,     0.89289,     0.89389,     0.89489,      0.8959,      0.8969,      0.8979,      0.8989,      0.8999,      0.9009,      0.9019,      0.9029,      0.9039,      0.9049,     0.90591,     0.90691,     0.90791,     0.90891,     0.90991,     0.91091,     0.91191,\n",
       "           0.91291,     0.91391,     0.91491,     0.91592,     0.91692,     0.91792,     0.91892,     0.91992,     0.92092,     0.92192,     0.92292,     0.92392,     0.92492,     0.92593,     0.92693,     0.92793,     0.92893,     0.92993,     0.93093,     0.93193,     0.93293,     0.93393,     0.93493,     0.93594,\n",
       "           0.93694,     0.93794,     0.93894,     0.93994,     0.94094,     0.94194,     0.94294,     0.94394,     0.94494,     0.94595,     0.94695,     0.94795,     0.94895,     0.94995,     0.95095,     0.95195,     0.95295,     0.95395,     0.95495,     0.95596,     0.95696,     0.95796,     0.95896,     0.95996,\n",
       "           0.96096,     0.96196,     0.96296,     0.96396,     0.96496,     0.96597,     0.96697,     0.96797,     0.96897,     0.96997,     0.97097,     0.97197,     0.97297,     0.97397,     0.97497,     0.97598,     0.97698,     0.97798,     0.97898,     0.97998,     0.98098,     0.98198,     0.98298,     0.98398,\n",
       "           0.98498,     0.98599,     0.98699,     0.98799,     0.98899,     0.98999,     0.99099,     0.99199,     0.99299,     0.99399,     0.99499,       0.996,       0.997,       0.998,       0.999,           1]), array([[    0.16514,     0.16514,     0.16514,     0.16514,     0.16514,     0.16514,     0.16514,     0.16514,     0.16514,     0.16514,      0.1751,     0.21438,     0.25398,     0.29194,     0.33612,     0.37519,     0.40839,     0.43212,     0.45658,     0.48609,     0.50686,      0.5322,     0.55243,\n",
       "            0.56927,      0.5803,     0.59268,     0.60716,     0.61502,     0.62975,     0.63957,     0.65127,     0.65872,     0.66257,     0.66937,     0.67347,      0.6815,     0.68648,     0.69239,     0.69821,     0.70644,     0.71136,     0.71682,     0.72207,     0.72781,     0.73434,     0.73748,\n",
       "            0.74174,      0.7435,     0.74546,     0.74921,     0.75642,     0.75791,     0.76226,     0.76703,     0.77087,     0.77313,     0.77472,     0.78099,     0.78501,     0.78975,     0.79081,     0.79462,     0.79737,      0.7993,     0.80358,     0.80513,     0.80747,       0.809,     0.81193,\n",
       "            0.81428,      0.8161,     0.81765,     0.82036,     0.82391,     0.82735,     0.82803,     0.82975,     0.83024,     0.83073,     0.83465,     0.83589,     0.83831,      0.8389,     0.83936,        0.84,     0.84412,     0.84608,     0.84688,      0.8474,     0.84816,     0.84927,      0.8503,\n",
       "            0.85364,     0.85577,      0.8573,     0.85822,     0.85959,     0.86302,     0.86557,     0.86693,     0.86782,     0.86875,     0.86965,     0.87033,     0.87107,     0.87315,     0.87555,     0.87663,      0.8773,     0.87797,     0.87972,        0.88,     0.88029,     0.88058,     0.88087,\n",
       "            0.88304,     0.88394,     0.88457,     0.88519,     0.88559,     0.88597,     0.88634,     0.88673,     0.88747,     0.88824,     0.88961,     0.89042,     0.89264,     0.89344,     0.89436,     0.89556,     0.89665,     0.89709,      0.8972,     0.89732,     0.89744,     0.89755,     0.89767,\n",
       "            0.89779,      0.8979,     0.89802,     0.89814,     0.89825,     0.89837,     0.89849,     0.89884,     0.89924,     0.89964,     0.90024,     0.90193,     0.90284,     0.90412,     0.90702,     0.90938,      0.9123,     0.91276,     0.91323,      0.9137,     0.91414,     0.91457,     0.91501,\n",
       "            0.91554,     0.91618,     0.91685,     0.91834,     0.91952,     0.92153,     0.92167,     0.92181,     0.92195,      0.9221,     0.92224,     0.92238,     0.92252,     0.92266,     0.92281,     0.92295,      0.9231,     0.92332,     0.92354,     0.92376,     0.92398,      0.9242,     0.92442,\n",
       "            0.92464,     0.92504,     0.92545,     0.92587,     0.92627,     0.92662,     0.92696,     0.92731,     0.92765,     0.92882,     0.93166,     0.93254,     0.93209,     0.93164,      0.9312,     0.93115,     0.93274,     0.93328,     0.93382,      0.9341,     0.93421,     0.93433,     0.93444,\n",
       "            0.93456,     0.93467,     0.93479,      0.9349,     0.93502,     0.93513,     0.93525,     0.93536,     0.93548,     0.93559,     0.93665,     0.93848,     0.93901,     0.93914,     0.93926,     0.93939,     0.93951,     0.93964,     0.93976,     0.93989,     0.94001,     0.94014,     0.94026,\n",
       "            0.94039,     0.94052,     0.94091,     0.94146,     0.94201,      0.9426,     0.94323,     0.94385,     0.94467,     0.94548,     0.94559,     0.94566,     0.94574,     0.94581,     0.94588,     0.94596,     0.94603,      0.9461,     0.94618,     0.94625,     0.94632,      0.9464,     0.94647,\n",
       "            0.94654,     0.94662,     0.94669,     0.94676,     0.94684,     0.94691,     0.94698,     0.94706,     0.94713,     0.94738,     0.94812,     0.94886,     0.94923,     0.94961,     0.94998,     0.95035,     0.95061,     0.95075,     0.95089,     0.95104,     0.95118,     0.95132,     0.95146,\n",
       "            0.95161,     0.95175,     0.95189,     0.95204,     0.95218,     0.95301,     0.95429,     0.95637,     0.95738,      0.9576,     0.95783,     0.95805,     0.95828,      0.9585,     0.95873,     0.95895,     0.95833,     0.95747,     0.95763,     0.95841,      0.9589,       0.959,     0.95909,\n",
       "            0.95919,     0.95929,     0.95939,     0.95949,     0.95959,     0.95969,     0.95978,     0.95988,     0.95998,     0.96008,     0.96018,     0.96028,     0.96038,     0.96047,     0.96057,     0.96068,     0.96079,      0.9609,     0.96101,     0.96112,     0.96124,     0.96135,     0.96146,\n",
       "            0.96157,     0.96168,     0.96179,      0.9619,     0.96201,     0.96212,     0.96223,     0.96238,     0.96258,     0.96279,       0.963,      0.9632,     0.96341,     0.96362,     0.96382,      0.9641,     0.96558,     0.96534,     0.96511,     0.96488,     0.96464,     0.96441,     0.96417,\n",
       "            0.96394,     0.96406,     0.96426,     0.96446,     0.96466,     0.96486,     0.96506,     0.96526,     0.96546,     0.96565,     0.96578,      0.9659,     0.96602,     0.96614,     0.96627,     0.96639,     0.96651,     0.96663,     0.96676,     0.96688,       0.967,     0.96712,     0.96725,\n",
       "            0.96737,     0.96704,     0.96661,     0.96617,     0.96574,     0.96573,     0.96617,      0.9666,     0.96703,     0.96734,      0.9675,     0.96765,     0.96781,     0.96796,     0.96812,     0.96827,     0.96843,     0.96859,     0.96874,      0.9689,     0.96907,     0.96941,     0.96975,\n",
       "            0.97009,     0.97042,     0.97076,     0.97093,     0.97108,     0.97122,     0.97137,     0.97151,     0.97165,      0.9718,     0.97194,     0.97209,     0.97223,     0.97238,     0.97252,     0.97278,     0.97309,     0.97341,     0.97373,     0.97405,     0.97436,     0.97449,     0.97462,\n",
       "            0.97475,     0.97488,     0.97501,     0.97514,     0.97527,      0.9754,     0.97553,     0.97566,     0.97579,     0.97592,     0.97605,     0.97618,     0.97628,     0.97639,      0.9765,      0.9766,     0.97671,     0.97682,     0.97692,     0.97703,     0.97714,     0.97724,     0.97735,\n",
       "            0.97746,     0.97756,     0.97767,     0.97777,     0.97788,       0.978,     0.97812,     0.97825,     0.97838,      0.9785,     0.97863,     0.97875,     0.97888,     0.97901,     0.97913,     0.97926,     0.97939,     0.97951,     0.97964,     0.97978,     0.97997,     0.98017,     0.98036,\n",
       "            0.98056,     0.98075,     0.98095,     0.98114,     0.98133,     0.98153,     0.98073,      0.9798,     0.97983,     0.98002,      0.9802,     0.98039,     0.98058,     0.98077,     0.98095,     0.98114,     0.98133,     0.98151,     0.98169,     0.98187,     0.98204,     0.98222,      0.9824,\n",
       "            0.98257,     0.98275,     0.98292,      0.9831,     0.98328,     0.98152,     0.98167,     0.98195,     0.98222,     0.98249,     0.98276,     0.98304,     0.98311,      0.9826,      0.9821,     0.98159,     0.98087,     0.97995,     0.97941,     0.97935,     0.97929,     0.97922,     0.97916,\n",
       "             0.9791,     0.97904,     0.97898,     0.97891,     0.97885,     0.97879,     0.97873,     0.97866,      0.9786,     0.97854,     0.97848,     0.97841,     0.97835,     0.97829,     0.97823,     0.97817,      0.9781,     0.97804,     0.97798,     0.97792,     0.97785,     0.97779,     0.97773,\n",
       "            0.97767,      0.9776,     0.97754,     0.97708,      0.9765,     0.97593,     0.97556,     0.97545,     0.97533,     0.97522,     0.97511,     0.97499,     0.97488,     0.97477,     0.97466,     0.97454,     0.97443,     0.97432,      0.9742,     0.97409,     0.97398,     0.97387,     0.97375,\n",
       "            0.97363,      0.9735,     0.97337,     0.97323,      0.9731,     0.97297,     0.97284,     0.97271,     0.97257,     0.97244,     0.97231,     0.97218,     0.97204,     0.97191,     0.97178,     0.97167,     0.97156,     0.97145,     0.97134,     0.97124,     0.97113,     0.97102,     0.97091,\n",
       "             0.9708,      0.9707,     0.97059,     0.97048,     0.97037,     0.97026,     0.97016,     0.97005,     0.96994,     0.96983,     0.96963,      0.9694,     0.96918,     0.96895,     0.96872,      0.9685,     0.96827,     0.96805,     0.96784,     0.96774,     0.96763,     0.96753,     0.96742,\n",
       "            0.96731,     0.96721,      0.9671,       0.967,     0.96689,     0.96678,     0.96668,     0.96657,     0.96646,     0.96636,     0.96625,     0.96614,     0.96604,     0.96593,     0.96716,     0.96563,     0.96543,     0.96523,     0.96503,     0.96482,     0.96462,     0.96442,     0.96422,\n",
       "            0.96402,     0.96381,     0.96414,     0.96449,     0.96483,     0.96517,     0.96551,     0.96478,     0.96159,     0.96097,     0.96036,     0.95974,     0.95887,     0.95798,     0.95744,     0.95706,     0.95668,     0.95631,     0.95593,     0.95564,     0.95552,      0.9554,     0.95528,\n",
       "            0.95515,     0.95503,     0.95491,     0.95479,     0.95467,     0.95455,     0.95442,      0.9543,     0.95418,     0.95406,     0.95394,     0.95382,     0.95369,     0.95286,     0.95184,     0.95124,     0.95074,     0.95023,     0.94973,     0.94946,     0.94926,     0.94907,     0.94887,\n",
       "            0.94867,     0.94848,     0.94828,     0.94808,     0.94788,     0.94769,     0.94736,     0.94686,     0.94635,     0.94585,     0.94508,     0.94388,     0.94313,     0.94262,     0.94211,     0.94159,     0.94319,     0.94252,     0.94185,     0.94117,     0.94044,     0.93971,     0.93882,\n",
       "            0.93701,     0.93446,     0.93396,     0.93347,     0.93297,     0.93194,     0.93067,     0.93013,     0.92959,     0.92905,      0.9285,     0.92791,     0.92733,     0.92674,     0.92627,     0.92591,     0.92555,     0.92519,     0.92483,     0.92447,     0.92379,     0.92282,     0.92034,\n",
       "            0.91967,     0.91932,     0.91897,     0.91862,     0.91827,     0.91793,     0.91734,     0.91668,     0.91602,     0.91544,     0.91495,     0.91446,     0.91397,     0.91348,     0.91315,     0.91282,     0.91249,     0.91217,     0.91184,     0.91151,     0.91121,       0.911,     0.91078,\n",
       "            0.91056,     0.91034,     0.91012,      0.9099,     0.90968,     0.90945,     0.90923,     0.90889,     0.90832,     0.90774,     0.90716,     0.90549,      0.9042,     0.90353,     0.90286,     0.90228,     0.90185,     0.90142,     0.90098,     0.90055,     0.89998,      0.8989,     0.89783,\n",
       "            0.89684,     0.89585,     0.89218,     0.89023,     0.88906,     0.88648,     0.88589,      0.8853,     0.88471,     0.88412,     0.88353,     0.88294,     0.88236,     0.88178,     0.88124,      0.8807,     0.88016,     0.87961,     0.87907,     0.87853,     0.87799,     0.87745,     0.87686,\n",
       "            0.87627,     0.87568,     0.87509,     0.87464,     0.87421,     0.87378,     0.87336,     0.87293,     0.87159,     0.87007,     0.86967,     0.86927,     0.86888,     0.86848,     0.86809,     0.86488,      0.8627,     0.86213,     0.86155,     0.86098,     0.85912,     0.85753,     0.85635,\n",
       "            0.85429,     0.85129,     0.85017,      0.8492,     0.84677,     0.84519,     0.84408,     0.84344,     0.84306,     0.84268,     0.84231,     0.84193,     0.84155,     0.84109,     0.83991,     0.83872,     0.83519,     0.83155,     0.82751,     0.82483,     0.81832,     0.81764,     0.81695,\n",
       "            0.81627,     0.81312,     0.81265,     0.81218,     0.81172,     0.81125,     0.81078,     0.80764,     0.80393,      0.7999,     0.79759,     0.79316,     0.79122,     0.78873,     0.78616,     0.78539,     0.78462,     0.78385,     0.78248,     0.78104,     0.77931,     0.77787,     0.77685,\n",
       "            0.77583,     0.77151,     0.76763,      0.7579,     0.75401,     0.75141,      0.7458,      0.7437,     0.74303,     0.74235,     0.74168,     0.73755,     0.73284,     0.72542,     0.71699,     0.71573,     0.71447,     0.70925,     0.70132,     0.69556,     0.69031,     0.68717,     0.67784,\n",
       "            0.67377,     0.66835,     0.66438,     0.66011,     0.65779,     0.65417,     0.64741,     0.64344,     0.63795,     0.63589,     0.63387,     0.62985,     0.62373,     0.61979,     0.61288,     0.60743,      0.6053,     0.60018,     0.59393,     0.59102,     0.58707,     0.58275,     0.56361,\n",
       "            0.55211,     0.54836,     0.54535,     0.53057,     0.52325,     0.51189,     0.50456,     0.49214,     0.48518,      0.4815,     0.47216,     0.46275,     0.45562,     0.45318,     0.44891,     0.43923,     0.43045,     0.42349,     0.41787,     0.41027,     0.40728,     0.39908,     0.39094,\n",
       "            0.38814,     0.38021,     0.37289,      0.3703,     0.36324,     0.36034,     0.35357,     0.35118,     0.34878,     0.33536,     0.32691,     0.31277,     0.30751,     0.28802,     0.28062,     0.27654,     0.26616,     0.25417,     0.24977,     0.24596,      0.2434,     0.23445,     0.21618,\n",
       "            0.20918,     0.19883,     0.19573,     0.19342,     0.19215,     0.19087,     0.18959,     0.18831,      0.1638,     0.15399,     0.14207,     0.13421,     0.12717,     0.11384,     0.10679,    0.093485,    0.081557,    0.077371,    0.072273,    0.067285,    0.060199,    0.054755,    0.050902,\n",
       "           0.042863,    0.041221,    0.039577,    0.037929,    0.035781,    0.028178,    0.025765,    0.023346,    0.021084,     0.01903,    0.016971,    0.014908,     0.01401,    0.013238,    0.012466,    0.011693,    0.010919,    0.010145,     0.00937,   0.0085946,   0.0078185,           0,           0,\n",
       "                  0,           0,           0,           0,           0,           0,           0,           0,           0,           0,           0]]), 'Confidence', 'F1'], [array([          0,    0.001001,    0.002002,    0.003003,    0.004004,    0.005005,    0.006006,    0.007007,    0.008008,    0.009009,     0.01001,    0.011011,    0.012012,    0.013013,    0.014014,    0.015015,    0.016016,    0.017017,    0.018018,    0.019019,     0.02002,    0.021021,    0.022022,    0.023023,\n",
       "          0.024024,    0.025025,    0.026026,    0.027027,    0.028028,    0.029029,     0.03003,    0.031031,    0.032032,    0.033033,    0.034034,    0.035035,    0.036036,    0.037037,    0.038038,    0.039039,     0.04004,    0.041041,    0.042042,    0.043043,    0.044044,    0.045045,    0.046046,    0.047047,\n",
       "          0.048048,    0.049049,     0.05005,    0.051051,    0.052052,    0.053053,    0.054054,    0.055055,    0.056056,    0.057057,    0.058058,    0.059059,     0.06006,    0.061061,    0.062062,    0.063063,    0.064064,    0.065065,    0.066066,    0.067067,    0.068068,    0.069069,     0.07007,    0.071071,\n",
       "          0.072072,    0.073073,    0.074074,    0.075075,    0.076076,    0.077077,    0.078078,    0.079079,     0.08008,    0.081081,    0.082082,    0.083083,    0.084084,    0.085085,    0.086086,    0.087087,    0.088088,    0.089089,     0.09009,    0.091091,    0.092092,    0.093093,    0.094094,    0.095095,\n",
       "          0.096096,    0.097097,    0.098098,    0.099099,      0.1001,      0.1011,      0.1021,      0.1031,      0.1041,     0.10511,     0.10611,     0.10711,     0.10811,     0.10911,     0.11011,     0.11111,     0.11211,     0.11311,     0.11411,     0.11512,     0.11612,     0.11712,     0.11812,     0.11912,\n",
       "           0.12012,     0.12112,     0.12212,     0.12312,     0.12412,     0.12513,     0.12613,     0.12713,     0.12813,     0.12913,     0.13013,     0.13113,     0.13213,     0.13313,     0.13413,     0.13514,     0.13614,     0.13714,     0.13814,     0.13914,     0.14014,     0.14114,     0.14214,     0.14314,\n",
       "           0.14414,     0.14515,     0.14615,     0.14715,     0.14815,     0.14915,     0.15015,     0.15115,     0.15215,     0.15315,     0.15415,     0.15516,     0.15616,     0.15716,     0.15816,     0.15916,     0.16016,     0.16116,     0.16216,     0.16316,     0.16416,     0.16517,     0.16617,     0.16717,\n",
       "           0.16817,     0.16917,     0.17017,     0.17117,     0.17217,     0.17317,     0.17417,     0.17518,     0.17618,     0.17718,     0.17818,     0.17918,     0.18018,     0.18118,     0.18218,     0.18318,     0.18418,     0.18519,     0.18619,     0.18719,     0.18819,     0.18919,     0.19019,     0.19119,\n",
       "           0.19219,     0.19319,     0.19419,      0.1952,      0.1962,      0.1972,      0.1982,      0.1992,      0.2002,      0.2012,      0.2022,      0.2032,      0.2042,     0.20521,     0.20621,     0.20721,     0.20821,     0.20921,     0.21021,     0.21121,     0.21221,     0.21321,     0.21421,     0.21522,\n",
       "           0.21622,     0.21722,     0.21822,     0.21922,     0.22022,     0.22122,     0.22222,     0.22322,     0.22422,     0.22523,     0.22623,     0.22723,     0.22823,     0.22923,     0.23023,     0.23123,     0.23223,     0.23323,     0.23423,     0.23524,     0.23624,     0.23724,     0.23824,     0.23924,\n",
       "           0.24024,     0.24124,     0.24224,     0.24324,     0.24424,     0.24525,     0.24625,     0.24725,     0.24825,     0.24925,     0.25025,     0.25125,     0.25225,     0.25325,     0.25425,     0.25526,     0.25626,     0.25726,     0.25826,     0.25926,     0.26026,     0.26126,     0.26226,     0.26326,\n",
       "           0.26426,     0.26527,     0.26627,     0.26727,     0.26827,     0.26927,     0.27027,     0.27127,     0.27227,     0.27327,     0.27427,     0.27528,     0.27628,     0.27728,     0.27828,     0.27928,     0.28028,     0.28128,     0.28228,     0.28328,     0.28428,     0.28529,     0.28629,     0.28729,\n",
       "           0.28829,     0.28929,     0.29029,     0.29129,     0.29229,     0.29329,     0.29429,      0.2953,      0.2963,      0.2973,      0.2983,      0.2993,      0.3003,      0.3013,      0.3023,      0.3033,      0.3043,     0.30531,     0.30631,     0.30731,     0.30831,     0.30931,     0.31031,     0.31131,\n",
       "           0.31231,     0.31331,     0.31431,     0.31532,     0.31632,     0.31732,     0.31832,     0.31932,     0.32032,     0.32132,     0.32232,     0.32332,     0.32432,     0.32533,     0.32633,     0.32733,     0.32833,     0.32933,     0.33033,     0.33133,     0.33233,     0.33333,     0.33433,     0.33534,\n",
       "           0.33634,     0.33734,     0.33834,     0.33934,     0.34034,     0.34134,     0.34234,     0.34334,     0.34434,     0.34535,     0.34635,     0.34735,     0.34835,     0.34935,     0.35035,     0.35135,     0.35235,     0.35335,     0.35435,     0.35536,     0.35636,     0.35736,     0.35836,     0.35936,\n",
       "           0.36036,     0.36136,     0.36236,     0.36336,     0.36436,     0.36537,     0.36637,     0.36737,     0.36837,     0.36937,     0.37037,     0.37137,     0.37237,     0.37337,     0.37437,     0.37538,     0.37638,     0.37738,     0.37838,     0.37938,     0.38038,     0.38138,     0.38238,     0.38338,\n",
       "           0.38438,     0.38539,     0.38639,     0.38739,     0.38839,     0.38939,     0.39039,     0.39139,     0.39239,     0.39339,     0.39439,      0.3954,      0.3964,      0.3974,      0.3984,      0.3994,      0.4004,      0.4014,      0.4024,      0.4034,      0.4044,     0.40541,     0.40641,     0.40741,\n",
       "           0.40841,     0.40941,     0.41041,     0.41141,     0.41241,     0.41341,     0.41441,     0.41542,     0.41642,     0.41742,     0.41842,     0.41942,     0.42042,     0.42142,     0.42242,     0.42342,     0.42442,     0.42543,     0.42643,     0.42743,     0.42843,     0.42943,     0.43043,     0.43143,\n",
       "           0.43243,     0.43343,     0.43443,     0.43544,     0.43644,     0.43744,     0.43844,     0.43944,     0.44044,     0.44144,     0.44244,     0.44344,     0.44444,     0.44545,     0.44645,     0.44745,     0.44845,     0.44945,     0.45045,     0.45145,     0.45245,     0.45345,     0.45445,     0.45546,\n",
       "           0.45646,     0.45746,     0.45846,     0.45946,     0.46046,     0.46146,     0.46246,     0.46346,     0.46446,     0.46547,     0.46647,     0.46747,     0.46847,     0.46947,     0.47047,     0.47147,     0.47247,     0.47347,     0.47447,     0.47548,     0.47648,     0.47748,     0.47848,     0.47948,\n",
       "           0.48048,     0.48148,     0.48248,     0.48348,     0.48448,     0.48549,     0.48649,     0.48749,     0.48849,     0.48949,     0.49049,     0.49149,     0.49249,     0.49349,     0.49449,      0.4955,      0.4965,      0.4975,      0.4985,      0.4995,      0.5005,      0.5015,      0.5025,      0.5035,\n",
       "            0.5045,     0.50551,     0.50651,     0.50751,     0.50851,     0.50951,     0.51051,     0.51151,     0.51251,     0.51351,     0.51451,     0.51552,     0.51652,     0.51752,     0.51852,     0.51952,     0.52052,     0.52152,     0.52252,     0.52352,     0.52452,     0.52553,     0.52653,     0.52753,\n",
       "           0.52853,     0.52953,     0.53053,     0.53153,     0.53253,     0.53353,     0.53453,     0.53554,     0.53654,     0.53754,     0.53854,     0.53954,     0.54054,     0.54154,     0.54254,     0.54354,     0.54454,     0.54555,     0.54655,     0.54755,     0.54855,     0.54955,     0.55055,     0.55155,\n",
       "           0.55255,     0.55355,     0.55455,     0.55556,     0.55656,     0.55756,     0.55856,     0.55956,     0.56056,     0.56156,     0.56256,     0.56356,     0.56456,     0.56557,     0.56657,     0.56757,     0.56857,     0.56957,     0.57057,     0.57157,     0.57257,     0.57357,     0.57457,     0.57558,\n",
       "           0.57658,     0.57758,     0.57858,     0.57958,     0.58058,     0.58158,     0.58258,     0.58358,     0.58458,     0.58559,     0.58659,     0.58759,     0.58859,     0.58959,     0.59059,     0.59159,     0.59259,     0.59359,     0.59459,      0.5956,      0.5966,      0.5976,      0.5986,      0.5996,\n",
       "            0.6006,      0.6016,      0.6026,      0.6036,      0.6046,     0.60561,     0.60661,     0.60761,     0.60861,     0.60961,     0.61061,     0.61161,     0.61261,     0.61361,     0.61461,     0.61562,     0.61662,     0.61762,     0.61862,     0.61962,     0.62062,     0.62162,     0.62262,     0.62362,\n",
       "           0.62462,     0.62563,     0.62663,     0.62763,     0.62863,     0.62963,     0.63063,     0.63163,     0.63263,     0.63363,     0.63463,     0.63564,     0.63664,     0.63764,     0.63864,     0.63964,     0.64064,     0.64164,     0.64264,     0.64364,     0.64464,     0.64565,     0.64665,     0.64765,\n",
       "           0.64865,     0.64965,     0.65065,     0.65165,     0.65265,     0.65365,     0.65465,     0.65566,     0.65666,     0.65766,     0.65866,     0.65966,     0.66066,     0.66166,     0.66266,     0.66366,     0.66466,     0.66567,     0.66667,     0.66767,     0.66867,     0.66967,     0.67067,     0.67167,\n",
       "           0.67267,     0.67367,     0.67467,     0.67568,     0.67668,     0.67768,     0.67868,     0.67968,     0.68068,     0.68168,     0.68268,     0.68368,     0.68468,     0.68569,     0.68669,     0.68769,     0.68869,     0.68969,     0.69069,     0.69169,     0.69269,     0.69369,     0.69469,      0.6957,\n",
       "            0.6967,      0.6977,      0.6987,      0.6997,      0.7007,      0.7017,      0.7027,      0.7037,      0.7047,     0.70571,     0.70671,     0.70771,     0.70871,     0.70971,     0.71071,     0.71171,     0.71271,     0.71371,     0.71471,     0.71572,     0.71672,     0.71772,     0.71872,     0.71972,\n",
       "           0.72072,     0.72172,     0.72272,     0.72372,     0.72472,     0.72573,     0.72673,     0.72773,     0.72873,     0.72973,     0.73073,     0.73173,     0.73273,     0.73373,     0.73473,     0.73574,     0.73674,     0.73774,     0.73874,     0.73974,     0.74074,     0.74174,     0.74274,     0.74374,\n",
       "           0.74474,     0.74575,     0.74675,     0.74775,     0.74875,     0.74975,     0.75075,     0.75175,     0.75275,     0.75375,     0.75475,     0.75576,     0.75676,     0.75776,     0.75876,     0.75976,     0.76076,     0.76176,     0.76276,     0.76376,     0.76476,     0.76577,     0.76677,     0.76777,\n",
       "           0.76877,     0.76977,     0.77077,     0.77177,     0.77277,     0.77377,     0.77477,     0.77578,     0.77678,     0.77778,     0.77878,     0.77978,     0.78078,     0.78178,     0.78278,     0.78378,     0.78478,     0.78579,     0.78679,     0.78779,     0.78879,     0.78979,     0.79079,     0.79179,\n",
       "           0.79279,     0.79379,     0.79479,      0.7958,      0.7968,      0.7978,      0.7988,      0.7998,      0.8008,      0.8018,      0.8028,      0.8038,      0.8048,     0.80581,     0.80681,     0.80781,     0.80881,     0.80981,     0.81081,     0.81181,     0.81281,     0.81381,     0.81481,     0.81582,\n",
       "           0.81682,     0.81782,     0.81882,     0.81982,     0.82082,     0.82182,     0.82282,     0.82382,     0.82482,     0.82583,     0.82683,     0.82783,     0.82883,     0.82983,     0.83083,     0.83183,     0.83283,     0.83383,     0.83483,     0.83584,     0.83684,     0.83784,     0.83884,     0.83984,\n",
       "           0.84084,     0.84184,     0.84284,     0.84384,     0.84484,     0.84585,     0.84685,     0.84785,     0.84885,     0.84985,     0.85085,     0.85185,     0.85285,     0.85385,     0.85485,     0.85586,     0.85686,     0.85786,     0.85886,     0.85986,     0.86086,     0.86186,     0.86286,     0.86386,\n",
       "           0.86486,     0.86587,     0.86687,     0.86787,     0.86887,     0.86987,     0.87087,     0.87187,     0.87287,     0.87387,     0.87487,     0.87588,     0.87688,     0.87788,     0.87888,     0.87988,     0.88088,     0.88188,     0.88288,     0.88388,     0.88488,     0.88589,     0.88689,     0.88789,\n",
       "           0.88889,     0.88989,     0.89089,     0.89189,     0.89289,     0.89389,     0.89489,      0.8959,      0.8969,      0.8979,      0.8989,      0.8999,      0.9009,      0.9019,      0.9029,      0.9039,      0.9049,     0.90591,     0.90691,     0.90791,     0.90891,     0.90991,     0.91091,     0.91191,\n",
       "           0.91291,     0.91391,     0.91491,     0.91592,     0.91692,     0.91792,     0.91892,     0.91992,     0.92092,     0.92192,     0.92292,     0.92392,     0.92492,     0.92593,     0.92693,     0.92793,     0.92893,     0.92993,     0.93093,     0.93193,     0.93293,     0.93393,     0.93493,     0.93594,\n",
       "           0.93694,     0.93794,     0.93894,     0.93994,     0.94094,     0.94194,     0.94294,     0.94394,     0.94494,     0.94595,     0.94695,     0.94795,     0.94895,     0.94995,     0.95095,     0.95195,     0.95295,     0.95395,     0.95495,     0.95596,     0.95696,     0.95796,     0.95896,     0.95996,\n",
       "           0.96096,     0.96196,     0.96296,     0.96396,     0.96496,     0.96597,     0.96697,     0.96797,     0.96897,     0.96997,     0.97097,     0.97197,     0.97297,     0.97397,     0.97497,     0.97598,     0.97698,     0.97798,     0.97898,     0.97998,     0.98098,     0.98198,     0.98298,     0.98398,\n",
       "           0.98498,     0.98599,     0.98699,     0.98799,     0.98899,     0.98999,     0.99099,     0.99199,     0.99299,     0.99399,     0.99499,       0.996,       0.997,       0.998,       0.999,           1]), array([[       0.09,        0.09,        0.09,        0.09,        0.09,        0.09,        0.09,        0.09,        0.09,        0.09,    0.095952,     0.12006,     0.14546,     0.17092,     0.20201,     0.23091,     0.25659,     0.27561,     0.29582,     0.32109,     0.33946,     0.36259,     0.38162,\n",
       "            0.39789,     0.40875,     0.42114,     0.43591,     0.44406,     0.45959,     0.47013,     0.48288,     0.49111,     0.49541,     0.50305,      0.5077,     0.51688,     0.52263,     0.52951,     0.53635,     0.54612,     0.55202,     0.55863,     0.56504,     0.57209,      0.5802,     0.58413,\n",
       "             0.5895,     0.59173,     0.59421,     0.59899,     0.60826,     0.61018,     0.61585,      0.6221,     0.62716,     0.63016,     0.63228,     0.64068,      0.6461,     0.65255,       0.654,     0.65923,     0.66302,     0.66569,     0.67166,     0.67382,     0.67711,     0.67926,     0.68341,\n",
       "            0.68673,     0.68934,     0.69154,     0.69544,     0.70055,     0.70554,     0.70653,     0.70904,     0.70975,     0.71047,     0.71622,     0.71805,     0.72163,      0.7225,     0.72319,     0.72413,     0.73028,     0.73323,     0.73443,     0.73521,     0.73636,     0.73803,     0.73958,\n",
       "            0.74466,     0.74791,     0.75023,     0.75164,     0.75376,     0.75904,       0.763,     0.76511,     0.76651,     0.76795,     0.76937,     0.77043,     0.77158,     0.77485,     0.77864,     0.78035,     0.78142,     0.78249,     0.78526,     0.78572,     0.78618,     0.78664,      0.7871,\n",
       "            0.79057,     0.79202,     0.79302,     0.79403,     0.79467,     0.79528,     0.79588,     0.79651,      0.7977,     0.79895,     0.80117,     0.80248,     0.80609,     0.80741,      0.8089,     0.81088,     0.81266,     0.81338,     0.81357,     0.81376,     0.81396,     0.81415,     0.81434,\n",
       "            0.81453,     0.81472,     0.81491,     0.81511,      0.8153,     0.81549,     0.81568,     0.81627,     0.81693,     0.81759,     0.81858,     0.82137,     0.82289,     0.82502,     0.82986,     0.83382,     0.83874,     0.83953,     0.84032,      0.8411,     0.84185,     0.84259,     0.84334,\n",
       "            0.84424,     0.84533,     0.84647,     0.84902,     0.85103,     0.85448,     0.85472,     0.85496,     0.85521,     0.85545,      0.8557,     0.85594,     0.85619,     0.85643,     0.85668,     0.85692,     0.85718,     0.85756,     0.85794,     0.85832,      0.8587,     0.85908,     0.85946,\n",
       "            0.85985,     0.86054,     0.86125,     0.86196,     0.86267,     0.86327,     0.86387,     0.86447,     0.86507,      0.8671,     0.87206,     0.87376,     0.87366,     0.87356,     0.87347,       0.874,     0.87681,     0.87777,     0.87872,     0.87921,     0.87941,     0.87962,     0.87982,\n",
       "            0.88003,     0.88023,     0.88043,     0.88064,     0.88084,     0.88105,     0.88125,     0.88145,     0.88166,     0.88186,     0.88373,       0.887,     0.88796,     0.88818,      0.8884,     0.88863,     0.88885,     0.88908,      0.8893,     0.88953,     0.88975,     0.88998,      0.8902,\n",
       "            0.89042,     0.89065,     0.89136,     0.89235,     0.89333,      0.8944,     0.89553,     0.89665,     0.89812,      0.8996,     0.89979,     0.89993,     0.90006,     0.90019,     0.90032,     0.90046,     0.90059,     0.90072,     0.90086,     0.90099,     0.90112,     0.90126,     0.90139,\n",
       "            0.90152,     0.90166,     0.90179,     0.90192,     0.90205,     0.90219,     0.90232,     0.90245,     0.90259,     0.90304,     0.90439,     0.90573,     0.90641,      0.9071,     0.90778,     0.90846,     0.90892,     0.90918,     0.90945,     0.90971,     0.90997,     0.91023,     0.91049,\n",
       "            0.91076,     0.91102,     0.91128,     0.91154,     0.91181,     0.91333,     0.91568,     0.91953,     0.92138,      0.9218,     0.92222,     0.92264,     0.92306,     0.92347,     0.92389,     0.92431,      0.9243,     0.92418,     0.92504,      0.9265,     0.92741,      0.9276,     0.92778,\n",
       "            0.92797,     0.92815,     0.92834,     0.92852,     0.92871,     0.92889,     0.92908,     0.92926,     0.92945,     0.92963,     0.92981,        0.93,     0.93018,     0.93037,     0.93055,     0.93076,     0.93097,     0.93118,     0.93138,     0.93159,      0.9318,     0.93201,     0.93221,\n",
       "            0.93242,     0.93263,     0.93284,     0.93304,     0.93325,     0.93346,     0.93367,     0.93394,     0.93433,     0.93472,     0.93511,      0.9355,      0.9359,     0.93629,     0.93668,      0.9372,     0.94033,      0.9403,     0.94028,     0.94025,     0.94022,      0.9402,     0.94017,\n",
       "            0.94015,     0.94045,     0.94083,     0.94121,      0.9416,     0.94198,     0.94236,     0.94274,     0.94312,     0.94348,     0.94372,     0.94395,     0.94419,     0.94442,     0.94465,     0.94489,     0.94512,     0.94536,     0.94559,     0.94583,     0.94606,      0.9463,     0.94653,\n",
       "            0.94676,     0.94677,     0.94673,     0.94669,     0.94664,     0.94703,     0.94787,      0.9487,     0.94953,     0.95013,     0.95043,     0.95073,     0.95103,     0.95133,     0.95163,     0.95193,     0.95223,     0.95254,     0.95284,     0.95314,     0.95347,     0.95413,     0.95479,\n",
       "            0.95544,      0.9561,     0.95675,     0.95708,     0.95736,     0.95765,     0.95793,     0.95821,     0.95849,     0.95877,     0.95905,     0.95934,     0.95962,      0.9599,     0.96018,     0.96067,     0.96129,     0.96191,     0.96253,     0.96315,     0.96377,     0.96403,     0.96428,\n",
       "            0.96454,     0.96479,     0.96505,      0.9653,     0.96556,     0.96581,     0.96607,     0.96633,     0.96658,     0.96684,     0.96709,     0.96733,     0.96754,     0.96775,     0.96796,     0.96817,     0.96838,     0.96859,      0.9688,     0.96901,     0.96922,     0.96943,     0.96964,\n",
       "            0.96985,     0.97005,     0.97026,     0.97047,     0.97068,     0.97091,     0.97116,     0.97141,     0.97166,     0.97191,     0.97216,     0.97241,     0.97266,     0.97291,     0.97316,     0.97341,     0.97366,     0.97391,     0.97416,     0.97443,     0.97482,      0.9752,     0.97559,\n",
       "            0.97597,     0.97636,     0.97674,     0.97713,     0.97751,      0.9779,     0.97791,     0.97787,     0.97818,     0.97856,     0.97893,      0.9793,     0.97968,     0.98005,     0.98043,      0.9808,     0.98118,     0.98155,      0.9819,     0.98225,     0.98261,     0.98296,     0.98331,\n",
       "            0.98366,     0.98402,     0.98437,     0.98472,     0.98508,     0.98508,      0.9856,     0.98615,      0.9867,     0.98725,      0.9878,     0.98835,     0.98876,     0.98875,     0.98874,     0.98873,     0.98871,     0.98869,     0.98868,     0.98868,     0.98868,     0.98867,     0.98867,\n",
       "            0.98867,     0.98867,     0.98867,     0.98867,     0.98867,     0.98866,     0.98866,     0.98866,     0.98866,     0.98866,     0.98866,     0.98866,     0.98865,     0.98865,     0.98865,     0.98865,     0.98865,     0.98865,     0.98865,     0.98865,     0.98864,     0.98864,     0.98864,\n",
       "            0.98864,     0.98864,     0.98864,     0.98863,     0.98861,      0.9886,     0.98859,     0.98859,     0.98859,     0.98858,     0.98858,     0.98858,     0.98858,     0.98857,     0.98857,     0.98857,     0.98857,     0.98856,     0.98856,     0.98856,     0.98856,     0.98855,     0.98855,\n",
       "            0.98855,     0.98855,     0.98854,     0.98854,     0.98854,     0.98853,     0.98853,     0.98853,     0.98852,     0.98852,     0.98852,     0.98852,     0.98851,     0.98851,     0.98851,      0.9885,      0.9885,      0.9885,      0.9885,     0.98849,     0.98849,     0.98849,     0.98849,\n",
       "            0.98848,     0.98848,     0.98848,     0.98848,     0.98847,     0.98847,     0.98847,     0.98847,     0.98846,     0.98846,     0.98846,     0.98845,     0.98845,     0.98844,     0.98844,     0.98843,     0.98843,     0.98842,     0.98842,     0.98841,     0.98841,     0.98841,     0.98841,\n",
       "             0.9884,      0.9884,      0.9884,      0.9884,     0.98839,     0.98839,     0.98839,     0.98839,     0.98838,     0.98838,     0.98838,     0.98838,     0.98838,     0.98837,     0.99221,     0.99219,     0.99218,     0.99218,     0.99218,     0.99217,     0.99217,     0.99217,     0.99216,\n",
       "            0.99216,     0.99216,     0.99287,     0.99359,     0.99431,     0.99504,     0.99576,     0.99606,     0.99603,     0.99603,     0.99602,     0.99602,     0.99601,       0.996,       0.996,     0.99599,     0.99599,     0.99599,     0.99599,     0.99598,     0.99598,     0.99598,     0.99598,\n",
       "            0.99598,     0.99598,     0.99598,     0.99598,     0.99598,     0.99597,     0.99597,     0.99597,     0.99597,     0.99597,     0.99597,     0.99597,     0.99597,     0.99596,     0.99595,     0.99595,     0.99594,     0.99594,     0.99594,     0.99593,     0.99593,     0.99593,     0.99593,\n",
       "            0.99593,     0.99593,     0.99592,     0.99592,     0.99592,     0.99592,     0.99592,     0.99591,     0.99591,      0.9959,      0.9959,     0.99589,     0.99588,     0.99588,     0.99587,     0.99587,           1,           1,           1,           1,           1,           1,           1,\n",
       "                  1,           1,           1,           1,           1,           1,           1,           1,           1,           1,           1,           1,           1,           1,           1,           1,           1,           1,           1,           1,           1,           1,           1,\n",
       "                  1,           1,           1,           1,           1,           1,           1,           1,           1,           1,           1,           1,           1,           1,           1,           1,           1,           1,           1,           1,           1,           1,           1,\n",
       "                  1,           1,           1,           1,           1,           1,           1,           1,           1,           1,           1,           1,           1,           1,           1,           1,           1,           1,           1,           1,           1,           1,           1,\n",
       "                  1,           1,           1,           1,           1,           1,           1,           1,           1,           1,           1,           1,           1,           1,           1,           1,           1,           1,           1,           1,           1,           1,           1,\n",
       "                  1,           1,           1,           1,           1,           1,           1,           1,           1,           1,           1,           1,           1,           1,           1,           1,           1,           1,           1,           1,           1,           1,           1,\n",
       "                  1,           1,           1,           1,           1,           1,           1,           1,           1,           1,           1,           1,           1,           1,           1,           1,           1,           1,           1,           1,           1,           1,           1,\n",
       "                  1,           1,           1,           1,           1,           1,           1,           1,           1,           1,           1,           1,           1,           1,           1,           1,           1,           1,           1,           1,           1,           1,           1,\n",
       "                  1,           1,           1,           1,           1,           1,           1,           1,           1,           1,           1,           1,           1,           1,           1,           1,           1,           1,           1,           1,           1,           1,           1,\n",
       "                  1,           1,           1,           1,           1,           1,           1,           1,           1,           1,           1,           1,           1,           1,           1,           1,           1,           1,           1,           1,           1,           1,           1,\n",
       "                  1,           1,           1,           1,           1,           1,           1,           1,           1,           1,           1,           1,           1,           1,           1,           1,           1,           1,           1,           1,           1,           1,           1,\n",
       "                  1,           1,           1,           1,           1,           1,           1,           1,           1,           1,           1,           1,           1,           1,           1,           1,           1,           1,           1,           1,           1,           1,           1,\n",
       "                  1,           1,           1,           1,           1,           1,           1,           1,           1,           1,           1,           1,           1,           1,           1,           1,           1,           1,           1,           1,           1,           1,           1,\n",
       "                  1,           1,           1,           1,           1,           1,           1,           1,           1,           1,           1,           1,           1,           1,           1,           1,           1,           1,           1,           1,           1,           1,           1,\n",
       "                  1,           1,           1,           1,           1,           1,           1,           1,           1,           1,           1]]), 'Confidence', 'Precision'], [array([          0,    0.001001,    0.002002,    0.003003,    0.004004,    0.005005,    0.006006,    0.007007,    0.008008,    0.009009,     0.01001,    0.011011,    0.012012,    0.013013,    0.014014,    0.015015,    0.016016,    0.017017,    0.018018,    0.019019,     0.02002,    0.021021,    0.022022,    0.023023,\n",
       "          0.024024,    0.025025,    0.026026,    0.027027,    0.028028,    0.029029,     0.03003,    0.031031,    0.032032,    0.033033,    0.034034,    0.035035,    0.036036,    0.037037,    0.038038,    0.039039,     0.04004,    0.041041,    0.042042,    0.043043,    0.044044,    0.045045,    0.046046,    0.047047,\n",
       "          0.048048,    0.049049,     0.05005,    0.051051,    0.052052,    0.053053,    0.054054,    0.055055,    0.056056,    0.057057,    0.058058,    0.059059,     0.06006,    0.061061,    0.062062,    0.063063,    0.064064,    0.065065,    0.066066,    0.067067,    0.068068,    0.069069,     0.07007,    0.071071,\n",
       "          0.072072,    0.073073,    0.074074,    0.075075,    0.076076,    0.077077,    0.078078,    0.079079,     0.08008,    0.081081,    0.082082,    0.083083,    0.084084,    0.085085,    0.086086,    0.087087,    0.088088,    0.089089,     0.09009,    0.091091,    0.092092,    0.093093,    0.094094,    0.095095,\n",
       "          0.096096,    0.097097,    0.098098,    0.099099,      0.1001,      0.1011,      0.1021,      0.1031,      0.1041,     0.10511,     0.10611,     0.10711,     0.10811,     0.10911,     0.11011,     0.11111,     0.11211,     0.11311,     0.11411,     0.11512,     0.11612,     0.11712,     0.11812,     0.11912,\n",
       "           0.12012,     0.12112,     0.12212,     0.12312,     0.12412,     0.12513,     0.12613,     0.12713,     0.12813,     0.12913,     0.13013,     0.13113,     0.13213,     0.13313,     0.13413,     0.13514,     0.13614,     0.13714,     0.13814,     0.13914,     0.14014,     0.14114,     0.14214,     0.14314,\n",
       "           0.14414,     0.14515,     0.14615,     0.14715,     0.14815,     0.14915,     0.15015,     0.15115,     0.15215,     0.15315,     0.15415,     0.15516,     0.15616,     0.15716,     0.15816,     0.15916,     0.16016,     0.16116,     0.16216,     0.16316,     0.16416,     0.16517,     0.16617,     0.16717,\n",
       "           0.16817,     0.16917,     0.17017,     0.17117,     0.17217,     0.17317,     0.17417,     0.17518,     0.17618,     0.17718,     0.17818,     0.17918,     0.18018,     0.18118,     0.18218,     0.18318,     0.18418,     0.18519,     0.18619,     0.18719,     0.18819,     0.18919,     0.19019,     0.19119,\n",
       "           0.19219,     0.19319,     0.19419,      0.1952,      0.1962,      0.1972,      0.1982,      0.1992,      0.2002,      0.2012,      0.2022,      0.2032,      0.2042,     0.20521,     0.20621,     0.20721,     0.20821,     0.20921,     0.21021,     0.21121,     0.21221,     0.21321,     0.21421,     0.21522,\n",
       "           0.21622,     0.21722,     0.21822,     0.21922,     0.22022,     0.22122,     0.22222,     0.22322,     0.22422,     0.22523,     0.22623,     0.22723,     0.22823,     0.22923,     0.23023,     0.23123,     0.23223,     0.23323,     0.23423,     0.23524,     0.23624,     0.23724,     0.23824,     0.23924,\n",
       "           0.24024,     0.24124,     0.24224,     0.24324,     0.24424,     0.24525,     0.24625,     0.24725,     0.24825,     0.24925,     0.25025,     0.25125,     0.25225,     0.25325,     0.25425,     0.25526,     0.25626,     0.25726,     0.25826,     0.25926,     0.26026,     0.26126,     0.26226,     0.26326,\n",
       "           0.26426,     0.26527,     0.26627,     0.26727,     0.26827,     0.26927,     0.27027,     0.27127,     0.27227,     0.27327,     0.27427,     0.27528,     0.27628,     0.27728,     0.27828,     0.27928,     0.28028,     0.28128,     0.28228,     0.28328,     0.28428,     0.28529,     0.28629,     0.28729,\n",
       "           0.28829,     0.28929,     0.29029,     0.29129,     0.29229,     0.29329,     0.29429,      0.2953,      0.2963,      0.2973,      0.2983,      0.2993,      0.3003,      0.3013,      0.3023,      0.3033,      0.3043,     0.30531,     0.30631,     0.30731,     0.30831,     0.30931,     0.31031,     0.31131,\n",
       "           0.31231,     0.31331,     0.31431,     0.31532,     0.31632,     0.31732,     0.31832,     0.31932,     0.32032,     0.32132,     0.32232,     0.32332,     0.32432,     0.32533,     0.32633,     0.32733,     0.32833,     0.32933,     0.33033,     0.33133,     0.33233,     0.33333,     0.33433,     0.33534,\n",
       "           0.33634,     0.33734,     0.33834,     0.33934,     0.34034,     0.34134,     0.34234,     0.34334,     0.34434,     0.34535,     0.34635,     0.34735,     0.34835,     0.34935,     0.35035,     0.35135,     0.35235,     0.35335,     0.35435,     0.35536,     0.35636,     0.35736,     0.35836,     0.35936,\n",
       "           0.36036,     0.36136,     0.36236,     0.36336,     0.36436,     0.36537,     0.36637,     0.36737,     0.36837,     0.36937,     0.37037,     0.37137,     0.37237,     0.37337,     0.37437,     0.37538,     0.37638,     0.37738,     0.37838,     0.37938,     0.38038,     0.38138,     0.38238,     0.38338,\n",
       "           0.38438,     0.38539,     0.38639,     0.38739,     0.38839,     0.38939,     0.39039,     0.39139,     0.39239,     0.39339,     0.39439,      0.3954,      0.3964,      0.3974,      0.3984,      0.3994,      0.4004,      0.4014,      0.4024,      0.4034,      0.4044,     0.40541,     0.40641,     0.40741,\n",
       "           0.40841,     0.40941,     0.41041,     0.41141,     0.41241,     0.41341,     0.41441,     0.41542,     0.41642,     0.41742,     0.41842,     0.41942,     0.42042,     0.42142,     0.42242,     0.42342,     0.42442,     0.42543,     0.42643,     0.42743,     0.42843,     0.42943,     0.43043,     0.43143,\n",
       "           0.43243,     0.43343,     0.43443,     0.43544,     0.43644,     0.43744,     0.43844,     0.43944,     0.44044,     0.44144,     0.44244,     0.44344,     0.44444,     0.44545,     0.44645,     0.44745,     0.44845,     0.44945,     0.45045,     0.45145,     0.45245,     0.45345,     0.45445,     0.45546,\n",
       "           0.45646,     0.45746,     0.45846,     0.45946,     0.46046,     0.46146,     0.46246,     0.46346,     0.46446,     0.46547,     0.46647,     0.46747,     0.46847,     0.46947,     0.47047,     0.47147,     0.47247,     0.47347,     0.47447,     0.47548,     0.47648,     0.47748,     0.47848,     0.47948,\n",
       "           0.48048,     0.48148,     0.48248,     0.48348,     0.48448,     0.48549,     0.48649,     0.48749,     0.48849,     0.48949,     0.49049,     0.49149,     0.49249,     0.49349,     0.49449,      0.4955,      0.4965,      0.4975,      0.4985,      0.4995,      0.5005,      0.5015,      0.5025,      0.5035,\n",
       "            0.5045,     0.50551,     0.50651,     0.50751,     0.50851,     0.50951,     0.51051,     0.51151,     0.51251,     0.51351,     0.51451,     0.51552,     0.51652,     0.51752,     0.51852,     0.51952,     0.52052,     0.52152,     0.52252,     0.52352,     0.52452,     0.52553,     0.52653,     0.52753,\n",
       "           0.52853,     0.52953,     0.53053,     0.53153,     0.53253,     0.53353,     0.53453,     0.53554,     0.53654,     0.53754,     0.53854,     0.53954,     0.54054,     0.54154,     0.54254,     0.54354,     0.54454,     0.54555,     0.54655,     0.54755,     0.54855,     0.54955,     0.55055,     0.55155,\n",
       "           0.55255,     0.55355,     0.55455,     0.55556,     0.55656,     0.55756,     0.55856,     0.55956,     0.56056,     0.56156,     0.56256,     0.56356,     0.56456,     0.56557,     0.56657,     0.56757,     0.56857,     0.56957,     0.57057,     0.57157,     0.57257,     0.57357,     0.57457,     0.57558,\n",
       "           0.57658,     0.57758,     0.57858,     0.57958,     0.58058,     0.58158,     0.58258,     0.58358,     0.58458,     0.58559,     0.58659,     0.58759,     0.58859,     0.58959,     0.59059,     0.59159,     0.59259,     0.59359,     0.59459,      0.5956,      0.5966,      0.5976,      0.5986,      0.5996,\n",
       "            0.6006,      0.6016,      0.6026,      0.6036,      0.6046,     0.60561,     0.60661,     0.60761,     0.60861,     0.60961,     0.61061,     0.61161,     0.61261,     0.61361,     0.61461,     0.61562,     0.61662,     0.61762,     0.61862,     0.61962,     0.62062,     0.62162,     0.62262,     0.62362,\n",
       "           0.62462,     0.62563,     0.62663,     0.62763,     0.62863,     0.62963,     0.63063,     0.63163,     0.63263,     0.63363,     0.63463,     0.63564,     0.63664,     0.63764,     0.63864,     0.63964,     0.64064,     0.64164,     0.64264,     0.64364,     0.64464,     0.64565,     0.64665,     0.64765,\n",
       "           0.64865,     0.64965,     0.65065,     0.65165,     0.65265,     0.65365,     0.65465,     0.65566,     0.65666,     0.65766,     0.65866,     0.65966,     0.66066,     0.66166,     0.66266,     0.66366,     0.66466,     0.66567,     0.66667,     0.66767,     0.66867,     0.66967,     0.67067,     0.67167,\n",
       "           0.67267,     0.67367,     0.67467,     0.67568,     0.67668,     0.67768,     0.67868,     0.67968,     0.68068,     0.68168,     0.68268,     0.68368,     0.68468,     0.68569,     0.68669,     0.68769,     0.68869,     0.68969,     0.69069,     0.69169,     0.69269,     0.69369,     0.69469,      0.6957,\n",
       "            0.6967,      0.6977,      0.6987,      0.6997,      0.7007,      0.7017,      0.7027,      0.7037,      0.7047,     0.70571,     0.70671,     0.70771,     0.70871,     0.70971,     0.71071,     0.71171,     0.71271,     0.71371,     0.71471,     0.71572,     0.71672,     0.71772,     0.71872,     0.71972,\n",
       "           0.72072,     0.72172,     0.72272,     0.72372,     0.72472,     0.72573,     0.72673,     0.72773,     0.72873,     0.72973,     0.73073,     0.73173,     0.73273,     0.73373,     0.73473,     0.73574,     0.73674,     0.73774,     0.73874,     0.73974,     0.74074,     0.74174,     0.74274,     0.74374,\n",
       "           0.74474,     0.74575,     0.74675,     0.74775,     0.74875,     0.74975,     0.75075,     0.75175,     0.75275,     0.75375,     0.75475,     0.75576,     0.75676,     0.75776,     0.75876,     0.75976,     0.76076,     0.76176,     0.76276,     0.76376,     0.76476,     0.76577,     0.76677,     0.76777,\n",
       "           0.76877,     0.76977,     0.77077,     0.77177,     0.77277,     0.77377,     0.77477,     0.77578,     0.77678,     0.77778,     0.77878,     0.77978,     0.78078,     0.78178,     0.78278,     0.78378,     0.78478,     0.78579,     0.78679,     0.78779,     0.78879,     0.78979,     0.79079,     0.79179,\n",
       "           0.79279,     0.79379,     0.79479,      0.7958,      0.7968,      0.7978,      0.7988,      0.7998,      0.8008,      0.8018,      0.8028,      0.8038,      0.8048,     0.80581,     0.80681,     0.80781,     0.80881,     0.80981,     0.81081,     0.81181,     0.81281,     0.81381,     0.81481,     0.81582,\n",
       "           0.81682,     0.81782,     0.81882,     0.81982,     0.82082,     0.82182,     0.82282,     0.82382,     0.82482,     0.82583,     0.82683,     0.82783,     0.82883,     0.82983,     0.83083,     0.83183,     0.83283,     0.83383,     0.83483,     0.83584,     0.83684,     0.83784,     0.83884,     0.83984,\n",
       "           0.84084,     0.84184,     0.84284,     0.84384,     0.84484,     0.84585,     0.84685,     0.84785,     0.84885,     0.84985,     0.85085,     0.85185,     0.85285,     0.85385,     0.85485,     0.85586,     0.85686,     0.85786,     0.85886,     0.85986,     0.86086,     0.86186,     0.86286,     0.86386,\n",
       "           0.86486,     0.86587,     0.86687,     0.86787,     0.86887,     0.86987,     0.87087,     0.87187,     0.87287,     0.87387,     0.87487,     0.87588,     0.87688,     0.87788,     0.87888,     0.87988,     0.88088,     0.88188,     0.88288,     0.88388,     0.88488,     0.88589,     0.88689,     0.88789,\n",
       "           0.88889,     0.88989,     0.89089,     0.89189,     0.89289,     0.89389,     0.89489,      0.8959,      0.8969,      0.8979,      0.8989,      0.8999,      0.9009,      0.9019,      0.9029,      0.9039,      0.9049,     0.90591,     0.90691,     0.90791,     0.90891,     0.90991,     0.91091,     0.91191,\n",
       "           0.91291,     0.91391,     0.91491,     0.91592,     0.91692,     0.91792,     0.91892,     0.91992,     0.92092,     0.92192,     0.92292,     0.92392,     0.92492,     0.92593,     0.92693,     0.92793,     0.92893,     0.92993,     0.93093,     0.93193,     0.93293,     0.93393,     0.93493,     0.93594,\n",
       "           0.93694,     0.93794,     0.93894,     0.93994,     0.94094,     0.94194,     0.94294,     0.94394,     0.94494,     0.94595,     0.94695,     0.94795,     0.94895,     0.94995,     0.95095,     0.95195,     0.95295,     0.95395,     0.95495,     0.95596,     0.95696,     0.95796,     0.95896,     0.95996,\n",
       "           0.96096,     0.96196,     0.96296,     0.96396,     0.96496,     0.96597,     0.96697,     0.96797,     0.96897,     0.96997,     0.97097,     0.97197,     0.97297,     0.97397,     0.97497,     0.97598,     0.97698,     0.97798,     0.97898,     0.97998,     0.98098,     0.98198,     0.98298,     0.98398,\n",
       "           0.98498,     0.98599,     0.98699,     0.98799,     0.98899,     0.98999,     0.99099,     0.99199,     0.99299,     0.99399,     0.99499,       0.996,       0.997,       0.998,       0.999,           1]), array([[          1,           1,           1,           1,           1,           1,           1,           1,           1,           1,           1,           1,           1,           1,           1,           1,           1,           1,           1,           1,           1,           1,           1,\n",
       "                  1,           1,           1,           1,           1,           1,           1,           1,           1,           1,           1,           1,           1,           1,           1,           1,           1,           1,           1,           1,           1,           1,           1,\n",
       "                  1,           1,           1,           1,           1,           1,           1,           1,           1,           1,           1,           1,           1,           1,           1,           1,           1,           1,           1,           1,           1,           1,           1,\n",
       "                  1,           1,           1,           1,           1,           1,           1,           1,           1,           1,           1,           1,           1,           1,           1,           1,           1,           1,           1,           1,           1,           1,           1,\n",
       "                  1,           1,           1,           1,           1,           1,           1,           1,           1,           1,           1,           1,           1,           1,           1,           1,           1,           1,           1,           1,           1,           1,           1,\n",
       "                  1,           1,           1,           1,           1,           1,           1,           1,           1,           1,           1,           1,           1,           1,           1,           1,           1,           1,           1,           1,           1,           1,           1,\n",
       "                  1,           1,           1,           1,           1,           1,           1,           1,           1,           1,           1,           1,           1,           1,           1,           1,           1,           1,           1,           1,           1,           1,           1,\n",
       "                  1,           1,           1,           1,           1,           1,           1,           1,           1,           1,           1,           1,           1,           1,           1,           1,           1,           1,           1,           1,           1,           1,           1,\n",
       "                  1,           1,           1,           1,           1,           1,           1,           1,           1,           1,           1,     0.99978,     0.99889,     0.99799,      0.9971,      0.9963,      0.9963,      0.9963,      0.9963,      0.9963,      0.9963,      0.9963,      0.9963,\n",
       "             0.9963,      0.9963,      0.9963,      0.9963,      0.9963,      0.9963,      0.9963,      0.9963,      0.9963,      0.9963,      0.9963,      0.9963,      0.9963,      0.9963,      0.9963,      0.9963,      0.9963,      0.9963,      0.9963,      0.9963,      0.9963,      0.9963,      0.9963,\n",
       "             0.9963,      0.9963,      0.9963,      0.9963,      0.9963,      0.9963,      0.9963,      0.9963,      0.9963,      0.9963,      0.9963,      0.9963,      0.9963,      0.9963,      0.9963,      0.9963,      0.9963,      0.9963,      0.9963,      0.9963,      0.9963,      0.9963,      0.9963,\n",
       "             0.9963,      0.9963,      0.9963,      0.9963,      0.9963,      0.9963,      0.9963,      0.9963,      0.9963,      0.9963,      0.9963,      0.9963,      0.9963,      0.9963,      0.9963,      0.9963,      0.9963,      0.9963,      0.9963,      0.9963,      0.9963,      0.9963,      0.9963,\n",
       "             0.9963,      0.9963,      0.9963,      0.9963,      0.9963,      0.9963,      0.9963,      0.9963,      0.9963,      0.9963,      0.9963,      0.9963,      0.9963,      0.9963,      0.9963,      0.9963,     0.99495,     0.99325,     0.99259,     0.99259,     0.99259,     0.99259,     0.99259,\n",
       "            0.99259,     0.99259,     0.99259,     0.99259,     0.99259,     0.99259,     0.99259,     0.99259,     0.99259,     0.99259,     0.99259,     0.99259,     0.99259,     0.99259,     0.99259,     0.99259,     0.99259,     0.99259,     0.99259,     0.99259,     0.99259,     0.99259,     0.99259,\n",
       "            0.99259,     0.99259,     0.99259,     0.99259,     0.99259,     0.99259,     0.99259,     0.99259,     0.99259,     0.99259,     0.99259,     0.99259,     0.99259,     0.99259,     0.99259,     0.99259,     0.99222,     0.99175,     0.99129,     0.99083,     0.99036,      0.9899,     0.98943,\n",
       "            0.98897,     0.98889,     0.98889,     0.98889,     0.98889,     0.98889,     0.98889,     0.98889,     0.98889,     0.98889,     0.98889,     0.98889,     0.98889,     0.98889,     0.98889,     0.98889,     0.98889,     0.98889,     0.98889,     0.98889,     0.98889,     0.98889,     0.98889,\n",
       "            0.98889,     0.98819,     0.98734,     0.98648,     0.98562,     0.98519,     0.98519,     0.98519,     0.98519,     0.98519,     0.98519,     0.98519,     0.98519,     0.98519,     0.98519,     0.98519,     0.98519,     0.98519,     0.98519,     0.98519,     0.98519,     0.98519,     0.98519,\n",
       "            0.98519,     0.98519,     0.98519,     0.98519,     0.98519,     0.98519,     0.98519,     0.98519,     0.98519,     0.98519,     0.98519,     0.98519,     0.98519,     0.98519,     0.98519,     0.98519,     0.98519,     0.98519,     0.98519,     0.98519,     0.98519,     0.98519,     0.98519,\n",
       "            0.98519,     0.98519,     0.98519,     0.98519,     0.98519,     0.98519,     0.98519,     0.98519,     0.98519,     0.98519,     0.98519,     0.98519,     0.98519,     0.98519,     0.98519,     0.98519,     0.98519,     0.98519,     0.98519,     0.98519,     0.98519,     0.98519,     0.98519,\n",
       "            0.98519,     0.98519,     0.98519,     0.98519,     0.98519,     0.98519,     0.98519,     0.98519,     0.98519,     0.98519,     0.98519,     0.98519,     0.98519,     0.98519,     0.98519,     0.98519,     0.98519,     0.98519,     0.98519,     0.98519,     0.98519,     0.98519,     0.98519,\n",
       "            0.98519,     0.98519,     0.98519,     0.98519,     0.98519,     0.98519,     0.98357,     0.98174,     0.98148,     0.98148,     0.98148,     0.98148,     0.98148,     0.98148,     0.98148,     0.98148,     0.98148,     0.98148,     0.98148,     0.98148,     0.98148,     0.98148,     0.98148,\n",
       "            0.98148,     0.98148,     0.98148,     0.98148,     0.98148,     0.97798,     0.97778,     0.97778,     0.97778,     0.97778,     0.97778,     0.97778,     0.97752,     0.97653,     0.97555,     0.97456,     0.97316,     0.97137,     0.97032,      0.9702,     0.97008,     0.96995,     0.96983,\n",
       "            0.96971,     0.96959,     0.96947,     0.96935,     0.96923,     0.96911,     0.96899,     0.96887,     0.96875,     0.96863,      0.9685,     0.96838,     0.96826,     0.96814,     0.96802,      0.9679,     0.96778,     0.96766,     0.96754,     0.96742,      0.9673,     0.96718,     0.96705,\n",
       "            0.96693,     0.96681,     0.96669,     0.96579,     0.96468,     0.96357,     0.96286,     0.96265,     0.96243,     0.96221,       0.962,     0.96178,     0.96156,     0.96134,     0.96113,     0.96091,     0.96069,     0.96048,     0.96026,     0.96004,     0.95982,     0.95961,     0.95939,\n",
       "            0.95916,      0.9589,     0.95865,      0.9584,     0.95814,     0.95789,     0.95764,     0.95738,     0.95713,     0.95688,     0.95662,     0.95637,     0.95612,     0.95586,     0.95561,     0.95539,     0.95519,     0.95498,     0.95477,     0.95457,     0.95436,     0.95416,     0.95395,\n",
       "            0.95374,     0.95354,     0.95333,     0.95313,     0.95292,     0.95271,     0.95251,      0.9523,      0.9521,     0.95189,      0.9515,     0.95107,     0.95064,     0.95021,     0.94978,     0.94936,     0.94893,      0.9485,     0.94811,     0.94791,     0.94771,     0.94751,     0.94731,\n",
       "             0.9471,      0.9469,      0.9467,      0.9465,      0.9463,      0.9461,      0.9459,      0.9457,     0.94549,     0.94529,     0.94509,     0.94489,     0.94469,     0.94449,     0.94334,     0.94046,     0.94008,      0.9397,     0.93932,     0.93894,     0.93856,     0.93818,      0.9378,\n",
       "            0.93742,     0.93704,     0.93704,     0.93704,     0.93704,     0.93704,     0.93704,      0.9354,     0.92945,      0.9283,     0.92716,     0.92601,      0.9244,     0.92275,     0.92175,     0.92105,     0.92036,     0.91966,     0.91897,     0.91844,     0.91822,     0.91799,     0.91777,\n",
       "            0.91755,     0.91732,      0.9171,     0.91687,     0.91665,     0.91643,      0.9162,     0.91598,     0.91576,     0.91553,     0.91531,     0.91508,     0.91486,     0.91334,     0.91147,     0.91037,     0.90945,     0.90854,     0.90762,     0.90713,     0.90677,     0.90642,     0.90606,\n",
       "             0.9057,     0.90534,     0.90498,     0.90463,     0.90427,     0.90391,     0.90332,     0.90241,     0.90149,     0.90058,      0.8992,     0.89703,     0.89569,     0.89477,     0.89385,     0.89293,     0.89249,     0.89129,     0.89008,     0.88888,     0.88758,     0.88628,     0.88469,\n",
       "            0.88149,     0.87698,     0.87611,     0.87524,     0.87436,     0.87255,     0.87033,     0.86939,     0.86844,      0.8675,     0.86654,     0.86552,      0.8645,     0.86348,     0.86266,     0.86204,     0.86142,      0.8608,     0.86018,     0.85955,     0.85838,     0.85671,     0.85243,\n",
       "            0.85129,     0.85069,     0.85009,      0.8495,      0.8489,      0.8483,     0.84731,     0.84618,     0.84505,     0.84406,     0.84323,      0.8424,     0.84157,     0.84074,     0.84018,     0.83963,     0.83907,     0.83852,     0.83796,      0.8374,     0.83691,     0.83654,     0.83617,\n",
       "             0.8358,     0.83543,     0.83506,     0.83469,     0.83432,     0.83394,     0.83357,       0.833,     0.83203,     0.83107,      0.8301,     0.82729,     0.82515,     0.82404,     0.82293,     0.82196,     0.82124,     0.82053,     0.81981,     0.81909,     0.81815,     0.81636,      0.8146,\n",
       "            0.81297,     0.81135,     0.80535,     0.80217,     0.80028,      0.7961,     0.79515,      0.7942,     0.79325,      0.7923,     0.79136,     0.79042,     0.78948,     0.78856,      0.7877,     0.78683,     0.78597,      0.7851,     0.78424,     0.78338,     0.78251,     0.78165,     0.78073,\n",
       "            0.77979,     0.77885,     0.77791,      0.7772,     0.77653,     0.77586,     0.77518,     0.77451,      0.7724,     0.77001,     0.76939,     0.76878,     0.76816,     0.76754,     0.76692,     0.76193,     0.75856,     0.75767,     0.75678,     0.75589,     0.75304,     0.75059,     0.74879,\n",
       "            0.74565,     0.74109,     0.73939,     0.73792,     0.73426,     0.73189,     0.73023,     0.72927,      0.7287,     0.72814,     0.72757,     0.72701,     0.72644,     0.72576,       0.724,     0.72224,     0.71701,     0.71167,     0.70577,     0.70188,      0.6925,     0.69153,     0.69055,\n",
       "            0.68958,     0.68509,     0.68443,     0.68376,      0.6831,     0.68243,     0.68177,     0.67735,     0.67214,     0.66653,     0.66333,     0.65722,     0.65456,     0.65115,     0.64767,     0.64662,     0.64558,     0.64454,     0.64268,     0.64074,     0.63842,     0.63649,     0.63513,\n",
       "            0.63377,     0.62801,     0.62289,     0.61018,     0.60515,     0.60181,     0.59464,     0.59198,     0.59112,     0.59027,     0.58942,     0.58422,     0.57834,     0.56914,     0.55884,     0.55731,     0.55577,     0.54949,     0.54002,     0.53323,     0.52708,     0.52342,     0.51267,\n",
       "            0.50804,      0.5019,     0.49743,     0.49266,     0.49008,     0.48607,     0.47864,     0.47432,     0.46838,     0.46616,     0.46399,     0.45969,      0.4532,     0.44906,     0.44184,      0.4362,     0.43401,     0.42876,      0.4224,     0.41947,      0.4155,     0.41118,     0.39238,\n",
       "            0.38132,     0.37775,      0.3749,     0.36107,     0.35432,     0.34399,      0.3374,     0.32638,     0.32029,     0.31709,     0.30904,     0.30102,     0.29502,     0.29298,     0.28941,     0.28142,     0.27425,     0.26862,     0.26412,     0.25808,     0.25571,     0.24928,     0.24296,\n",
       "             0.2408,     0.23473,     0.22917,     0.22722,     0.22192,     0.21977,     0.21475,     0.21299,     0.21123,     0.20146,     0.19539,     0.18538,     0.18169,     0.16824,     0.16321,     0.16046,     0.15351,     0.14558,      0.1427,     0.14023,     0.13856,     0.13279,     0.12119,\n",
       "             0.1168,     0.11039,     0.10848,     0.10707,     0.10629,      0.1055,     0.10472,     0.10394,    0.089207,    0.083418,    0.076465,     0.07193,    0.067903,    0.060355,    0.056407,    0.049035,    0.042512,    0.040242,    0.037491,    0.034814,    0.031034,    0.028148,    0.026116,\n",
       "           0.021901,    0.021044,    0.020188,    0.019331,    0.018216,     0.01429,    0.013051,    0.011811,    0.010654,   0.0096062,    0.008558,   0.0075098,   0.0070544,   0.0066632,    0.006272,   0.0058807,   0.0054895,   0.0050983,   0.0047071,   0.0043158,   0.0039246,           0,           0,\n",
       "                  0,           0,           0,           0,           0,           0,           0,           0,           0,           0,           0]]), 'Confidence', 'Recall']]\n",
       "fitness: 1.3932329006372584\n",
       "keys: ['metrics/precision(B)', 'metrics/recall(B)', 'metrics/mAP50(B)', 'metrics/mAP50-95(B)', 'metrics/precision(M)', 'metrics/recall(M)', 'metrics/mAP50(M)', 'metrics/mAP50-95(M)']\n",
       "maps: array([     1.3273])\n",
       "names: {0: 'Individual Tooth'}\n",
       "plot: True\n",
       "results_dict: {'metrics/precision(B)': 0.9742208254855852, 'metrics/recall(B)': 0.9814814814814815, 'metrics/mAP50(B)': 0.9933031152320513, 'metrics/mAP50-95(B)': 0.7070567895774198, 'metrics/precision(M)': 0.9833121997880452, 'metrics/recall(M)': 0.9814814814814815, 'metrics/mAP50(M)': 0.9936824299088521, 'metrics/mAP50-95(M)': 0.6202035950038778, 'fitness': 1.3932329006372584}\n",
       "save_dir: WindowsPath('runs/segment/train13')\n",
       "seg: ultralytics.utils.metrics.Metric object\n",
       "speed: {'preprocess': 16.71848000000864, 'inference': 88.7573699999848, 'loss': 0.00043000000005122274, 'postprocess': 85.28465999997934}\n",
       "task: 'segment'"
      ]
     },
     "execution_count": 1,
     "metadata": {},
     "output_type": "execute_result"
    }
   ],
   "source": [
    "# 2. Tooth Segmentation – Train a YOLOv8 segmentation model.\n",
    "''' \n",
    "    This script trains a YOLOv8 segmentation model to automatically segment individual teeth from dental X-ray images. \n",
    "    The model is designed for instance segmentation, which detects objects (teeth) and predicts their pixel-wise masks. \n",
    "    Using a dataset of labeled X-rays, the model learns to identify and separate each tooth.\n",
    "    Key training parameters like optimizer, learning rate, and momentum are adjusted for optimal performance.\n",
    "\n",
    "'''\n",
    "from ultralytics import YOLO\n",
    "\n",
    "# Load the YOLOv8 instance segmentation model (the segmentation model)\n",
    "model = YOLO(\"yolov8n-seg.pt\")  # Make sure you use the segmentation variant\n",
    "\n",
    "# Train the model on the instance segmentation dataset\n",
    "model.train(\n",
    "    data=\"C:/Users/pauli/DeepDent/periodontitis/enhanced_data/data.yaml\",  # Path to the data.yaml file\n",
    "    epochs=50,                        # Number of epochs\n",
    "    batch=8,                          # Batch size\n",
    "    device=\"cpu\",                     # Use CPU for training (or \"cuda\" if you have a GPU)\n",
    "    \n",
    "    # Optimization parameters\n",
    "    optimizer=\"AdamW\",                # Use AdamW optimizer (default is Adam)\n",
    "    lr0=0.001,                        # Initial learning rate                        # Final learning rate\n",
    "    momentum=0.937,                    # Momentum for the optimizer\n",
    "    weight_decay=0.0005,               # Regularization term\n",
    "    warmup_epochs=3,                  # Number of epochs for warmup\n",
    "    warmup_momentum=0.8,              # Momentum during warmup\n",
    "    warmup_bias_lr=0.1                # Bias learning rate during warmup\n",
    ")"
   ]
  },
  {
   "cell_type": "code",
   "execution_count": 20,
   "id": "d3813fbb",
   "metadata": {},
   "outputs": [
    {
     "name": "stdout",
     "output_type": "stream",
     "text": [
      "Collecting tensorflow\n",
      "  Downloading tensorflow-2.19.0-cp39-cp39-win_amd64.whl (375.7 MB)\n",
      "     -------------------------------------- 375.7/375.7 MB 4.7 MB/s eta 0:00:00\n",
      "Collecting gast!=0.5.0,!=0.5.1,!=0.5.2,>=0.2.1\n",
      "  Downloading gast-0.6.0-py3-none-any.whl (21 kB)\n",
      "Collecting requests<3,>=2.21.0\n",
      "  Downloading requests-2.32.3-py3-none-any.whl (64 kB)\n",
      "     ---------------------------------------- 64.9/64.9 kB ? eta 0:00:00\n",
      "Collecting keras>=3.5.0\n",
      "  Downloading keras-3.9.1-py3-none-any.whl (1.3 MB)\n",
      "     ---------------------------------------- 1.3/1.3 MB 10.7 MB/s eta 0:00:00\n",
      "Collecting termcolor>=1.1.0\n",
      "  Downloading termcolor-3.0.1-py3-none-any.whl (7.2 kB)\n",
      "Collecting wrapt>=1.11.0\n",
      "  Downloading wrapt-1.17.2-cp39-cp39-win_amd64.whl (38 kB)\n",
      "Collecting packaging\n",
      "  Downloading packaging-24.2-py3-none-any.whl (65 kB)\n",
      "     ---------------------------------------- 65.5/65.5 kB 3.5 MB/s eta 0:00:00\n",
      "Collecting tensorflow-io-gcs-filesystem>=0.23.1\n",
      "  Downloading tensorflow_io_gcs_filesystem-0.31.0-cp39-cp39-win_amd64.whl (1.5 MB)\n",
      "     ---------------------------------------- 1.5/1.5 MB 10.5 MB/s eta 0:00:00\n",
      "Collecting ml-dtypes<1.0.0,>=0.5.1\n",
      "  Downloading ml_dtypes-0.5.1-cp39-cp39-win_amd64.whl (209 kB)\n",
      "     ------------------------------------- 209.4/209.4 kB 12.4 MB/s eta 0:00:00\n",
      "Collecting six>=1.12.0\n",
      "  Downloading six-1.17.0-py2.py3-none-any.whl (11 kB)\n",
      "Collecting numpy<2.2.0,>=1.26.0\n",
      "  Using cached numpy-2.0.2-cp39-cp39-win_amd64.whl (15.9 MB)\n",
      "Collecting astunparse>=1.6.0\n",
      "  Downloading astunparse-1.6.3-py2.py3-none-any.whl (12 kB)\n",
      "Collecting flatbuffers>=24.3.25\n",
      "  Downloading flatbuffers-25.2.10-py2.py3-none-any.whl (30 kB)\n",
      "Collecting grpcio<2.0,>=1.24.3\n",
      "  Downloading grpcio-1.71.0-cp39-cp39-win_amd64.whl (4.3 MB)\n",
      "     ---------------------------------------- 4.3/4.3 MB 10.9 MB/s eta 0:00:00\n",
      "Collecting opt-einsum>=2.3.2\n",
      "  Downloading opt_einsum-3.4.0-py3-none-any.whl (71 kB)\n",
      "     ---------------------------------------- 71.9/71.9 kB ? eta 0:00:00\n",
      "Collecting h5py>=3.11.0\n",
      "  Downloading h5py-3.13.0-cp39-cp39-win_amd64.whl (3.0 MB)\n",
      "     ---------------------------------------- 3.0/3.0 MB 11.8 MB/s eta 0:00:00\n",
      "Collecting libclang>=13.0.0\n",
      "  Downloading libclang-18.1.1-py2.py3-none-win_amd64.whl (26.4 MB)\n",
      "     ---------------------------------------- 26.4/26.4 MB 6.4 MB/s eta 0:00:00\n",
      "Collecting typing-extensions>=3.6.6\n",
      "  Downloading typing_extensions-4.13.0-py3-none-any.whl (45 kB)\n",
      "     ---------------------------------------- 45.7/45.7 kB ? eta 0:00:00\n",
      "Collecting protobuf!=4.21.0,!=4.21.1,!=4.21.2,!=4.21.3,!=4.21.4,!=4.21.5,<6.0.0dev,>=3.20.3\n",
      "  Downloading protobuf-5.29.4-cp39-cp39-win_amd64.whl (434 kB)\n",
      "     -------------------------------------- 434.6/434.6 kB 6.7 MB/s eta 0:00:00\n",
      "Collecting tensorboard~=2.19.0\n",
      "  Downloading tensorboard-2.19.0-py3-none-any.whl (5.5 MB)\n",
      "     ---------------------------------------- 5.5/5.5 MB 7.6 MB/s eta 0:00:00\n",
      "Collecting google-pasta>=0.1.1\n",
      "  Downloading google_pasta-0.2.0-py3-none-any.whl (57 kB)\n",
      "     ---------------------------------------- 57.5/57.5 kB ? eta 0:00:00\n",
      "Collecting absl-py>=1.0.0\n",
      "  Downloading absl_py-2.2.1-py3-none-any.whl (277 kB)\n",
      "     -------------------------------------- 277.3/277.3 kB 5.7 MB/s eta 0:00:00\n",
      "Collecting setuptools\n",
      "  Downloading setuptools-78.1.0-py3-none-any.whl (1.3 MB)\n",
      "     ---------------------------------------- 1.3/1.3 MB 7.2 MB/s eta 0:00:00\n",
      "Collecting wheel<1.0,>=0.23.0\n",
      "  Downloading wheel-0.45.1-py3-none-any.whl (72 kB)\n",
      "     ---------------------------------------- 72.5/72.5 kB 3.9 MB/s eta 0:00:00\n",
      "Collecting rich\n",
      "  Downloading rich-14.0.0-py3-none-any.whl (243 kB)\n",
      "     -------------------------------------- 243.2/243.2 kB 7.3 MB/s eta 0:00:00\n",
      "Collecting namex\n",
      "  Downloading namex-0.0.8-py3-none-any.whl (5.8 kB)\n",
      "Collecting optree\n",
      "  Downloading optree-0.14.1-cp39-cp39-win_amd64.whl (291 kB)\n",
      "     -------------------------------------- 291.7/291.7 kB 6.0 MB/s eta 0:00:00\n",
      "Collecting urllib3<3,>=1.21.1\n",
      "  Downloading urllib3-2.3.0-py3-none-any.whl (128 kB)\n",
      "     ---------------------------------------- 128.4/128.4 kB ? eta 0:00:00\n",
      "Collecting idna<4,>=2.5\n",
      "  Downloading idna-3.10-py3-none-any.whl (70 kB)\n",
      "     ---------------------------------------- 70.4/70.4 kB ? eta 0:00:00\n",
      "Collecting certifi>=2017.4.17\n",
      "  Downloading certifi-2025.1.31-py3-none-any.whl (166 kB)\n",
      "     -------------------------------------- 166.4/166.4 kB 9.8 MB/s eta 0:00:00\n",
      "Collecting charset-normalizer<4,>=2\n",
      "  Downloading charset_normalizer-3.4.1-cp39-cp39-win_amd64.whl (102 kB)\n",
      "     -------------------------------------- 102.8/102.8 kB 6.2 MB/s eta 0:00:00\n",
      "Collecting tensorboard-data-server<0.8.0,>=0.7.0\n",
      "  Downloading tensorboard_data_server-0.7.2-py3-none-any.whl (2.4 kB)\n",
      "Collecting markdown>=2.6.8\n",
      "  Downloading Markdown-3.7-py3-none-any.whl (106 kB)\n",
      "     -------------------------------------- 106.3/106.3 kB 6.0 MB/s eta 0:00:00\n",
      "Collecting werkzeug>=1.0.1\n",
      "  Downloading werkzeug-3.1.3-py3-none-any.whl (224 kB)\n",
      "     -------------------------------------- 224.5/224.5 kB 6.9 MB/s eta 0:00:00\n",
      "Collecting importlib-metadata>=4.4\n",
      "  Downloading importlib_metadata-8.6.1-py3-none-any.whl (26 kB)\n",
      "Collecting MarkupSafe>=2.1.1\n",
      "  Downloading MarkupSafe-3.0.2-cp39-cp39-win_amd64.whl (15 kB)\n",
      "Collecting pygments<3.0.0,>=2.13.0\n",
      "  Downloading pygments-2.19.1-py3-none-any.whl (1.2 MB)\n",
      "     ---------------------------------------- 1.2/1.2 MB 8.6 MB/s eta 0:00:00\n",
      "Collecting markdown-it-py>=2.2.0\n",
      "  Downloading markdown_it_py-3.0.0-py3-none-any.whl (87 kB)\n",
      "     ---------------------------------------- 87.5/87.5 kB 4.8 MB/s eta 0:00:00\n",
      "Collecting zipp>=3.20\n",
      "  Downloading zipp-3.21.0-py3-none-any.whl (9.6 kB)\n",
      "Collecting mdurl~=0.1\n",
      "  Downloading mdurl-0.1.2-py3-none-any.whl (10.0 kB)\n",
      "Installing collected packages: namex, libclang, flatbuffers, zipp, wrapt, wheel, urllib3, typing-extensions, termcolor, tensorflow-io-gcs-filesystem, tensorboard-data-server, six, setuptools, pygments, protobuf, packaging, opt-einsum, numpy, mdurl, MarkupSafe, idna, grpcio, gast, charset-normalizer, certifi, absl-py, werkzeug, requests, optree, ml-dtypes, markdown-it-py, importlib-metadata, h5py, google-pasta, astunparse, rich, markdown, tensorboard, keras, tensorflow\n",
      "  Attempting uninstall: namex\n",
      "    Found existing installation: namex 0.0.8\n",
      "    Uninstalling namex-0.0.8:\n",
      "      Successfully uninstalled namex-0.0.8\n",
      "  Attempting uninstall: libclang\n",
      "    Found existing installation: libclang 15.0.6.1\n",
      "    Uninstalling libclang-15.0.6.1:\n",
      "      Successfully uninstalled libclang-15.0.6.1\n",
      "  Attempting uninstall: flatbuffers\n",
      "    Found existing installation: flatbuffers 24.3.25\n",
      "    Uninstalling flatbuffers-24.3.25:\n",
      "      Successfully uninstalled flatbuffers-24.3.25\n",
      "  Attempting uninstall: zipp\n",
      "    Found existing installation: zipp 3.21.0\n",
      "    Uninstalling zipp-3.21.0:\n",
      "      Successfully uninstalled zipp-3.21.0\n",
      "  Attempting uninstall: wrapt\n",
      "    Found existing installation: wrapt 1.14.1\n",
      "    Uninstalling wrapt-1.14.1:\n",
      "      Successfully uninstalled wrapt-1.14.1\n",
      "  Attempting uninstall: wheel\n",
      "    Found existing installation: wheel 0.37.1\n",
      "    Uninstalling wheel-0.37.1:\n",
      "      Successfully uninstalled wheel-0.37.1\n",
      "  Attempting uninstall: urllib3\n",
      "    Found existing installation: urllib3 1.26.11\n",
      "    Uninstalling urllib3-1.26.11:\n",
      "      Successfully uninstalled urllib3-1.26.11\n",
      "  Attempting uninstall: typing-extensions\n",
      "    Found existing installation: typing_extensions 4.12.2\n",
      "    Uninstalling typing_extensions-4.12.2:\n",
      "      Successfully uninstalled typing_extensions-4.12.2\n",
      "  Attempting uninstall: termcolor\n",
      "    Found existing installation: termcolor 2.2.0\n",
      "    Uninstalling termcolor-2.2.0:\n",
      "      Successfully uninstalled termcolor-2.2.0\n",
      "  Attempting uninstall: tensorflow-io-gcs-filesystem\n",
      "    Found existing installation: tensorflow-io-gcs-filesystem 0.30.0\n",
      "    Uninstalling tensorflow-io-gcs-filesystem-0.30.0:\n",
      "      Successfully uninstalled tensorflow-io-gcs-filesystem-0.30.0\n",
      "  Attempting uninstall: tensorboard-data-server\n",
      "    Found existing installation: tensorboard-data-server 0.7.2\n",
      "    Uninstalling tensorboard-data-server-0.7.2:\n",
      "      Successfully uninstalled tensorboard-data-server-0.7.2\n",
      "  Attempting uninstall: six\n",
      "    Found existing installation: six 1.16.0\n",
      "    Uninstalling six-1.16.0:\n",
      "      Successfully uninstalled six-1.16.0\n",
      "  Attempting uninstall: setuptools\n",
      "    Found existing installation: setuptools 63.4.1\n",
      "    Uninstalling setuptools-63.4.1:\n",
      "      Successfully uninstalled setuptools-63.4.1\n",
      "  Attempting uninstall: pygments\n",
      "    Found existing installation: Pygments 2.18.0\n",
      "    Uninstalling Pygments-2.18.0:\n",
      "      Successfully uninstalled Pygments-2.18.0\n",
      "  Attempting uninstall: protobuf\n",
      "    Found existing installation: protobuf 4.25.5\n",
      "    Uninstalling protobuf-4.25.5:\n",
      "      Successfully uninstalled protobuf-4.25.5\n"
     ]
    },
    {
     "name": "stderr",
     "output_type": "stream",
     "text": [
      "ERROR: Could not install packages due to an OSError: [WinError 5] Access is denied: 'C:\\\\Users\\\\pauli\\\\anaconda3\\\\Lib\\\\site-packages\\\\google\\\\~upb\\\\_message.cp39-win_amd64.pyd'\n",
      "Consider using the `--user` option or check the permissions.\n",
      "\n"
     ]
    }
   ],
   "source": [
    "!pip install --upgrade --force-reinstall tensorflow"
   ]
  },
  {
   "cell_type": "code",
   "execution_count": 30,
   "id": "c0be8c58",
   "metadata": {},
   "outputs": [
    {
     "name": "stdout",
     "output_type": "stream",
     "text": [
      "Unique values in combined mask for ALIF-FAJAR0000_jpg.rf.d59f3cbbde1981f6c9d4e050faf04f85.jpg: [  0 128 255]\n",
      "Unique values in combined mask for AINURROHMAH-R0000_jpg.rf.f92597c5445703afc5de1d04cc4db1f5.jpg: [  0 128 255]\n",
      "Unique values in combined mask for ANA-IDAYATI0000_jpg.rf.77f94dd40a0b414bfa48a1dab621187e.jpg: [  0 128 255]\n",
      "Unique values in combined mask for AGUNG-ANDIS0000_jpg.rf.0d7558dcdd9616d11e8dd34d4e270497.jpg: [  0 128 255]\n",
      "Unique values in combined mask for ABI-THALIB0000_jpg.rf.e15a18e027a6181632a1265679ebd606.jpg: [  0 128 255]\n",
      "Unique values in combined mask for ADAM_WILLIAM_12042023_122428_jpg.rf.b83d84e8091a7b553dd84c415eab163d.jpg: [  0 128 255]\n",
      "Unique values in combined mask for ABD-ROCHMAN-GHOZALI0000_jpg.rf.f07ebb189c81677fcf7107e1659a8dcd.jpg: [  0 128 255]\n",
      "Masks saved in ../data/cej_alveolar/Untitled Folder\n"
     ]
    }
   ],
   "source": [
    "# 3.1 Creating Masks for the data\n",
    "\n",
    "import os\n",
    "import json\n",
    "import numpy as np\n",
    "import cv2\n",
    "from PIL import Image\n",
    "\n",
    "# --- CONFIGURATION ---\n",
    "COCO_ANNOTATION_FILE = \"../data/cej_alveolar/train/_annotations.coco.json\"\n",
    "IMAGE_DIR = \"../data/cej_alveolar/train\"\n",
    "OUTPUT_MASK_DIR = \"../data/cej_alveolar/Untitled Folder\"  # Where masks will be saved\n",
    "CLASS_MAPPING = {  # Assign grayscale values to each class\n",
    "    \"cej\": 255,\n",
    "    \"alveolar\": 128\n",
    "}\n",
    "\n",
    "# Ensure output directory exists\n",
    "os.makedirs(OUTPUT_MASK_DIR, exist_ok=True)\n",
    "\n",
    "# Load COCO JSON\n",
    "with open(COCO_ANNOTATION_FILE, 'r') as f:\n",
    "    coco_data = json.load(f)\n",
    "\n",
    "# Create a dictionary mapping image_id to file_name\n",
    "image_info = {img[\"id\"]: img[\"file_name\"] for img in coco_data[\"images\"]}\n",
    "\n",
    "# Process each image\n",
    "for image_data in coco_data[\"images\"]:\n",
    "    image_id = image_data[\"id\"]\n",
    "    image_filename = image_data[\"file_name\"]\n",
    "    \n",
    "    # Load corresponding image to get dimensions\n",
    "    image_path = os.path.join(IMAGE_DIR, image_filename)\n",
    "    image = cv2.imread(image_path, cv2.IMREAD_GRAYSCALE)\n",
    "    if image is None:\n",
    "        print(f\"Failed to load image: {image_filename}\")\n",
    "        continue  # Skip to next image\n",
    "    height, width = image.shape\n",
    "\n",
    "    # Initialize an empty mask for the current image (same size as the image)\n",
    "    combined_mask = np.zeros((height, width), dtype=np.uint8)\n",
    "\n",
    "    # Process each annotation for the current image\n",
    "    for ann in coco_data[\"annotations\"]:\n",
    "        if ann[\"image_id\"] != image_id:\n",
    "            continue  # Skip annotations for other images\n",
    "        \n",
    "        # Get class label\n",
    "        category_id = ann[\"category_id\"]\n",
    "        class_name = next((cat[\"name\"] for cat in coco_data[\"categories\"] if cat[\"id\"] == category_id), \"unknown\")\n",
    "        class_value = CLASS_MAPPING.get(class_name, 0)\n",
    "\n",
    "        # Convert COCO polygon segmentation to binary mask for each annotation\n",
    "        if \"segmentation\" in ann:\n",
    "            # Iterate through each segmentation in this annotation (multiple parts could exist)\n",
    "            for seg in ann[\"segmentation\"]:\n",
    "                polygon = np.array(seg, np.int32).reshape((-1, 2))\n",
    "                cv2.fillPoly(combined_mask, [polygon], color=class_value)\n",
    "\n",
    "    # Debugging: Check if the combined mask has any non-zero pixels\n",
    "    print(f\"Unique values in combined mask for {image_filename}: {np.unique(combined_mask)}\")\n",
    "\n",
    "    # Save the combined mask as a single PNG image (you can use JPG if you prefer, but PNG is better for preserving grayscale)\n",
    "    mask_filename = f\"{os.path.splitext(image_filename)[0]}_combined_mask.png\"\n",
    "    mask_path = os.path.join(OUTPUT_MASK_DIR, mask_filename)\n",
    "    Image.fromarray(combined_mask).save(mask_path)\n",
    "\n",
    "print(f\"Masks saved in {OUTPUT_MASK_DIR}\")\n"
   ]
  }
 ],
 "metadata": {
  "kernelspec": {
   "display_name": "Python 3 (ipykernel)",
   "language": "python",
   "name": "python3"
  },
  "language_info": {
   "codemirror_mode": {
    "name": "ipython",
    "version": 3
   },
   "file_extension": ".py",
   "mimetype": "text/x-python",
   "name": "python",
   "nbconvert_exporter": "python",
   "pygments_lexer": "ipython3",
   "version": "3.9.13"
  }
 },
 "nbformat": 4,
 "nbformat_minor": 5
}
