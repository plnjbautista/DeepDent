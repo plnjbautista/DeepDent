{
 "cells": [
  {
   "cell_type": "markdown",
   "id": "7a5b3f3c",
   "metadata": {},
   "source": [
    "Periodontitis Detection: Proof of Concept\n",
    "\n",
    "This notebook serves as an initial proof of concept for detecting periodontitis using image enhancement, tooth segmentation, and bone loss measurement.\n",
    "\n",
    "1. Preprocessing – Apply K-CFDO image enhancement to improve the clarity of the X-ray.\n",
    "2. Tooth Segmentation – Use YOLOv8 to segment individual teeth in the image.\n",
    "3. CEJ and Alveolar Bone Crest Segmentation – Use U-Net to segment the CEJ and alveolar bone crest for bone loss measurement.\n",
    "4. Bone Loss Measurement – Calculate the CEJ-to-bone crest distance in pixels and convert it to millimeters using a scaling factor.\n",
    "5. Periodontitis Detection – Classify teeth based on bone loss severity (≥ 2 mm for periodontitis).\n"
   ]
  },
  {
   "cell_type": "code",
   "execution_count": 28,
   "id": "b0721d60",
   "metadata": {},
   "outputs": [
    {
     "name": "stderr",
     "output_type": "stream",
     "text": [
      "Processing train images: 100%|█████████████████████████████████████████████████████████| 87/87 [10:55<00:00,  7.54s/it]\n",
      "Processing valid images: 100%|█████████████████████████████████████████████████████████| 10/10 [01:26<00:00,  8.67s/it]\n",
      "Processing test images: 100%|████████████████████████████████████████████████████████████| 5/5 [01:00<00:00, 12.15s/it]"
     ]
    },
    {
     "name": "stdout",
     "output_type": "stream",
     "text": [
      "✅ Enhancement complete! Final dataset stored in '../enhanced_data/'.\n",
      "✅ Labels moved successfully.\n",
      "✅ 'data.yaml' created at ../enhanced_data/data.yaml.\n"
     ]
    },
    {
     "name": "stderr",
     "output_type": "stream",
     "text": [
      "\n"
     ]
    }
   ],
   "source": [
    "# 1. Preprocessing – Apply K-CFDO image enhancement.\n",
    "\"\"\"\n",
    "K-CFDO (Kernel-based Contrast and Feature Detail Optimization) Image Enhancement\n",
    "\n",
    "Parameters:\n",
    "-----------\n",
    "ρ (rho): A regularization parameter in the range [0,1] that controls the balance between\n",
    "         noise reduction and detail preservation. Lower values preserve more details but may\n",
    "         retain more noise, while higher values reduce noise but might blur fine details.\n",
    "         - When ρ approaches 0: Emphasizes detail preservation\n",
    "         - When ρ approaches 1: Emphasizes noise reduction\n",
    "\n",
    "k: A scaling factor that adjusts the strength of the kernel filter. It controls the \n",
    "   emphasis on image features and the smoothing effects. Typically a value > 1.\n",
    "   - Smaller k values: Result in stronger enhancement effects\n",
    "   - Larger k values: Produce more subtle enhancements\n",
    "\n",
    "r: Represents the normalized pixel intensity value in the range [0,1], which is treated\n",
    "   as a probability value in the context of the algorithm. Each pixel's intensity is\n",
    "   transformed according to its value and the parameters.\n",
    "\n",
    "E_k^(1,1-ρ/k)(r): Represents a special function (related to the Mittag-Leffler function)\n",
    "                  that is approximated using the Gamma function in this implementation.\n",
    "                  The Gamma function (Γ) helps in calculating the denominator part of the \n",
    "                  enhancement equation.\n",
    "\n",
    "The algorithm enhances each pixel according to the formula:\n",
    "Enhanced_value = Original_value × [r^((1-ρ)/k) / Γ(2-ρ/k)]\n",
    "\n",
    "This transformation:\n",
    "1. Increases contrast in regions with significant intensity variations\n",
    "2. Preserves edges and fine details based on the parameter settings\n",
    "3. Reduces noise in homogeneous regions\n",
    "4. Improves overall visibility of features in medical images, particularly X-rays\n",
    "\"\"\"\n",
    "import os\n",
    "import shutil\n",
    "import numpy as np\n",
    "import cv2\n",
    "from tqdm import tqdm\n",
    "from scipy import special\n",
    "\n",
    "# K-CFDO Enhancement Function\n",
    "def k_cfdo_enhancement(image, rho=0.5, k=1.5):\n",
    "    img = image.astype(np.float64)\n",
    "    if img.max() > 1.0:\n",
    "        img = img / 255.0  # Normalize\n",
    "    n, m = img.shape\n",
    "    enhanced_img = np.zeros_like(img)\n",
    "    for i in range(n):\n",
    "        for j in range(m):\n",
    "            r = img[i, j]\n",
    "            numerator = r ** ((1 - rho) / k)\n",
    "            denominator = special.gamma(2 - rho / k)\n",
    "            enhanced_img[i, j] = img[i, j] * (numerator / denominator)\n",
    "    enhanced_img = (enhanced_img - enhanced_img.min()) / (enhanced_img.max() - enhanced_img.min())\n",
    "    return (enhanced_img * 255).astype(np.uint8)\n",
    "\n",
    "# Function to process images and move labels\n",
    "def process_and_move_data(set_name):\n",
    "    \"\"\"\n",
    "    Process images using K-CFDO enhancement and move corresponding labels.\n",
    "    \n",
    "    Parameters:\n",
    "    -----------\n",
    "    set_name : str\n",
    "        Name of the dataset split (train, valid, or test).\n",
    "    \"\"\"\n",
    "    # Define paths\n",
    "    input_image_dir = f\"../data/{set_name}/images\"\n",
    "    input_label_dir = f\"../data/{set_name}/labels\"\n",
    "    \n",
    "    # Define the output paths to be outside of the notebook folder\n",
    "    output_image_dir = f\"../enhanced_data/{set_name}/images\"\n",
    "    output_label_dir = f\"../enhanced_data/{set_name}/labels\"\n",
    "    \n",
    "    # Create output directories if they do not exist\n",
    "    os.makedirs(output_image_dir, exist_ok=True)\n",
    "    os.makedirs(output_label_dir, exist_ok=True)\n",
    "    \n",
    "    # Process images\n",
    "    for filename in tqdm(os.listdir(input_image_dir), desc=f\"Processing {set_name} images\"):\n",
    "        if filename.endswith((\".jpg\", \".png\", \".jpeg\")):\n",
    "            img_path = os.path.join(input_image_dir, filename)\n",
    "            img = cv2.imread(img_path, cv2.IMREAD_GRAYSCALE)\n",
    "            \n",
    "            # Apply enhancement\n",
    "            enhanced_img = k_cfdo_enhancement(img, rho=0.5, k=1.5)\n",
    "            \n",
    "            # Save the enhanced image\n",
    "            cv2.imwrite(os.path.join(output_image_dir, filename), enhanced_img)\n",
    "            \n",
    "            # Move the corresponding label file\n",
    "            label_file = filename.replace('.jpg', '.txt').replace('.png', '.txt').replace('.jpeg', '.txt')\n",
    "            label_path = os.path.join(input_label_dir, label_file)\n",
    "            if os.path.exists(label_path):\n",
    "                shutil.copy(label_path, os.path.join(output_label_dir, label_file))\n",
    "\n",
    "# Process each dataset split\n",
    "for split in [\"train\", \"valid\", \"test\"]:\n",
    "    process_and_move_data(split)\n",
    "\n",
    "# Create data.yaml file for YOLOv8\n",
    "data_yaml_content = f\"\"\"\n",
    "train: train/images\n",
    "val: valid/images\n",
    "test: test/images\n",
    "\n",
    "nc: 1\n",
    "names: ['Individual Tooth']\n",
    "\"\"\"\n",
    "\n",
    "# Save the data.yaml file in the correct directory\n",
    "yaml_path = \"../enhanced_data/data.yaml\"\n",
    "with open(yaml_path, \"w\") as f:\n",
    "    f.write(data_yaml_content)\n",
    "\n",
    "print(\"✅ Enhancement complete! Final dataset stored in '../enhanced_data/'.\")\n",
    "print(\"✅ Labels moved successfully.\")\n",
    "print(f\"✅ 'data.yaml' created at {yaml_path}.\")\n"
   ]
  },
  {
   "cell_type": "code",
   "execution_count": 3,
   "id": "26e8294d",
   "metadata": {},
   "outputs": [
    {
     "name": "stdout",
     "output_type": "stream",
     "text": [
      "New https://pypi.org/project/ultralytics/8.3.100 available  Update with 'pip install -U ultralytics'\n",
      "Ultralytics 8.3.99  Python-3.9.13 torch-2.6.0+cpu CPU (AMD Ryzen 5 5500U with Radeon Graphics)\n",
      "\u001b[34m\u001b[1mengine\\trainer: \u001b[0mtask=segment, mode=train, model=yolov8n-seg.pt, data=C:/Users/pauli/DeepDent/periodontitis/enhanced_data/data.yaml, epochs=30, time=None, patience=100, batch=8, imgsz=640, save=True, save_period=-1, cache=False, device=cpu, workers=8, project=None, name=train20, exist_ok=False, pretrained=True, optimizer=AdamW, verbose=True, seed=0, deterministic=True, single_cls=False, rect=False, cos_lr=False, close_mosaic=10, resume=False, amp=True, fraction=1.0, profile=False, freeze=None, multi_scale=False, overlap_mask=True, mask_ratio=4, dropout=0.0, val=True, split=val, save_json=False, save_hybrid=False, conf=None, iou=0.7, max_det=300, half=False, dnn=False, plots=True, source=None, vid_stride=1, stream_buffer=False, visualize=False, augment=False, agnostic_nms=False, classes=None, retina_masks=False, embed=None, show=False, save_frames=False, save_txt=False, save_conf=False, save_crop=False, show_labels=True, show_conf=True, show_boxes=True, line_width=None, format=torchscript, keras=False, optimize=False, int8=False, dynamic=False, simplify=True, opset=None, workspace=None, nms=False, lr0=0.001, lrf=0.01, momentum=0.937, weight_decay=0.0005, warmup_epochs=3, warmup_momentum=0.8, warmup_bias_lr=0.1, box=7.5, cls=0.5, dfl=1.5, pose=12.0, kobj=1.0, nbs=64, hsv_h=0.015, hsv_s=0.7, hsv_v=0.4, degrees=0.0, translate=0.1, scale=0.5, shear=0.0, perspective=0.0, flipud=0.0, fliplr=0.5, bgr=0.0, mosaic=1.0, mixup=0.0, copy_paste=0.0, copy_paste_mode=flip, auto_augment=randaugment, erasing=0.4, crop_fraction=1.0, cfg=None, tracker=botsort.yaml, save_dir=runs\\segment\\train20\n",
      "Overriding model.yaml nc=80 with nc=1\n",
      "\n",
      "                   from  n    params  module                                       arguments                     \n",
      "  0                  -1  1       464  ultralytics.nn.modules.conv.Conv             [3, 16, 3, 2]                 \n",
      "  1                  -1  1      4672  ultralytics.nn.modules.conv.Conv             [16, 32, 3, 2]                \n",
      "  2                  -1  1      7360  ultralytics.nn.modules.block.C2f             [32, 32, 1, True]             \n",
      "  3                  -1  1     18560  ultralytics.nn.modules.conv.Conv             [32, 64, 3, 2]                \n",
      "  4                  -1  2     49664  ultralytics.nn.modules.block.C2f             [64, 64, 2, True]             \n",
      "  5                  -1  1     73984  ultralytics.nn.modules.conv.Conv             [64, 128, 3, 2]               \n",
      "  6                  -1  2    197632  ultralytics.nn.modules.block.C2f             [128, 128, 2, True]           \n",
      "  7                  -1  1    295424  ultralytics.nn.modules.conv.Conv             [128, 256, 3, 2]              \n",
      "  8                  -1  1    460288  ultralytics.nn.modules.block.C2f             [256, 256, 1, True]           \n",
      "  9                  -1  1    164608  ultralytics.nn.modules.block.SPPF            [256, 256, 5]                 \n",
      " 10                  -1  1         0  torch.nn.modules.upsampling.Upsample         [None, 2, 'nearest']          \n",
      " 11             [-1, 6]  1         0  ultralytics.nn.modules.conv.Concat           [1]                           \n",
      " 12                  -1  1    148224  ultralytics.nn.modules.block.C2f             [384, 128, 1]                 \n",
      " 13                  -1  1         0  torch.nn.modules.upsampling.Upsample         [None, 2, 'nearest']          \n",
      " 14             [-1, 4]  1         0  ultralytics.nn.modules.conv.Concat           [1]                           \n",
      " 15                  -1  1     37248  ultralytics.nn.modules.block.C2f             [192, 64, 1]                  \n",
      " 16                  -1  1     36992  ultralytics.nn.modules.conv.Conv             [64, 64, 3, 2]                \n",
      " 17            [-1, 12]  1         0  ultralytics.nn.modules.conv.Concat           [1]                           \n",
      " 18                  -1  1    123648  ultralytics.nn.modules.block.C2f             [192, 128, 1]                 \n",
      " 19                  -1  1    147712  ultralytics.nn.modules.conv.Conv             [128, 128, 3, 2]              \n",
      " 20             [-1, 9]  1         0  ultralytics.nn.modules.conv.Concat           [1]                           \n",
      " 21                  -1  1    493056  ultralytics.nn.modules.block.C2f             [384, 256, 1]                 \n",
      " 22        [15, 18, 21]  1   1004275  ultralytics.nn.modules.head.Segment          [1, 32, 64, [64, 128, 256]]   \n",
      "YOLOv8n-seg summary: 151 layers, 3,263,811 parameters, 3,263,795 gradients, 12.1 GFLOPs\n",
      "\n",
      "Transferred 381/417 items from pretrained weights\n",
      "\u001b[34m\u001b[1mTensorBoard: \u001b[0mStart with 'tensorboard --logdir runs\\segment\\train20', view at http://localhost:6006/\n",
      "Freezing layer 'model.22.dfl.conv.weight'\n"
     ]
    },
    {
     "name": "stderr",
     "output_type": "stream",
     "text": [
      "\u001b[34m\u001b[1mtrain: \u001b[0mScanning C:\\Users\\pauli\\DeepDent\\periodontitis\\enhanced_data\\train\\labels.cache... 87 images, 0 backgrounds, 0 c\u001b[0m"
     ]
    },
    {
     "name": "stdout",
     "output_type": "stream",
     "text": [
      "\u001b[34m\u001b[1malbumentations: \u001b[0mBlur(p=0.01, blur_limit=(3, 7)), MedianBlur(p=0.01, blur_limit=(3, 7)), ToGray(p=0.01, num_output_channels=3, method='weighted_average'), CLAHE(p=0.01, clip_limit=(1.0, 4.0), tile_grid_size=(8, 8))\n"
     ]
    },
    {
     "name": "stderr",
     "output_type": "stream",
     "text": [
      "\n",
      "\u001b[34m\u001b[1mval: \u001b[0mScanning C:\\Users\\pauli\\DeepDent\\periodontitis\\enhanced_data\\valid\\labels.cache... 10 images, 0 backgrounds, 0 cor\u001b[0m\n"
     ]
    },
    {
     "name": "stdout",
     "output_type": "stream",
     "text": [
      "module 'matplotlib.cm' has no attribute 'register_cmap'\n",
      "\u001b[34m\u001b[1moptimizer:\u001b[0m AdamW(lr=0.001, momentum=0.937) with parameter groups 66 weight(decay=0.0), 77 weight(decay=0.0005), 76 bias(decay=0.0)\n",
      "\u001b[34m\u001b[1mTensorBoard: \u001b[0mmodel graph visualization added \n",
      "Image sizes 640 train, 640 val\n",
      "Using 0 dataloader workers\n",
      "Logging results to \u001b[1mruns\\segment\\train20\u001b[0m\n",
      "Starting training for 30 epochs...\n",
      "\n",
      "      Epoch    GPU_mem   box_loss   seg_loss   cls_loss   dfl_loss  Instances       Size\n"
     ]
    },
    {
     "name": "stderr",
     "output_type": "stream",
     "text": [
      "       1/30         0G      1.439      3.118      2.522      1.176        144        640: 100%|██████████| 11/11 [01:12\n",
      "                 Class     Images  Instances      Box(P          R      mAP50  mAP50-95)     Mask(P          R      mAP"
     ]
    },
    {
     "name": "stdout",
     "output_type": "stream",
     "text": [
      "                   all         10        270      0.076      0.844     0.0882      0.037     0.0273      0.304     0.0195    0.00618\n"
     ]
    },
    {
     "name": "stderr",
     "output_type": "stream",
     "text": [
      "\n"
     ]
    },
    {
     "name": "stdout",
     "output_type": "stream",
     "text": [
      "\n",
      "      Epoch    GPU_mem   box_loss   seg_loss   cls_loss   dfl_loss  Instances       Size\n"
     ]
    },
    {
     "name": "stderr",
     "output_type": "stream",
     "text": [
      "       2/30         0G      1.284      2.231      1.698      1.066        184        640: 100%|██████████| 11/11 [00:59\n",
      "                 Class     Images  Instances      Box(P          R      mAP50  mAP50-95)     Mask(P          R      mAP"
     ]
    },
    {
     "name": "stdout",
     "output_type": "stream",
     "text": [
      "                   all         10        270     0.0757      0.841      0.651      0.268          0          0          0          0\n"
     ]
    },
    {
     "name": "stderr",
     "output_type": "stream",
     "text": [
      "\n"
     ]
    },
    {
     "name": "stdout",
     "output_type": "stream",
     "text": [
      "\n",
      "      Epoch    GPU_mem   box_loss   seg_loss   cls_loss   dfl_loss  Instances       Size\n"
     ]
    },
    {
     "name": "stderr",
     "output_type": "stream",
     "text": [
      "       3/30         0G      1.257      2.132      1.428      1.105        120        640: 100%|██████████| 11/11 [01:03\n",
      "                 Class     Images  Instances      Box(P          R      mAP50  mAP50-95)     Mask(P          R      mAP"
     ]
    },
    {
     "name": "stdout",
     "output_type": "stream",
     "text": [
      "                   all         10        270     0.0537      0.596      0.434      0.157   0.000333     0.0037   0.000168   1.68e-05\n"
     ]
    },
    {
     "name": "stderr",
     "output_type": "stream",
     "text": [
      "\n"
     ]
    },
    {
     "name": "stdout",
     "output_type": "stream",
     "text": [
      "\n",
      "      Epoch    GPU_mem   box_loss   seg_loss   cls_loss   dfl_loss  Instances       Size\n"
     ]
    },
    {
     "name": "stderr",
     "output_type": "stream",
     "text": [
      "       4/30         0G      1.249      2.084      1.233      1.083        180        640: 100%|██████████| 11/11 [01:03\n",
      "                 Class     Images  Instances      Box(P          R      mAP50  mAP50-95)     Mask(P          R      mAP"
     ]
    },
    {
     "name": "stdout",
     "output_type": "stream",
     "text": [
      "                   all         10        270      0.064      0.711        0.3      0.115          0          0          0          0\n"
     ]
    },
    {
     "name": "stderr",
     "output_type": "stream",
     "text": [
      "\n"
     ]
    },
    {
     "name": "stdout",
     "output_type": "stream",
     "text": [
      "\n",
      "      Epoch    GPU_mem   box_loss   seg_loss   cls_loss   dfl_loss  Instances       Size\n"
     ]
    },
    {
     "name": "stderr",
     "output_type": "stream",
     "text": [
      "       5/30         0G      1.261      2.057      1.166      1.087        154        640: 100%|██████████| 11/11 [01:01\n",
      "                 Class     Images  Instances      Box(P          R      mAP50  mAP50-95)     Mask(P          R      mAP"
     ]
    },
    {
     "name": "stdout",
     "output_type": "stream",
     "text": [
      "                   all         10        270      0.087      0.967      0.688      0.376       0.06      0.667      0.359      0.104\n"
     ]
    },
    {
     "name": "stderr",
     "output_type": "stream",
     "text": [
      "\n"
     ]
    },
    {
     "name": "stdout",
     "output_type": "stream",
     "text": [
      "\n",
      "      Epoch    GPU_mem   box_loss   seg_loss   cls_loss   dfl_loss  Instances       Size\n"
     ]
    },
    {
     "name": "stderr",
     "output_type": "stream",
     "text": [
      "       6/30         0G      1.161      1.899      1.125      1.066        184        640: 100%|██████████| 11/11 [00:58\n",
      "                 Class     Images  Instances      Box(P          R      mAP50  mAP50-95)     Mask(P          R      mAP"
     ]
    },
    {
     "name": "stdout",
     "output_type": "stream",
     "text": [
      "                   all         10        270      0.936      0.544      0.889      0.546      0.866      0.504      0.781      0.312\n"
     ]
    },
    {
     "name": "stderr",
     "output_type": "stream",
     "text": [
      "\n"
     ]
    },
    {
     "name": "stdout",
     "output_type": "stream",
     "text": [
      "\n",
      "      Epoch    GPU_mem   box_loss   seg_loss   cls_loss   dfl_loss  Instances       Size\n"
     ]
    },
    {
     "name": "stderr",
     "output_type": "stream",
     "text": [
      "       7/30         0G      1.214      1.892      1.012      1.066        160        640: 100%|██████████| 11/11 [01:01\n",
      "                 Class     Images  Instances      Box(P          R      mAP50  mAP50-95)     Mask(P          R      mAP"
     ]
    },
    {
     "name": "stdout",
     "output_type": "stream",
     "text": [
      "                   all         10        270      0.954       0.85      0.966      0.598      0.911      0.807      0.902       0.46\n"
     ]
    },
    {
     "name": "stderr",
     "output_type": "stream",
     "text": [
      "\n"
     ]
    },
    {
     "name": "stdout",
     "output_type": "stream",
     "text": [
      "\n",
      "      Epoch    GPU_mem   box_loss   seg_loss   cls_loss   dfl_loss  Instances       Size\n"
     ]
    },
    {
     "name": "stderr",
     "output_type": "stream",
     "text": [
      "       8/30         0G      1.138      1.804      1.031      1.061        181        640: 100%|██████████| 11/11 [01:01\n",
      "                 Class     Images  Instances      Box(P          R      mAP50  mAP50-95)     Mask(P          R      mAP"
     ]
    },
    {
     "name": "stdout",
     "output_type": "stream",
     "text": [
      "                   all         10        270      0.975      0.872      0.977      0.607      0.959      0.857      0.958      0.515\n"
     ]
    },
    {
     "name": "stderr",
     "output_type": "stream",
     "text": [
      "\n"
     ]
    },
    {
     "name": "stdout",
     "output_type": "stream",
     "text": [
      "\n",
      "      Epoch    GPU_mem   box_loss   seg_loss   cls_loss   dfl_loss  Instances       Size\n"
     ]
    },
    {
     "name": "stderr",
     "output_type": "stream",
     "text": [
      "       9/30         0G      1.195      1.999      1.039      1.056        180        640: 100%|██████████| 11/11 [00:59\n",
      "                 Class     Images  Instances      Box(P          R      mAP50  mAP50-95)     Mask(P          R      mAP"
     ]
    },
    {
     "name": "stdout",
     "output_type": "stream",
     "text": [
      "                   all         10        270      0.976      0.761      0.977      0.616      0.976      0.761      0.973      0.534\n"
     ]
    },
    {
     "name": "stderr",
     "output_type": "stream",
     "text": [
      "\n"
     ]
    },
    {
     "name": "stdout",
     "output_type": "stream",
     "text": [
      "\n",
      "      Epoch    GPU_mem   box_loss   seg_loss   cls_loss   dfl_loss  Instances       Size\n"
     ]
    },
    {
     "name": "stderr",
     "output_type": "stream",
     "text": [
      "      10/30         0G      1.159      1.787     0.9902      1.057        228        640: 100%|██████████| 11/11 [01:01\n",
      "                 Class     Images  Instances      Box(P          R      mAP50  mAP50-95)     Mask(P          R      mAP"
     ]
    },
    {
     "name": "stdout",
     "output_type": "stream",
     "text": [
      "                   all         10        270       0.96      0.892      0.981      0.638      0.952      0.885      0.976       0.55\n"
     ]
    },
    {
     "name": "stderr",
     "output_type": "stream",
     "text": [
      "\n"
     ]
    },
    {
     "name": "stdout",
     "output_type": "stream",
     "text": [
      "\n",
      "      Epoch    GPU_mem   box_loss   seg_loss   cls_loss   dfl_loss  Instances       Size\n"
     ]
    },
    {
     "name": "stderr",
     "output_type": "stream",
     "text": [
      "      11/30         0G      1.152      1.801     0.9394      1.033        165        640: 100%|██████████| 11/11 [01:01\n",
      "                 Class     Images  Instances      Box(P          R      mAP50  mAP50-95)     Mask(P          R      mAP"
     ]
    },
    {
     "name": "stdout",
     "output_type": "stream",
     "text": [
      "                   all         10        270      0.949       0.97      0.985      0.648      0.945      0.967      0.979      0.554\n"
     ]
    },
    {
     "name": "stderr",
     "output_type": "stream",
     "text": [
      "\n"
     ]
    },
    {
     "name": "stdout",
     "output_type": "stream",
     "text": [
      "\n",
      "      Epoch    GPU_mem   box_loss   seg_loss   cls_loss   dfl_loss  Instances       Size\n"
     ]
    },
    {
     "name": "stderr",
     "output_type": "stream",
     "text": [
      "      12/30         0G      1.153      1.774     0.8833       1.01        173        640: 100%|██████████| 11/11 [01:02\n",
      "                 Class     Images  Instances      Box(P          R      mAP50  mAP50-95)     Mask(P          R      mAP"
     ]
    },
    {
     "name": "stdout",
     "output_type": "stream",
     "text": [
      "                   all         10        270       0.97      0.959      0.987      0.657      0.963      0.952      0.981       0.56\n"
     ]
    },
    {
     "name": "stderr",
     "output_type": "stream",
     "text": [
      "\n"
     ]
    },
    {
     "name": "stdout",
     "output_type": "stream",
     "text": [
      "\n",
      "      Epoch    GPU_mem   box_loss   seg_loss   cls_loss   dfl_loss  Instances       Size\n"
     ]
    },
    {
     "name": "stderr",
     "output_type": "stream",
     "text": [
      "      13/30         0G      1.137      1.719     0.9384      1.052        215        640: 100%|██████████| 11/11 [01:00\n",
      "                 Class     Images  Instances      Box(P          R      mAP50  mAP50-95)     Mask(P          R      mAP"
     ]
    },
    {
     "name": "stdout",
     "output_type": "stream",
     "text": [
      "                   all         10        270      0.954      0.963       0.99      0.663      0.954      0.963       0.99      0.564\n"
     ]
    },
    {
     "name": "stderr",
     "output_type": "stream",
     "text": [
      "\n"
     ]
    },
    {
     "name": "stdout",
     "output_type": "stream",
     "text": [
      "\n",
      "      Epoch    GPU_mem   box_loss   seg_loss   cls_loss   dfl_loss  Instances       Size\n"
     ]
    },
    {
     "name": "stderr",
     "output_type": "stream",
     "text": [
      "      14/30         0G      1.069      1.671     0.9004      1.008        136        640: 100%|██████████| 11/11 [01:01\n",
      "                 Class     Images  Instances      Box(P          R      mAP50  mAP50-95)     Mask(P          R      mAP"
     ]
    },
    {
     "name": "stdout",
     "output_type": "stream",
     "text": [
      "                   all         10        270      0.957      0.963      0.989      0.684      0.957      0.963      0.989      0.563\n"
     ]
    },
    {
     "name": "stderr",
     "output_type": "stream",
     "text": [
      "\n"
     ]
    },
    {
     "name": "stdout",
     "output_type": "stream",
     "text": [
      "\n",
      "      Epoch    GPU_mem   box_loss   seg_loss   cls_loss   dfl_loss  Instances       Size\n"
     ]
    },
    {
     "name": "stderr",
     "output_type": "stream",
     "text": [
      "      15/30         0G      1.063      1.703     0.9373      1.042         88        640: 100%|██████████| 11/11 [00:59\n",
      "                 Class     Images  Instances      Box(P          R      mAP50  mAP50-95)     Mask(P          R      mAP"
     ]
    },
    {
     "name": "stdout",
     "output_type": "stream",
     "text": [
      "                   all         10        270      0.966      0.985      0.993      0.685      0.967      0.967      0.992       0.58\n"
     ]
    },
    {
     "name": "stderr",
     "output_type": "stream",
     "text": [
      "\n"
     ]
    },
    {
     "name": "stdout",
     "output_type": "stream",
     "text": [
      "\n",
      "      Epoch    GPU_mem   box_loss   seg_loss   cls_loss   dfl_loss  Instances       Size\n"
     ]
    },
    {
     "name": "stderr",
     "output_type": "stream",
     "text": [
      "      16/30         0G      1.049      1.641     0.8744      1.018        111        640: 100%|██████████| 11/11 [01:00\n",
      "                 Class     Images  Instances      Box(P          R      mAP50  mAP50-95)     Mask(P          R      mAP"
     ]
    },
    {
     "name": "stdout",
     "output_type": "stream",
     "text": [
      "                   all         10        270      0.964      0.978      0.991      0.685      0.965      0.978      0.991      0.581\n"
     ]
    },
    {
     "name": "stderr",
     "output_type": "stream",
     "text": [
      "\n"
     ]
    },
    {
     "name": "stdout",
     "output_type": "stream",
     "text": [
      "\n",
      "      Epoch    GPU_mem   box_loss   seg_loss   cls_loss   dfl_loss  Instances       Size\n"
     ]
    },
    {
     "name": "stderr",
     "output_type": "stream",
     "text": [
      "      17/30         0G      1.032      1.585     0.8459      1.018        147        640: 100%|██████████| 11/11 [01:00\n",
      "                 Class     Images  Instances      Box(P          R      mAP50  mAP50-95)     Mask(P          R      mAP"
     ]
    },
    {
     "name": "stdout",
     "output_type": "stream",
     "text": [
      "                   all         10        270      0.947       0.97      0.982      0.672      0.949      0.958      0.978      0.564\n"
     ]
    },
    {
     "name": "stderr",
     "output_type": "stream",
     "text": [
      "\n"
     ]
    },
    {
     "name": "stdout",
     "output_type": "stream",
     "text": [
      "\n",
      "      Epoch    GPU_mem   box_loss   seg_loss   cls_loss   dfl_loss  Instances       Size\n"
     ]
    },
    {
     "name": "stderr",
     "output_type": "stream",
     "text": [
      "      18/30         0G      1.029      1.607     0.8819      1.017         57        640: 100%|██████████| 11/11 [00:59\n",
      "                 Class     Images  Instances      Box(P          R      mAP50  mAP50-95)     Mask(P          R      mAP"
     ]
    },
    {
     "name": "stdout",
     "output_type": "stream",
     "text": [
      "                   all         10        270      0.946      0.972      0.982      0.678      0.949      0.967      0.983      0.579\n"
     ]
    },
    {
     "name": "stderr",
     "output_type": "stream",
     "text": [
      "\n"
     ]
    },
    {
     "name": "stdout",
     "output_type": "stream",
     "text": [
      "\n",
      "      Epoch    GPU_mem   box_loss   seg_loss   cls_loss   dfl_loss  Instances       Size\n"
     ]
    },
    {
     "name": "stderr",
     "output_type": "stream",
     "text": [
      "      19/30         0G      1.033      1.586     0.8526      1.027        168        640: 100%|██████████| 11/11 [00:58\n",
      "                 Class     Images  Instances      Box(P          R      mAP50  mAP50-95)     Mask(P          R      mAP"
     ]
    },
    {
     "name": "stdout",
     "output_type": "stream",
     "text": [
      "                   all         10        270      0.964      0.974      0.988      0.687       0.96       0.97      0.987      0.598\n"
     ]
    },
    {
     "name": "stderr",
     "output_type": "stream",
     "text": [
      "\n"
     ]
    },
    {
     "name": "stdout",
     "output_type": "stream",
     "text": [
      "\n",
      "      Epoch    GPU_mem   box_loss   seg_loss   cls_loss   dfl_loss  Instances       Size\n"
     ]
    },
    {
     "name": "stderr",
     "output_type": "stream",
     "text": [
      "      20/30         0G      1.009      1.522     0.8405      1.001        275        640: 100%|██████████| 11/11 [01:01\n",
      "                 Class     Images  Instances      Box(P          R      mAP50  mAP50-95)     Mask(P          R      mAP"
     ]
    },
    {
     "name": "stdout",
     "output_type": "stream",
     "text": [
      "                   all         10        270      0.979      0.981      0.993      0.698      0.978      0.976      0.993        0.6\n"
     ]
    },
    {
     "name": "stderr",
     "output_type": "stream",
     "text": [
      "\n"
     ]
    },
    {
     "name": "stdout",
     "output_type": "stream",
     "text": [
      "Closing dataloader mosaic\n",
      "\u001b[34m\u001b[1malbumentations: \u001b[0mBlur(p=0.01, blur_limit=(3, 7)), MedianBlur(p=0.01, blur_limit=(3, 7)), ToGray(p=0.01, num_output_channels=3, method='weighted_average'), CLAHE(p=0.01, clip_limit=(1.0, 4.0), tile_grid_size=(8, 8))\n",
      "\n",
      "      Epoch    GPU_mem   box_loss   seg_loss   cls_loss   dfl_loss  Instances       Size\n"
     ]
    },
    {
     "name": "stderr",
     "output_type": "stream",
     "text": [
      "      21/30         0G     0.9965       1.63     0.9698      1.023         88        640: 100%|██████████| 11/11 [00:43\n",
      "                 Class     Images  Instances      Box(P          R      mAP50  mAP50-95)     Mask(P          R      mAP"
     ]
    },
    {
     "name": "stdout",
     "output_type": "stream",
     "text": [
      "                   all         10        270      0.979      0.981      0.994       0.69      0.994      0.974      0.994      0.595\n"
     ]
    },
    {
     "name": "stderr",
     "output_type": "stream",
     "text": [
      "\n"
     ]
    },
    {
     "name": "stdout",
     "output_type": "stream",
     "text": [
      "\n",
      "      Epoch    GPU_mem   box_loss   seg_loss   cls_loss   dfl_loss  Instances       Size\n"
     ]
    },
    {
     "name": "stderr",
     "output_type": "stream",
     "text": [
      "      22/30         0G      1.023      1.595     0.9662      1.023         63        640: 100%|██████████| 11/11 [00:40\n",
      "                 Class     Images  Instances      Box(P          R      mAP50  mAP50-95)     Mask(P          R      mAP"
     ]
    },
    {
     "name": "stdout",
     "output_type": "stream",
     "text": [
      "                   all         10        270      0.986      0.978      0.994       0.69      0.992      0.981      0.994      0.597\n"
     ]
    },
    {
     "name": "stderr",
     "output_type": "stream",
     "text": [
      "\n"
     ]
    },
    {
     "name": "stdout",
     "output_type": "stream",
     "text": [
      "\n",
      "      Epoch    GPU_mem   box_loss   seg_loss   cls_loss   dfl_loss  Instances       Size\n"
     ]
    },
    {
     "name": "stderr",
     "output_type": "stream",
     "text": [
      "      23/30         0G     0.9689      1.481     0.9105      1.015         70        640: 100%|██████████| 11/11 [00:39\n",
      "                 Class     Images  Instances      Box(P          R      mAP50  mAP50-95)     Mask(P          R      mAP"
     ]
    },
    {
     "name": "stdout",
     "output_type": "stream",
     "text": [
      "                   all         10        270      0.989      0.984      0.994      0.695      0.989      0.983      0.994      0.602\n"
     ]
    },
    {
     "name": "stderr",
     "output_type": "stream",
     "text": [
      "\n"
     ]
    },
    {
     "name": "stdout",
     "output_type": "stream",
     "text": [
      "\n",
      "      Epoch    GPU_mem   box_loss   seg_loss   cls_loss   dfl_loss  Instances       Size\n"
     ]
    },
    {
     "name": "stderr",
     "output_type": "stream",
     "text": [
      "      24/30         0G      0.988      1.547      0.932      1.004         54        640: 100%|██████████| 11/11 [00:43\n",
      "                 Class     Images  Instances      Box(P          R      mAP50  mAP50-95)     Mask(P          R      mAP"
     ]
    },
    {
     "name": "stdout",
     "output_type": "stream",
     "text": [
      "                   all         10        270      0.989      0.984      0.994      0.696      0.989      0.984      0.994      0.597\n"
     ]
    },
    {
     "name": "stderr",
     "output_type": "stream",
     "text": [
      "\n"
     ]
    },
    {
     "name": "stdout",
     "output_type": "stream",
     "text": [
      "\n",
      "      Epoch    GPU_mem   box_loss   seg_loss   cls_loss   dfl_loss  Instances       Size\n"
     ]
    },
    {
     "name": "stderr",
     "output_type": "stream",
     "text": [
      "      25/30         0G      1.028      1.633       0.92     0.9966        120        640: 100%|██████████| 11/11 [00:40\n",
      "                 Class     Images  Instances      Box(P          R      mAP50  mAP50-95)     Mask(P          R      mAP"
     ]
    },
    {
     "name": "stdout",
     "output_type": "stream",
     "text": [
      "                   all         10        270      0.989      0.977      0.994      0.701      0.989      0.977      0.994      0.591\n"
     ]
    },
    {
     "name": "stderr",
     "output_type": "stream",
     "text": [
      "\n"
     ]
    },
    {
     "name": "stdout",
     "output_type": "stream",
     "text": [
      "\n",
      "      Epoch    GPU_mem   box_loss   seg_loss   cls_loss   dfl_loss  Instances       Size\n"
     ]
    },
    {
     "name": "stderr",
     "output_type": "stream",
     "text": [
      "      26/30         0G      1.021      1.616      0.892     0.9962         50        640: 100%|██████████| 11/11 [00:40\n",
      "                 Class     Images  Instances      Box(P          R      mAP50  mAP50-95)     Mask(P          R      mAP"
     ]
    },
    {
     "name": "stdout",
     "output_type": "stream",
     "text": [
      "                   all         10        270      0.986      0.974      0.994      0.705      0.986      0.974      0.994      0.591\n"
     ]
    },
    {
     "name": "stderr",
     "output_type": "stream",
     "text": [
      "\n"
     ]
    },
    {
     "name": "stdout",
     "output_type": "stream",
     "text": [
      "\n",
      "      Epoch    GPU_mem   box_loss   seg_loss   cls_loss   dfl_loss  Instances       Size\n"
     ]
    },
    {
     "name": "stderr",
     "output_type": "stream",
     "text": [
      "      27/30         0G     0.9844        1.5     0.8401      1.001        122        640: 100%|██████████| 11/11 [00:40\n",
      "                 Class     Images  Instances      Box(P          R      mAP50  mAP50-95)     Mask(P          R      mAP"
     ]
    },
    {
     "name": "stdout",
     "output_type": "stream",
     "text": [
      "                   all         10        270      0.989      0.974      0.994      0.705      0.981      0.974      0.994      0.595\n"
     ]
    },
    {
     "name": "stderr",
     "output_type": "stream",
     "text": [
      "\n"
     ]
    },
    {
     "name": "stdout",
     "output_type": "stream",
     "text": [
      "\n",
      "      Epoch    GPU_mem   box_loss   seg_loss   cls_loss   dfl_loss  Instances       Size\n"
     ]
    },
    {
     "name": "stderr",
     "output_type": "stream",
     "text": [
      "      28/30         0G     0.9751      1.496     0.8764      1.004        129        640: 100%|██████████| 11/11 [00:41\n",
      "                 Class     Images  Instances      Box(P          R      mAP50  mAP50-95)     Mask(P          R      mAP"
     ]
    },
    {
     "name": "stdout",
     "output_type": "stream",
     "text": [
      "                   all         10        270      0.974      0.986      0.994      0.709      0.974      0.988      0.994      0.594\n"
     ]
    },
    {
     "name": "stderr",
     "output_type": "stream",
     "text": [
      "\n"
     ]
    },
    {
     "name": "stdout",
     "output_type": "stream",
     "text": [
      "\n",
      "      Epoch    GPU_mem   box_loss   seg_loss   cls_loss   dfl_loss  Instances       Size\n"
     ]
    },
    {
     "name": "stderr",
     "output_type": "stream",
     "text": [
      "      29/30         0G     0.9822      1.549     0.8761      1.012         45        640: 100%|██████████| 11/11 [00:42\n",
      "                 Class     Images  Instances      Box(P          R      mAP50  mAP50-95)     Mask(P          R      mAP"
     ]
    },
    {
     "name": "stdout",
     "output_type": "stream",
     "text": [
      "                   all         10        270      0.974      0.989      0.994      0.709      0.974      0.989      0.994      0.596\n"
     ]
    },
    {
     "name": "stderr",
     "output_type": "stream",
     "text": [
      "\n"
     ]
    },
    {
     "name": "stdout",
     "output_type": "stream",
     "text": [
      "\n",
      "      Epoch    GPU_mem   box_loss   seg_loss   cls_loss   dfl_loss  Instances       Size\n"
     ]
    },
    {
     "name": "stderr",
     "output_type": "stream",
     "text": [
      "      30/30         0G     0.9839      1.538      0.837     0.9976         98        640: 100%|██████████| 11/11 [00:41\n",
      "                 Class     Images  Instances      Box(P          R      mAP50  mAP50-95)     Mask(P          R      mAP"
     ]
    },
    {
     "name": "stdout",
     "output_type": "stream",
     "text": [
      "                   all         10        270      0.972      0.989      0.994      0.709      0.972      0.989      0.994      0.592\n"
     ]
    },
    {
     "name": "stderr",
     "output_type": "stream",
     "text": [
      "\n"
     ]
    },
    {
     "name": "stdout",
     "output_type": "stream",
     "text": [
      "\n",
      "30 epochs completed in 0.489 hours.\n",
      "Optimizer stripped from runs\\segment\\train20\\weights\\last.pt, 6.8MB\n",
      "Optimizer stripped from runs\\segment\\train20\\weights\\best.pt, 6.8MB\n",
      "\n",
      "Validating runs\\segment\\train20\\weights\\best.pt...\n",
      "Ultralytics 8.3.99  Python-3.9.13 torch-2.6.0+cpu CPU (AMD Ryzen 5 5500U with Radeon Graphics)\n",
      "YOLOv8n-seg summary (fused): 85 layers, 3,258,259 parameters, 0 gradients, 12.0 GFLOPs\n"
     ]
    },
    {
     "name": "stderr",
     "output_type": "stream",
     "text": [
      "\r",
      "                 Class     Images  Instances      Box(P          R      mAP50  mAP50-95)     Mask(P          R      mAP"
     ]
    },
    {
     "name": "stdout",
     "output_type": "stream",
     "text": [
      "WARNING  Limiting validation plots to first 50 items per image for speed...\n",
      "WARNING  Limiting validation plots to first 50 items per image for speed...\n",
      "WARNING  Limiting validation plots to first 50 items per image for speed...\n",
      "WARNING  Limiting validation plots to first 50 items per image for speed...\n",
      "WARNING  Limiting validation plots to first 50 items per image for speed...\n",
      "WARNING  Limiting validation plots to first 50 items per image for speed...\n",
      "WARNING  Limiting validation plots to first 50 items per image for speed...\n",
      "WARNING  Limiting validation plots to first 50 items per image for speed...\n",
      "WARNING  Limiting validation plots to first 50 items per image for speed...\n",
      "WARNING  Limiting validation plots to first 50 items per image for speed...\n"
     ]
    },
    {
     "name": "stderr",
     "output_type": "stream",
     "text": [
      "                 Class     Images  Instances      Box(P          R      mAP50  mAP50-95)     Mask(P          R      mAP\n"
     ]
    },
    {
     "name": "stdout",
     "output_type": "stream",
     "text": [
      "                   all         10        270      0.974      0.989      0.994      0.708      0.974      0.989      0.994      0.596\n",
      "WARNING  ConfusionMatrix plot failure: module 'matplotlib.cm' has no attribute 'register_cmap'\n",
      "WARNING  ConfusionMatrix plot failure: module 'matplotlib.cm' has no attribute 'register_cmap'\n",
      "Speed: 1.4ms preprocess, 68.2ms inference, 0.0ms loss, 32.0ms postprocess per image\n",
      "Results saved to \u001b[1mruns\\segment\\train20\u001b[0m\n"
     ]
    },
    {
     "data": {
      "text/plain": [
       "ultralytics.utils.metrics.SegmentMetrics object with attributes:\n",
       "\n",
       "ap_class_index: array([0])\n",
       "box: ultralytics.utils.metrics.Metric object\n",
       "confusion_matrix: <ultralytics.utils.metrics.ConfusionMatrix object at 0x000001FD4A87CD30>\n",
       "curves: ['Precision-Recall(B)', 'F1-Confidence(B)', 'Precision-Confidence(B)', 'Recall-Confidence(B)', 'Precision-Recall(M)', 'F1-Confidence(M)', 'Precision-Confidence(M)', 'Recall-Confidence(M)']\n",
       "curves_results: [[array([          0,    0.001001,    0.002002,    0.003003,    0.004004,    0.005005,    0.006006,    0.007007,    0.008008,    0.009009,     0.01001,    0.011011,    0.012012,    0.013013,    0.014014,    0.015015,    0.016016,    0.017017,    0.018018,    0.019019,     0.02002,    0.021021,    0.022022,    0.023023,\n",
       "          0.024024,    0.025025,    0.026026,    0.027027,    0.028028,    0.029029,     0.03003,    0.031031,    0.032032,    0.033033,    0.034034,    0.035035,    0.036036,    0.037037,    0.038038,    0.039039,     0.04004,    0.041041,    0.042042,    0.043043,    0.044044,    0.045045,    0.046046,    0.047047,\n",
       "          0.048048,    0.049049,     0.05005,    0.051051,    0.052052,    0.053053,    0.054054,    0.055055,    0.056056,    0.057057,    0.058058,    0.059059,     0.06006,    0.061061,    0.062062,    0.063063,    0.064064,    0.065065,    0.066066,    0.067067,    0.068068,    0.069069,     0.07007,    0.071071,\n",
       "          0.072072,    0.073073,    0.074074,    0.075075,    0.076076,    0.077077,    0.078078,    0.079079,     0.08008,    0.081081,    0.082082,    0.083083,    0.084084,    0.085085,    0.086086,    0.087087,    0.088088,    0.089089,     0.09009,    0.091091,    0.092092,    0.093093,    0.094094,    0.095095,\n",
       "          0.096096,    0.097097,    0.098098,    0.099099,      0.1001,      0.1011,      0.1021,      0.1031,      0.1041,     0.10511,     0.10611,     0.10711,     0.10811,     0.10911,     0.11011,     0.11111,     0.11211,     0.11311,     0.11411,     0.11512,     0.11612,     0.11712,     0.11812,     0.11912,\n",
       "           0.12012,     0.12112,     0.12212,     0.12312,     0.12412,     0.12513,     0.12613,     0.12713,     0.12813,     0.12913,     0.13013,     0.13113,     0.13213,     0.13313,     0.13413,     0.13514,     0.13614,     0.13714,     0.13814,     0.13914,     0.14014,     0.14114,     0.14214,     0.14314,\n",
       "           0.14414,     0.14515,     0.14615,     0.14715,     0.14815,     0.14915,     0.15015,     0.15115,     0.15215,     0.15315,     0.15415,     0.15516,     0.15616,     0.15716,     0.15816,     0.15916,     0.16016,     0.16116,     0.16216,     0.16316,     0.16416,     0.16517,     0.16617,     0.16717,\n",
       "           0.16817,     0.16917,     0.17017,     0.17117,     0.17217,     0.17317,     0.17417,     0.17518,     0.17618,     0.17718,     0.17818,     0.17918,     0.18018,     0.18118,     0.18218,     0.18318,     0.18418,     0.18519,     0.18619,     0.18719,     0.18819,     0.18919,     0.19019,     0.19119,\n",
       "           0.19219,     0.19319,     0.19419,      0.1952,      0.1962,      0.1972,      0.1982,      0.1992,      0.2002,      0.2012,      0.2022,      0.2032,      0.2042,     0.20521,     0.20621,     0.20721,     0.20821,     0.20921,     0.21021,     0.21121,     0.21221,     0.21321,     0.21421,     0.21522,\n",
       "           0.21622,     0.21722,     0.21822,     0.21922,     0.22022,     0.22122,     0.22222,     0.22322,     0.22422,     0.22523,     0.22623,     0.22723,     0.22823,     0.22923,     0.23023,     0.23123,     0.23223,     0.23323,     0.23423,     0.23524,     0.23624,     0.23724,     0.23824,     0.23924,\n",
       "           0.24024,     0.24124,     0.24224,     0.24324,     0.24424,     0.24525,     0.24625,     0.24725,     0.24825,     0.24925,     0.25025,     0.25125,     0.25225,     0.25325,     0.25425,     0.25526,     0.25626,     0.25726,     0.25826,     0.25926,     0.26026,     0.26126,     0.26226,     0.26326,\n",
       "           0.26426,     0.26527,     0.26627,     0.26727,     0.26827,     0.26927,     0.27027,     0.27127,     0.27227,     0.27327,     0.27427,     0.27528,     0.27628,     0.27728,     0.27828,     0.27928,     0.28028,     0.28128,     0.28228,     0.28328,     0.28428,     0.28529,     0.28629,     0.28729,\n",
       "           0.28829,     0.28929,     0.29029,     0.29129,     0.29229,     0.29329,     0.29429,      0.2953,      0.2963,      0.2973,      0.2983,      0.2993,      0.3003,      0.3013,      0.3023,      0.3033,      0.3043,     0.30531,     0.30631,     0.30731,     0.30831,     0.30931,     0.31031,     0.31131,\n",
       "           0.31231,     0.31331,     0.31431,     0.31532,     0.31632,     0.31732,     0.31832,     0.31932,     0.32032,     0.32132,     0.32232,     0.32332,     0.32432,     0.32533,     0.32633,     0.32733,     0.32833,     0.32933,     0.33033,     0.33133,     0.33233,     0.33333,     0.33433,     0.33534,\n",
       "           0.33634,     0.33734,     0.33834,     0.33934,     0.34034,     0.34134,     0.34234,     0.34334,     0.34434,     0.34535,     0.34635,     0.34735,     0.34835,     0.34935,     0.35035,     0.35135,     0.35235,     0.35335,     0.35435,     0.35536,     0.35636,     0.35736,     0.35836,     0.35936,\n",
       "           0.36036,     0.36136,     0.36236,     0.36336,     0.36436,     0.36537,     0.36637,     0.36737,     0.36837,     0.36937,     0.37037,     0.37137,     0.37237,     0.37337,     0.37437,     0.37538,     0.37638,     0.37738,     0.37838,     0.37938,     0.38038,     0.38138,     0.38238,     0.38338,\n",
       "           0.38438,     0.38539,     0.38639,     0.38739,     0.38839,     0.38939,     0.39039,     0.39139,     0.39239,     0.39339,     0.39439,      0.3954,      0.3964,      0.3974,      0.3984,      0.3994,      0.4004,      0.4014,      0.4024,      0.4034,      0.4044,     0.40541,     0.40641,     0.40741,\n",
       "           0.40841,     0.40941,     0.41041,     0.41141,     0.41241,     0.41341,     0.41441,     0.41542,     0.41642,     0.41742,     0.41842,     0.41942,     0.42042,     0.42142,     0.42242,     0.42342,     0.42442,     0.42543,     0.42643,     0.42743,     0.42843,     0.42943,     0.43043,     0.43143,\n",
       "           0.43243,     0.43343,     0.43443,     0.43544,     0.43644,     0.43744,     0.43844,     0.43944,     0.44044,     0.44144,     0.44244,     0.44344,     0.44444,     0.44545,     0.44645,     0.44745,     0.44845,     0.44945,     0.45045,     0.45145,     0.45245,     0.45345,     0.45445,     0.45546,\n",
       "           0.45646,     0.45746,     0.45846,     0.45946,     0.46046,     0.46146,     0.46246,     0.46346,     0.46446,     0.46547,     0.46647,     0.46747,     0.46847,     0.46947,     0.47047,     0.47147,     0.47247,     0.47347,     0.47447,     0.47548,     0.47648,     0.47748,     0.47848,     0.47948,\n",
       "           0.48048,     0.48148,     0.48248,     0.48348,     0.48448,     0.48549,     0.48649,     0.48749,     0.48849,     0.48949,     0.49049,     0.49149,     0.49249,     0.49349,     0.49449,      0.4955,      0.4965,      0.4975,      0.4985,      0.4995,      0.5005,      0.5015,      0.5025,      0.5035,\n",
       "            0.5045,     0.50551,     0.50651,     0.50751,     0.50851,     0.50951,     0.51051,     0.51151,     0.51251,     0.51351,     0.51451,     0.51552,     0.51652,     0.51752,     0.51852,     0.51952,     0.52052,     0.52152,     0.52252,     0.52352,     0.52452,     0.52553,     0.52653,     0.52753,\n",
       "           0.52853,     0.52953,     0.53053,     0.53153,     0.53253,     0.53353,     0.53453,     0.53554,     0.53654,     0.53754,     0.53854,     0.53954,     0.54054,     0.54154,     0.54254,     0.54354,     0.54454,     0.54555,     0.54655,     0.54755,     0.54855,     0.54955,     0.55055,     0.55155,\n",
       "           0.55255,     0.55355,     0.55455,     0.55556,     0.55656,     0.55756,     0.55856,     0.55956,     0.56056,     0.56156,     0.56256,     0.56356,     0.56456,     0.56557,     0.56657,     0.56757,     0.56857,     0.56957,     0.57057,     0.57157,     0.57257,     0.57357,     0.57457,     0.57558,\n",
       "           0.57658,     0.57758,     0.57858,     0.57958,     0.58058,     0.58158,     0.58258,     0.58358,     0.58458,     0.58559,     0.58659,     0.58759,     0.58859,     0.58959,     0.59059,     0.59159,     0.59259,     0.59359,     0.59459,      0.5956,      0.5966,      0.5976,      0.5986,      0.5996,\n",
       "            0.6006,      0.6016,      0.6026,      0.6036,      0.6046,     0.60561,     0.60661,     0.60761,     0.60861,     0.60961,     0.61061,     0.61161,     0.61261,     0.61361,     0.61461,     0.61562,     0.61662,     0.61762,     0.61862,     0.61962,     0.62062,     0.62162,     0.62262,     0.62362,\n",
       "           0.62462,     0.62563,     0.62663,     0.62763,     0.62863,     0.62963,     0.63063,     0.63163,     0.63263,     0.63363,     0.63463,     0.63564,     0.63664,     0.63764,     0.63864,     0.63964,     0.64064,     0.64164,     0.64264,     0.64364,     0.64464,     0.64565,     0.64665,     0.64765,\n",
       "           0.64865,     0.64965,     0.65065,     0.65165,     0.65265,     0.65365,     0.65465,     0.65566,     0.65666,     0.65766,     0.65866,     0.65966,     0.66066,     0.66166,     0.66266,     0.66366,     0.66466,     0.66567,     0.66667,     0.66767,     0.66867,     0.66967,     0.67067,     0.67167,\n",
       "           0.67267,     0.67367,     0.67467,     0.67568,     0.67668,     0.67768,     0.67868,     0.67968,     0.68068,     0.68168,     0.68268,     0.68368,     0.68468,     0.68569,     0.68669,     0.68769,     0.68869,     0.68969,     0.69069,     0.69169,     0.69269,     0.69369,     0.69469,      0.6957,\n",
       "            0.6967,      0.6977,      0.6987,      0.6997,      0.7007,      0.7017,      0.7027,      0.7037,      0.7047,     0.70571,     0.70671,     0.70771,     0.70871,     0.70971,     0.71071,     0.71171,     0.71271,     0.71371,     0.71471,     0.71572,     0.71672,     0.71772,     0.71872,     0.71972,\n",
       "           0.72072,     0.72172,     0.72272,     0.72372,     0.72472,     0.72573,     0.72673,     0.72773,     0.72873,     0.72973,     0.73073,     0.73173,     0.73273,     0.73373,     0.73473,     0.73574,     0.73674,     0.73774,     0.73874,     0.73974,     0.74074,     0.74174,     0.74274,     0.74374,\n",
       "           0.74474,     0.74575,     0.74675,     0.74775,     0.74875,     0.74975,     0.75075,     0.75175,     0.75275,     0.75375,     0.75475,     0.75576,     0.75676,     0.75776,     0.75876,     0.75976,     0.76076,     0.76176,     0.76276,     0.76376,     0.76476,     0.76577,     0.76677,     0.76777,\n",
       "           0.76877,     0.76977,     0.77077,     0.77177,     0.77277,     0.77377,     0.77477,     0.77578,     0.77678,     0.77778,     0.77878,     0.77978,     0.78078,     0.78178,     0.78278,     0.78378,     0.78478,     0.78579,     0.78679,     0.78779,     0.78879,     0.78979,     0.79079,     0.79179,\n",
       "           0.79279,     0.79379,     0.79479,      0.7958,      0.7968,      0.7978,      0.7988,      0.7998,      0.8008,      0.8018,      0.8028,      0.8038,      0.8048,     0.80581,     0.80681,     0.80781,     0.80881,     0.80981,     0.81081,     0.81181,     0.81281,     0.81381,     0.81481,     0.81582,\n",
       "           0.81682,     0.81782,     0.81882,     0.81982,     0.82082,     0.82182,     0.82282,     0.82382,     0.82482,     0.82583,     0.82683,     0.82783,     0.82883,     0.82983,     0.83083,     0.83183,     0.83283,     0.83383,     0.83483,     0.83584,     0.83684,     0.83784,     0.83884,     0.83984,\n",
       "           0.84084,     0.84184,     0.84284,     0.84384,     0.84484,     0.84585,     0.84685,     0.84785,     0.84885,     0.84985,     0.85085,     0.85185,     0.85285,     0.85385,     0.85485,     0.85586,     0.85686,     0.85786,     0.85886,     0.85986,     0.86086,     0.86186,     0.86286,     0.86386,\n",
       "           0.86486,     0.86587,     0.86687,     0.86787,     0.86887,     0.86987,     0.87087,     0.87187,     0.87287,     0.87387,     0.87487,     0.87588,     0.87688,     0.87788,     0.87888,     0.87988,     0.88088,     0.88188,     0.88288,     0.88388,     0.88488,     0.88589,     0.88689,     0.88789,\n",
       "           0.88889,     0.88989,     0.89089,     0.89189,     0.89289,     0.89389,     0.89489,      0.8959,      0.8969,      0.8979,      0.8989,      0.8999,      0.9009,      0.9019,      0.9029,      0.9039,      0.9049,     0.90591,     0.90691,     0.90791,     0.90891,     0.90991,     0.91091,     0.91191,\n",
       "           0.91291,     0.91391,     0.91491,     0.91592,     0.91692,     0.91792,     0.91892,     0.91992,     0.92092,     0.92192,     0.92292,     0.92392,     0.92492,     0.92593,     0.92693,     0.92793,     0.92893,     0.92993,     0.93093,     0.93193,     0.93293,     0.93393,     0.93493,     0.93594,\n",
       "           0.93694,     0.93794,     0.93894,     0.93994,     0.94094,     0.94194,     0.94294,     0.94394,     0.94494,     0.94595,     0.94695,     0.94795,     0.94895,     0.94995,     0.95095,     0.95195,     0.95295,     0.95395,     0.95495,     0.95596,     0.95696,     0.95796,     0.95896,     0.95996,\n",
       "           0.96096,     0.96196,     0.96296,     0.96396,     0.96496,     0.96597,     0.96697,     0.96797,     0.96897,     0.96997,     0.97097,     0.97197,     0.97297,     0.97397,     0.97497,     0.97598,     0.97698,     0.97798,     0.97898,     0.97998,     0.98098,     0.98198,     0.98298,     0.98398,\n",
       "           0.98498,     0.98599,     0.98699,     0.98799,     0.98899,     0.98999,     0.99099,     0.99199,     0.99299,     0.99399,     0.99499,       0.996,       0.997,       0.998,       0.999,           1]), array([[          1,           1,           1,           1,           1,           1,           1,           1,           1,           1,           1,           1,           1,           1,           1,           1,           1,           1,           1,           1,           1,           1,           1,\n",
       "                  1,           1,           1,           1,           1,           1,           1,           1,           1,           1,           1,           1,           1,           1,           1,           1,           1,           1,           1,           1,           1,           1,           1,\n",
       "                  1,           1,           1,           1,           1,           1,           1,           1,           1,           1,           1,           1,           1,           1,           1,           1,           1,           1,           1,           1,           1,           1,           1,\n",
       "                  1,           1,           1,           1,           1,           1,           1,           1,           1,           1,           1,           1,           1,           1,           1,           1,           1,           1,           1,           1,           1,           1,           1,\n",
       "                  1,           1,           1,           1,           1,           1,           1,           1,           1,           1,           1,           1,           1,           1,           1,           1,           1,           1,           1,           1,           1,           1,           1,\n",
       "                  1,           1,           1,           1,           1,           1,           1,           1,           1,           1,           1,           1,           1,           1,           1,           1,           1,           1,           1,           1,           1,           1,           1,\n",
       "                  1,           1,           1,           1,           1,           1,           1,           1,           1,           1,           1,           1,           1,           1,           1,           1,           1,           1,           1,           1,           1,           1,           1,\n",
       "                  1,           1,           1,           1,           1,           1,           1,           1,           1,           1,           1,           1,           1,           1,           1,           1,           1,           1,           1,           1,           1,           1,           1,\n",
       "                  1,           1,           1,           1,           1,           1,           1,           1,           1,           1,           1,           1,           1,           1,           1,           1,           1,           1,           1,           1,           1,           1,           1,\n",
       "                  1,           1,           1,           1,           1,           1,           1,           1,           1,           1,           1,           1,           1,           1,           1,           1,           1,           1,           1,           1,           1,           1,           1,\n",
       "                  1,           1,           1,           1,           1,           1,           1,           1,           1,           1,           1,           1,           1,           1,           1,           1,           1,           1,           1,           1,           1,           1,           1,\n",
       "                  1,           1,           1,           1,           1,           1,           1,           1,           1,           1,           1,           1,           1,           1,           1,           1,           1,           1,           1,           1,           1,           1,           1,\n",
       "                  1,           1,           1,           1,           1,           1,           1,           1,           1,           1,           1,           1,           1,           1,           1,           1,           1,           1,           1,           1,           1,           1,           1,\n",
       "                  1,           1,           1,           1,           1,           1,           1,           1,           1,           1,           1,           1,           1,           1,           1,           1,           1,           1,           1,           1,           1,           1,           1,\n",
       "                  1,           1,           1,           1,           1,           1,           1,           1,           1,           1,           1,           1,           1,           1,           1,           1,           1,           1,           1,           1,           1,           1,           1,\n",
       "                  1,           1,           1,           1,           1,           1,           1,           1,           1,           1,           1,           1,           1,           1,           1,           1,           1,           1,           1,           1,           1,           1,           1,\n",
       "                  1,           1,           1,           1,           1,           1,           1,           1,           1,           1,           1,           1,           1,           1,           1,           1,           1,           1,           1,           1,           1,           1,           1,\n",
       "                  1,           1,           1,           1,           1,           1,           1,           1,           1,           1,           1,           1,           1,           1,           1,           1,           1,           1,           1,           1,           1,           1,           1,\n",
       "                  1,           1,           1,           1,           1,           1,           1,           1,           1,           1,           1,           1,           1,           1,           1,           1,           1,           1,           1,           1,           1,           1,           1,\n",
       "                  1,           1,           1,           1,           1,           1,           1,           1,           1,           1,           1,           1,           1,           1,           1,           1,           1,           1,           1,           1,           1,           1,           1,\n",
       "                  1,           1,           1,           1,           1,           1,           1,           1,           1,           1,           1,           1,           1,           1,           1,           1,           1,           1,           1,           1,           1,           1,           1,\n",
       "                  1,           1,           1,           1,           1,           1,           1,           1,           1,           1,           1,           1,           1,           1,           1,           1,           1,           1,           1,           1,           1,           1,           1,\n",
       "                  1,           1,           1,           1,           1,           1,           1,           1,           1,           1,           1,           1,           1,           1,           1,           1,           1,           1,           1,           1,           1,           1,           1,\n",
       "                  1,           1,           1,           1,           1,           1,           1,           1,           1,           1,           1,           1,           1,           1,           1,           1,           1,           1,           1,           1,           1,           1,           1,\n",
       "                  1,           1,           1,           1,           1,           1,           1,           1,           1,           1,           1,           1,           1,           1,           1,           1,           1,           1,           1,           1,           1,           1,           1,\n",
       "                  1,           1,           1,           1,           1,           1,           1,           1,           1,           1,           1,           1,           1,           1,           1,           1,           1,           1,           1,           1,           1,           1,           1,\n",
       "                  1,           1,           1,           1,           1,           1,           1,           1,           1,           1,           1,           1,           1,           1,           1,           1,           1,           1,           1,           1,           1,           1,           1,\n",
       "                  1,           1,           1,           1,           1,           1,           1,           1,           1,           1,           1,           1,           1,           1,           1,           1,           1,           1,           1,           1,           1,           1,           1,\n",
       "                  1,           1,           1,           1,           1,           1,           1,           1,           1,           1,           1,           1,           1,           1,           1,           1,           1,           1,           1,           1,           1,           1,           1,\n",
       "                  1,           1,           1,           1,           1,           1,           1,           1,           1,           1,           1,           1,           1,           1,           1,           1,           1,           1,           1,           1,           1,           1,           1,\n",
       "                  1,           1,           1,           1,           1,           1,           1,           1,           1,           1,           1,           1,           1,           1,           1,           1,           1,           1,           1,           1,           1,           1,           1,\n",
       "                  1,           1,           1,           1,           1,           1,           1,           1,           1,           1,           1,           1,           1,           1,           1,           1,           1,           1,           1,           1,           1,           1,           1,\n",
       "                  1,           1,           1,           1,           1,           1,           1,           1,           1,           1,           1,           1,           1,           1,           1,           1,           1,           1,           1,           1,           1,           1,           1,\n",
       "                  1,           1,           1,           1,           1,           1,           1,           1,           1,           1,           1,           1,           1,           1,           1,           1,           1,           1,           1,           1,           1,           1,           1,\n",
       "                  1,           1,           1,           1,           1,           1,           1,           1,           1,           1,           1,           1,           1,           1,           1,           1,           1,           1,           1,           1,           1,           1,           1,\n",
       "                  1,           1,           1,           1,           1,           1,           1,           1,           1,           1,           1,           1,           1,           1,           1,           1,           1,           1,           1,           1,           1,           1,           1,\n",
       "                  1,           1,           1,           1,           1,           1,           1,           1,           1,           1,           1,           1,           1,           1,           1,           1,           1,           1,           1,           1,           1,           1,           1,\n",
       "                  1,           1,           1,           1,           1,           1,           1,           1,           1,           1,           1,           1,           1,           1,           1,           1,           1,           1,           1,     0.99595,     0.99595,     0.99595,     0.99595,\n",
       "            0.99595,     0.99595,     0.99595,     0.99595,     0.99595,     0.99595,     0.99595,     0.99595,     0.99595,     0.99595,     0.99595,     0.99595,     0.99595,     0.99595,     0.99595,     0.99595,     0.99595,     0.99595,     0.99595,     0.99595,     0.99595,     0.99595,     0.99595,\n",
       "            0.99595,     0.99595,     0.99595,     0.99595,     0.99595,     0.99595,     0.99595,     0.99595,     0.99595,     0.99595,     0.99595,     0.99595,     0.99595,     0.99595,     0.99242,     0.99242,     0.99242,     0.99242,     0.99242,     0.99242,     0.99242,     0.99242,     0.99242,\n",
       "            0.99242,     0.99242,     0.99242,     0.99242,     0.99242,     0.99242,     0.99242,     0.99242,     0.99242,     0.99242,     0.99242,     0.99242,     0.99242,     0.99242,     0.99242,     0.99242,     0.99242,     0.99242,     0.99242,     0.99242,     0.99242,     0.99242,     0.99242,\n",
       "            0.99242,     0.99242,     0.99242,     0.99242,     0.99242,     0.99242,     0.99242,     0.99242,     0.99242,     0.99242,     0.99242,     0.99242,     0.99242,     0.99242,     0.99242,     0.99242,     0.99242,     0.99242,     0.99242,     0.99242,     0.99242,     0.99242,     0.99242,\n",
       "            0.99242,     0.99242,     0.99242,     0.99242,     0.98872,     0.98872,     0.98872,     0.98872,     0.98155,     0.98155,     0.98155,     0.98155,     0.98155,     0.98155,     0.98155,     0.98155,     0.98155,     0.98155,     0.98155,     0.97802,     0.97802,     0.97802,     0.97112,\n",
       "            0.97112,     0.97112,     0.97112,     0.97112,     0.97112,     0.97112,     0.97112,      0.9375,      0.9375,      0.9375,           0]]), 'Recall', 'Precision'], [array([          0,    0.001001,    0.002002,    0.003003,    0.004004,    0.005005,    0.006006,    0.007007,    0.008008,    0.009009,     0.01001,    0.011011,    0.012012,    0.013013,    0.014014,    0.015015,    0.016016,    0.017017,    0.018018,    0.019019,     0.02002,    0.021021,    0.022022,    0.023023,\n",
       "          0.024024,    0.025025,    0.026026,    0.027027,    0.028028,    0.029029,     0.03003,    0.031031,    0.032032,    0.033033,    0.034034,    0.035035,    0.036036,    0.037037,    0.038038,    0.039039,     0.04004,    0.041041,    0.042042,    0.043043,    0.044044,    0.045045,    0.046046,    0.047047,\n",
       "          0.048048,    0.049049,     0.05005,    0.051051,    0.052052,    0.053053,    0.054054,    0.055055,    0.056056,    0.057057,    0.058058,    0.059059,     0.06006,    0.061061,    0.062062,    0.063063,    0.064064,    0.065065,    0.066066,    0.067067,    0.068068,    0.069069,     0.07007,    0.071071,\n",
       "          0.072072,    0.073073,    0.074074,    0.075075,    0.076076,    0.077077,    0.078078,    0.079079,     0.08008,    0.081081,    0.082082,    0.083083,    0.084084,    0.085085,    0.086086,    0.087087,    0.088088,    0.089089,     0.09009,    0.091091,    0.092092,    0.093093,    0.094094,    0.095095,\n",
       "          0.096096,    0.097097,    0.098098,    0.099099,      0.1001,      0.1011,      0.1021,      0.1031,      0.1041,     0.10511,     0.10611,     0.10711,     0.10811,     0.10911,     0.11011,     0.11111,     0.11211,     0.11311,     0.11411,     0.11512,     0.11612,     0.11712,     0.11812,     0.11912,\n",
       "           0.12012,     0.12112,     0.12212,     0.12312,     0.12412,     0.12513,     0.12613,     0.12713,     0.12813,     0.12913,     0.13013,     0.13113,     0.13213,     0.13313,     0.13413,     0.13514,     0.13614,     0.13714,     0.13814,     0.13914,     0.14014,     0.14114,     0.14214,     0.14314,\n",
       "           0.14414,     0.14515,     0.14615,     0.14715,     0.14815,     0.14915,     0.15015,     0.15115,     0.15215,     0.15315,     0.15415,     0.15516,     0.15616,     0.15716,     0.15816,     0.15916,     0.16016,     0.16116,     0.16216,     0.16316,     0.16416,     0.16517,     0.16617,     0.16717,\n",
       "           0.16817,     0.16917,     0.17017,     0.17117,     0.17217,     0.17317,     0.17417,     0.17518,     0.17618,     0.17718,     0.17818,     0.17918,     0.18018,     0.18118,     0.18218,     0.18318,     0.18418,     0.18519,     0.18619,     0.18719,     0.18819,     0.18919,     0.19019,     0.19119,\n",
       "           0.19219,     0.19319,     0.19419,      0.1952,      0.1962,      0.1972,      0.1982,      0.1992,      0.2002,      0.2012,      0.2022,      0.2032,      0.2042,     0.20521,     0.20621,     0.20721,     0.20821,     0.20921,     0.21021,     0.21121,     0.21221,     0.21321,     0.21421,     0.21522,\n",
       "           0.21622,     0.21722,     0.21822,     0.21922,     0.22022,     0.22122,     0.22222,     0.22322,     0.22422,     0.22523,     0.22623,     0.22723,     0.22823,     0.22923,     0.23023,     0.23123,     0.23223,     0.23323,     0.23423,     0.23524,     0.23624,     0.23724,     0.23824,     0.23924,\n",
       "           0.24024,     0.24124,     0.24224,     0.24324,     0.24424,     0.24525,     0.24625,     0.24725,     0.24825,     0.24925,     0.25025,     0.25125,     0.25225,     0.25325,     0.25425,     0.25526,     0.25626,     0.25726,     0.25826,     0.25926,     0.26026,     0.26126,     0.26226,     0.26326,\n",
       "           0.26426,     0.26527,     0.26627,     0.26727,     0.26827,     0.26927,     0.27027,     0.27127,     0.27227,     0.27327,     0.27427,     0.27528,     0.27628,     0.27728,     0.27828,     0.27928,     0.28028,     0.28128,     0.28228,     0.28328,     0.28428,     0.28529,     0.28629,     0.28729,\n",
       "           0.28829,     0.28929,     0.29029,     0.29129,     0.29229,     0.29329,     0.29429,      0.2953,      0.2963,      0.2973,      0.2983,      0.2993,      0.3003,      0.3013,      0.3023,      0.3033,      0.3043,     0.30531,     0.30631,     0.30731,     0.30831,     0.30931,     0.31031,     0.31131,\n",
       "           0.31231,     0.31331,     0.31431,     0.31532,     0.31632,     0.31732,     0.31832,     0.31932,     0.32032,     0.32132,     0.32232,     0.32332,     0.32432,     0.32533,     0.32633,     0.32733,     0.32833,     0.32933,     0.33033,     0.33133,     0.33233,     0.33333,     0.33433,     0.33534,\n",
       "           0.33634,     0.33734,     0.33834,     0.33934,     0.34034,     0.34134,     0.34234,     0.34334,     0.34434,     0.34535,     0.34635,     0.34735,     0.34835,     0.34935,     0.35035,     0.35135,     0.35235,     0.35335,     0.35435,     0.35536,     0.35636,     0.35736,     0.35836,     0.35936,\n",
       "           0.36036,     0.36136,     0.36236,     0.36336,     0.36436,     0.36537,     0.36637,     0.36737,     0.36837,     0.36937,     0.37037,     0.37137,     0.37237,     0.37337,     0.37437,     0.37538,     0.37638,     0.37738,     0.37838,     0.37938,     0.38038,     0.38138,     0.38238,     0.38338,\n",
       "           0.38438,     0.38539,     0.38639,     0.38739,     0.38839,     0.38939,     0.39039,     0.39139,     0.39239,     0.39339,     0.39439,      0.3954,      0.3964,      0.3974,      0.3984,      0.3994,      0.4004,      0.4014,      0.4024,      0.4034,      0.4044,     0.40541,     0.40641,     0.40741,\n",
       "           0.40841,     0.40941,     0.41041,     0.41141,     0.41241,     0.41341,     0.41441,     0.41542,     0.41642,     0.41742,     0.41842,     0.41942,     0.42042,     0.42142,     0.42242,     0.42342,     0.42442,     0.42543,     0.42643,     0.42743,     0.42843,     0.42943,     0.43043,     0.43143,\n",
       "           0.43243,     0.43343,     0.43443,     0.43544,     0.43644,     0.43744,     0.43844,     0.43944,     0.44044,     0.44144,     0.44244,     0.44344,     0.44444,     0.44545,     0.44645,     0.44745,     0.44845,     0.44945,     0.45045,     0.45145,     0.45245,     0.45345,     0.45445,     0.45546,\n",
       "           0.45646,     0.45746,     0.45846,     0.45946,     0.46046,     0.46146,     0.46246,     0.46346,     0.46446,     0.46547,     0.46647,     0.46747,     0.46847,     0.46947,     0.47047,     0.47147,     0.47247,     0.47347,     0.47447,     0.47548,     0.47648,     0.47748,     0.47848,     0.47948,\n",
       "           0.48048,     0.48148,     0.48248,     0.48348,     0.48448,     0.48549,     0.48649,     0.48749,     0.48849,     0.48949,     0.49049,     0.49149,     0.49249,     0.49349,     0.49449,      0.4955,      0.4965,      0.4975,      0.4985,      0.4995,      0.5005,      0.5015,      0.5025,      0.5035,\n",
       "            0.5045,     0.50551,     0.50651,     0.50751,     0.50851,     0.50951,     0.51051,     0.51151,     0.51251,     0.51351,     0.51451,     0.51552,     0.51652,     0.51752,     0.51852,     0.51952,     0.52052,     0.52152,     0.52252,     0.52352,     0.52452,     0.52553,     0.52653,     0.52753,\n",
       "           0.52853,     0.52953,     0.53053,     0.53153,     0.53253,     0.53353,     0.53453,     0.53554,     0.53654,     0.53754,     0.53854,     0.53954,     0.54054,     0.54154,     0.54254,     0.54354,     0.54454,     0.54555,     0.54655,     0.54755,     0.54855,     0.54955,     0.55055,     0.55155,\n",
       "           0.55255,     0.55355,     0.55455,     0.55556,     0.55656,     0.55756,     0.55856,     0.55956,     0.56056,     0.56156,     0.56256,     0.56356,     0.56456,     0.56557,     0.56657,     0.56757,     0.56857,     0.56957,     0.57057,     0.57157,     0.57257,     0.57357,     0.57457,     0.57558,\n",
       "           0.57658,     0.57758,     0.57858,     0.57958,     0.58058,     0.58158,     0.58258,     0.58358,     0.58458,     0.58559,     0.58659,     0.58759,     0.58859,     0.58959,     0.59059,     0.59159,     0.59259,     0.59359,     0.59459,      0.5956,      0.5966,      0.5976,      0.5986,      0.5996,\n",
       "            0.6006,      0.6016,      0.6026,      0.6036,      0.6046,     0.60561,     0.60661,     0.60761,     0.60861,     0.60961,     0.61061,     0.61161,     0.61261,     0.61361,     0.61461,     0.61562,     0.61662,     0.61762,     0.61862,     0.61962,     0.62062,     0.62162,     0.62262,     0.62362,\n",
       "           0.62462,     0.62563,     0.62663,     0.62763,     0.62863,     0.62963,     0.63063,     0.63163,     0.63263,     0.63363,     0.63463,     0.63564,     0.63664,     0.63764,     0.63864,     0.63964,     0.64064,     0.64164,     0.64264,     0.64364,     0.64464,     0.64565,     0.64665,     0.64765,\n",
       "           0.64865,     0.64965,     0.65065,     0.65165,     0.65265,     0.65365,     0.65465,     0.65566,     0.65666,     0.65766,     0.65866,     0.65966,     0.66066,     0.66166,     0.66266,     0.66366,     0.66466,     0.66567,     0.66667,     0.66767,     0.66867,     0.66967,     0.67067,     0.67167,\n",
       "           0.67267,     0.67367,     0.67467,     0.67568,     0.67668,     0.67768,     0.67868,     0.67968,     0.68068,     0.68168,     0.68268,     0.68368,     0.68468,     0.68569,     0.68669,     0.68769,     0.68869,     0.68969,     0.69069,     0.69169,     0.69269,     0.69369,     0.69469,      0.6957,\n",
       "            0.6967,      0.6977,      0.6987,      0.6997,      0.7007,      0.7017,      0.7027,      0.7037,      0.7047,     0.70571,     0.70671,     0.70771,     0.70871,     0.70971,     0.71071,     0.71171,     0.71271,     0.71371,     0.71471,     0.71572,     0.71672,     0.71772,     0.71872,     0.71972,\n",
       "           0.72072,     0.72172,     0.72272,     0.72372,     0.72472,     0.72573,     0.72673,     0.72773,     0.72873,     0.72973,     0.73073,     0.73173,     0.73273,     0.73373,     0.73473,     0.73574,     0.73674,     0.73774,     0.73874,     0.73974,     0.74074,     0.74174,     0.74274,     0.74374,\n",
       "           0.74474,     0.74575,     0.74675,     0.74775,     0.74875,     0.74975,     0.75075,     0.75175,     0.75275,     0.75375,     0.75475,     0.75576,     0.75676,     0.75776,     0.75876,     0.75976,     0.76076,     0.76176,     0.76276,     0.76376,     0.76476,     0.76577,     0.76677,     0.76777,\n",
       "           0.76877,     0.76977,     0.77077,     0.77177,     0.77277,     0.77377,     0.77477,     0.77578,     0.77678,     0.77778,     0.77878,     0.77978,     0.78078,     0.78178,     0.78278,     0.78378,     0.78478,     0.78579,     0.78679,     0.78779,     0.78879,     0.78979,     0.79079,     0.79179,\n",
       "           0.79279,     0.79379,     0.79479,      0.7958,      0.7968,      0.7978,      0.7988,      0.7998,      0.8008,      0.8018,      0.8028,      0.8038,      0.8048,     0.80581,     0.80681,     0.80781,     0.80881,     0.80981,     0.81081,     0.81181,     0.81281,     0.81381,     0.81481,     0.81582,\n",
       "           0.81682,     0.81782,     0.81882,     0.81982,     0.82082,     0.82182,     0.82282,     0.82382,     0.82482,     0.82583,     0.82683,     0.82783,     0.82883,     0.82983,     0.83083,     0.83183,     0.83283,     0.83383,     0.83483,     0.83584,     0.83684,     0.83784,     0.83884,     0.83984,\n",
       "           0.84084,     0.84184,     0.84284,     0.84384,     0.84484,     0.84585,     0.84685,     0.84785,     0.84885,     0.84985,     0.85085,     0.85185,     0.85285,     0.85385,     0.85485,     0.85586,     0.85686,     0.85786,     0.85886,     0.85986,     0.86086,     0.86186,     0.86286,     0.86386,\n",
       "           0.86486,     0.86587,     0.86687,     0.86787,     0.86887,     0.86987,     0.87087,     0.87187,     0.87287,     0.87387,     0.87487,     0.87588,     0.87688,     0.87788,     0.87888,     0.87988,     0.88088,     0.88188,     0.88288,     0.88388,     0.88488,     0.88589,     0.88689,     0.88789,\n",
       "           0.88889,     0.88989,     0.89089,     0.89189,     0.89289,     0.89389,     0.89489,      0.8959,      0.8969,      0.8979,      0.8989,      0.8999,      0.9009,      0.9019,      0.9029,      0.9039,      0.9049,     0.90591,     0.90691,     0.90791,     0.90891,     0.90991,     0.91091,     0.91191,\n",
       "           0.91291,     0.91391,     0.91491,     0.91592,     0.91692,     0.91792,     0.91892,     0.91992,     0.92092,     0.92192,     0.92292,     0.92392,     0.92492,     0.92593,     0.92693,     0.92793,     0.92893,     0.92993,     0.93093,     0.93193,     0.93293,     0.93393,     0.93493,     0.93594,\n",
       "           0.93694,     0.93794,     0.93894,     0.93994,     0.94094,     0.94194,     0.94294,     0.94394,     0.94494,     0.94595,     0.94695,     0.94795,     0.94895,     0.94995,     0.95095,     0.95195,     0.95295,     0.95395,     0.95495,     0.95596,     0.95696,     0.95796,     0.95896,     0.95996,\n",
       "           0.96096,     0.96196,     0.96296,     0.96396,     0.96496,     0.96597,     0.96697,     0.96797,     0.96897,     0.96997,     0.97097,     0.97197,     0.97297,     0.97397,     0.97497,     0.97598,     0.97698,     0.97798,     0.97898,     0.97998,     0.98098,     0.98198,     0.98298,     0.98398,\n",
       "           0.98498,     0.98599,     0.98699,     0.98799,     0.98899,     0.98999,     0.99099,     0.99199,     0.99299,     0.99399,     0.99499,       0.996,       0.997,       0.998,       0.999,           1]), array([[    0.16514,     0.16514,     0.16514,     0.16514,     0.16514,     0.20587,     0.26541,     0.32305,     0.36629,     0.40879,     0.44726,     0.47874,     0.50832,     0.52639,     0.54784,     0.57231,     0.59296,     0.61282,     0.62744,     0.63628,     0.64796,     0.66141,      0.6724,\n",
       "            0.68626,     0.69467,      0.7048,      0.7176,      0.7275,     0.73534,     0.73822,       0.742,     0.74759,     0.75324,     0.75768,     0.76699,     0.77809,     0.78614,     0.78896,     0.79302,     0.79501,     0.80036,     0.80238,      0.8084,     0.81229,     0.81404,     0.81683,\n",
       "            0.82032,     0.82302,     0.82698,     0.82822,     0.82988,     0.83105,     0.83331,     0.83751,     0.84022,     0.84206,     0.84554,     0.84627,     0.85085,     0.85289,     0.85425,     0.85553,     0.85774,     0.86118,     0.86403,     0.86461,     0.86519,     0.86636,     0.87168,\n",
       "            0.87396,     0.87436,     0.87476,     0.87517,     0.87695,     0.87757,     0.87812,     0.87847,     0.87881,     0.87916,     0.88094,     0.88163,     0.88231,     0.88558,     0.88891,      0.8911,     0.89128,     0.89147,     0.89165,     0.89184,     0.89202,     0.89221,     0.89239,\n",
       "            0.89291,     0.89555,     0.89645,     0.89815,      0.8997,     0.90153,     0.90172,     0.90192,     0.90212,     0.90231,     0.90251,      0.9027,      0.9029,     0.90314,     0.90345,     0.90375,     0.90406,     0.90436,     0.90513,     0.90652,     0.90856,        0.91,     0.91091,\n",
       "            0.91153,     0.91215,     0.91292,     0.91369,     0.91403,     0.91436,      0.9147,     0.91503,     0.91684,     0.91772,     0.91846,     0.91882,     0.91918,     0.91954,      0.9199,      0.9217,     0.92224,     0.92277,     0.92345,      0.9243,     0.92504,     0.92569,     0.92634,\n",
       "            0.92699,     0.92764,     0.92803,     0.92831,     0.92859,     0.92887,     0.92915,     0.92943,     0.93114,     0.93131,     0.93147,     0.93164,     0.93181,     0.93197,     0.93214,      0.9323,     0.93247,     0.93263,      0.9338,     0.93482,     0.93573,     0.93772,     0.93804,\n",
       "            0.93837,     0.93869,     0.93902,     0.94373,     0.94598,     0.94637,     0.94676,     0.94715,     0.94767,     0.94833,     0.94899,     0.94941,     0.94981,     0.95021,     0.95061,     0.95081,     0.95095,     0.95109,     0.95123,     0.95137,     0.95151,     0.95165,     0.95179,\n",
       "            0.95193,     0.95207,     0.95221,     0.95235,     0.95265,     0.95298,     0.95332,     0.95366,       0.954,     0.95487,     0.95581,      0.9563,     0.95678,     0.95726,     0.95777,      0.9583,     0.95882,     0.95925,     0.95953,     0.95981,     0.96008,     0.96036,     0.96064,\n",
       "            0.96116,     0.96253,     0.96431,     0.96462,     0.96493,     0.96525,     0.96556,     0.96587,     0.96715,     0.96592,     0.96623,     0.96653,     0.96684,     0.96714,     0.96744,     0.96968,     0.97118,      0.9716,     0.97202,     0.97244,     0.97287,     0.97295,     0.97303,\n",
       "             0.9731,     0.97318,     0.97325,     0.97333,      0.9734,     0.97348,     0.97356,     0.97363,     0.97371,     0.97378,     0.97386,     0.97393,     0.97401,     0.97409,     0.97416,     0.97424,     0.97431,     0.97439,     0.97446,     0.97454,     0.97462,     0.97484,     0.97513,\n",
       "            0.97542,     0.97571,       0.976,     0.97629,     0.97699,     0.97801,     0.97861,     0.97912,     0.97963,     0.98001,     0.98015,     0.98028,     0.98042,     0.98055,     0.98069,     0.98082,     0.98096,      0.9811,     0.98123,     0.98137,      0.9815,     0.98164,     0.98292,\n",
       "            0.98322,     0.98287,     0.98252,     0.98216,     0.98181,     0.98164,     0.98158,     0.98152,     0.98145,     0.98139,     0.98133,     0.98126,      0.9812,     0.98113,     0.98107,     0.98101,     0.98094,     0.98088,     0.98082,     0.98075,     0.98069,     0.98062,     0.98056,\n",
       "             0.9805,     0.98043,     0.98037,     0.98031,     0.98024,     0.98018,     0.98011,     0.98005,     0.97999,     0.97992,     0.97986,     0.97985,     0.97995,     0.98005,     0.98015,     0.98025,     0.98035,     0.98046,     0.98056,     0.98066,     0.98076,     0.98086,     0.98096,\n",
       "            0.98106,     0.98116,     0.98126,     0.98136,     0.98146,     0.98156,     0.98174,     0.98201,     0.98228,     0.98255,     0.98282,      0.9831,     0.98337,     0.98284,     0.98209,     0.98156,     0.98162,     0.98167,     0.98173,     0.98178,     0.98184,     0.98189,     0.98195,\n",
       "              0.982,     0.98206,     0.98211,     0.98216,     0.98222,     0.98227,     0.98233,     0.98238,     0.98244,     0.98249,     0.98255,      0.9826,     0.98265,     0.98271,     0.98276,     0.98282,     0.98287,     0.98293,     0.98298,     0.98304,     0.98309,     0.98314,      0.9832,\n",
       "            0.98325,     0.98331,     0.98336,     0.98298,     0.98257,     0.98216,     0.98175,     0.98122,     0.98045,     0.97969,     0.97918,     0.97872,     0.97825,     0.97779,     0.97844,     0.97938,     0.97976,     0.98005,     0.98034,     0.98063,     0.98091,      0.9812,     0.98131,\n",
       "            0.98124,     0.98116,     0.98109,     0.98102,     0.98095,     0.98088,      0.9808,     0.98073,     0.98066,     0.98059,     0.98052,     0.98045,     0.98037,      0.9803,     0.98023,     0.98016,     0.98009,     0.98001,     0.97994,     0.97987,      0.9798,     0.97973,     0.97965,\n",
       "            0.97958,     0.97951,     0.97944,     0.97975,     0.98006,     0.98037,     0.98068,     0.98099,     0.98127,     0.98121,     0.98114,     0.98108,     0.98102,     0.98096,      0.9809,     0.98083,     0.98077,     0.98071,     0.98065,     0.98059,     0.98052,     0.98046,      0.9804,\n",
       "            0.98034,     0.98028,     0.98021,     0.98015,     0.98009,     0.98003,     0.97997,      0.9799,     0.97984,     0.97978,     0.97972,     0.97965,     0.97959,     0.97953,     0.97947,     0.97941,     0.97931,     0.97913,     0.97894,     0.97876,     0.97858,     0.97839,     0.97821,\n",
       "            0.97803,     0.97784,     0.97766,     0.97748,     0.97723,     0.97698,     0.97672,     0.97646,     0.97621,     0.97595,     0.97569,     0.97538,     0.97492,     0.97447,     0.97402,     0.97355,      0.9725,     0.97161,     0.97144,     0.97127,     0.97111,     0.97094,     0.97077,\n",
       "             0.9706,     0.97043,     0.97026,     0.97009,     0.96992,     0.96975,     0.96966,      0.9696,     0.96954,     0.96949,     0.96943,     0.96937,     0.96932,     0.96926,      0.9692,     0.96915,     0.96909,     0.96903,     0.96898,     0.96892,     0.96887,     0.96881,     0.96875,\n",
       "             0.9687,     0.96864,     0.96858,     0.96853,     0.96847,     0.96841,     0.96836,      0.9683,     0.96824,     0.96819,     0.96813,     0.96807,     0.96802,     0.96796,      0.9679,     0.96785,     0.96779,     0.96769,     0.96737,     0.96705,     0.96673,      0.9664,     0.96608,\n",
       "            0.96504,     0.96372,     0.96361,     0.96351,      0.9634,      0.9633,      0.9632,     0.96309,     0.96299,     0.96288,     0.96278,     0.96267,     0.96257,     0.96247,     0.96236,     0.96226,     0.96215,     0.96205,     0.96194,     0.96184,     0.96175,     0.96167,     0.96158,\n",
       "             0.9615,     0.96142,     0.96133,     0.96125,     0.96116,     0.96108,     0.96099,     0.96091,     0.96082,     0.96074,     0.96065,     0.96057,     0.96048,      0.9604,     0.96031,     0.96023,     0.96014,     0.96006,     0.95997,     0.95989,     0.95967,     0.95933,     0.95898,\n",
       "            0.95863,     0.95828,     0.95793,     0.95773,     0.95756,     0.95739,     0.95723,     0.95706,      0.9569,     0.95673,     0.95657,      0.9564,     0.95623,     0.95607,      0.9559,     0.95548,     0.95497,     0.95445,     0.95393,      0.9512,     0.95018,     0.94988,     0.95001,\n",
       "            0.95013,     0.95025,     0.95038,      0.9505,     0.95062,     0.95075,     0.95087,     0.95099,     0.95111,     0.95124,     0.95136,     0.95148,      0.9516,     0.95026,     0.94921,     0.94863,     0.94805,     0.94751,     0.94719,     0.94686,     0.94654,     0.94621,     0.94589,\n",
       "            0.94556,      0.9454,     0.94526,     0.94512,     0.94498,     0.94483,     0.94469,     0.94455,     0.94441,     0.94427,     0.94413,     0.94398,     0.94384,      0.9437,     0.94356,     0.94335,     0.94303,      0.9427,     0.94238,     0.94205,     0.94172,     0.94139,     0.94083,\n",
       "            0.94026,     0.93969,     0.93843,      0.9367,     0.93562,     0.93229,     0.93093,     0.93057,     0.93022,     0.92987,     0.92952,     0.92916,     0.92888,     0.92913,     0.92937,     0.92962,     0.92986,     0.93011,     0.93035,      0.9306,     0.93055,     0.93031,     0.93007,\n",
       "            0.92984,      0.9296,     0.92936,     0.92912,     0.92888,     0.92865,     0.92839,     0.92814,     0.92788,     0.92762,     0.92736,      0.9271,     0.92684,     0.92658,     0.92427,     0.92383,     0.92339,     0.92295,     0.92252,     0.91948,     0.91593,     0.91456,     0.91313,\n",
       "            0.90905,     0.90872,      0.9084,     0.90807,     0.90775,     0.90742,     0.90709,     0.90675,     0.90636,     0.90598,      0.9056,     0.90522,     0.90484,     0.90362,     0.90087,     0.89961,     0.89891,     0.89821,     0.89762,     0.89708,     0.89654,     0.89601,     0.89259,\n",
       "            0.89066,     0.88955,     0.88768,     0.88545,     0.88411,     0.88357,     0.88304,     0.88251,     0.87994,     0.87708,      0.8767,     0.87633,     0.87595,     0.87557,     0.87519,     0.87474,      0.8742,     0.87365,     0.87311,     0.87259,     0.87215,     0.87171,     0.87127,\n",
       "            0.87084,      0.8704,     0.86834,     0.86708,     0.86606,     0.86525,     0.86463,     0.86402,     0.86341,     0.86049,     0.85763,     0.85583,     0.85539,     0.85496,     0.85452,     0.85408,     0.85365,     0.84898,     0.84477,     0.84331,      0.8423,      0.8413,     0.84027,\n",
       "            0.83923,     0.83369,      0.8331,      0.8325,     0.83191,     0.83131,     0.83069,     0.83007,     0.82944,     0.82881,     0.82812,     0.82741,      0.8267,     0.82548,     0.82131,     0.82068,     0.82038,     0.82008,     0.81977,     0.81947,     0.81917,     0.81886,     0.81856,\n",
       "            0.81719,     0.81318,      0.8124,     0.81161,     0.81083,     0.80721,     0.80565,     0.80104,     0.79242,     0.79065,     0.78931,     0.78331,     0.77941,     0.77711,     0.77563,     0.76886,     0.76427,     0.76357,     0.76287,     0.76216,     0.76132,     0.75283,     0.75221,\n",
       "            0.75159,     0.75097,     0.75035,     0.74928,     0.74762,     0.74422,     0.73813,     0.73472,     0.73158,     0.73015,     0.72789,     0.72577,     0.72457,     0.72335,     0.72165,     0.71974,     0.71714,     0.71358,      0.7105,     0.70758,     0.70609,     0.70376,      0.7013,\n",
       "            0.70023,     0.69915,     0.69612,     0.69375,     0.69197,      0.6907,     0.68944,     0.68024,     0.67717,     0.67441,      0.6721,     0.67008,      0.6664,     0.66297,     0.66131,     0.65961,     0.65777,     0.65253,      0.6465,     0.63998,     0.63161,     0.62767,     0.62516,\n",
       "            0.62324,     0.61949,     0.61479,     0.61226,     0.60459,     0.60096,     0.59722,     0.59287,     0.58923,     0.58401,     0.57795,     0.57483,     0.57241,     0.56998,     0.56727,     0.56114,     0.55682,     0.55454,     0.55264,      0.5501,     0.54578,     0.53834,     0.52819,\n",
       "             0.5257,     0.51931,     0.51372,     0.51128,     0.50938,     0.50322,     0.49842,      0.4901,     0.48646,     0.48334,     0.47464,     0.45879,      0.4384,     0.42839,     0.42004,     0.41386,     0.40448,     0.39656,     0.39233,     0.37296,     0.36749,     0.36381,     0.35332,\n",
       "             0.3504,     0.33833,     0.33248,     0.32762,     0.32249,      0.3194,     0.31383,     0.30728,     0.30082,     0.29964,     0.29846,     0.29727,     0.29497,     0.29041,     0.27781,     0.26844,     0.26517,     0.25545,     0.25097,     0.24734,     0.23131,     0.22828,     0.22683,\n",
       "            0.22537,     0.22391,     0.20416,     0.17535,     0.17087,      0.1658,     0.16076,     0.15588,     0.15057,      0.1441,     0.13516,     0.12967,     0.11807,     0.11504,       0.112,     0.11053,     0.10912,     0.10771,      0.1063,     0.10451,     0.10174,    0.098957,    0.097073,\n",
       "           0.095321,    0.093567,    0.091143,     0.07725,    0.074069,    0.071083,    0.069081,    0.067075,    0.065064,    0.058611,    0.055206,      0.0525,    0.048748,    0.043029,    0.040627,    0.038219,    0.035085,    0.029541,    0.021415,    0.020158,    0.018899,    0.017639,    0.016378,\n",
       "           0.015114,           0,           0,           0,           0,           0,           0,           0,           0,           0,           0,           0,           0,           0,           0,           0,           0,           0,           0,           0,           0,           0,           0,\n",
       "                  0,           0,           0,           0,           0,           0,           0,           0,           0,           0,           0]]), 'Confidence', 'F1'], [array([          0,    0.001001,    0.002002,    0.003003,    0.004004,    0.005005,    0.006006,    0.007007,    0.008008,    0.009009,     0.01001,    0.011011,    0.012012,    0.013013,    0.014014,    0.015015,    0.016016,    0.017017,    0.018018,    0.019019,     0.02002,    0.021021,    0.022022,    0.023023,\n",
       "          0.024024,    0.025025,    0.026026,    0.027027,    0.028028,    0.029029,     0.03003,    0.031031,    0.032032,    0.033033,    0.034034,    0.035035,    0.036036,    0.037037,    0.038038,    0.039039,     0.04004,    0.041041,    0.042042,    0.043043,    0.044044,    0.045045,    0.046046,    0.047047,\n",
       "          0.048048,    0.049049,     0.05005,    0.051051,    0.052052,    0.053053,    0.054054,    0.055055,    0.056056,    0.057057,    0.058058,    0.059059,     0.06006,    0.061061,    0.062062,    0.063063,    0.064064,    0.065065,    0.066066,    0.067067,    0.068068,    0.069069,     0.07007,    0.071071,\n",
       "          0.072072,    0.073073,    0.074074,    0.075075,    0.076076,    0.077077,    0.078078,    0.079079,     0.08008,    0.081081,    0.082082,    0.083083,    0.084084,    0.085085,    0.086086,    0.087087,    0.088088,    0.089089,     0.09009,    0.091091,    0.092092,    0.093093,    0.094094,    0.095095,\n",
       "          0.096096,    0.097097,    0.098098,    0.099099,      0.1001,      0.1011,      0.1021,      0.1031,      0.1041,     0.10511,     0.10611,     0.10711,     0.10811,     0.10911,     0.11011,     0.11111,     0.11211,     0.11311,     0.11411,     0.11512,     0.11612,     0.11712,     0.11812,     0.11912,\n",
       "           0.12012,     0.12112,     0.12212,     0.12312,     0.12412,     0.12513,     0.12613,     0.12713,     0.12813,     0.12913,     0.13013,     0.13113,     0.13213,     0.13313,     0.13413,     0.13514,     0.13614,     0.13714,     0.13814,     0.13914,     0.14014,     0.14114,     0.14214,     0.14314,\n",
       "           0.14414,     0.14515,     0.14615,     0.14715,     0.14815,     0.14915,     0.15015,     0.15115,     0.15215,     0.15315,     0.15415,     0.15516,     0.15616,     0.15716,     0.15816,     0.15916,     0.16016,     0.16116,     0.16216,     0.16316,     0.16416,     0.16517,     0.16617,     0.16717,\n",
       "           0.16817,     0.16917,     0.17017,     0.17117,     0.17217,     0.17317,     0.17417,     0.17518,     0.17618,     0.17718,     0.17818,     0.17918,     0.18018,     0.18118,     0.18218,     0.18318,     0.18418,     0.18519,     0.18619,     0.18719,     0.18819,     0.18919,     0.19019,     0.19119,\n",
       "           0.19219,     0.19319,     0.19419,      0.1952,      0.1962,      0.1972,      0.1982,      0.1992,      0.2002,      0.2012,      0.2022,      0.2032,      0.2042,     0.20521,     0.20621,     0.20721,     0.20821,     0.20921,     0.21021,     0.21121,     0.21221,     0.21321,     0.21421,     0.21522,\n",
       "           0.21622,     0.21722,     0.21822,     0.21922,     0.22022,     0.22122,     0.22222,     0.22322,     0.22422,     0.22523,     0.22623,     0.22723,     0.22823,     0.22923,     0.23023,     0.23123,     0.23223,     0.23323,     0.23423,     0.23524,     0.23624,     0.23724,     0.23824,     0.23924,\n",
       "           0.24024,     0.24124,     0.24224,     0.24324,     0.24424,     0.24525,     0.24625,     0.24725,     0.24825,     0.24925,     0.25025,     0.25125,     0.25225,     0.25325,     0.25425,     0.25526,     0.25626,     0.25726,     0.25826,     0.25926,     0.26026,     0.26126,     0.26226,     0.26326,\n",
       "           0.26426,     0.26527,     0.26627,     0.26727,     0.26827,     0.26927,     0.27027,     0.27127,     0.27227,     0.27327,     0.27427,     0.27528,     0.27628,     0.27728,     0.27828,     0.27928,     0.28028,     0.28128,     0.28228,     0.28328,     0.28428,     0.28529,     0.28629,     0.28729,\n",
       "           0.28829,     0.28929,     0.29029,     0.29129,     0.29229,     0.29329,     0.29429,      0.2953,      0.2963,      0.2973,      0.2983,      0.2993,      0.3003,      0.3013,      0.3023,      0.3033,      0.3043,     0.30531,     0.30631,     0.30731,     0.30831,     0.30931,     0.31031,     0.31131,\n",
       "           0.31231,     0.31331,     0.31431,     0.31532,     0.31632,     0.31732,     0.31832,     0.31932,     0.32032,     0.32132,     0.32232,     0.32332,     0.32432,     0.32533,     0.32633,     0.32733,     0.32833,     0.32933,     0.33033,     0.33133,     0.33233,     0.33333,     0.33433,     0.33534,\n",
       "           0.33634,     0.33734,     0.33834,     0.33934,     0.34034,     0.34134,     0.34234,     0.34334,     0.34434,     0.34535,     0.34635,     0.34735,     0.34835,     0.34935,     0.35035,     0.35135,     0.35235,     0.35335,     0.35435,     0.35536,     0.35636,     0.35736,     0.35836,     0.35936,\n",
       "           0.36036,     0.36136,     0.36236,     0.36336,     0.36436,     0.36537,     0.36637,     0.36737,     0.36837,     0.36937,     0.37037,     0.37137,     0.37237,     0.37337,     0.37437,     0.37538,     0.37638,     0.37738,     0.37838,     0.37938,     0.38038,     0.38138,     0.38238,     0.38338,\n",
       "           0.38438,     0.38539,     0.38639,     0.38739,     0.38839,     0.38939,     0.39039,     0.39139,     0.39239,     0.39339,     0.39439,      0.3954,      0.3964,      0.3974,      0.3984,      0.3994,      0.4004,      0.4014,      0.4024,      0.4034,      0.4044,     0.40541,     0.40641,     0.40741,\n",
       "           0.40841,     0.40941,     0.41041,     0.41141,     0.41241,     0.41341,     0.41441,     0.41542,     0.41642,     0.41742,     0.41842,     0.41942,     0.42042,     0.42142,     0.42242,     0.42342,     0.42442,     0.42543,     0.42643,     0.42743,     0.42843,     0.42943,     0.43043,     0.43143,\n",
       "           0.43243,     0.43343,     0.43443,     0.43544,     0.43644,     0.43744,     0.43844,     0.43944,     0.44044,     0.44144,     0.44244,     0.44344,     0.44444,     0.44545,     0.44645,     0.44745,     0.44845,     0.44945,     0.45045,     0.45145,     0.45245,     0.45345,     0.45445,     0.45546,\n",
       "           0.45646,     0.45746,     0.45846,     0.45946,     0.46046,     0.46146,     0.46246,     0.46346,     0.46446,     0.46547,     0.46647,     0.46747,     0.46847,     0.46947,     0.47047,     0.47147,     0.47247,     0.47347,     0.47447,     0.47548,     0.47648,     0.47748,     0.47848,     0.47948,\n",
       "           0.48048,     0.48148,     0.48248,     0.48348,     0.48448,     0.48549,     0.48649,     0.48749,     0.48849,     0.48949,     0.49049,     0.49149,     0.49249,     0.49349,     0.49449,      0.4955,      0.4965,      0.4975,      0.4985,      0.4995,      0.5005,      0.5015,      0.5025,      0.5035,\n",
       "            0.5045,     0.50551,     0.50651,     0.50751,     0.50851,     0.50951,     0.51051,     0.51151,     0.51251,     0.51351,     0.51451,     0.51552,     0.51652,     0.51752,     0.51852,     0.51952,     0.52052,     0.52152,     0.52252,     0.52352,     0.52452,     0.52553,     0.52653,     0.52753,\n",
       "           0.52853,     0.52953,     0.53053,     0.53153,     0.53253,     0.53353,     0.53453,     0.53554,     0.53654,     0.53754,     0.53854,     0.53954,     0.54054,     0.54154,     0.54254,     0.54354,     0.54454,     0.54555,     0.54655,     0.54755,     0.54855,     0.54955,     0.55055,     0.55155,\n",
       "           0.55255,     0.55355,     0.55455,     0.55556,     0.55656,     0.55756,     0.55856,     0.55956,     0.56056,     0.56156,     0.56256,     0.56356,     0.56456,     0.56557,     0.56657,     0.56757,     0.56857,     0.56957,     0.57057,     0.57157,     0.57257,     0.57357,     0.57457,     0.57558,\n",
       "           0.57658,     0.57758,     0.57858,     0.57958,     0.58058,     0.58158,     0.58258,     0.58358,     0.58458,     0.58559,     0.58659,     0.58759,     0.58859,     0.58959,     0.59059,     0.59159,     0.59259,     0.59359,     0.59459,      0.5956,      0.5966,      0.5976,      0.5986,      0.5996,\n",
       "            0.6006,      0.6016,      0.6026,      0.6036,      0.6046,     0.60561,     0.60661,     0.60761,     0.60861,     0.60961,     0.61061,     0.61161,     0.61261,     0.61361,     0.61461,     0.61562,     0.61662,     0.61762,     0.61862,     0.61962,     0.62062,     0.62162,     0.62262,     0.62362,\n",
       "           0.62462,     0.62563,     0.62663,     0.62763,     0.62863,     0.62963,     0.63063,     0.63163,     0.63263,     0.63363,     0.63463,     0.63564,     0.63664,     0.63764,     0.63864,     0.63964,     0.64064,     0.64164,     0.64264,     0.64364,     0.64464,     0.64565,     0.64665,     0.64765,\n",
       "           0.64865,     0.64965,     0.65065,     0.65165,     0.65265,     0.65365,     0.65465,     0.65566,     0.65666,     0.65766,     0.65866,     0.65966,     0.66066,     0.66166,     0.66266,     0.66366,     0.66466,     0.66567,     0.66667,     0.66767,     0.66867,     0.66967,     0.67067,     0.67167,\n",
       "           0.67267,     0.67367,     0.67467,     0.67568,     0.67668,     0.67768,     0.67868,     0.67968,     0.68068,     0.68168,     0.68268,     0.68368,     0.68468,     0.68569,     0.68669,     0.68769,     0.68869,     0.68969,     0.69069,     0.69169,     0.69269,     0.69369,     0.69469,      0.6957,\n",
       "            0.6967,      0.6977,      0.6987,      0.6997,      0.7007,      0.7017,      0.7027,      0.7037,      0.7047,     0.70571,     0.70671,     0.70771,     0.70871,     0.70971,     0.71071,     0.71171,     0.71271,     0.71371,     0.71471,     0.71572,     0.71672,     0.71772,     0.71872,     0.71972,\n",
       "           0.72072,     0.72172,     0.72272,     0.72372,     0.72472,     0.72573,     0.72673,     0.72773,     0.72873,     0.72973,     0.73073,     0.73173,     0.73273,     0.73373,     0.73473,     0.73574,     0.73674,     0.73774,     0.73874,     0.73974,     0.74074,     0.74174,     0.74274,     0.74374,\n",
       "           0.74474,     0.74575,     0.74675,     0.74775,     0.74875,     0.74975,     0.75075,     0.75175,     0.75275,     0.75375,     0.75475,     0.75576,     0.75676,     0.75776,     0.75876,     0.75976,     0.76076,     0.76176,     0.76276,     0.76376,     0.76476,     0.76577,     0.76677,     0.76777,\n",
       "           0.76877,     0.76977,     0.77077,     0.77177,     0.77277,     0.77377,     0.77477,     0.77578,     0.77678,     0.77778,     0.77878,     0.77978,     0.78078,     0.78178,     0.78278,     0.78378,     0.78478,     0.78579,     0.78679,     0.78779,     0.78879,     0.78979,     0.79079,     0.79179,\n",
       "           0.79279,     0.79379,     0.79479,      0.7958,      0.7968,      0.7978,      0.7988,      0.7998,      0.8008,      0.8018,      0.8028,      0.8038,      0.8048,     0.80581,     0.80681,     0.80781,     0.80881,     0.80981,     0.81081,     0.81181,     0.81281,     0.81381,     0.81481,     0.81582,\n",
       "           0.81682,     0.81782,     0.81882,     0.81982,     0.82082,     0.82182,     0.82282,     0.82382,     0.82482,     0.82583,     0.82683,     0.82783,     0.82883,     0.82983,     0.83083,     0.83183,     0.83283,     0.83383,     0.83483,     0.83584,     0.83684,     0.83784,     0.83884,     0.83984,\n",
       "           0.84084,     0.84184,     0.84284,     0.84384,     0.84484,     0.84585,     0.84685,     0.84785,     0.84885,     0.84985,     0.85085,     0.85185,     0.85285,     0.85385,     0.85485,     0.85586,     0.85686,     0.85786,     0.85886,     0.85986,     0.86086,     0.86186,     0.86286,     0.86386,\n",
       "           0.86486,     0.86587,     0.86687,     0.86787,     0.86887,     0.86987,     0.87087,     0.87187,     0.87287,     0.87387,     0.87487,     0.87588,     0.87688,     0.87788,     0.87888,     0.87988,     0.88088,     0.88188,     0.88288,     0.88388,     0.88488,     0.88589,     0.88689,     0.88789,\n",
       "           0.88889,     0.88989,     0.89089,     0.89189,     0.89289,     0.89389,     0.89489,      0.8959,      0.8969,      0.8979,      0.8989,      0.8999,      0.9009,      0.9019,      0.9029,      0.9039,      0.9049,     0.90591,     0.90691,     0.90791,     0.90891,     0.90991,     0.91091,     0.91191,\n",
       "           0.91291,     0.91391,     0.91491,     0.91592,     0.91692,     0.91792,     0.91892,     0.91992,     0.92092,     0.92192,     0.92292,     0.92392,     0.92492,     0.92593,     0.92693,     0.92793,     0.92893,     0.92993,     0.93093,     0.93193,     0.93293,     0.93393,     0.93493,     0.93594,\n",
       "           0.93694,     0.93794,     0.93894,     0.93994,     0.94094,     0.94194,     0.94294,     0.94394,     0.94494,     0.94595,     0.94695,     0.94795,     0.94895,     0.94995,     0.95095,     0.95195,     0.95295,     0.95395,     0.95495,     0.95596,     0.95696,     0.95796,     0.95896,     0.95996,\n",
       "           0.96096,     0.96196,     0.96296,     0.96396,     0.96496,     0.96597,     0.96697,     0.96797,     0.96897,     0.96997,     0.97097,     0.97197,     0.97297,     0.97397,     0.97497,     0.97598,     0.97698,     0.97798,     0.97898,     0.97998,     0.98098,     0.98198,     0.98298,     0.98398,\n",
       "           0.98498,     0.98599,     0.98699,     0.98799,     0.98899,     0.98999,     0.99099,     0.99199,     0.99299,     0.99399,     0.99499,       0.996,       0.997,       0.998,       0.999,           1]), array([[       0.09,        0.09,        0.09,        0.09,        0.09,     0.11474,     0.15301,     0.19264,     0.22421,     0.25691,     0.28805,      0.3147,     0.34077,     0.35721,     0.37726,     0.40086,     0.42143,     0.44177,     0.45713,     0.46658,     0.47925,     0.49411,     0.50648,\n",
       "            0.52237,     0.53217,     0.54417,     0.55957,     0.57171,     0.58146,     0.58506,     0.58982,     0.59692,     0.60416,     0.60989,     0.62205,     0.63678,     0.64763,     0.65148,     0.65703,     0.65976,     0.66716,     0.66998,     0.67842,     0.68391,     0.68639,     0.69038,\n",
       "            0.69538,     0.69926,     0.70501,      0.7068,     0.70922,     0.71094,     0.71426,     0.72044,     0.72446,     0.72721,     0.73241,     0.73351,     0.74042,     0.74352,     0.74558,     0.74753,     0.75091,      0.7562,     0.76061,     0.76151,     0.76241,     0.76423,     0.77254,\n",
       "            0.77613,     0.77677,      0.7774,     0.77804,     0.78086,     0.78184,     0.78273,     0.78327,     0.78382,     0.78437,     0.78722,     0.78831,     0.78941,     0.79466,     0.80003,     0.80359,     0.80389,     0.80419,     0.80449,     0.80479,     0.80509,     0.80539,     0.80569,\n",
       "            0.80653,     0.81086,     0.81233,     0.81513,     0.81768,     0.82071,     0.82104,     0.82136,     0.82169,     0.82201,     0.82234,     0.82266,     0.82299,     0.82339,      0.8239,     0.82441,     0.82492,     0.82542,     0.82669,     0.82903,     0.83245,     0.83486,     0.83639,\n",
       "            0.83744,     0.83849,     0.83979,     0.84109,     0.84167,     0.84224,      0.8428,     0.84337,     0.84645,     0.84794,     0.84921,     0.84983,     0.85045,     0.85107,     0.85169,     0.85477,      0.8557,     0.85662,     0.85778,     0.85926,     0.86053,     0.86165,     0.86278,\n",
       "            0.86391,     0.86505,     0.86573,     0.86621,      0.8667,     0.86719,     0.86767,     0.86816,     0.87115,     0.87145,     0.87174,     0.87203,     0.87232,     0.87261,      0.8729,     0.87319,     0.87348,     0.87377,     0.87582,     0.87762,     0.87922,     0.88273,     0.88331,\n",
       "            0.88389,     0.88447,     0.88505,     0.89346,      0.8975,     0.89821,     0.89891,     0.89961,     0.90054,     0.90174,     0.90294,     0.90369,     0.90441,     0.90514,     0.90586,     0.90623,     0.90649,     0.90674,       0.907,     0.90725,     0.90751,     0.90776,     0.90802,\n",
       "            0.90827,     0.90853,     0.90878,     0.90904,     0.90957,     0.91019,     0.91081,     0.91142,     0.91204,     0.91364,     0.91537,     0.91625,     0.91714,     0.91802,     0.91896,     0.91993,      0.9209,      0.9217,     0.92221,     0.92272,     0.92323,     0.92375,     0.92426,\n",
       "            0.92522,     0.92777,     0.93107,     0.93166,     0.93224,     0.93283,     0.93341,     0.93399,     0.93743,     0.93735,     0.93792,      0.9385,     0.93907,     0.93964,     0.94021,     0.94445,     0.94729,      0.9481,      0.9489,     0.94971,     0.95051,     0.95067,     0.95082,\n",
       "            0.95096,     0.95111,     0.95125,      0.9514,     0.95154,     0.95169,     0.95183,     0.95198,     0.95212,     0.95227,     0.95241,     0.95255,      0.9527,     0.95284,     0.95299,     0.95313,     0.95328,     0.95342,     0.95357,     0.95371,     0.95386,     0.95429,     0.95485,\n",
       "             0.9554,     0.95595,     0.95651,     0.95706,     0.95843,     0.96038,     0.96153,     0.96253,     0.96352,     0.96425,     0.96451,     0.96478,     0.96504,      0.9653,     0.96556,     0.96583,     0.96609,     0.96635,     0.96661,     0.96688,     0.96714,      0.9674,      0.9699,\n",
       "             0.9711,     0.97108,     0.97106,     0.97104,     0.97102,     0.97101,     0.97101,       0.971,       0.971,       0.971,     0.97099,     0.97099,     0.97099,     0.97098,     0.97098,     0.97098,     0.97097,     0.97097,     0.97097,     0.97096,     0.97096,     0.97095,     0.97095,\n",
       "            0.97095,     0.97094,     0.97094,     0.97094,     0.97093,     0.97093,     0.97093,     0.97092,     0.97092,     0.97092,     0.97091,     0.97097,     0.97117,     0.97137,     0.97157,     0.97177,     0.97197,     0.97216,     0.97236,     0.97256,     0.97276,     0.97296,     0.97315,\n",
       "            0.97335,     0.97355,     0.97375,     0.97395,     0.97415,     0.97434,     0.97469,     0.97523,     0.97576,      0.9763,     0.97683,     0.97737,      0.9779,       0.978,     0.97796,     0.97797,     0.97808,     0.97819,      0.9783,      0.9784,     0.97851,     0.97862,     0.97873,\n",
       "            0.97884,     0.97895,     0.97905,     0.97916,     0.97927,     0.97938,     0.97949,      0.9796,      0.9797,     0.97981,     0.97992,     0.98003,     0.98014,     0.98024,     0.98035,     0.98046,     0.98057,     0.98068,     0.98079,     0.98089,       0.981,     0.98111,     0.98122,\n",
       "            0.98133,     0.98144,     0.98154,     0.98154,     0.98152,     0.98151,     0.98149,     0.98147,     0.98144,     0.98142,      0.9814,     0.98138,     0.98136,     0.98135,     0.98285,     0.98474,     0.98552,      0.9861,     0.98668,     0.98727,     0.98785,     0.98843,     0.98872,\n",
       "            0.98872,     0.98872,     0.98872,     0.98871,     0.98871,     0.98871,     0.98871,     0.98871,     0.98871,      0.9887,      0.9887,      0.9887,      0.9887,      0.9887,      0.9887,      0.9887,     0.98869,     0.98869,     0.98869,     0.98869,     0.98869,     0.98869,     0.98868,\n",
       "            0.98868,     0.98868,     0.98868,     0.98932,     0.98995,     0.99058,     0.99121,     0.99184,     0.99242,     0.99242,     0.99242,     0.99242,     0.99242,     0.99242,     0.99242,     0.99242,     0.99242,     0.99242,     0.99241,     0.99241,     0.99241,     0.99241,     0.99241,\n",
       "            0.99241,     0.99241,     0.99241,     0.99241,     0.99241,     0.99241,      0.9924,      0.9924,      0.9924,      0.9924,      0.9924,      0.9924,      0.9924,      0.9924,      0.9924,      0.9924,     0.99239,     0.99239,     0.99239,     0.99239,     0.99238,     0.99238,     0.99238,\n",
       "            0.99238,     0.99237,     0.99237,     0.99237,     0.99236,     0.99236,     0.99236,     0.99235,     0.99235,     0.99234,     0.99234,     0.99233,     0.99233,     0.99232,     0.99231,     0.99231,     0.99229,     0.99228,     0.99227,     0.99227,     0.99227,     0.99227,     0.99226,\n",
       "            0.99226,     0.99226,     0.99226,     0.99225,     0.99225,     0.99225,     0.99225,     0.99225,     0.99225,     0.99224,     0.99224,     0.99224,     0.99224,     0.99224,     0.99224,     0.99224,     0.99224,     0.99224,     0.99224,     0.99224,     0.99224,     0.99223,     0.99223,\n",
       "            0.99223,     0.99223,     0.99223,     0.99223,     0.99223,     0.99223,     0.99223,     0.99223,     0.99223,     0.99222,     0.99222,     0.99222,     0.99222,     0.99222,     0.99222,     0.99222,     0.99222,     0.99222,     0.99221,     0.99221,      0.9922,      0.9922,     0.99219,\n",
       "            0.99218,     0.99216,     0.99215,     0.99215,     0.99215,     0.99215,     0.99215,     0.99215,     0.99214,     0.99214,     0.99214,     0.99214,     0.99214,     0.99214,     0.99213,     0.99213,     0.99213,     0.99213,     0.99213,     0.99213,     0.99212,     0.99212,     0.99212,\n",
       "            0.99212,     0.99212,     0.99212,     0.99212,     0.99212,     0.99211,     0.99211,     0.99211,     0.99211,     0.99211,     0.99211,     0.99211,      0.9921,      0.9921,      0.9921,      0.9921,      0.9921,      0.9921,      0.9921,      0.9921,     0.99209,     0.99209,     0.99208,\n",
       "            0.99208,     0.99207,     0.99206,     0.99206,     0.99206,     0.99206,     0.99205,     0.99205,     0.99205,     0.99205,     0.99204,     0.99204,     0.99204,     0.99204,     0.99203,     0.99203,     0.99202,     0.99201,       0.992,     0.99196,     0.99194,      0.9921,     0.99237,\n",
       "            0.99264,     0.99291,     0.99318,     0.99345,     0.99372,     0.99398,     0.99425,     0.99452,     0.99479,     0.99506,     0.99533,      0.9956,     0.99586,     0.99594,     0.99593,     0.99593,     0.99592,     0.99592,     0.99592,     0.99591,     0.99591,     0.99591,      0.9959,\n",
       "             0.9959,      0.9959,      0.9959,      0.9959,      0.9959,      0.9959,     0.99589,     0.99589,     0.99589,     0.99589,     0.99589,     0.99589,     0.99589,     0.99589,     0.99589,     0.99588,     0.99588,     0.99588,     0.99588,     0.99587,     0.99587,     0.99587,     0.99586,\n",
       "            0.99586,     0.99585,     0.99584,     0.99583,     0.99582,     0.99579,     0.99578,     0.99578,     0.99577,     0.99577,     0.99577,     0.99577,     0.99583,     0.99639,     0.99696,     0.99752,     0.99809,     0.99865,     0.99921,     0.99978,           1,           1,           1,\n",
       "                  1,           1,           1,           1,           1,           1,           1,           1,           1,           1,           1,           1,           1,           1,           1,           1,           1,           1,           1,           1,           1,           1,           1,\n",
       "                  1,           1,           1,           1,           1,           1,           1,           1,           1,           1,           1,           1,           1,           1,           1,           1,           1,           1,           1,           1,           1,           1,           1,\n",
       "                  1,           1,           1,           1,           1,           1,           1,           1,           1,           1,           1,           1,           1,           1,           1,           1,           1,           1,           1,           1,           1,           1,           1,\n",
       "                  1,           1,           1,           1,           1,           1,           1,           1,           1,           1,           1,           1,           1,           1,           1,           1,           1,           1,           1,           1,           1,           1,           1,\n",
       "                  1,           1,           1,           1,           1,           1,           1,           1,           1,           1,           1,           1,           1,           1,           1,           1,           1,           1,           1,           1,           1,           1,           1,\n",
       "                  1,           1,           1,           1,           1,           1,           1,           1,           1,           1,           1,           1,           1,           1,           1,           1,           1,           1,           1,           1,           1,           1,           1,\n",
       "                  1,           1,           1,           1,           1,           1,           1,           1,           1,           1,           1,           1,           1,           1,           1,           1,           1,           1,           1,           1,           1,           1,           1,\n",
       "                  1,           1,           1,           1,           1,           1,           1,           1,           1,           1,           1,           1,           1,           1,           1,           1,           1,           1,           1,           1,           1,           1,           1,\n",
       "                  1,           1,           1,           1,           1,           1,           1,           1,           1,           1,           1,           1,           1,           1,           1,           1,           1,           1,           1,           1,           1,           1,           1,\n",
       "                  1,           1,           1,           1,           1,           1,           1,           1,           1,           1,           1,           1,           1,           1,           1,           1,           1,           1,           1,           1,           1,           1,           1,\n",
       "                  1,           1,           1,           1,           1,           1,           1,           1,           1,           1,           1,           1,           1,           1,           1,           1,           1,           1,           1,           1,           1,           1,           1,\n",
       "                  1,           1,           1,           1,           1,           1,           1,           1,           1,           1,           1,           1,           1,           1,           1,           1,           1,           1,           1,           1,           1,           1,           1,\n",
       "                  1,           1,           1,           1,           1,           1,           1,           1,           1,           1,           1,           1,           1,           1,           1,           1,           1,           1,           1,           1,           1,           1,           1,\n",
       "                  1,           1,           1,           1,           1,           1,           1,           1,           1,           1,           1,           1,           1,           1,           1,           1,           1,           1,           1,           1,           1,           1,           1,\n",
       "                  1,           1,           1,           1,           1,           1,           1,           1,           1,           1,           1]]), 'Confidence', 'Precision'], [array([          0,    0.001001,    0.002002,    0.003003,    0.004004,    0.005005,    0.006006,    0.007007,    0.008008,    0.009009,     0.01001,    0.011011,    0.012012,    0.013013,    0.014014,    0.015015,    0.016016,    0.017017,    0.018018,    0.019019,     0.02002,    0.021021,    0.022022,    0.023023,\n",
       "          0.024024,    0.025025,    0.026026,    0.027027,    0.028028,    0.029029,     0.03003,    0.031031,    0.032032,    0.033033,    0.034034,    0.035035,    0.036036,    0.037037,    0.038038,    0.039039,     0.04004,    0.041041,    0.042042,    0.043043,    0.044044,    0.045045,    0.046046,    0.047047,\n",
       "          0.048048,    0.049049,     0.05005,    0.051051,    0.052052,    0.053053,    0.054054,    0.055055,    0.056056,    0.057057,    0.058058,    0.059059,     0.06006,    0.061061,    0.062062,    0.063063,    0.064064,    0.065065,    0.066066,    0.067067,    0.068068,    0.069069,     0.07007,    0.071071,\n",
       "          0.072072,    0.073073,    0.074074,    0.075075,    0.076076,    0.077077,    0.078078,    0.079079,     0.08008,    0.081081,    0.082082,    0.083083,    0.084084,    0.085085,    0.086086,    0.087087,    0.088088,    0.089089,     0.09009,    0.091091,    0.092092,    0.093093,    0.094094,    0.095095,\n",
       "          0.096096,    0.097097,    0.098098,    0.099099,      0.1001,      0.1011,      0.1021,      0.1031,      0.1041,     0.10511,     0.10611,     0.10711,     0.10811,     0.10911,     0.11011,     0.11111,     0.11211,     0.11311,     0.11411,     0.11512,     0.11612,     0.11712,     0.11812,     0.11912,\n",
       "           0.12012,     0.12112,     0.12212,     0.12312,     0.12412,     0.12513,     0.12613,     0.12713,     0.12813,     0.12913,     0.13013,     0.13113,     0.13213,     0.13313,     0.13413,     0.13514,     0.13614,     0.13714,     0.13814,     0.13914,     0.14014,     0.14114,     0.14214,     0.14314,\n",
       "           0.14414,     0.14515,     0.14615,     0.14715,     0.14815,     0.14915,     0.15015,     0.15115,     0.15215,     0.15315,     0.15415,     0.15516,     0.15616,     0.15716,     0.15816,     0.15916,     0.16016,     0.16116,     0.16216,     0.16316,     0.16416,     0.16517,     0.16617,     0.16717,\n",
       "           0.16817,     0.16917,     0.17017,     0.17117,     0.17217,     0.17317,     0.17417,     0.17518,     0.17618,     0.17718,     0.17818,     0.17918,     0.18018,     0.18118,     0.18218,     0.18318,     0.18418,     0.18519,     0.18619,     0.18719,     0.18819,     0.18919,     0.19019,     0.19119,\n",
       "           0.19219,     0.19319,     0.19419,      0.1952,      0.1962,      0.1972,      0.1982,      0.1992,      0.2002,      0.2012,      0.2022,      0.2032,      0.2042,     0.20521,     0.20621,     0.20721,     0.20821,     0.20921,     0.21021,     0.21121,     0.21221,     0.21321,     0.21421,     0.21522,\n",
       "           0.21622,     0.21722,     0.21822,     0.21922,     0.22022,     0.22122,     0.22222,     0.22322,     0.22422,     0.22523,     0.22623,     0.22723,     0.22823,     0.22923,     0.23023,     0.23123,     0.23223,     0.23323,     0.23423,     0.23524,     0.23624,     0.23724,     0.23824,     0.23924,\n",
       "           0.24024,     0.24124,     0.24224,     0.24324,     0.24424,     0.24525,     0.24625,     0.24725,     0.24825,     0.24925,     0.25025,     0.25125,     0.25225,     0.25325,     0.25425,     0.25526,     0.25626,     0.25726,     0.25826,     0.25926,     0.26026,     0.26126,     0.26226,     0.26326,\n",
       "           0.26426,     0.26527,     0.26627,     0.26727,     0.26827,     0.26927,     0.27027,     0.27127,     0.27227,     0.27327,     0.27427,     0.27528,     0.27628,     0.27728,     0.27828,     0.27928,     0.28028,     0.28128,     0.28228,     0.28328,     0.28428,     0.28529,     0.28629,     0.28729,\n",
       "           0.28829,     0.28929,     0.29029,     0.29129,     0.29229,     0.29329,     0.29429,      0.2953,      0.2963,      0.2973,      0.2983,      0.2993,      0.3003,      0.3013,      0.3023,      0.3033,      0.3043,     0.30531,     0.30631,     0.30731,     0.30831,     0.30931,     0.31031,     0.31131,\n",
       "           0.31231,     0.31331,     0.31431,     0.31532,     0.31632,     0.31732,     0.31832,     0.31932,     0.32032,     0.32132,     0.32232,     0.32332,     0.32432,     0.32533,     0.32633,     0.32733,     0.32833,     0.32933,     0.33033,     0.33133,     0.33233,     0.33333,     0.33433,     0.33534,\n",
       "           0.33634,     0.33734,     0.33834,     0.33934,     0.34034,     0.34134,     0.34234,     0.34334,     0.34434,     0.34535,     0.34635,     0.34735,     0.34835,     0.34935,     0.35035,     0.35135,     0.35235,     0.35335,     0.35435,     0.35536,     0.35636,     0.35736,     0.35836,     0.35936,\n",
       "           0.36036,     0.36136,     0.36236,     0.36336,     0.36436,     0.36537,     0.36637,     0.36737,     0.36837,     0.36937,     0.37037,     0.37137,     0.37237,     0.37337,     0.37437,     0.37538,     0.37638,     0.37738,     0.37838,     0.37938,     0.38038,     0.38138,     0.38238,     0.38338,\n",
       "           0.38438,     0.38539,     0.38639,     0.38739,     0.38839,     0.38939,     0.39039,     0.39139,     0.39239,     0.39339,     0.39439,      0.3954,      0.3964,      0.3974,      0.3984,      0.3994,      0.4004,      0.4014,      0.4024,      0.4034,      0.4044,     0.40541,     0.40641,     0.40741,\n",
       "           0.40841,     0.40941,     0.41041,     0.41141,     0.41241,     0.41341,     0.41441,     0.41542,     0.41642,     0.41742,     0.41842,     0.41942,     0.42042,     0.42142,     0.42242,     0.42342,     0.42442,     0.42543,     0.42643,     0.42743,     0.42843,     0.42943,     0.43043,     0.43143,\n",
       "           0.43243,     0.43343,     0.43443,     0.43544,     0.43644,     0.43744,     0.43844,     0.43944,     0.44044,     0.44144,     0.44244,     0.44344,     0.44444,     0.44545,     0.44645,     0.44745,     0.44845,     0.44945,     0.45045,     0.45145,     0.45245,     0.45345,     0.45445,     0.45546,\n",
       "           0.45646,     0.45746,     0.45846,     0.45946,     0.46046,     0.46146,     0.46246,     0.46346,     0.46446,     0.46547,     0.46647,     0.46747,     0.46847,     0.46947,     0.47047,     0.47147,     0.47247,     0.47347,     0.47447,     0.47548,     0.47648,     0.47748,     0.47848,     0.47948,\n",
       "           0.48048,     0.48148,     0.48248,     0.48348,     0.48448,     0.48549,     0.48649,     0.48749,     0.48849,     0.48949,     0.49049,     0.49149,     0.49249,     0.49349,     0.49449,      0.4955,      0.4965,      0.4975,      0.4985,      0.4995,      0.5005,      0.5015,      0.5025,      0.5035,\n",
       "            0.5045,     0.50551,     0.50651,     0.50751,     0.50851,     0.50951,     0.51051,     0.51151,     0.51251,     0.51351,     0.51451,     0.51552,     0.51652,     0.51752,     0.51852,     0.51952,     0.52052,     0.52152,     0.52252,     0.52352,     0.52452,     0.52553,     0.52653,     0.52753,\n",
       "           0.52853,     0.52953,     0.53053,     0.53153,     0.53253,     0.53353,     0.53453,     0.53554,     0.53654,     0.53754,     0.53854,     0.53954,     0.54054,     0.54154,     0.54254,     0.54354,     0.54454,     0.54555,     0.54655,     0.54755,     0.54855,     0.54955,     0.55055,     0.55155,\n",
       "           0.55255,     0.55355,     0.55455,     0.55556,     0.55656,     0.55756,     0.55856,     0.55956,     0.56056,     0.56156,     0.56256,     0.56356,     0.56456,     0.56557,     0.56657,     0.56757,     0.56857,     0.56957,     0.57057,     0.57157,     0.57257,     0.57357,     0.57457,     0.57558,\n",
       "           0.57658,     0.57758,     0.57858,     0.57958,     0.58058,     0.58158,     0.58258,     0.58358,     0.58458,     0.58559,     0.58659,     0.58759,     0.58859,     0.58959,     0.59059,     0.59159,     0.59259,     0.59359,     0.59459,      0.5956,      0.5966,      0.5976,      0.5986,      0.5996,\n",
       "            0.6006,      0.6016,      0.6026,      0.6036,      0.6046,     0.60561,     0.60661,     0.60761,     0.60861,     0.60961,     0.61061,     0.61161,     0.61261,     0.61361,     0.61461,     0.61562,     0.61662,     0.61762,     0.61862,     0.61962,     0.62062,     0.62162,     0.62262,     0.62362,\n",
       "           0.62462,     0.62563,     0.62663,     0.62763,     0.62863,     0.62963,     0.63063,     0.63163,     0.63263,     0.63363,     0.63463,     0.63564,     0.63664,     0.63764,     0.63864,     0.63964,     0.64064,     0.64164,     0.64264,     0.64364,     0.64464,     0.64565,     0.64665,     0.64765,\n",
       "           0.64865,     0.64965,     0.65065,     0.65165,     0.65265,     0.65365,     0.65465,     0.65566,     0.65666,     0.65766,     0.65866,     0.65966,     0.66066,     0.66166,     0.66266,     0.66366,     0.66466,     0.66567,     0.66667,     0.66767,     0.66867,     0.66967,     0.67067,     0.67167,\n",
       "           0.67267,     0.67367,     0.67467,     0.67568,     0.67668,     0.67768,     0.67868,     0.67968,     0.68068,     0.68168,     0.68268,     0.68368,     0.68468,     0.68569,     0.68669,     0.68769,     0.68869,     0.68969,     0.69069,     0.69169,     0.69269,     0.69369,     0.69469,      0.6957,\n",
       "            0.6967,      0.6977,      0.6987,      0.6997,      0.7007,      0.7017,      0.7027,      0.7037,      0.7047,     0.70571,     0.70671,     0.70771,     0.70871,     0.70971,     0.71071,     0.71171,     0.71271,     0.71371,     0.71471,     0.71572,     0.71672,     0.71772,     0.71872,     0.71972,\n",
       "           0.72072,     0.72172,     0.72272,     0.72372,     0.72472,     0.72573,     0.72673,     0.72773,     0.72873,     0.72973,     0.73073,     0.73173,     0.73273,     0.73373,     0.73473,     0.73574,     0.73674,     0.73774,     0.73874,     0.73974,     0.74074,     0.74174,     0.74274,     0.74374,\n",
       "           0.74474,     0.74575,     0.74675,     0.74775,     0.74875,     0.74975,     0.75075,     0.75175,     0.75275,     0.75375,     0.75475,     0.75576,     0.75676,     0.75776,     0.75876,     0.75976,     0.76076,     0.76176,     0.76276,     0.76376,     0.76476,     0.76577,     0.76677,     0.76777,\n",
       "           0.76877,     0.76977,     0.77077,     0.77177,     0.77277,     0.77377,     0.77477,     0.77578,     0.77678,     0.77778,     0.77878,     0.77978,     0.78078,     0.78178,     0.78278,     0.78378,     0.78478,     0.78579,     0.78679,     0.78779,     0.78879,     0.78979,     0.79079,     0.79179,\n",
       "           0.79279,     0.79379,     0.79479,      0.7958,      0.7968,      0.7978,      0.7988,      0.7998,      0.8008,      0.8018,      0.8028,      0.8038,      0.8048,     0.80581,     0.80681,     0.80781,     0.80881,     0.80981,     0.81081,     0.81181,     0.81281,     0.81381,     0.81481,     0.81582,\n",
       "           0.81682,     0.81782,     0.81882,     0.81982,     0.82082,     0.82182,     0.82282,     0.82382,     0.82482,     0.82583,     0.82683,     0.82783,     0.82883,     0.82983,     0.83083,     0.83183,     0.83283,     0.83383,     0.83483,     0.83584,     0.83684,     0.83784,     0.83884,     0.83984,\n",
       "           0.84084,     0.84184,     0.84284,     0.84384,     0.84484,     0.84585,     0.84685,     0.84785,     0.84885,     0.84985,     0.85085,     0.85185,     0.85285,     0.85385,     0.85485,     0.85586,     0.85686,     0.85786,     0.85886,     0.85986,     0.86086,     0.86186,     0.86286,     0.86386,\n",
       "           0.86486,     0.86587,     0.86687,     0.86787,     0.86887,     0.86987,     0.87087,     0.87187,     0.87287,     0.87387,     0.87487,     0.87588,     0.87688,     0.87788,     0.87888,     0.87988,     0.88088,     0.88188,     0.88288,     0.88388,     0.88488,     0.88589,     0.88689,     0.88789,\n",
       "           0.88889,     0.88989,     0.89089,     0.89189,     0.89289,     0.89389,     0.89489,      0.8959,      0.8969,      0.8979,      0.8989,      0.8999,      0.9009,      0.9019,      0.9029,      0.9039,      0.9049,     0.90591,     0.90691,     0.90791,     0.90891,     0.90991,     0.91091,     0.91191,\n",
       "           0.91291,     0.91391,     0.91491,     0.91592,     0.91692,     0.91792,     0.91892,     0.91992,     0.92092,     0.92192,     0.92292,     0.92392,     0.92492,     0.92593,     0.92693,     0.92793,     0.92893,     0.92993,     0.93093,     0.93193,     0.93293,     0.93393,     0.93493,     0.93594,\n",
       "           0.93694,     0.93794,     0.93894,     0.93994,     0.94094,     0.94194,     0.94294,     0.94394,     0.94494,     0.94595,     0.94695,     0.94795,     0.94895,     0.94995,     0.95095,     0.95195,     0.95295,     0.95395,     0.95495,     0.95596,     0.95696,     0.95796,     0.95896,     0.95996,\n",
       "           0.96096,     0.96196,     0.96296,     0.96396,     0.96496,     0.96597,     0.96697,     0.96797,     0.96897,     0.96997,     0.97097,     0.97197,     0.97297,     0.97397,     0.97497,     0.97598,     0.97698,     0.97798,     0.97898,     0.97998,     0.98098,     0.98198,     0.98298,     0.98398,\n",
       "           0.98498,     0.98599,     0.98699,     0.98799,     0.98899,     0.98999,     0.99099,     0.99199,     0.99299,     0.99399,     0.99499,       0.996,       0.997,       0.998,       0.999,           1]), array([[          1,           1,           1,           1,           1,           1,           1,           1,           1,           1,           1,           1,           1,           1,           1,           1,           1,           1,           1,           1,           1,           1,           1,\n",
       "                  1,           1,           1,           1,           1,           1,           1,           1,           1,           1,           1,           1,           1,           1,           1,           1,           1,           1,           1,           1,           1,           1,           1,\n",
       "                  1,           1,           1,           1,           1,           1,           1,           1,           1,           1,           1,           1,           1,           1,           1,           1,           1,           1,           1,           1,           1,           1,           1,\n",
       "                  1,           1,           1,           1,           1,           1,           1,           1,           1,           1,           1,           1,           1,           1,           1,           1,           1,           1,           1,           1,           1,           1,           1,\n",
       "                  1,           1,           1,           1,           1,           1,           1,           1,           1,           1,           1,           1,           1,           1,           1,           1,           1,           1,           1,           1,           1,           1,           1,\n",
       "                  1,           1,           1,           1,           1,           1,           1,           1,           1,           1,           1,           1,           1,           1,           1,           1,           1,           1,           1,           1,           1,           1,           1,\n",
       "                  1,           1,           1,           1,           1,           1,           1,           1,           1,           1,           1,           1,           1,           1,           1,           1,           1,           1,           1,           1,           1,           1,           1,\n",
       "                  1,           1,           1,           1,           1,           1,           1,           1,           1,           1,           1,           1,           1,           1,           1,           1,           1,           1,           1,           1,           1,           1,           1,\n",
       "                  1,           1,           1,           1,           1,           1,           1,           1,           1,           1,           1,           1,           1,           1,           1,           1,           1,           1,           1,           1,           1,           1,           1,\n",
       "                  1,           1,           1,           1,           1,           1,           1,           1,     0.99883,      0.9963,      0.9963,      0.9963,      0.9963,      0.9963,      0.9963,      0.9963,      0.9963,      0.9963,      0.9963,      0.9963,      0.9963,      0.9963,      0.9963,\n",
       "             0.9963,      0.9963,      0.9963,      0.9963,      0.9963,      0.9963,      0.9963,      0.9963,      0.9963,      0.9963,      0.9963,      0.9963,      0.9963,      0.9963,      0.9963,      0.9963,      0.9963,      0.9963,      0.9963,      0.9963,      0.9963,      0.9963,      0.9963,\n",
       "             0.9963,      0.9963,      0.9963,      0.9963,      0.9963,      0.9963,      0.9963,      0.9963,      0.9963,      0.9963,      0.9963,      0.9963,      0.9963,      0.9963,      0.9963,      0.9963,      0.9963,      0.9963,      0.9963,      0.9963,      0.9963,      0.9963,      0.9963,\n",
       "            0.99565,     0.99495,     0.99425,     0.99354,     0.99284,     0.99251,     0.99238,     0.99226,     0.99213,     0.99201,     0.99188,     0.99175,     0.99163,      0.9915,     0.99137,     0.99125,     0.99112,     0.99099,     0.99087,     0.99074,     0.99062,     0.99049,     0.99036,\n",
       "            0.99024,     0.99011,     0.98998,     0.98986,     0.98973,     0.98961,     0.98948,     0.98935,     0.98923,      0.9891,     0.98897,     0.98889,     0.98889,     0.98889,     0.98889,     0.98889,     0.98889,     0.98889,     0.98889,     0.98889,     0.98889,     0.98889,     0.98889,\n",
       "            0.98889,     0.98889,     0.98889,     0.98889,     0.98889,     0.98889,     0.98889,     0.98889,     0.98889,     0.98889,     0.98889,     0.98889,     0.98889,     0.98774,     0.98626,     0.98519,     0.98519,     0.98519,     0.98519,     0.98519,     0.98519,     0.98519,     0.98519,\n",
       "            0.98519,     0.98519,     0.98519,     0.98519,     0.98519,     0.98519,     0.98519,     0.98519,     0.98519,     0.98519,     0.98519,     0.98519,     0.98519,     0.98519,     0.98519,     0.98519,     0.98519,     0.98519,     0.98519,     0.98519,     0.98519,     0.98519,     0.98519,\n",
       "            0.98519,     0.98519,     0.98519,     0.98442,     0.98362,     0.98282,     0.98201,     0.98097,     0.97947,     0.97796,     0.97698,     0.97607,     0.97516,     0.97426,     0.97407,     0.97407,     0.97407,     0.97407,     0.97407,     0.97407,     0.97407,     0.97407,       0.974,\n",
       "            0.97386,     0.97372,     0.97358,     0.97344,      0.9733,     0.97316,     0.97302,     0.97288,     0.97275,     0.97261,     0.97247,     0.97233,     0.97219,     0.97205,     0.97191,     0.97177,     0.97163,     0.97149,     0.97135,     0.97121,     0.97107,     0.97093,     0.97079,\n",
       "            0.97065,     0.97051,     0.97037,     0.97037,     0.97037,     0.97037,     0.97037,     0.97037,     0.97036,     0.97024,     0.97012,        0.97,     0.96988,     0.96976,     0.96964,     0.96952,      0.9694,     0.96928,     0.96916,     0.96904,     0.96892,      0.9688,     0.96868,\n",
       "            0.96856,     0.96844,     0.96832,      0.9682,     0.96807,     0.96795,     0.96783,     0.96771,     0.96759,     0.96747,     0.96735,     0.96723,     0.96711,     0.96699,     0.96687,     0.96675,     0.96656,     0.96621,     0.96586,      0.9655,     0.96515,     0.96479,     0.96444,\n",
       "            0.96409,     0.96373,     0.96338,     0.96303,     0.96256,     0.96206,     0.96157,     0.96108,     0.96058,     0.96009,      0.9596,     0.95899,     0.95812,     0.95726,     0.95639,     0.95549,     0.95349,     0.95179,     0.95147,     0.95115,     0.95082,      0.9505,     0.95018,\n",
       "            0.94986,     0.94953,     0.94921,     0.94889,     0.94856,     0.94824,     0.94807,     0.94796,     0.94786,     0.94775,     0.94764,     0.94754,     0.94743,     0.94732,     0.94721,     0.94711,       0.947,     0.94689,     0.94679,     0.94668,     0.94657,     0.94646,     0.94636,\n",
       "            0.94625,     0.94614,     0.94603,     0.94593,     0.94582,     0.94571,     0.94561,      0.9455,     0.94539,     0.94528,     0.94518,     0.94507,     0.94496,     0.94486,     0.94475,     0.94464,     0.94453,     0.94435,     0.94374,     0.94313,     0.94252,     0.94192,     0.94131,\n",
       "            0.93935,     0.93686,     0.93667,     0.93647,     0.93628,     0.93608,     0.93589,     0.93569,      0.9355,      0.9353,      0.9351,     0.93491,     0.93471,     0.93452,     0.93432,     0.93413,     0.93393,     0.93374,     0.93354,     0.93335,     0.93319,     0.93303,     0.93287,\n",
       "            0.93271,     0.93255,      0.9324,     0.93224,     0.93208,     0.93192,     0.93176,     0.93161,     0.93145,     0.93129,     0.93113,     0.93097,     0.93082,     0.93066,      0.9305,     0.93034,     0.93018,     0.93002,     0.92987,     0.92971,     0.92931,     0.92866,     0.92801,\n",
       "            0.92737,     0.92672,     0.92607,     0.92569,     0.92538,     0.92507,     0.92477,     0.92446,     0.92415,     0.92384,     0.92354,     0.92323,     0.92292,     0.92262,     0.92231,     0.92154,     0.92059,     0.91963,     0.91868,     0.91366,      0.9118,     0.91111,     0.91111,\n",
       "            0.91111,     0.91111,     0.91111,     0.91111,     0.91111,     0.91111,     0.91111,     0.91111,     0.91111,     0.91111,     0.91111,     0.91111,     0.91111,     0.90858,     0.90668,     0.90562,     0.90457,      0.9036,     0.90301,     0.90242,     0.90183,     0.90124,     0.90065,\n",
       "            0.90006,     0.89977,     0.89952,     0.89926,     0.89901,     0.89875,      0.8985,     0.89824,     0.89799,     0.89773,     0.89748,     0.89722,     0.89697,     0.89671,     0.89646,     0.89608,      0.8955,     0.89491,     0.89433,     0.89375,     0.89316,     0.89257,     0.89155,\n",
       "            0.89054,     0.88952,     0.88727,      0.8842,     0.88228,      0.8764,       0.874,     0.87339,     0.87277,     0.87215,     0.87153,     0.87091,     0.87037,     0.87037,     0.87037,     0.87037,     0.87037,     0.87037,     0.87037,     0.87037,     0.87012,      0.8697,     0.86929,\n",
       "            0.86887,     0.86846,     0.86804,     0.86763,     0.86721,      0.8668,     0.86636,     0.86591,     0.86546,     0.86501,     0.86456,     0.86411,     0.86366,     0.86321,      0.8592,     0.85844,     0.85769,     0.85693,     0.85618,     0.85096,      0.8449,     0.84257,     0.84015,\n",
       "            0.83326,     0.83272,     0.83217,     0.83162,     0.83107,     0.83053,     0.82998,      0.8294,     0.82876,     0.82812,     0.82749,     0.82685,     0.82621,     0.82419,     0.81962,     0.81754,     0.81639,     0.81523,     0.81425,     0.81337,     0.81249,      0.8116,     0.80601,\n",
       "            0.80288,     0.80108,     0.79805,     0.79445,     0.79229,     0.79143,     0.79057,     0.78972,     0.78561,     0.78107,     0.78047,     0.77988,     0.77928,     0.77868,     0.77808,     0.77736,     0.77651,     0.77565,      0.7748,     0.77397,     0.77328,      0.7726,     0.77191,\n",
       "            0.77122,     0.77053,     0.76731,     0.76534,     0.76377,      0.7625,     0.76155,      0.7606,     0.75964,     0.75514,     0.75075,     0.74799,     0.74733,     0.74666,     0.74599,     0.74533,     0.74466,     0.73759,     0.73126,     0.72907,     0.72757,     0.72607,     0.72454,\n",
       "              0.723,     0.71481,     0.71394,     0.71307,     0.71219,     0.71132,     0.71042,      0.7095,     0.70858,     0.70767,     0.70667,     0.70563,     0.70459,     0.70282,      0.6968,      0.6959,     0.69546,     0.69502,     0.69459,     0.69415,     0.69372,     0.69328,     0.69285,\n",
       "            0.69088,     0.68517,     0.68406,     0.68295,     0.68184,     0.67674,     0.67456,     0.66811,      0.6562,     0.65378,     0.65195,      0.6438,     0.63855,     0.63547,     0.63349,     0.62452,     0.61848,     0.61756,     0.61664,     0.61572,     0.61463,     0.60362,     0.60283,\n",
       "            0.60204,     0.60124,     0.60045,     0.59908,     0.59696,     0.59263,     0.58495,     0.58067,     0.57676,     0.57499,     0.57219,     0.56958,      0.5681,      0.5666,     0.56452,     0.56218,     0.55901,      0.5547,     0.55098,     0.54749,     0.54571,     0.54292,        0.54,\n",
       "            0.53873,     0.53746,     0.53388,      0.5311,     0.52901,     0.52754,     0.52606,     0.51543,     0.51191,     0.50877,     0.50613,     0.50385,      0.4997,     0.49585,       0.494,      0.4921,     0.49005,     0.48426,     0.47765,     0.47056,     0.46158,     0.45738,     0.45472,\n",
       "            0.45269,     0.44874,     0.44382,     0.44119,     0.43327,     0.42955,     0.42574,     0.42133,     0.41766,     0.41243,     0.40642,     0.40334,     0.40096,     0.39858,     0.39594,     0.38999,     0.38582,     0.38365,     0.38183,      0.3794,     0.37531,     0.36831,     0.35887,\n",
       "            0.35657,     0.35073,     0.34564,     0.34344,     0.34173,      0.3362,     0.33193,     0.32459,     0.32141,     0.31868,     0.31117,     0.29768,     0.28074,     0.27258,     0.26585,     0.26092,     0.25351,     0.24732,     0.24404,     0.22923,     0.22511,     0.22235,     0.21456,\n",
       "            0.21241,     0.20361,     0.19939,      0.1959,     0.19224,     0.19005,     0.18612,     0.18153,     0.17704,     0.17622,      0.1754,     0.17459,       0.173,     0.16987,     0.16132,     0.15503,     0.15285,     0.14643,     0.14349,     0.14112,     0.13078,     0.12885,     0.12792,\n",
       "              0.127,     0.12607,     0.11369,    0.096101,    0.093418,    0.090392,    0.087405,    0.084528,    0.081416,    0.077646,    0.072478,     0.06933,    0.062739,     0.06103,    0.059322,    0.058499,     0.05771,    0.056921,    0.056131,    0.055138,    0.053596,    0.052054,    0.051012,\n",
       "           0.050046,    0.049079,    0.047747,    0.040177,    0.038459,    0.036851,    0.035776,    0.034701,    0.033626,     0.03019,    0.028386,    0.026958,    0.024983,    0.021988,    0.020735,    0.019482,    0.017856,    0.014992,    0.010823,    0.010182,   0.0095399,   0.0088981,   0.0082564,\n",
       "          0.0076146,           0,           0,           0,           0,           0,           0,           0,           0,           0,           0,           0,           0,           0,           0,           0,           0,           0,           0,           0,           0,           0,           0,\n",
       "                  0,           0,           0,           0,           0,           0,           0,           0,           0,           0,           0]]), 'Confidence', 'Recall'], [array([          0,    0.001001,    0.002002,    0.003003,    0.004004,    0.005005,    0.006006,    0.007007,    0.008008,    0.009009,     0.01001,    0.011011,    0.012012,    0.013013,    0.014014,    0.015015,    0.016016,    0.017017,    0.018018,    0.019019,     0.02002,    0.021021,    0.022022,    0.023023,\n",
       "          0.024024,    0.025025,    0.026026,    0.027027,    0.028028,    0.029029,     0.03003,    0.031031,    0.032032,    0.033033,    0.034034,    0.035035,    0.036036,    0.037037,    0.038038,    0.039039,     0.04004,    0.041041,    0.042042,    0.043043,    0.044044,    0.045045,    0.046046,    0.047047,\n",
       "          0.048048,    0.049049,     0.05005,    0.051051,    0.052052,    0.053053,    0.054054,    0.055055,    0.056056,    0.057057,    0.058058,    0.059059,     0.06006,    0.061061,    0.062062,    0.063063,    0.064064,    0.065065,    0.066066,    0.067067,    0.068068,    0.069069,     0.07007,    0.071071,\n",
       "          0.072072,    0.073073,    0.074074,    0.075075,    0.076076,    0.077077,    0.078078,    0.079079,     0.08008,    0.081081,    0.082082,    0.083083,    0.084084,    0.085085,    0.086086,    0.087087,    0.088088,    0.089089,     0.09009,    0.091091,    0.092092,    0.093093,    0.094094,    0.095095,\n",
       "          0.096096,    0.097097,    0.098098,    0.099099,      0.1001,      0.1011,      0.1021,      0.1031,      0.1041,     0.10511,     0.10611,     0.10711,     0.10811,     0.10911,     0.11011,     0.11111,     0.11211,     0.11311,     0.11411,     0.11512,     0.11612,     0.11712,     0.11812,     0.11912,\n",
       "           0.12012,     0.12112,     0.12212,     0.12312,     0.12412,     0.12513,     0.12613,     0.12713,     0.12813,     0.12913,     0.13013,     0.13113,     0.13213,     0.13313,     0.13413,     0.13514,     0.13614,     0.13714,     0.13814,     0.13914,     0.14014,     0.14114,     0.14214,     0.14314,\n",
       "           0.14414,     0.14515,     0.14615,     0.14715,     0.14815,     0.14915,     0.15015,     0.15115,     0.15215,     0.15315,     0.15415,     0.15516,     0.15616,     0.15716,     0.15816,     0.15916,     0.16016,     0.16116,     0.16216,     0.16316,     0.16416,     0.16517,     0.16617,     0.16717,\n",
       "           0.16817,     0.16917,     0.17017,     0.17117,     0.17217,     0.17317,     0.17417,     0.17518,     0.17618,     0.17718,     0.17818,     0.17918,     0.18018,     0.18118,     0.18218,     0.18318,     0.18418,     0.18519,     0.18619,     0.18719,     0.18819,     0.18919,     0.19019,     0.19119,\n",
       "           0.19219,     0.19319,     0.19419,      0.1952,      0.1962,      0.1972,      0.1982,      0.1992,      0.2002,      0.2012,      0.2022,      0.2032,      0.2042,     0.20521,     0.20621,     0.20721,     0.20821,     0.20921,     0.21021,     0.21121,     0.21221,     0.21321,     0.21421,     0.21522,\n",
       "           0.21622,     0.21722,     0.21822,     0.21922,     0.22022,     0.22122,     0.22222,     0.22322,     0.22422,     0.22523,     0.22623,     0.22723,     0.22823,     0.22923,     0.23023,     0.23123,     0.23223,     0.23323,     0.23423,     0.23524,     0.23624,     0.23724,     0.23824,     0.23924,\n",
       "           0.24024,     0.24124,     0.24224,     0.24324,     0.24424,     0.24525,     0.24625,     0.24725,     0.24825,     0.24925,     0.25025,     0.25125,     0.25225,     0.25325,     0.25425,     0.25526,     0.25626,     0.25726,     0.25826,     0.25926,     0.26026,     0.26126,     0.26226,     0.26326,\n",
       "           0.26426,     0.26527,     0.26627,     0.26727,     0.26827,     0.26927,     0.27027,     0.27127,     0.27227,     0.27327,     0.27427,     0.27528,     0.27628,     0.27728,     0.27828,     0.27928,     0.28028,     0.28128,     0.28228,     0.28328,     0.28428,     0.28529,     0.28629,     0.28729,\n",
       "           0.28829,     0.28929,     0.29029,     0.29129,     0.29229,     0.29329,     0.29429,      0.2953,      0.2963,      0.2973,      0.2983,      0.2993,      0.3003,      0.3013,      0.3023,      0.3033,      0.3043,     0.30531,     0.30631,     0.30731,     0.30831,     0.30931,     0.31031,     0.31131,\n",
       "           0.31231,     0.31331,     0.31431,     0.31532,     0.31632,     0.31732,     0.31832,     0.31932,     0.32032,     0.32132,     0.32232,     0.32332,     0.32432,     0.32533,     0.32633,     0.32733,     0.32833,     0.32933,     0.33033,     0.33133,     0.33233,     0.33333,     0.33433,     0.33534,\n",
       "           0.33634,     0.33734,     0.33834,     0.33934,     0.34034,     0.34134,     0.34234,     0.34334,     0.34434,     0.34535,     0.34635,     0.34735,     0.34835,     0.34935,     0.35035,     0.35135,     0.35235,     0.35335,     0.35435,     0.35536,     0.35636,     0.35736,     0.35836,     0.35936,\n",
       "           0.36036,     0.36136,     0.36236,     0.36336,     0.36436,     0.36537,     0.36637,     0.36737,     0.36837,     0.36937,     0.37037,     0.37137,     0.37237,     0.37337,     0.37437,     0.37538,     0.37638,     0.37738,     0.37838,     0.37938,     0.38038,     0.38138,     0.38238,     0.38338,\n",
       "           0.38438,     0.38539,     0.38639,     0.38739,     0.38839,     0.38939,     0.39039,     0.39139,     0.39239,     0.39339,     0.39439,      0.3954,      0.3964,      0.3974,      0.3984,      0.3994,      0.4004,      0.4014,      0.4024,      0.4034,      0.4044,     0.40541,     0.40641,     0.40741,\n",
       "           0.40841,     0.40941,     0.41041,     0.41141,     0.41241,     0.41341,     0.41441,     0.41542,     0.41642,     0.41742,     0.41842,     0.41942,     0.42042,     0.42142,     0.42242,     0.42342,     0.42442,     0.42543,     0.42643,     0.42743,     0.42843,     0.42943,     0.43043,     0.43143,\n",
       "           0.43243,     0.43343,     0.43443,     0.43544,     0.43644,     0.43744,     0.43844,     0.43944,     0.44044,     0.44144,     0.44244,     0.44344,     0.44444,     0.44545,     0.44645,     0.44745,     0.44845,     0.44945,     0.45045,     0.45145,     0.45245,     0.45345,     0.45445,     0.45546,\n",
       "           0.45646,     0.45746,     0.45846,     0.45946,     0.46046,     0.46146,     0.46246,     0.46346,     0.46446,     0.46547,     0.46647,     0.46747,     0.46847,     0.46947,     0.47047,     0.47147,     0.47247,     0.47347,     0.47447,     0.47548,     0.47648,     0.47748,     0.47848,     0.47948,\n",
       "           0.48048,     0.48148,     0.48248,     0.48348,     0.48448,     0.48549,     0.48649,     0.48749,     0.48849,     0.48949,     0.49049,     0.49149,     0.49249,     0.49349,     0.49449,      0.4955,      0.4965,      0.4975,      0.4985,      0.4995,      0.5005,      0.5015,      0.5025,      0.5035,\n",
       "            0.5045,     0.50551,     0.50651,     0.50751,     0.50851,     0.50951,     0.51051,     0.51151,     0.51251,     0.51351,     0.51451,     0.51552,     0.51652,     0.51752,     0.51852,     0.51952,     0.52052,     0.52152,     0.52252,     0.52352,     0.52452,     0.52553,     0.52653,     0.52753,\n",
       "           0.52853,     0.52953,     0.53053,     0.53153,     0.53253,     0.53353,     0.53453,     0.53554,     0.53654,     0.53754,     0.53854,     0.53954,     0.54054,     0.54154,     0.54254,     0.54354,     0.54454,     0.54555,     0.54655,     0.54755,     0.54855,     0.54955,     0.55055,     0.55155,\n",
       "           0.55255,     0.55355,     0.55455,     0.55556,     0.55656,     0.55756,     0.55856,     0.55956,     0.56056,     0.56156,     0.56256,     0.56356,     0.56456,     0.56557,     0.56657,     0.56757,     0.56857,     0.56957,     0.57057,     0.57157,     0.57257,     0.57357,     0.57457,     0.57558,\n",
       "           0.57658,     0.57758,     0.57858,     0.57958,     0.58058,     0.58158,     0.58258,     0.58358,     0.58458,     0.58559,     0.58659,     0.58759,     0.58859,     0.58959,     0.59059,     0.59159,     0.59259,     0.59359,     0.59459,      0.5956,      0.5966,      0.5976,      0.5986,      0.5996,\n",
       "            0.6006,      0.6016,      0.6026,      0.6036,      0.6046,     0.60561,     0.60661,     0.60761,     0.60861,     0.60961,     0.61061,     0.61161,     0.61261,     0.61361,     0.61461,     0.61562,     0.61662,     0.61762,     0.61862,     0.61962,     0.62062,     0.62162,     0.62262,     0.62362,\n",
       "           0.62462,     0.62563,     0.62663,     0.62763,     0.62863,     0.62963,     0.63063,     0.63163,     0.63263,     0.63363,     0.63463,     0.63564,     0.63664,     0.63764,     0.63864,     0.63964,     0.64064,     0.64164,     0.64264,     0.64364,     0.64464,     0.64565,     0.64665,     0.64765,\n",
       "           0.64865,     0.64965,     0.65065,     0.65165,     0.65265,     0.65365,     0.65465,     0.65566,     0.65666,     0.65766,     0.65866,     0.65966,     0.66066,     0.66166,     0.66266,     0.66366,     0.66466,     0.66567,     0.66667,     0.66767,     0.66867,     0.66967,     0.67067,     0.67167,\n",
       "           0.67267,     0.67367,     0.67467,     0.67568,     0.67668,     0.67768,     0.67868,     0.67968,     0.68068,     0.68168,     0.68268,     0.68368,     0.68468,     0.68569,     0.68669,     0.68769,     0.68869,     0.68969,     0.69069,     0.69169,     0.69269,     0.69369,     0.69469,      0.6957,\n",
       "            0.6967,      0.6977,      0.6987,      0.6997,      0.7007,      0.7017,      0.7027,      0.7037,      0.7047,     0.70571,     0.70671,     0.70771,     0.70871,     0.70971,     0.71071,     0.71171,     0.71271,     0.71371,     0.71471,     0.71572,     0.71672,     0.71772,     0.71872,     0.71972,\n",
       "           0.72072,     0.72172,     0.72272,     0.72372,     0.72472,     0.72573,     0.72673,     0.72773,     0.72873,     0.72973,     0.73073,     0.73173,     0.73273,     0.73373,     0.73473,     0.73574,     0.73674,     0.73774,     0.73874,     0.73974,     0.74074,     0.74174,     0.74274,     0.74374,\n",
       "           0.74474,     0.74575,     0.74675,     0.74775,     0.74875,     0.74975,     0.75075,     0.75175,     0.75275,     0.75375,     0.75475,     0.75576,     0.75676,     0.75776,     0.75876,     0.75976,     0.76076,     0.76176,     0.76276,     0.76376,     0.76476,     0.76577,     0.76677,     0.76777,\n",
       "           0.76877,     0.76977,     0.77077,     0.77177,     0.77277,     0.77377,     0.77477,     0.77578,     0.77678,     0.77778,     0.77878,     0.77978,     0.78078,     0.78178,     0.78278,     0.78378,     0.78478,     0.78579,     0.78679,     0.78779,     0.78879,     0.78979,     0.79079,     0.79179,\n",
       "           0.79279,     0.79379,     0.79479,      0.7958,      0.7968,      0.7978,      0.7988,      0.7998,      0.8008,      0.8018,      0.8028,      0.8038,      0.8048,     0.80581,     0.80681,     0.80781,     0.80881,     0.80981,     0.81081,     0.81181,     0.81281,     0.81381,     0.81481,     0.81582,\n",
       "           0.81682,     0.81782,     0.81882,     0.81982,     0.82082,     0.82182,     0.82282,     0.82382,     0.82482,     0.82583,     0.82683,     0.82783,     0.82883,     0.82983,     0.83083,     0.83183,     0.83283,     0.83383,     0.83483,     0.83584,     0.83684,     0.83784,     0.83884,     0.83984,\n",
       "           0.84084,     0.84184,     0.84284,     0.84384,     0.84484,     0.84585,     0.84685,     0.84785,     0.84885,     0.84985,     0.85085,     0.85185,     0.85285,     0.85385,     0.85485,     0.85586,     0.85686,     0.85786,     0.85886,     0.85986,     0.86086,     0.86186,     0.86286,     0.86386,\n",
       "           0.86486,     0.86587,     0.86687,     0.86787,     0.86887,     0.86987,     0.87087,     0.87187,     0.87287,     0.87387,     0.87487,     0.87588,     0.87688,     0.87788,     0.87888,     0.87988,     0.88088,     0.88188,     0.88288,     0.88388,     0.88488,     0.88589,     0.88689,     0.88789,\n",
       "           0.88889,     0.88989,     0.89089,     0.89189,     0.89289,     0.89389,     0.89489,      0.8959,      0.8969,      0.8979,      0.8989,      0.8999,      0.9009,      0.9019,      0.9029,      0.9039,      0.9049,     0.90591,     0.90691,     0.90791,     0.90891,     0.90991,     0.91091,     0.91191,\n",
       "           0.91291,     0.91391,     0.91491,     0.91592,     0.91692,     0.91792,     0.91892,     0.91992,     0.92092,     0.92192,     0.92292,     0.92392,     0.92492,     0.92593,     0.92693,     0.92793,     0.92893,     0.92993,     0.93093,     0.93193,     0.93293,     0.93393,     0.93493,     0.93594,\n",
       "           0.93694,     0.93794,     0.93894,     0.93994,     0.94094,     0.94194,     0.94294,     0.94394,     0.94494,     0.94595,     0.94695,     0.94795,     0.94895,     0.94995,     0.95095,     0.95195,     0.95295,     0.95395,     0.95495,     0.95596,     0.95696,     0.95796,     0.95896,     0.95996,\n",
       "           0.96096,     0.96196,     0.96296,     0.96396,     0.96496,     0.96597,     0.96697,     0.96797,     0.96897,     0.96997,     0.97097,     0.97197,     0.97297,     0.97397,     0.97497,     0.97598,     0.97698,     0.97798,     0.97898,     0.97998,     0.98098,     0.98198,     0.98298,     0.98398,\n",
       "           0.98498,     0.98599,     0.98699,     0.98799,     0.98899,     0.98999,     0.99099,     0.99199,     0.99299,     0.99399,     0.99499,       0.996,       0.997,       0.998,       0.999,           1]), array([[          1,           1,           1,           1,           1,           1,           1,           1,           1,           1,           1,           1,           1,           1,           1,           1,           1,           1,           1,           1,           1,           1,           1,\n",
       "                  1,           1,           1,           1,           1,           1,           1,           1,           1,           1,           1,           1,           1,           1,           1,           1,           1,           1,           1,           1,           1,           1,           1,\n",
       "                  1,           1,           1,           1,           1,           1,           1,           1,           1,           1,           1,           1,           1,           1,           1,           1,           1,           1,           1,           1,           1,           1,           1,\n",
       "                  1,           1,           1,           1,           1,           1,           1,           1,           1,           1,           1,           1,           1,           1,           1,           1,           1,           1,           1,           1,           1,           1,           1,\n",
       "                  1,           1,           1,           1,           1,           1,           1,           1,           1,           1,           1,           1,           1,           1,           1,           1,           1,           1,           1,           1,           1,           1,           1,\n",
       "                  1,           1,           1,           1,           1,           1,           1,           1,           1,           1,           1,           1,           1,           1,           1,           1,           1,           1,           1,           1,           1,           1,           1,\n",
       "                  1,           1,           1,           1,           1,           1,           1,           1,           1,           1,           1,           1,           1,           1,           1,           1,           1,           1,           1,           1,           1,           1,           1,\n",
       "                  1,           1,           1,           1,           1,           1,           1,           1,           1,           1,           1,           1,           1,           1,           1,           1,           1,           1,           1,           1,           1,           1,           1,\n",
       "                  1,           1,           1,           1,           1,           1,           1,           1,           1,           1,           1,           1,           1,           1,           1,           1,           1,           1,           1,           1,           1,           1,           1,\n",
       "                  1,           1,           1,           1,           1,           1,           1,           1,           1,           1,           1,           1,           1,           1,           1,           1,           1,           1,           1,           1,           1,           1,           1,\n",
       "                  1,           1,           1,           1,           1,           1,           1,           1,           1,           1,           1,           1,           1,           1,           1,           1,           1,           1,           1,           1,           1,           1,           1,\n",
       "                  1,           1,           1,           1,           1,           1,           1,           1,           1,           1,           1,           1,           1,           1,           1,           1,           1,           1,           1,           1,           1,           1,           1,\n",
       "                  1,           1,           1,           1,           1,           1,           1,           1,           1,           1,           1,           1,           1,           1,           1,           1,           1,           1,           1,           1,           1,           1,           1,\n",
       "                  1,           1,           1,           1,           1,           1,           1,           1,           1,           1,           1,           1,           1,           1,           1,           1,           1,           1,           1,           1,           1,           1,           1,\n",
       "                  1,           1,           1,           1,           1,           1,           1,           1,           1,           1,           1,           1,           1,           1,           1,           1,           1,           1,           1,           1,           1,           1,           1,\n",
       "                  1,           1,           1,           1,           1,           1,           1,           1,           1,           1,           1,           1,           1,           1,           1,           1,           1,           1,           1,           1,           1,           1,           1,\n",
       "                  1,           1,           1,           1,           1,           1,           1,           1,           1,           1,           1,           1,           1,           1,           1,           1,           1,           1,           1,           1,           1,           1,           1,\n",
       "                  1,           1,           1,           1,           1,           1,           1,           1,           1,           1,           1,           1,           1,           1,           1,           1,           1,           1,           1,           1,           1,           1,           1,\n",
       "                  1,           1,           1,           1,           1,           1,           1,           1,           1,           1,           1,           1,           1,           1,           1,           1,           1,           1,           1,           1,           1,           1,           1,\n",
       "                  1,           1,           1,           1,           1,           1,           1,           1,           1,           1,           1,           1,           1,           1,           1,           1,           1,           1,           1,           1,           1,           1,           1,\n",
       "                  1,           1,           1,           1,           1,           1,           1,           1,           1,           1,           1,           1,           1,           1,           1,           1,           1,           1,           1,           1,           1,           1,           1,\n",
       "                  1,           1,           1,           1,           1,           1,           1,           1,           1,           1,           1,           1,           1,           1,           1,           1,           1,           1,           1,           1,           1,           1,           1,\n",
       "                  1,           1,           1,           1,           1,           1,           1,           1,           1,           1,           1,           1,           1,           1,           1,           1,           1,           1,           1,           1,           1,           1,           1,\n",
       "                  1,           1,           1,           1,           1,           1,           1,           1,           1,           1,           1,           1,           1,           1,           1,           1,           1,           1,           1,           1,           1,           1,           1,\n",
       "                  1,           1,           1,           1,           1,           1,           1,           1,           1,           1,           1,           1,           1,           1,           1,           1,           1,           1,           1,           1,           1,           1,           1,\n",
       "                  1,           1,           1,           1,           1,           1,           1,           1,           1,           1,           1,           1,           1,           1,           1,           1,           1,           1,           1,           1,           1,           1,           1,\n",
       "                  1,           1,           1,           1,           1,           1,           1,           1,           1,           1,           1,           1,           1,           1,           1,           1,           1,           1,           1,           1,           1,           1,           1,\n",
       "                  1,           1,           1,           1,           1,           1,           1,           1,           1,           1,           1,           1,           1,           1,           1,           1,           1,           1,           1,           1,           1,           1,           1,\n",
       "                  1,           1,           1,           1,           1,           1,           1,           1,           1,           1,           1,           1,           1,           1,           1,           1,           1,           1,           1,           1,           1,           1,           1,\n",
       "                  1,           1,           1,           1,           1,           1,           1,           1,           1,           1,           1,           1,           1,           1,           1,           1,           1,           1,           1,           1,           1,           1,           1,\n",
       "                  1,           1,           1,           1,           1,           1,           1,           1,           1,           1,           1,           1,           1,           1,           1,           1,           1,           1,           1,           1,           1,           1,           1,\n",
       "                  1,           1,           1,           1,           1,           1,           1,           1,           1,           1,           1,           1,           1,           1,           1,           1,           1,           1,           1,           1,           1,           1,           1,\n",
       "                  1,           1,           1,           1,           1,           1,           1,           1,           1,           1,           1,           1,           1,           1,           1,           1,           1,           1,           1,           1,           1,           1,           1,\n",
       "                  1,           1,           1,           1,           1,           1,           1,           1,           1,           1,           1,           1,           1,           1,           1,           1,           1,           1,           1,           1,           1,           1,           1,\n",
       "                  1,           1,           1,           1,           1,           1,           1,           1,           1,           1,           1,           1,           1,           1,           1,           1,           1,           1,           1,           1,           1,           1,           1,\n",
       "                  1,           1,           1,           1,           1,           1,           1,           1,           1,           1,           1,           1,           1,           1,           1,           1,           1,           1,           1,           1,           1,           1,           1,\n",
       "                  1,           1,           1,           1,           1,           1,           1,           1,           1,           1,           1,           1,           1,           1,           1,           1,           1,           1,           1,           1,           1,           1,           1,\n",
       "                  1,           1,           1,           1,           1,           1,           1,           1,           1,           1,           1,           1,           1,           1,           1,           1,           1,           1,           1,     0.99595,     0.99595,     0.99595,     0.99595,\n",
       "            0.99595,     0.99595,     0.99595,     0.99595,     0.99595,     0.99595,     0.99595,     0.99595,     0.99595,     0.99595,     0.99595,     0.99595,     0.99595,     0.99595,     0.99595,     0.99595,     0.99595,     0.99595,     0.99595,     0.99595,     0.99595,     0.99595,     0.99595,\n",
       "            0.99595,     0.99595,     0.99595,     0.99595,     0.99595,     0.99595,     0.99595,     0.99595,     0.99595,     0.99595,     0.99595,     0.99595,     0.99595,     0.99595,     0.99234,     0.99234,     0.99234,     0.99234,     0.99234,     0.99234,     0.99234,     0.99234,     0.99234,\n",
       "            0.99234,     0.99234,     0.99234,     0.99234,     0.99234,     0.99234,     0.99234,     0.99234,     0.99234,     0.99234,     0.99234,     0.99234,     0.99234,     0.99234,     0.99234,     0.99234,     0.99234,     0.99234,     0.99234,     0.99234,     0.99234,     0.99234,     0.99234,\n",
       "            0.99234,     0.99234,     0.99234,     0.99234,     0.99234,     0.99234,     0.99234,     0.99234,     0.99234,     0.99234,     0.99234,     0.99234,     0.99234,     0.99234,     0.99234,     0.99234,     0.98864,     0.98864,     0.98864,     0.98864,     0.98864,     0.98864,     0.98864,\n",
       "            0.98496,     0.98496,     0.98496,     0.98496,     0.97802,     0.97802,     0.97802,     0.97802,     0.97802,     0.97802,     0.97802,     0.97802,     0.97802,     0.97802,     0.97802,     0.97802,     0.97802,     0.97802,     0.97802,     0.97802,     0.97802,     0.97802,     0.96751,\n",
       "            0.96751,     0.96751,     0.96751,     0.93403,     0.93403,     0.93403,     0.93403,      0.1843,      0.1843,      0.1843,           0]]), 'Recall', 'Precision'], [array([          0,    0.001001,    0.002002,    0.003003,    0.004004,    0.005005,    0.006006,    0.007007,    0.008008,    0.009009,     0.01001,    0.011011,    0.012012,    0.013013,    0.014014,    0.015015,    0.016016,    0.017017,    0.018018,    0.019019,     0.02002,    0.021021,    0.022022,    0.023023,\n",
       "          0.024024,    0.025025,    0.026026,    0.027027,    0.028028,    0.029029,     0.03003,    0.031031,    0.032032,    0.033033,    0.034034,    0.035035,    0.036036,    0.037037,    0.038038,    0.039039,     0.04004,    0.041041,    0.042042,    0.043043,    0.044044,    0.045045,    0.046046,    0.047047,\n",
       "          0.048048,    0.049049,     0.05005,    0.051051,    0.052052,    0.053053,    0.054054,    0.055055,    0.056056,    0.057057,    0.058058,    0.059059,     0.06006,    0.061061,    0.062062,    0.063063,    0.064064,    0.065065,    0.066066,    0.067067,    0.068068,    0.069069,     0.07007,    0.071071,\n",
       "          0.072072,    0.073073,    0.074074,    0.075075,    0.076076,    0.077077,    0.078078,    0.079079,     0.08008,    0.081081,    0.082082,    0.083083,    0.084084,    0.085085,    0.086086,    0.087087,    0.088088,    0.089089,     0.09009,    0.091091,    0.092092,    0.093093,    0.094094,    0.095095,\n",
       "          0.096096,    0.097097,    0.098098,    0.099099,      0.1001,      0.1011,      0.1021,      0.1031,      0.1041,     0.10511,     0.10611,     0.10711,     0.10811,     0.10911,     0.11011,     0.11111,     0.11211,     0.11311,     0.11411,     0.11512,     0.11612,     0.11712,     0.11812,     0.11912,\n",
       "           0.12012,     0.12112,     0.12212,     0.12312,     0.12412,     0.12513,     0.12613,     0.12713,     0.12813,     0.12913,     0.13013,     0.13113,     0.13213,     0.13313,     0.13413,     0.13514,     0.13614,     0.13714,     0.13814,     0.13914,     0.14014,     0.14114,     0.14214,     0.14314,\n",
       "           0.14414,     0.14515,     0.14615,     0.14715,     0.14815,     0.14915,     0.15015,     0.15115,     0.15215,     0.15315,     0.15415,     0.15516,     0.15616,     0.15716,     0.15816,     0.15916,     0.16016,     0.16116,     0.16216,     0.16316,     0.16416,     0.16517,     0.16617,     0.16717,\n",
       "           0.16817,     0.16917,     0.17017,     0.17117,     0.17217,     0.17317,     0.17417,     0.17518,     0.17618,     0.17718,     0.17818,     0.17918,     0.18018,     0.18118,     0.18218,     0.18318,     0.18418,     0.18519,     0.18619,     0.18719,     0.18819,     0.18919,     0.19019,     0.19119,\n",
       "           0.19219,     0.19319,     0.19419,      0.1952,      0.1962,      0.1972,      0.1982,      0.1992,      0.2002,      0.2012,      0.2022,      0.2032,      0.2042,     0.20521,     0.20621,     0.20721,     0.20821,     0.20921,     0.21021,     0.21121,     0.21221,     0.21321,     0.21421,     0.21522,\n",
       "           0.21622,     0.21722,     0.21822,     0.21922,     0.22022,     0.22122,     0.22222,     0.22322,     0.22422,     0.22523,     0.22623,     0.22723,     0.22823,     0.22923,     0.23023,     0.23123,     0.23223,     0.23323,     0.23423,     0.23524,     0.23624,     0.23724,     0.23824,     0.23924,\n",
       "           0.24024,     0.24124,     0.24224,     0.24324,     0.24424,     0.24525,     0.24625,     0.24725,     0.24825,     0.24925,     0.25025,     0.25125,     0.25225,     0.25325,     0.25425,     0.25526,     0.25626,     0.25726,     0.25826,     0.25926,     0.26026,     0.26126,     0.26226,     0.26326,\n",
       "           0.26426,     0.26527,     0.26627,     0.26727,     0.26827,     0.26927,     0.27027,     0.27127,     0.27227,     0.27327,     0.27427,     0.27528,     0.27628,     0.27728,     0.27828,     0.27928,     0.28028,     0.28128,     0.28228,     0.28328,     0.28428,     0.28529,     0.28629,     0.28729,\n",
       "           0.28829,     0.28929,     0.29029,     0.29129,     0.29229,     0.29329,     0.29429,      0.2953,      0.2963,      0.2973,      0.2983,      0.2993,      0.3003,      0.3013,      0.3023,      0.3033,      0.3043,     0.30531,     0.30631,     0.30731,     0.30831,     0.30931,     0.31031,     0.31131,\n",
       "           0.31231,     0.31331,     0.31431,     0.31532,     0.31632,     0.31732,     0.31832,     0.31932,     0.32032,     0.32132,     0.32232,     0.32332,     0.32432,     0.32533,     0.32633,     0.32733,     0.32833,     0.32933,     0.33033,     0.33133,     0.33233,     0.33333,     0.33433,     0.33534,\n",
       "           0.33634,     0.33734,     0.33834,     0.33934,     0.34034,     0.34134,     0.34234,     0.34334,     0.34434,     0.34535,     0.34635,     0.34735,     0.34835,     0.34935,     0.35035,     0.35135,     0.35235,     0.35335,     0.35435,     0.35536,     0.35636,     0.35736,     0.35836,     0.35936,\n",
       "           0.36036,     0.36136,     0.36236,     0.36336,     0.36436,     0.36537,     0.36637,     0.36737,     0.36837,     0.36937,     0.37037,     0.37137,     0.37237,     0.37337,     0.37437,     0.37538,     0.37638,     0.37738,     0.37838,     0.37938,     0.38038,     0.38138,     0.38238,     0.38338,\n",
       "           0.38438,     0.38539,     0.38639,     0.38739,     0.38839,     0.38939,     0.39039,     0.39139,     0.39239,     0.39339,     0.39439,      0.3954,      0.3964,      0.3974,      0.3984,      0.3994,      0.4004,      0.4014,      0.4024,      0.4034,      0.4044,     0.40541,     0.40641,     0.40741,\n",
       "           0.40841,     0.40941,     0.41041,     0.41141,     0.41241,     0.41341,     0.41441,     0.41542,     0.41642,     0.41742,     0.41842,     0.41942,     0.42042,     0.42142,     0.42242,     0.42342,     0.42442,     0.42543,     0.42643,     0.42743,     0.42843,     0.42943,     0.43043,     0.43143,\n",
       "           0.43243,     0.43343,     0.43443,     0.43544,     0.43644,     0.43744,     0.43844,     0.43944,     0.44044,     0.44144,     0.44244,     0.44344,     0.44444,     0.44545,     0.44645,     0.44745,     0.44845,     0.44945,     0.45045,     0.45145,     0.45245,     0.45345,     0.45445,     0.45546,\n",
       "           0.45646,     0.45746,     0.45846,     0.45946,     0.46046,     0.46146,     0.46246,     0.46346,     0.46446,     0.46547,     0.46647,     0.46747,     0.46847,     0.46947,     0.47047,     0.47147,     0.47247,     0.47347,     0.47447,     0.47548,     0.47648,     0.47748,     0.47848,     0.47948,\n",
       "           0.48048,     0.48148,     0.48248,     0.48348,     0.48448,     0.48549,     0.48649,     0.48749,     0.48849,     0.48949,     0.49049,     0.49149,     0.49249,     0.49349,     0.49449,      0.4955,      0.4965,      0.4975,      0.4985,      0.4995,      0.5005,      0.5015,      0.5025,      0.5035,\n",
       "            0.5045,     0.50551,     0.50651,     0.50751,     0.50851,     0.50951,     0.51051,     0.51151,     0.51251,     0.51351,     0.51451,     0.51552,     0.51652,     0.51752,     0.51852,     0.51952,     0.52052,     0.52152,     0.52252,     0.52352,     0.52452,     0.52553,     0.52653,     0.52753,\n",
       "           0.52853,     0.52953,     0.53053,     0.53153,     0.53253,     0.53353,     0.53453,     0.53554,     0.53654,     0.53754,     0.53854,     0.53954,     0.54054,     0.54154,     0.54254,     0.54354,     0.54454,     0.54555,     0.54655,     0.54755,     0.54855,     0.54955,     0.55055,     0.55155,\n",
       "           0.55255,     0.55355,     0.55455,     0.55556,     0.55656,     0.55756,     0.55856,     0.55956,     0.56056,     0.56156,     0.56256,     0.56356,     0.56456,     0.56557,     0.56657,     0.56757,     0.56857,     0.56957,     0.57057,     0.57157,     0.57257,     0.57357,     0.57457,     0.57558,\n",
       "           0.57658,     0.57758,     0.57858,     0.57958,     0.58058,     0.58158,     0.58258,     0.58358,     0.58458,     0.58559,     0.58659,     0.58759,     0.58859,     0.58959,     0.59059,     0.59159,     0.59259,     0.59359,     0.59459,      0.5956,      0.5966,      0.5976,      0.5986,      0.5996,\n",
       "            0.6006,      0.6016,      0.6026,      0.6036,      0.6046,     0.60561,     0.60661,     0.60761,     0.60861,     0.60961,     0.61061,     0.61161,     0.61261,     0.61361,     0.61461,     0.61562,     0.61662,     0.61762,     0.61862,     0.61962,     0.62062,     0.62162,     0.62262,     0.62362,\n",
       "           0.62462,     0.62563,     0.62663,     0.62763,     0.62863,     0.62963,     0.63063,     0.63163,     0.63263,     0.63363,     0.63463,     0.63564,     0.63664,     0.63764,     0.63864,     0.63964,     0.64064,     0.64164,     0.64264,     0.64364,     0.64464,     0.64565,     0.64665,     0.64765,\n",
       "           0.64865,     0.64965,     0.65065,     0.65165,     0.65265,     0.65365,     0.65465,     0.65566,     0.65666,     0.65766,     0.65866,     0.65966,     0.66066,     0.66166,     0.66266,     0.66366,     0.66466,     0.66567,     0.66667,     0.66767,     0.66867,     0.66967,     0.67067,     0.67167,\n",
       "           0.67267,     0.67367,     0.67467,     0.67568,     0.67668,     0.67768,     0.67868,     0.67968,     0.68068,     0.68168,     0.68268,     0.68368,     0.68468,     0.68569,     0.68669,     0.68769,     0.68869,     0.68969,     0.69069,     0.69169,     0.69269,     0.69369,     0.69469,      0.6957,\n",
       "            0.6967,      0.6977,      0.6987,      0.6997,      0.7007,      0.7017,      0.7027,      0.7037,      0.7047,     0.70571,     0.70671,     0.70771,     0.70871,     0.70971,     0.71071,     0.71171,     0.71271,     0.71371,     0.71471,     0.71572,     0.71672,     0.71772,     0.71872,     0.71972,\n",
       "           0.72072,     0.72172,     0.72272,     0.72372,     0.72472,     0.72573,     0.72673,     0.72773,     0.72873,     0.72973,     0.73073,     0.73173,     0.73273,     0.73373,     0.73473,     0.73574,     0.73674,     0.73774,     0.73874,     0.73974,     0.74074,     0.74174,     0.74274,     0.74374,\n",
       "           0.74474,     0.74575,     0.74675,     0.74775,     0.74875,     0.74975,     0.75075,     0.75175,     0.75275,     0.75375,     0.75475,     0.75576,     0.75676,     0.75776,     0.75876,     0.75976,     0.76076,     0.76176,     0.76276,     0.76376,     0.76476,     0.76577,     0.76677,     0.76777,\n",
       "           0.76877,     0.76977,     0.77077,     0.77177,     0.77277,     0.77377,     0.77477,     0.77578,     0.77678,     0.77778,     0.77878,     0.77978,     0.78078,     0.78178,     0.78278,     0.78378,     0.78478,     0.78579,     0.78679,     0.78779,     0.78879,     0.78979,     0.79079,     0.79179,\n",
       "           0.79279,     0.79379,     0.79479,      0.7958,      0.7968,      0.7978,      0.7988,      0.7998,      0.8008,      0.8018,      0.8028,      0.8038,      0.8048,     0.80581,     0.80681,     0.80781,     0.80881,     0.80981,     0.81081,     0.81181,     0.81281,     0.81381,     0.81481,     0.81582,\n",
       "           0.81682,     0.81782,     0.81882,     0.81982,     0.82082,     0.82182,     0.82282,     0.82382,     0.82482,     0.82583,     0.82683,     0.82783,     0.82883,     0.82983,     0.83083,     0.83183,     0.83283,     0.83383,     0.83483,     0.83584,     0.83684,     0.83784,     0.83884,     0.83984,\n",
       "           0.84084,     0.84184,     0.84284,     0.84384,     0.84484,     0.84585,     0.84685,     0.84785,     0.84885,     0.84985,     0.85085,     0.85185,     0.85285,     0.85385,     0.85485,     0.85586,     0.85686,     0.85786,     0.85886,     0.85986,     0.86086,     0.86186,     0.86286,     0.86386,\n",
       "           0.86486,     0.86587,     0.86687,     0.86787,     0.86887,     0.86987,     0.87087,     0.87187,     0.87287,     0.87387,     0.87487,     0.87588,     0.87688,     0.87788,     0.87888,     0.87988,     0.88088,     0.88188,     0.88288,     0.88388,     0.88488,     0.88589,     0.88689,     0.88789,\n",
       "           0.88889,     0.88989,     0.89089,     0.89189,     0.89289,     0.89389,     0.89489,      0.8959,      0.8969,      0.8979,      0.8989,      0.8999,      0.9009,      0.9019,      0.9029,      0.9039,      0.9049,     0.90591,     0.90691,     0.90791,     0.90891,     0.90991,     0.91091,     0.91191,\n",
       "           0.91291,     0.91391,     0.91491,     0.91592,     0.91692,     0.91792,     0.91892,     0.91992,     0.92092,     0.92192,     0.92292,     0.92392,     0.92492,     0.92593,     0.92693,     0.92793,     0.92893,     0.92993,     0.93093,     0.93193,     0.93293,     0.93393,     0.93493,     0.93594,\n",
       "           0.93694,     0.93794,     0.93894,     0.93994,     0.94094,     0.94194,     0.94294,     0.94394,     0.94494,     0.94595,     0.94695,     0.94795,     0.94895,     0.94995,     0.95095,     0.95195,     0.95295,     0.95395,     0.95495,     0.95596,     0.95696,     0.95796,     0.95896,     0.95996,\n",
       "           0.96096,     0.96196,     0.96296,     0.96396,     0.96496,     0.96597,     0.96697,     0.96797,     0.96897,     0.96997,     0.97097,     0.97197,     0.97297,     0.97397,     0.97497,     0.97598,     0.97698,     0.97798,     0.97898,     0.97998,     0.98098,     0.98198,     0.98298,     0.98398,\n",
       "           0.98498,     0.98599,     0.98699,     0.98799,     0.98899,     0.98999,     0.99099,     0.99199,     0.99299,     0.99399,     0.99499,       0.996,       0.997,       0.998,       0.999,           1]), array([[    0.16514,     0.16514,     0.16514,     0.16514,     0.16514,     0.20587,     0.26541,     0.32185,     0.36494,     0.40728,      0.4456,     0.47697,     0.50644,     0.52444,     0.54581,     0.57019,     0.59077,     0.61055,     0.62511,     0.63393,     0.64556,     0.65896,     0.66991,\n",
       "            0.68372,     0.69209,     0.70219,     0.71494,      0.7248,     0.73262,     0.73548,     0.73925,     0.74482,     0.75045,     0.75487,     0.76415,     0.77521,     0.78323,     0.78604,     0.79009,     0.79206,     0.79739,     0.79941,     0.80541,     0.80928,     0.81102,     0.81381,\n",
       "            0.81729,     0.81997,     0.82392,     0.82515,      0.8268,     0.82798,     0.83023,      0.8344,      0.8371,     0.83894,     0.84241,     0.84314,      0.8477,     0.84973,     0.85108,     0.85236,     0.85456,     0.85799,     0.86083,     0.86141,     0.86198,     0.86316,     0.86845,\n",
       "            0.87072,     0.87112,     0.87152,     0.87193,      0.8737,     0.87432,     0.87487,     0.87521,     0.87556,      0.8759,     0.87768,     0.87836,     0.87904,      0.8823,     0.88562,      0.8878,     0.88798,     0.88817,     0.88835,     0.88854,     0.88872,      0.8889,     0.88909,\n",
       "             0.8896,     0.89223,     0.89313,     0.89482,     0.89636,     0.89819,     0.89838,     0.89858,     0.89878,     0.89897,     0.89917,     0.89936,     0.89956,      0.8998,      0.9001,     0.90041,     0.90071,     0.90101,     0.90177,     0.90317,      0.9052,     0.90663,     0.90753,\n",
       "            0.90815,     0.90877,     0.90954,      0.9103,     0.91065,     0.91098,     0.91131,     0.91164,     0.91344,     0.91432,     0.91506,     0.91542,     0.91578,     0.91614,      0.9165,     0.91829,     0.91882,     0.91936,     0.92003,     0.92088,     0.92161,     0.92226,     0.92291,\n",
       "            0.92356,      0.9242,     0.92459,     0.92487,     0.92515,     0.92543,     0.92571,     0.92599,     0.92769,     0.92786,     0.92802,     0.92819,     0.92835,     0.92852,     0.92868,     0.92885,     0.92901,     0.92918,     0.93034,     0.93136,     0.93226,     0.93424,     0.93457,\n",
       "            0.93489,     0.93522,     0.93554,     0.94024,     0.94248,     0.94287,     0.94326,     0.94365,     0.94416,     0.94482,     0.94548,     0.94589,     0.94629,     0.94669,     0.94708,     0.94729,     0.94743,     0.94757,     0.94771,     0.94785,     0.94799,     0.94813,     0.94827,\n",
       "            0.94841,     0.94854,     0.94868,     0.94882,     0.94912,     0.94945,     0.94979,     0.95013,     0.95046,     0.95133,     0.95227,     0.95275,     0.95323,     0.95371,     0.95422,     0.95475,     0.95527,      0.9557,     0.95598,     0.95625,     0.95653,      0.9568,     0.95708,\n",
       "             0.9576,     0.95897,     0.96074,     0.96105,     0.96136,     0.96167,     0.96198,     0.96229,     0.96357,     0.96233,     0.96264,     0.96294,     0.96324,     0.96354,     0.96385,     0.96608,     0.96757,     0.96799,     0.96841,     0.96883,     0.96925,     0.96933,     0.96941,\n",
       "            0.96948,     0.96956,     0.96963,     0.96971,     0.96979,     0.96986,     0.96994,     0.97001,     0.97009,     0.97016,     0.97024,     0.97031,     0.97039,     0.97046,     0.97054,     0.97062,     0.97069,     0.97077,     0.97084,     0.97092,     0.97099,     0.97122,     0.97151,\n",
       "            0.97179,     0.97208,     0.97237,     0.97266,     0.97336,     0.97437,     0.97497,     0.97548,     0.97599,     0.97637,      0.9765,     0.97664,     0.97677,     0.97691,     0.97704,     0.97718,     0.97731,     0.97745,     0.97758,     0.97772,     0.97785,     0.97799,     0.97927,\n",
       "            0.97956,     0.97921,     0.97886,      0.9785,     0.97815,     0.97806,     0.97812,     0.97818,     0.97825,     0.97831,     0.97837,     0.97843,     0.97849,     0.97855,     0.97861,     0.97867,     0.97874,      0.9788,     0.97886,     0.97892,     0.97898,     0.97904,      0.9791,\n",
       "            0.97916,     0.97923,     0.97929,     0.97935,     0.97941,     0.97947,     0.97953,     0.97959,     0.97965,     0.97971,     0.97978,     0.97985,     0.97995,     0.98005,     0.98015,     0.98025,     0.98035,     0.98046,     0.98056,     0.98066,     0.98076,     0.98086,     0.98096,\n",
       "            0.98106,     0.98116,     0.98126,     0.98136,     0.98146,     0.98156,     0.98174,     0.98201,     0.98228,     0.98255,     0.98282,      0.9831,     0.98337,     0.98284,     0.98209,     0.98153,     0.98148,     0.98142,     0.98137,     0.98131,     0.98125,      0.9812,     0.98114,\n",
       "            0.98108,     0.98103,     0.98097,     0.98091,     0.98086,      0.9808,     0.98074,     0.98069,     0.98063,     0.98057,     0.98052,     0.98046,     0.98041,     0.98035,     0.98029,     0.98024,     0.98018,     0.98012,     0.98007,     0.98001,     0.97995,      0.9799,     0.97984,\n",
       "            0.97978,     0.97973,     0.97967,     0.97928,     0.97887,     0.97846,     0.97805,     0.97752,     0.97675,     0.97598,     0.97547,     0.97501,     0.97454,     0.97407,     0.97472,     0.97566,     0.97604,     0.97632,     0.97661,      0.9769,     0.97718,     0.97747,     0.97758,\n",
       "             0.9775,     0.97743,     0.97736,     0.97729,     0.97722,     0.97714,     0.97707,       0.977,     0.97693,     0.97686,     0.97678,     0.97671,     0.97664,     0.97657,     0.97649,     0.97642,     0.97635,     0.97628,     0.97621,     0.97613,     0.97606,     0.97599,     0.97592,\n",
       "            0.97584,     0.97577,      0.9757,     0.97601,     0.97632,     0.97663,     0.97694,     0.97725,     0.97752,     0.97746,      0.9774,     0.97734,     0.97727,     0.97721,     0.97715,     0.97709,     0.97703,     0.97696,      0.9769,     0.97684,     0.97678,     0.97671,     0.97665,\n",
       "            0.97659,     0.97653,     0.97646,      0.9764,     0.97634,     0.97628,     0.97622,     0.97615,     0.97609,     0.97603,     0.97597,      0.9759,     0.97584,     0.97578,     0.97572,     0.97565,     0.97556,     0.97537,     0.97519,       0.975,     0.97482,     0.97464,     0.97445,\n",
       "            0.97427,     0.97409,      0.9739,     0.97372,     0.97389,     0.97413,     0.97437,     0.97462,     0.97486,     0.97511,     0.97535,     0.97538,     0.97492,     0.97447,     0.97402,     0.97355,      0.9725,     0.97161,     0.97144,     0.97127,     0.97111,     0.97094,     0.97077,\n",
       "             0.9706,     0.97043,     0.97026,     0.97009,     0.96992,     0.96975,     0.96966,      0.9696,     0.96954,     0.96949,     0.96943,     0.96937,     0.96932,     0.96926,      0.9692,     0.96915,     0.96909,     0.96903,     0.96898,     0.96892,     0.96887,     0.96881,     0.96875,\n",
       "             0.9687,     0.96864,     0.96858,     0.96853,     0.96847,     0.96841,     0.96836,      0.9683,     0.96824,     0.96819,     0.96813,     0.96807,     0.96802,     0.96796,      0.9679,     0.96785,     0.96779,     0.96769,     0.96737,     0.96705,     0.96673,      0.9664,     0.96608,\n",
       "            0.96504,     0.96372,     0.96361,     0.96351,      0.9634,      0.9633,      0.9632,     0.96309,     0.96299,     0.96288,     0.96278,     0.96267,     0.96257,     0.96247,     0.96236,     0.96226,     0.96215,     0.96205,     0.96194,     0.96184,     0.96175,     0.96167,     0.96158,\n",
       "             0.9615,     0.96142,     0.96133,     0.96125,     0.96116,     0.96108,     0.96099,     0.96091,     0.96082,     0.96074,     0.96065,     0.96057,     0.96048,      0.9604,     0.96031,     0.96023,     0.96014,     0.96006,     0.95997,     0.95989,     0.95967,     0.95933,     0.95898,\n",
       "            0.95863,     0.95828,     0.95793,     0.95773,     0.95756,     0.95739,     0.95723,     0.95706,      0.9569,     0.95673,     0.95657,      0.9564,     0.95623,     0.95607,      0.9559,     0.95548,     0.95497,     0.95445,     0.95393,      0.9512,     0.95018,     0.94988,     0.95001,\n",
       "            0.95013,     0.95025,     0.95038,      0.9505,     0.95062,     0.95075,     0.95087,     0.95099,     0.95111,     0.95124,     0.95136,     0.95148,      0.9516,     0.95026,     0.94921,     0.94863,     0.94805,     0.94751,     0.94719,     0.94686,     0.94654,     0.94621,     0.94589,\n",
       "            0.94556,      0.9454,     0.94526,     0.94512,     0.94498,     0.94483,     0.94469,     0.94455,     0.94441,     0.94427,     0.94413,     0.94398,     0.94384,      0.9437,     0.94356,     0.94335,     0.94303,      0.9427,     0.94238,     0.94205,     0.94172,     0.94139,     0.94083,\n",
       "            0.94026,     0.93969,     0.93843,      0.9367,     0.93562,     0.93229,     0.93093,     0.93057,     0.93022,     0.92987,     0.92952,     0.92916,     0.92888,     0.92913,     0.92937,     0.92962,     0.92986,     0.93011,     0.93035,      0.9306,     0.93055,     0.93031,     0.93007,\n",
       "            0.92984,      0.9296,     0.92936,     0.92912,     0.92888,     0.92865,     0.92839,     0.92814,     0.92788,     0.92762,     0.92736,      0.9271,     0.92684,     0.92658,     0.92427,     0.92383,     0.92339,     0.92295,     0.92252,     0.91948,     0.91593,     0.91456,     0.91313,\n",
       "            0.90905,     0.90872,      0.9084,     0.90807,     0.90775,     0.90742,     0.90709,     0.90675,     0.90636,     0.90598,      0.9056,     0.90522,     0.90484,     0.90362,     0.90087,     0.89961,     0.89891,     0.89821,     0.89762,     0.89708,     0.89654,     0.89601,     0.89259,\n",
       "            0.89066,     0.88955,     0.88768,     0.88545,     0.88411,     0.88357,     0.88304,     0.88251,     0.87994,     0.87708,      0.8767,     0.87633,     0.87595,     0.87557,     0.87519,     0.87474,      0.8742,     0.87365,     0.87311,     0.87259,     0.87215,     0.87171,     0.87127,\n",
       "            0.87084,      0.8704,     0.86834,     0.86708,     0.86606,     0.86525,     0.86463,     0.86402,     0.86341,     0.86049,     0.85763,     0.85583,     0.85539,     0.85496,     0.85452,     0.85408,     0.85365,     0.84898,     0.84477,     0.84331,      0.8423,      0.8413,     0.84027,\n",
       "            0.83923,     0.83369,      0.8331,      0.8325,     0.83191,     0.83131,     0.83069,     0.83007,     0.82944,     0.82881,     0.82812,     0.82741,      0.8267,     0.82548,     0.82131,     0.82068,     0.82038,     0.82008,     0.81977,     0.81947,     0.81917,     0.81886,     0.81856,\n",
       "            0.81719,     0.81318,      0.8124,     0.81161,     0.81083,     0.80721,     0.80565,     0.80104,     0.79242,     0.79065,     0.78931,     0.78331,     0.77941,     0.77711,     0.77563,     0.76886,     0.76427,     0.76357,     0.76287,     0.76216,     0.76132,     0.75283,     0.75221,\n",
       "            0.75159,     0.75097,     0.75035,     0.74928,     0.74762,     0.74422,     0.73813,     0.73472,     0.73158,     0.73015,     0.72789,     0.72577,     0.72457,     0.72335,     0.72165,     0.71974,     0.71714,     0.71358,      0.7105,     0.70758,     0.70609,     0.70376,      0.7013,\n",
       "            0.70023,     0.69915,     0.69612,     0.69375,     0.69197,      0.6907,     0.68944,     0.68024,     0.67717,     0.67441,      0.6721,     0.67008,      0.6664,     0.66297,     0.66131,     0.65961,     0.65777,     0.65253,      0.6465,     0.63998,     0.63161,     0.62767,     0.62516,\n",
       "            0.62324,     0.61949,     0.61479,     0.61226,     0.60459,     0.60096,     0.59722,     0.59287,     0.58923,     0.58401,     0.57795,     0.57483,     0.57241,     0.56998,     0.56727,     0.56114,     0.55682,     0.55454,     0.55264,      0.5501,     0.54578,     0.53834,     0.52819,\n",
       "             0.5257,     0.51931,     0.51372,     0.51128,     0.50938,     0.50322,     0.49842,      0.4901,     0.48646,     0.48334,     0.47464,     0.45879,      0.4384,     0.42839,     0.42004,     0.41386,     0.40448,     0.39656,     0.39233,     0.37296,     0.36749,     0.36381,     0.35332,\n",
       "             0.3504,     0.33833,     0.33248,     0.32762,     0.32249,      0.3194,     0.31383,     0.30728,     0.30082,     0.29964,     0.29846,     0.29727,     0.29497,     0.29041,     0.27781,     0.26844,     0.26517,     0.25545,     0.25097,     0.24734,     0.23131,     0.22828,     0.22683,\n",
       "            0.22537,     0.22391,     0.20416,     0.17535,     0.17087,      0.1658,     0.16076,     0.15588,     0.15057,      0.1441,     0.13516,     0.12967,     0.11807,     0.11504,       0.112,     0.11053,     0.10912,     0.10771,      0.1063,     0.10451,     0.10174,    0.098957,    0.097073,\n",
       "           0.095321,    0.093567,    0.091143,     0.07725,    0.074069,    0.071083,    0.069081,    0.067075,    0.065064,    0.058611,    0.055206,      0.0525,    0.048748,    0.043029,    0.040627,    0.038219,    0.035085,    0.029541,    0.021415,    0.020158,    0.018899,    0.017639,    0.016378,\n",
       "           0.015114,           0,           0,           0,           0,           0,           0,           0,           0,           0,           0,           0,           0,           0,           0,           0,           0,           0,           0,           0,           0,           0,           0,\n",
       "                  0,           0,           0,           0,           0,           0,           0,           0,           0,           0,           0]]), 'Confidence', 'F1'], [array([          0,    0.001001,    0.002002,    0.003003,    0.004004,    0.005005,    0.006006,    0.007007,    0.008008,    0.009009,     0.01001,    0.011011,    0.012012,    0.013013,    0.014014,    0.015015,    0.016016,    0.017017,    0.018018,    0.019019,     0.02002,    0.021021,    0.022022,    0.023023,\n",
       "          0.024024,    0.025025,    0.026026,    0.027027,    0.028028,    0.029029,     0.03003,    0.031031,    0.032032,    0.033033,    0.034034,    0.035035,    0.036036,    0.037037,    0.038038,    0.039039,     0.04004,    0.041041,    0.042042,    0.043043,    0.044044,    0.045045,    0.046046,    0.047047,\n",
       "          0.048048,    0.049049,     0.05005,    0.051051,    0.052052,    0.053053,    0.054054,    0.055055,    0.056056,    0.057057,    0.058058,    0.059059,     0.06006,    0.061061,    0.062062,    0.063063,    0.064064,    0.065065,    0.066066,    0.067067,    0.068068,    0.069069,     0.07007,    0.071071,\n",
       "          0.072072,    0.073073,    0.074074,    0.075075,    0.076076,    0.077077,    0.078078,    0.079079,     0.08008,    0.081081,    0.082082,    0.083083,    0.084084,    0.085085,    0.086086,    0.087087,    0.088088,    0.089089,     0.09009,    0.091091,    0.092092,    0.093093,    0.094094,    0.095095,\n",
       "          0.096096,    0.097097,    0.098098,    0.099099,      0.1001,      0.1011,      0.1021,      0.1031,      0.1041,     0.10511,     0.10611,     0.10711,     0.10811,     0.10911,     0.11011,     0.11111,     0.11211,     0.11311,     0.11411,     0.11512,     0.11612,     0.11712,     0.11812,     0.11912,\n",
       "           0.12012,     0.12112,     0.12212,     0.12312,     0.12412,     0.12513,     0.12613,     0.12713,     0.12813,     0.12913,     0.13013,     0.13113,     0.13213,     0.13313,     0.13413,     0.13514,     0.13614,     0.13714,     0.13814,     0.13914,     0.14014,     0.14114,     0.14214,     0.14314,\n",
       "           0.14414,     0.14515,     0.14615,     0.14715,     0.14815,     0.14915,     0.15015,     0.15115,     0.15215,     0.15315,     0.15415,     0.15516,     0.15616,     0.15716,     0.15816,     0.15916,     0.16016,     0.16116,     0.16216,     0.16316,     0.16416,     0.16517,     0.16617,     0.16717,\n",
       "           0.16817,     0.16917,     0.17017,     0.17117,     0.17217,     0.17317,     0.17417,     0.17518,     0.17618,     0.17718,     0.17818,     0.17918,     0.18018,     0.18118,     0.18218,     0.18318,     0.18418,     0.18519,     0.18619,     0.18719,     0.18819,     0.18919,     0.19019,     0.19119,\n",
       "           0.19219,     0.19319,     0.19419,      0.1952,      0.1962,      0.1972,      0.1982,      0.1992,      0.2002,      0.2012,      0.2022,      0.2032,      0.2042,     0.20521,     0.20621,     0.20721,     0.20821,     0.20921,     0.21021,     0.21121,     0.21221,     0.21321,     0.21421,     0.21522,\n",
       "           0.21622,     0.21722,     0.21822,     0.21922,     0.22022,     0.22122,     0.22222,     0.22322,     0.22422,     0.22523,     0.22623,     0.22723,     0.22823,     0.22923,     0.23023,     0.23123,     0.23223,     0.23323,     0.23423,     0.23524,     0.23624,     0.23724,     0.23824,     0.23924,\n",
       "           0.24024,     0.24124,     0.24224,     0.24324,     0.24424,     0.24525,     0.24625,     0.24725,     0.24825,     0.24925,     0.25025,     0.25125,     0.25225,     0.25325,     0.25425,     0.25526,     0.25626,     0.25726,     0.25826,     0.25926,     0.26026,     0.26126,     0.26226,     0.26326,\n",
       "           0.26426,     0.26527,     0.26627,     0.26727,     0.26827,     0.26927,     0.27027,     0.27127,     0.27227,     0.27327,     0.27427,     0.27528,     0.27628,     0.27728,     0.27828,     0.27928,     0.28028,     0.28128,     0.28228,     0.28328,     0.28428,     0.28529,     0.28629,     0.28729,\n",
       "           0.28829,     0.28929,     0.29029,     0.29129,     0.29229,     0.29329,     0.29429,      0.2953,      0.2963,      0.2973,      0.2983,      0.2993,      0.3003,      0.3013,      0.3023,      0.3033,      0.3043,     0.30531,     0.30631,     0.30731,     0.30831,     0.30931,     0.31031,     0.31131,\n",
       "           0.31231,     0.31331,     0.31431,     0.31532,     0.31632,     0.31732,     0.31832,     0.31932,     0.32032,     0.32132,     0.32232,     0.32332,     0.32432,     0.32533,     0.32633,     0.32733,     0.32833,     0.32933,     0.33033,     0.33133,     0.33233,     0.33333,     0.33433,     0.33534,\n",
       "           0.33634,     0.33734,     0.33834,     0.33934,     0.34034,     0.34134,     0.34234,     0.34334,     0.34434,     0.34535,     0.34635,     0.34735,     0.34835,     0.34935,     0.35035,     0.35135,     0.35235,     0.35335,     0.35435,     0.35536,     0.35636,     0.35736,     0.35836,     0.35936,\n",
       "           0.36036,     0.36136,     0.36236,     0.36336,     0.36436,     0.36537,     0.36637,     0.36737,     0.36837,     0.36937,     0.37037,     0.37137,     0.37237,     0.37337,     0.37437,     0.37538,     0.37638,     0.37738,     0.37838,     0.37938,     0.38038,     0.38138,     0.38238,     0.38338,\n",
       "           0.38438,     0.38539,     0.38639,     0.38739,     0.38839,     0.38939,     0.39039,     0.39139,     0.39239,     0.39339,     0.39439,      0.3954,      0.3964,      0.3974,      0.3984,      0.3994,      0.4004,      0.4014,      0.4024,      0.4034,      0.4044,     0.40541,     0.40641,     0.40741,\n",
       "           0.40841,     0.40941,     0.41041,     0.41141,     0.41241,     0.41341,     0.41441,     0.41542,     0.41642,     0.41742,     0.41842,     0.41942,     0.42042,     0.42142,     0.42242,     0.42342,     0.42442,     0.42543,     0.42643,     0.42743,     0.42843,     0.42943,     0.43043,     0.43143,\n",
       "           0.43243,     0.43343,     0.43443,     0.43544,     0.43644,     0.43744,     0.43844,     0.43944,     0.44044,     0.44144,     0.44244,     0.44344,     0.44444,     0.44545,     0.44645,     0.44745,     0.44845,     0.44945,     0.45045,     0.45145,     0.45245,     0.45345,     0.45445,     0.45546,\n",
       "           0.45646,     0.45746,     0.45846,     0.45946,     0.46046,     0.46146,     0.46246,     0.46346,     0.46446,     0.46547,     0.46647,     0.46747,     0.46847,     0.46947,     0.47047,     0.47147,     0.47247,     0.47347,     0.47447,     0.47548,     0.47648,     0.47748,     0.47848,     0.47948,\n",
       "           0.48048,     0.48148,     0.48248,     0.48348,     0.48448,     0.48549,     0.48649,     0.48749,     0.48849,     0.48949,     0.49049,     0.49149,     0.49249,     0.49349,     0.49449,      0.4955,      0.4965,      0.4975,      0.4985,      0.4995,      0.5005,      0.5015,      0.5025,      0.5035,\n",
       "            0.5045,     0.50551,     0.50651,     0.50751,     0.50851,     0.50951,     0.51051,     0.51151,     0.51251,     0.51351,     0.51451,     0.51552,     0.51652,     0.51752,     0.51852,     0.51952,     0.52052,     0.52152,     0.52252,     0.52352,     0.52452,     0.52553,     0.52653,     0.52753,\n",
       "           0.52853,     0.52953,     0.53053,     0.53153,     0.53253,     0.53353,     0.53453,     0.53554,     0.53654,     0.53754,     0.53854,     0.53954,     0.54054,     0.54154,     0.54254,     0.54354,     0.54454,     0.54555,     0.54655,     0.54755,     0.54855,     0.54955,     0.55055,     0.55155,\n",
       "           0.55255,     0.55355,     0.55455,     0.55556,     0.55656,     0.55756,     0.55856,     0.55956,     0.56056,     0.56156,     0.56256,     0.56356,     0.56456,     0.56557,     0.56657,     0.56757,     0.56857,     0.56957,     0.57057,     0.57157,     0.57257,     0.57357,     0.57457,     0.57558,\n",
       "           0.57658,     0.57758,     0.57858,     0.57958,     0.58058,     0.58158,     0.58258,     0.58358,     0.58458,     0.58559,     0.58659,     0.58759,     0.58859,     0.58959,     0.59059,     0.59159,     0.59259,     0.59359,     0.59459,      0.5956,      0.5966,      0.5976,      0.5986,      0.5996,\n",
       "            0.6006,      0.6016,      0.6026,      0.6036,      0.6046,     0.60561,     0.60661,     0.60761,     0.60861,     0.60961,     0.61061,     0.61161,     0.61261,     0.61361,     0.61461,     0.61562,     0.61662,     0.61762,     0.61862,     0.61962,     0.62062,     0.62162,     0.62262,     0.62362,\n",
       "           0.62462,     0.62563,     0.62663,     0.62763,     0.62863,     0.62963,     0.63063,     0.63163,     0.63263,     0.63363,     0.63463,     0.63564,     0.63664,     0.63764,     0.63864,     0.63964,     0.64064,     0.64164,     0.64264,     0.64364,     0.64464,     0.64565,     0.64665,     0.64765,\n",
       "           0.64865,     0.64965,     0.65065,     0.65165,     0.65265,     0.65365,     0.65465,     0.65566,     0.65666,     0.65766,     0.65866,     0.65966,     0.66066,     0.66166,     0.66266,     0.66366,     0.66466,     0.66567,     0.66667,     0.66767,     0.66867,     0.66967,     0.67067,     0.67167,\n",
       "           0.67267,     0.67367,     0.67467,     0.67568,     0.67668,     0.67768,     0.67868,     0.67968,     0.68068,     0.68168,     0.68268,     0.68368,     0.68468,     0.68569,     0.68669,     0.68769,     0.68869,     0.68969,     0.69069,     0.69169,     0.69269,     0.69369,     0.69469,      0.6957,\n",
       "            0.6967,      0.6977,      0.6987,      0.6997,      0.7007,      0.7017,      0.7027,      0.7037,      0.7047,     0.70571,     0.70671,     0.70771,     0.70871,     0.70971,     0.71071,     0.71171,     0.71271,     0.71371,     0.71471,     0.71572,     0.71672,     0.71772,     0.71872,     0.71972,\n",
       "           0.72072,     0.72172,     0.72272,     0.72372,     0.72472,     0.72573,     0.72673,     0.72773,     0.72873,     0.72973,     0.73073,     0.73173,     0.73273,     0.73373,     0.73473,     0.73574,     0.73674,     0.73774,     0.73874,     0.73974,     0.74074,     0.74174,     0.74274,     0.74374,\n",
       "           0.74474,     0.74575,     0.74675,     0.74775,     0.74875,     0.74975,     0.75075,     0.75175,     0.75275,     0.75375,     0.75475,     0.75576,     0.75676,     0.75776,     0.75876,     0.75976,     0.76076,     0.76176,     0.76276,     0.76376,     0.76476,     0.76577,     0.76677,     0.76777,\n",
       "           0.76877,     0.76977,     0.77077,     0.77177,     0.77277,     0.77377,     0.77477,     0.77578,     0.77678,     0.77778,     0.77878,     0.77978,     0.78078,     0.78178,     0.78278,     0.78378,     0.78478,     0.78579,     0.78679,     0.78779,     0.78879,     0.78979,     0.79079,     0.79179,\n",
       "           0.79279,     0.79379,     0.79479,      0.7958,      0.7968,      0.7978,      0.7988,      0.7998,      0.8008,      0.8018,      0.8028,      0.8038,      0.8048,     0.80581,     0.80681,     0.80781,     0.80881,     0.80981,     0.81081,     0.81181,     0.81281,     0.81381,     0.81481,     0.81582,\n",
       "           0.81682,     0.81782,     0.81882,     0.81982,     0.82082,     0.82182,     0.82282,     0.82382,     0.82482,     0.82583,     0.82683,     0.82783,     0.82883,     0.82983,     0.83083,     0.83183,     0.83283,     0.83383,     0.83483,     0.83584,     0.83684,     0.83784,     0.83884,     0.83984,\n",
       "           0.84084,     0.84184,     0.84284,     0.84384,     0.84484,     0.84585,     0.84685,     0.84785,     0.84885,     0.84985,     0.85085,     0.85185,     0.85285,     0.85385,     0.85485,     0.85586,     0.85686,     0.85786,     0.85886,     0.85986,     0.86086,     0.86186,     0.86286,     0.86386,\n",
       "           0.86486,     0.86587,     0.86687,     0.86787,     0.86887,     0.86987,     0.87087,     0.87187,     0.87287,     0.87387,     0.87487,     0.87588,     0.87688,     0.87788,     0.87888,     0.87988,     0.88088,     0.88188,     0.88288,     0.88388,     0.88488,     0.88589,     0.88689,     0.88789,\n",
       "           0.88889,     0.88989,     0.89089,     0.89189,     0.89289,     0.89389,     0.89489,      0.8959,      0.8969,      0.8979,      0.8989,      0.8999,      0.9009,      0.9019,      0.9029,      0.9039,      0.9049,     0.90591,     0.90691,     0.90791,     0.90891,     0.90991,     0.91091,     0.91191,\n",
       "           0.91291,     0.91391,     0.91491,     0.91592,     0.91692,     0.91792,     0.91892,     0.91992,     0.92092,     0.92192,     0.92292,     0.92392,     0.92492,     0.92593,     0.92693,     0.92793,     0.92893,     0.92993,     0.93093,     0.93193,     0.93293,     0.93393,     0.93493,     0.93594,\n",
       "           0.93694,     0.93794,     0.93894,     0.93994,     0.94094,     0.94194,     0.94294,     0.94394,     0.94494,     0.94595,     0.94695,     0.94795,     0.94895,     0.94995,     0.95095,     0.95195,     0.95295,     0.95395,     0.95495,     0.95596,     0.95696,     0.95796,     0.95896,     0.95996,\n",
       "           0.96096,     0.96196,     0.96296,     0.96396,     0.96496,     0.96597,     0.96697,     0.96797,     0.96897,     0.96997,     0.97097,     0.97197,     0.97297,     0.97397,     0.97497,     0.97598,     0.97698,     0.97798,     0.97898,     0.97998,     0.98098,     0.98198,     0.98298,     0.98398,\n",
       "           0.98498,     0.98599,     0.98699,     0.98799,     0.98899,     0.98999,     0.99099,     0.99199,     0.99299,     0.99399,     0.99499,       0.996,       0.997,       0.998,       0.999,           1]), array([[       0.09,        0.09,        0.09,        0.09,        0.09,     0.11474,     0.15301,     0.19193,     0.22338,     0.25595,     0.28698,     0.31354,     0.33951,     0.35589,     0.37586,     0.39938,     0.41987,     0.44014,     0.45543,     0.46485,     0.47747,     0.49228,      0.5046,\n",
       "            0.52044,      0.5302,     0.54215,      0.5575,     0.56959,      0.5793,     0.58289,     0.58764,     0.59471,     0.60193,     0.60763,     0.61974,     0.63442,     0.64523,     0.64906,      0.6546,     0.65732,     0.66469,      0.6675,     0.67591,     0.68138,     0.68385,     0.68782,\n",
       "            0.69281,     0.69667,      0.7024,     0.70418,      0.7066,     0.70831,     0.71161,     0.71777,     0.72178,     0.72451,      0.7297,      0.7308,     0.73768,     0.74076,     0.74282,     0.74476,     0.74813,      0.7534,      0.7578,     0.75869,     0.75958,      0.7614,     0.76968,\n",
       "            0.77325,     0.77389,     0.77453,     0.77516,     0.77797,     0.77895,     0.77983,     0.78037,     0.78092,     0.78146,      0.7843,     0.78539,     0.78648,     0.79171,     0.79707,     0.80061,     0.80091,     0.80121,     0.80151,     0.80181,     0.80211,     0.80241,     0.80271,\n",
       "            0.80355,     0.80785,     0.80932,     0.81211,     0.81465,     0.81767,       0.818,     0.81832,     0.81864,     0.81897,     0.81929,     0.81962,     0.81994,     0.82034,     0.82085,     0.82135,     0.82186,     0.82237,     0.82363,     0.82596,     0.82937,     0.83176,     0.83329,\n",
       "            0.83434,     0.83539,     0.83668,     0.83797,     0.83856,     0.83912,     0.83968,     0.84025,     0.84331,      0.8448,     0.84607,     0.84668,      0.8473,     0.84792,     0.84853,     0.85161,     0.85253,     0.85345,     0.85461,     0.85607,     0.85734,     0.85846,     0.85959,\n",
       "            0.86071,     0.86184,     0.86252,       0.863,     0.86349,     0.86397,     0.86446,     0.86494,     0.86793,     0.86822,     0.86851,      0.8688,     0.86909,     0.86938,     0.86967,     0.86996,     0.87025,     0.87054,     0.87257,     0.87437,     0.87597,     0.87947,     0.88004,\n",
       "            0.88062,     0.88119,     0.88177,     0.89015,     0.89418,     0.89488,     0.89558,     0.89628,      0.8972,      0.8984,     0.89959,     0.90034,     0.90106,     0.90178,     0.90251,     0.90288,     0.90313,     0.90338,     0.90364,     0.90389,     0.90415,      0.9044,     0.90465,\n",
       "            0.90491,     0.90516,     0.90542,     0.90567,     0.90621,     0.90682,     0.90743,     0.90805,     0.90866,     0.91025,     0.91198,     0.91286,     0.91374,     0.91462,     0.91556,     0.91652,     0.91749,     0.91828,     0.91879,      0.9193,     0.91981,     0.92032,     0.92083,\n",
       "            0.92179,     0.92434,     0.92763,     0.92821,     0.92879,     0.92937,     0.92995,     0.93053,     0.93395,     0.93387,     0.93444,     0.93501,     0.93558,     0.93615,     0.93672,     0.94094,     0.94377,     0.94457,     0.94538,     0.94618,     0.94698,     0.94714,     0.94728,\n",
       "            0.94743,     0.94757,     0.94772,     0.94786,       0.948,     0.94815,     0.94829,     0.94844,     0.94858,     0.94873,     0.94887,     0.94901,     0.94916,      0.9493,     0.94945,     0.94959,     0.94974,     0.94988,     0.95002,     0.95017,     0.95031,     0.95075,      0.9513,\n",
       "            0.95185,      0.9524,     0.95295,      0.9535,     0.95486,     0.95681,     0.95796,     0.95895,     0.95993,     0.96067,     0.96093,     0.96119,     0.96145,     0.96171,     0.96197,     0.96224,      0.9625,     0.96276,     0.96302,     0.96328,     0.96354,      0.9638,      0.9663,\n",
       "            0.96749,     0.96747,     0.96744,     0.96742,      0.9674,     0.96747,     0.96759,     0.96771,     0.96783,     0.96795,     0.96807,     0.96819,     0.96831,     0.96843,     0.96855,     0.96867,     0.96879,     0.96891,     0.96903,     0.96915,     0.96927,     0.96939,     0.96951,\n",
       "            0.96963,     0.96975,     0.96987,     0.96999,     0.97011,     0.97023,     0.97035,     0.97047,     0.97059,     0.97071,     0.97083,     0.97097,     0.97117,     0.97137,     0.97157,     0.97177,     0.97197,     0.97216,     0.97236,     0.97256,     0.97276,     0.97296,     0.97315,\n",
       "            0.97335,     0.97355,     0.97375,     0.97395,     0.97415,     0.97434,     0.97469,     0.97523,     0.97576,      0.9763,     0.97683,     0.97737,      0.9779,       0.978,     0.97796,     0.97794,     0.97794,     0.97794,     0.97793,     0.97793,     0.97793,     0.97793,     0.97792,\n",
       "            0.97792,     0.97792,     0.97792,     0.97791,     0.97791,     0.97791,     0.97791,      0.9779,      0.9779,      0.9779,      0.9779,     0.97789,     0.97789,     0.97789,     0.97789,     0.97788,     0.97788,     0.97788,     0.97788,     0.97787,     0.97787,     0.97787,     0.97787,\n",
       "            0.97786,     0.97786,     0.97786,     0.97784,     0.97783,     0.97781,     0.97779,     0.97777,     0.97773,      0.9777,     0.97768,     0.97766,     0.97764,     0.97762,     0.97912,       0.981,     0.98177,     0.98235,     0.98293,     0.98351,      0.9841,     0.98468,     0.98496,\n",
       "            0.98496,     0.98496,     0.98495,     0.98495,     0.98495,     0.98495,     0.98495,     0.98494,     0.98494,     0.98494,     0.98494,     0.98494,     0.98493,     0.98493,     0.98493,     0.98493,     0.98492,     0.98492,     0.98492,     0.98492,     0.98492,     0.98491,     0.98491,\n",
       "            0.98491,     0.98491,     0.98491,     0.98554,     0.98617,      0.9868,     0.98743,     0.98806,     0.98864,     0.98863,     0.98863,     0.98863,     0.98863,     0.98863,     0.98863,     0.98863,     0.98863,     0.98862,     0.98862,     0.98862,     0.98862,     0.98862,     0.98862,\n",
       "            0.98862,     0.98861,     0.98861,     0.98861,     0.98861,     0.98861,     0.98861,     0.98861,      0.9886,      0.9886,      0.9886,      0.9886,      0.9886,      0.9886,      0.9886,     0.98859,     0.98859,     0.98859,     0.98858,     0.98858,     0.98858,     0.98857,     0.98857,\n",
       "            0.98856,     0.98856,     0.98855,     0.98855,     0.98896,     0.98947,     0.98997,     0.99048,     0.99098,     0.99149,     0.99199,     0.99233,     0.99233,     0.99232,     0.99231,     0.99231,     0.99229,     0.99228,     0.99227,     0.99227,     0.99227,     0.99227,     0.99226,\n",
       "            0.99226,     0.99226,     0.99226,     0.99225,     0.99225,     0.99225,     0.99225,     0.99225,     0.99225,     0.99224,     0.99224,     0.99224,     0.99224,     0.99224,     0.99224,     0.99224,     0.99224,     0.99224,     0.99224,     0.99224,     0.99224,     0.99223,     0.99223,\n",
       "            0.99223,     0.99223,     0.99223,     0.99223,     0.99223,     0.99223,     0.99223,     0.99223,     0.99223,     0.99222,     0.99222,     0.99222,     0.99222,     0.99222,     0.99222,     0.99222,     0.99222,     0.99222,     0.99221,     0.99221,      0.9922,      0.9922,     0.99219,\n",
       "            0.99218,     0.99216,     0.99215,     0.99215,     0.99215,     0.99215,     0.99215,     0.99215,     0.99214,     0.99214,     0.99214,     0.99214,     0.99214,     0.99214,     0.99213,     0.99213,     0.99213,     0.99213,     0.99213,     0.99213,     0.99212,     0.99212,     0.99212,\n",
       "            0.99212,     0.99212,     0.99212,     0.99212,     0.99212,     0.99211,     0.99211,     0.99211,     0.99211,     0.99211,     0.99211,     0.99211,      0.9921,      0.9921,      0.9921,      0.9921,      0.9921,      0.9921,      0.9921,      0.9921,     0.99209,     0.99209,     0.99208,\n",
       "            0.99208,     0.99207,     0.99206,     0.99206,     0.99206,     0.99206,     0.99205,     0.99205,     0.99205,     0.99205,     0.99204,     0.99204,     0.99204,     0.99204,     0.99203,     0.99203,     0.99202,     0.99201,       0.992,     0.99196,     0.99194,      0.9921,     0.99237,\n",
       "            0.99264,     0.99291,     0.99318,     0.99345,     0.99372,     0.99398,     0.99425,     0.99452,     0.99479,     0.99506,     0.99533,      0.9956,     0.99586,     0.99594,     0.99593,     0.99593,     0.99592,     0.99592,     0.99592,     0.99591,     0.99591,     0.99591,      0.9959,\n",
       "             0.9959,      0.9959,      0.9959,      0.9959,      0.9959,      0.9959,     0.99589,     0.99589,     0.99589,     0.99589,     0.99589,     0.99589,     0.99589,     0.99589,     0.99589,     0.99588,     0.99588,     0.99588,     0.99588,     0.99587,     0.99587,     0.99587,     0.99586,\n",
       "            0.99586,     0.99585,     0.99584,     0.99583,     0.99582,     0.99579,     0.99578,     0.99578,     0.99577,     0.99577,     0.99577,     0.99577,     0.99583,     0.99639,     0.99696,     0.99752,     0.99809,     0.99865,     0.99921,     0.99978,           1,           1,           1,\n",
       "                  1,           1,           1,           1,           1,           1,           1,           1,           1,           1,           1,           1,           1,           1,           1,           1,           1,           1,           1,           1,           1,           1,           1,\n",
       "                  1,           1,           1,           1,           1,           1,           1,           1,           1,           1,           1,           1,           1,           1,           1,           1,           1,           1,           1,           1,           1,           1,           1,\n",
       "                  1,           1,           1,           1,           1,           1,           1,           1,           1,           1,           1,           1,           1,           1,           1,           1,           1,           1,           1,           1,           1,           1,           1,\n",
       "                  1,           1,           1,           1,           1,           1,           1,           1,           1,           1,           1,           1,           1,           1,           1,           1,           1,           1,           1,           1,           1,           1,           1,\n",
       "                  1,           1,           1,           1,           1,           1,           1,           1,           1,           1,           1,           1,           1,           1,           1,           1,           1,           1,           1,           1,           1,           1,           1,\n",
       "                  1,           1,           1,           1,           1,           1,           1,           1,           1,           1,           1,           1,           1,           1,           1,           1,           1,           1,           1,           1,           1,           1,           1,\n",
       "                  1,           1,           1,           1,           1,           1,           1,           1,           1,           1,           1,           1,           1,           1,           1,           1,           1,           1,           1,           1,           1,           1,           1,\n",
       "                  1,           1,           1,           1,           1,           1,           1,           1,           1,           1,           1,           1,           1,           1,           1,           1,           1,           1,           1,           1,           1,           1,           1,\n",
       "                  1,           1,           1,           1,           1,           1,           1,           1,           1,           1,           1,           1,           1,           1,           1,           1,           1,           1,           1,           1,           1,           1,           1,\n",
       "                  1,           1,           1,           1,           1,           1,           1,           1,           1,           1,           1,           1,           1,           1,           1,           1,           1,           1,           1,           1,           1,           1,           1,\n",
       "                  1,           1,           1,           1,           1,           1,           1,           1,           1,           1,           1,           1,           1,           1,           1,           1,           1,           1,           1,           1,           1,           1,           1,\n",
       "                  1,           1,           1,           1,           1,           1,           1,           1,           1,           1,           1,           1,           1,           1,           1,           1,           1,           1,           1,           1,           1,           1,           1,\n",
       "                  1,           1,           1,           1,           1,           1,           1,           1,           1,           1,           1,           1,           1,           1,           1,           1,           1,           1,           1,           1,           1,           1,           1,\n",
       "                  1,           1,           1,           1,           1,           1,           1,           1,           1,           1,           1,           1,           1,           1,           1,           1,           1,           1,           1,           1,           1,           1,           1,\n",
       "                  1,           1,           1,           1,           1,           1,           1,           1,           1,           1,           1]]), 'Confidence', 'Precision'], [array([          0,    0.001001,    0.002002,    0.003003,    0.004004,    0.005005,    0.006006,    0.007007,    0.008008,    0.009009,     0.01001,    0.011011,    0.012012,    0.013013,    0.014014,    0.015015,    0.016016,    0.017017,    0.018018,    0.019019,     0.02002,    0.021021,    0.022022,    0.023023,\n",
       "          0.024024,    0.025025,    0.026026,    0.027027,    0.028028,    0.029029,     0.03003,    0.031031,    0.032032,    0.033033,    0.034034,    0.035035,    0.036036,    0.037037,    0.038038,    0.039039,     0.04004,    0.041041,    0.042042,    0.043043,    0.044044,    0.045045,    0.046046,    0.047047,\n",
       "          0.048048,    0.049049,     0.05005,    0.051051,    0.052052,    0.053053,    0.054054,    0.055055,    0.056056,    0.057057,    0.058058,    0.059059,     0.06006,    0.061061,    0.062062,    0.063063,    0.064064,    0.065065,    0.066066,    0.067067,    0.068068,    0.069069,     0.07007,    0.071071,\n",
       "          0.072072,    0.073073,    0.074074,    0.075075,    0.076076,    0.077077,    0.078078,    0.079079,     0.08008,    0.081081,    0.082082,    0.083083,    0.084084,    0.085085,    0.086086,    0.087087,    0.088088,    0.089089,     0.09009,    0.091091,    0.092092,    0.093093,    0.094094,    0.095095,\n",
       "          0.096096,    0.097097,    0.098098,    0.099099,      0.1001,      0.1011,      0.1021,      0.1031,      0.1041,     0.10511,     0.10611,     0.10711,     0.10811,     0.10911,     0.11011,     0.11111,     0.11211,     0.11311,     0.11411,     0.11512,     0.11612,     0.11712,     0.11812,     0.11912,\n",
       "           0.12012,     0.12112,     0.12212,     0.12312,     0.12412,     0.12513,     0.12613,     0.12713,     0.12813,     0.12913,     0.13013,     0.13113,     0.13213,     0.13313,     0.13413,     0.13514,     0.13614,     0.13714,     0.13814,     0.13914,     0.14014,     0.14114,     0.14214,     0.14314,\n",
       "           0.14414,     0.14515,     0.14615,     0.14715,     0.14815,     0.14915,     0.15015,     0.15115,     0.15215,     0.15315,     0.15415,     0.15516,     0.15616,     0.15716,     0.15816,     0.15916,     0.16016,     0.16116,     0.16216,     0.16316,     0.16416,     0.16517,     0.16617,     0.16717,\n",
       "           0.16817,     0.16917,     0.17017,     0.17117,     0.17217,     0.17317,     0.17417,     0.17518,     0.17618,     0.17718,     0.17818,     0.17918,     0.18018,     0.18118,     0.18218,     0.18318,     0.18418,     0.18519,     0.18619,     0.18719,     0.18819,     0.18919,     0.19019,     0.19119,\n",
       "           0.19219,     0.19319,     0.19419,      0.1952,      0.1962,      0.1972,      0.1982,      0.1992,      0.2002,      0.2012,      0.2022,      0.2032,      0.2042,     0.20521,     0.20621,     0.20721,     0.20821,     0.20921,     0.21021,     0.21121,     0.21221,     0.21321,     0.21421,     0.21522,\n",
       "           0.21622,     0.21722,     0.21822,     0.21922,     0.22022,     0.22122,     0.22222,     0.22322,     0.22422,     0.22523,     0.22623,     0.22723,     0.22823,     0.22923,     0.23023,     0.23123,     0.23223,     0.23323,     0.23423,     0.23524,     0.23624,     0.23724,     0.23824,     0.23924,\n",
       "           0.24024,     0.24124,     0.24224,     0.24324,     0.24424,     0.24525,     0.24625,     0.24725,     0.24825,     0.24925,     0.25025,     0.25125,     0.25225,     0.25325,     0.25425,     0.25526,     0.25626,     0.25726,     0.25826,     0.25926,     0.26026,     0.26126,     0.26226,     0.26326,\n",
       "           0.26426,     0.26527,     0.26627,     0.26727,     0.26827,     0.26927,     0.27027,     0.27127,     0.27227,     0.27327,     0.27427,     0.27528,     0.27628,     0.27728,     0.27828,     0.27928,     0.28028,     0.28128,     0.28228,     0.28328,     0.28428,     0.28529,     0.28629,     0.28729,\n",
       "           0.28829,     0.28929,     0.29029,     0.29129,     0.29229,     0.29329,     0.29429,      0.2953,      0.2963,      0.2973,      0.2983,      0.2993,      0.3003,      0.3013,      0.3023,      0.3033,      0.3043,     0.30531,     0.30631,     0.30731,     0.30831,     0.30931,     0.31031,     0.31131,\n",
       "           0.31231,     0.31331,     0.31431,     0.31532,     0.31632,     0.31732,     0.31832,     0.31932,     0.32032,     0.32132,     0.32232,     0.32332,     0.32432,     0.32533,     0.32633,     0.32733,     0.32833,     0.32933,     0.33033,     0.33133,     0.33233,     0.33333,     0.33433,     0.33534,\n",
       "           0.33634,     0.33734,     0.33834,     0.33934,     0.34034,     0.34134,     0.34234,     0.34334,     0.34434,     0.34535,     0.34635,     0.34735,     0.34835,     0.34935,     0.35035,     0.35135,     0.35235,     0.35335,     0.35435,     0.35536,     0.35636,     0.35736,     0.35836,     0.35936,\n",
       "           0.36036,     0.36136,     0.36236,     0.36336,     0.36436,     0.36537,     0.36637,     0.36737,     0.36837,     0.36937,     0.37037,     0.37137,     0.37237,     0.37337,     0.37437,     0.37538,     0.37638,     0.37738,     0.37838,     0.37938,     0.38038,     0.38138,     0.38238,     0.38338,\n",
       "           0.38438,     0.38539,     0.38639,     0.38739,     0.38839,     0.38939,     0.39039,     0.39139,     0.39239,     0.39339,     0.39439,      0.3954,      0.3964,      0.3974,      0.3984,      0.3994,      0.4004,      0.4014,      0.4024,      0.4034,      0.4044,     0.40541,     0.40641,     0.40741,\n",
       "           0.40841,     0.40941,     0.41041,     0.41141,     0.41241,     0.41341,     0.41441,     0.41542,     0.41642,     0.41742,     0.41842,     0.41942,     0.42042,     0.42142,     0.42242,     0.42342,     0.42442,     0.42543,     0.42643,     0.42743,     0.42843,     0.42943,     0.43043,     0.43143,\n",
       "           0.43243,     0.43343,     0.43443,     0.43544,     0.43644,     0.43744,     0.43844,     0.43944,     0.44044,     0.44144,     0.44244,     0.44344,     0.44444,     0.44545,     0.44645,     0.44745,     0.44845,     0.44945,     0.45045,     0.45145,     0.45245,     0.45345,     0.45445,     0.45546,\n",
       "           0.45646,     0.45746,     0.45846,     0.45946,     0.46046,     0.46146,     0.46246,     0.46346,     0.46446,     0.46547,     0.46647,     0.46747,     0.46847,     0.46947,     0.47047,     0.47147,     0.47247,     0.47347,     0.47447,     0.47548,     0.47648,     0.47748,     0.47848,     0.47948,\n",
       "           0.48048,     0.48148,     0.48248,     0.48348,     0.48448,     0.48549,     0.48649,     0.48749,     0.48849,     0.48949,     0.49049,     0.49149,     0.49249,     0.49349,     0.49449,      0.4955,      0.4965,      0.4975,      0.4985,      0.4995,      0.5005,      0.5015,      0.5025,      0.5035,\n",
       "            0.5045,     0.50551,     0.50651,     0.50751,     0.50851,     0.50951,     0.51051,     0.51151,     0.51251,     0.51351,     0.51451,     0.51552,     0.51652,     0.51752,     0.51852,     0.51952,     0.52052,     0.52152,     0.52252,     0.52352,     0.52452,     0.52553,     0.52653,     0.52753,\n",
       "           0.52853,     0.52953,     0.53053,     0.53153,     0.53253,     0.53353,     0.53453,     0.53554,     0.53654,     0.53754,     0.53854,     0.53954,     0.54054,     0.54154,     0.54254,     0.54354,     0.54454,     0.54555,     0.54655,     0.54755,     0.54855,     0.54955,     0.55055,     0.55155,\n",
       "           0.55255,     0.55355,     0.55455,     0.55556,     0.55656,     0.55756,     0.55856,     0.55956,     0.56056,     0.56156,     0.56256,     0.56356,     0.56456,     0.56557,     0.56657,     0.56757,     0.56857,     0.56957,     0.57057,     0.57157,     0.57257,     0.57357,     0.57457,     0.57558,\n",
       "           0.57658,     0.57758,     0.57858,     0.57958,     0.58058,     0.58158,     0.58258,     0.58358,     0.58458,     0.58559,     0.58659,     0.58759,     0.58859,     0.58959,     0.59059,     0.59159,     0.59259,     0.59359,     0.59459,      0.5956,      0.5966,      0.5976,      0.5986,      0.5996,\n",
       "            0.6006,      0.6016,      0.6026,      0.6036,      0.6046,     0.60561,     0.60661,     0.60761,     0.60861,     0.60961,     0.61061,     0.61161,     0.61261,     0.61361,     0.61461,     0.61562,     0.61662,     0.61762,     0.61862,     0.61962,     0.62062,     0.62162,     0.62262,     0.62362,\n",
       "           0.62462,     0.62563,     0.62663,     0.62763,     0.62863,     0.62963,     0.63063,     0.63163,     0.63263,     0.63363,     0.63463,     0.63564,     0.63664,     0.63764,     0.63864,     0.63964,     0.64064,     0.64164,     0.64264,     0.64364,     0.64464,     0.64565,     0.64665,     0.64765,\n",
       "           0.64865,     0.64965,     0.65065,     0.65165,     0.65265,     0.65365,     0.65465,     0.65566,     0.65666,     0.65766,     0.65866,     0.65966,     0.66066,     0.66166,     0.66266,     0.66366,     0.66466,     0.66567,     0.66667,     0.66767,     0.66867,     0.66967,     0.67067,     0.67167,\n",
       "           0.67267,     0.67367,     0.67467,     0.67568,     0.67668,     0.67768,     0.67868,     0.67968,     0.68068,     0.68168,     0.68268,     0.68368,     0.68468,     0.68569,     0.68669,     0.68769,     0.68869,     0.68969,     0.69069,     0.69169,     0.69269,     0.69369,     0.69469,      0.6957,\n",
       "            0.6967,      0.6977,      0.6987,      0.6997,      0.7007,      0.7017,      0.7027,      0.7037,      0.7047,     0.70571,     0.70671,     0.70771,     0.70871,     0.70971,     0.71071,     0.71171,     0.71271,     0.71371,     0.71471,     0.71572,     0.71672,     0.71772,     0.71872,     0.71972,\n",
       "           0.72072,     0.72172,     0.72272,     0.72372,     0.72472,     0.72573,     0.72673,     0.72773,     0.72873,     0.72973,     0.73073,     0.73173,     0.73273,     0.73373,     0.73473,     0.73574,     0.73674,     0.73774,     0.73874,     0.73974,     0.74074,     0.74174,     0.74274,     0.74374,\n",
       "           0.74474,     0.74575,     0.74675,     0.74775,     0.74875,     0.74975,     0.75075,     0.75175,     0.75275,     0.75375,     0.75475,     0.75576,     0.75676,     0.75776,     0.75876,     0.75976,     0.76076,     0.76176,     0.76276,     0.76376,     0.76476,     0.76577,     0.76677,     0.76777,\n",
       "           0.76877,     0.76977,     0.77077,     0.77177,     0.77277,     0.77377,     0.77477,     0.77578,     0.77678,     0.77778,     0.77878,     0.77978,     0.78078,     0.78178,     0.78278,     0.78378,     0.78478,     0.78579,     0.78679,     0.78779,     0.78879,     0.78979,     0.79079,     0.79179,\n",
       "           0.79279,     0.79379,     0.79479,      0.7958,      0.7968,      0.7978,      0.7988,      0.7998,      0.8008,      0.8018,      0.8028,      0.8038,      0.8048,     0.80581,     0.80681,     0.80781,     0.80881,     0.80981,     0.81081,     0.81181,     0.81281,     0.81381,     0.81481,     0.81582,\n",
       "           0.81682,     0.81782,     0.81882,     0.81982,     0.82082,     0.82182,     0.82282,     0.82382,     0.82482,     0.82583,     0.82683,     0.82783,     0.82883,     0.82983,     0.83083,     0.83183,     0.83283,     0.83383,     0.83483,     0.83584,     0.83684,     0.83784,     0.83884,     0.83984,\n",
       "           0.84084,     0.84184,     0.84284,     0.84384,     0.84484,     0.84585,     0.84685,     0.84785,     0.84885,     0.84985,     0.85085,     0.85185,     0.85285,     0.85385,     0.85485,     0.85586,     0.85686,     0.85786,     0.85886,     0.85986,     0.86086,     0.86186,     0.86286,     0.86386,\n",
       "           0.86486,     0.86587,     0.86687,     0.86787,     0.86887,     0.86987,     0.87087,     0.87187,     0.87287,     0.87387,     0.87487,     0.87588,     0.87688,     0.87788,     0.87888,     0.87988,     0.88088,     0.88188,     0.88288,     0.88388,     0.88488,     0.88589,     0.88689,     0.88789,\n",
       "           0.88889,     0.88989,     0.89089,     0.89189,     0.89289,     0.89389,     0.89489,      0.8959,      0.8969,      0.8979,      0.8989,      0.8999,      0.9009,      0.9019,      0.9029,      0.9039,      0.9049,     0.90591,     0.90691,     0.90791,     0.90891,     0.90991,     0.91091,     0.91191,\n",
       "           0.91291,     0.91391,     0.91491,     0.91592,     0.91692,     0.91792,     0.91892,     0.91992,     0.92092,     0.92192,     0.92292,     0.92392,     0.92492,     0.92593,     0.92693,     0.92793,     0.92893,     0.92993,     0.93093,     0.93193,     0.93293,     0.93393,     0.93493,     0.93594,\n",
       "           0.93694,     0.93794,     0.93894,     0.93994,     0.94094,     0.94194,     0.94294,     0.94394,     0.94494,     0.94595,     0.94695,     0.94795,     0.94895,     0.94995,     0.95095,     0.95195,     0.95295,     0.95395,     0.95495,     0.95596,     0.95696,     0.95796,     0.95896,     0.95996,\n",
       "           0.96096,     0.96196,     0.96296,     0.96396,     0.96496,     0.96597,     0.96697,     0.96797,     0.96897,     0.96997,     0.97097,     0.97197,     0.97297,     0.97397,     0.97497,     0.97598,     0.97698,     0.97798,     0.97898,     0.97998,     0.98098,     0.98198,     0.98298,     0.98398,\n",
       "           0.98498,     0.98599,     0.98699,     0.98799,     0.98899,     0.98999,     0.99099,     0.99199,     0.99299,     0.99399,     0.99499,       0.996,       0.997,       0.998,       0.999,           1]), array([[          1,           1,           1,           1,           1,           1,           1,      0.9963,      0.9963,      0.9963,      0.9963,      0.9963,      0.9963,      0.9963,      0.9963,      0.9963,      0.9963,      0.9963,      0.9963,      0.9963,      0.9963,      0.9963,      0.9963,\n",
       "             0.9963,      0.9963,      0.9963,      0.9963,      0.9963,      0.9963,      0.9963,      0.9963,      0.9963,      0.9963,      0.9963,      0.9963,      0.9963,      0.9963,      0.9963,      0.9963,      0.9963,      0.9963,      0.9963,      0.9963,      0.9963,      0.9963,      0.9963,\n",
       "             0.9963,      0.9963,      0.9963,      0.9963,      0.9963,      0.9963,      0.9963,      0.9963,      0.9963,      0.9963,      0.9963,      0.9963,      0.9963,      0.9963,      0.9963,      0.9963,      0.9963,      0.9963,      0.9963,      0.9963,      0.9963,      0.9963,      0.9963,\n",
       "             0.9963,      0.9963,      0.9963,      0.9963,      0.9963,      0.9963,      0.9963,      0.9963,      0.9963,      0.9963,      0.9963,      0.9963,      0.9963,      0.9963,      0.9963,      0.9963,      0.9963,      0.9963,      0.9963,      0.9963,      0.9963,      0.9963,      0.9963,\n",
       "             0.9963,      0.9963,      0.9963,      0.9963,      0.9963,      0.9963,      0.9963,      0.9963,      0.9963,      0.9963,      0.9963,      0.9963,      0.9963,      0.9963,      0.9963,      0.9963,      0.9963,      0.9963,      0.9963,      0.9963,      0.9963,      0.9963,      0.9963,\n",
       "             0.9963,      0.9963,      0.9963,      0.9963,      0.9963,      0.9963,      0.9963,      0.9963,      0.9963,      0.9963,      0.9963,      0.9963,      0.9963,      0.9963,      0.9963,      0.9963,      0.9963,      0.9963,      0.9963,      0.9963,      0.9963,      0.9963,      0.9963,\n",
       "             0.9963,      0.9963,      0.9963,      0.9963,      0.9963,      0.9963,      0.9963,      0.9963,      0.9963,      0.9963,      0.9963,      0.9963,      0.9963,      0.9963,      0.9963,      0.9963,      0.9963,      0.9963,      0.9963,      0.9963,      0.9963,      0.9963,      0.9963,\n",
       "             0.9963,      0.9963,      0.9963,      0.9963,      0.9963,      0.9963,      0.9963,      0.9963,      0.9963,      0.9963,      0.9963,      0.9963,      0.9963,      0.9963,      0.9963,      0.9963,      0.9963,      0.9963,      0.9963,      0.9963,      0.9963,      0.9963,      0.9963,\n",
       "             0.9963,      0.9963,      0.9963,      0.9963,      0.9963,      0.9963,      0.9963,      0.9963,      0.9963,      0.9963,      0.9963,      0.9963,      0.9963,      0.9963,      0.9963,      0.9963,      0.9963,      0.9963,      0.9963,      0.9963,      0.9963,      0.9963,      0.9963,\n",
       "             0.9963,      0.9963,      0.9963,      0.9963,      0.9963,      0.9963,      0.9963,      0.9963,     0.99512,     0.99259,     0.99259,     0.99259,     0.99259,     0.99259,     0.99259,     0.99259,     0.99259,     0.99259,     0.99259,     0.99259,     0.99259,     0.99259,     0.99259,\n",
       "            0.99259,     0.99259,     0.99259,     0.99259,     0.99259,     0.99259,     0.99259,     0.99259,     0.99259,     0.99259,     0.99259,     0.99259,     0.99259,     0.99259,     0.99259,     0.99259,     0.99259,     0.99259,     0.99259,     0.99259,     0.99259,     0.99259,     0.99259,\n",
       "            0.99259,     0.99259,     0.99259,     0.99259,     0.99259,     0.99259,     0.99259,     0.99259,     0.99259,     0.99259,     0.99259,     0.99259,     0.99259,     0.99259,     0.99259,     0.99259,     0.99259,     0.99259,     0.99259,     0.99259,     0.99259,     0.99259,     0.99259,\n",
       "            0.99194,     0.99124,     0.99054,     0.98984,     0.98914,     0.98889,     0.98889,     0.98889,     0.98889,     0.98889,     0.98889,     0.98889,     0.98889,     0.98889,     0.98889,     0.98889,     0.98889,     0.98889,     0.98889,     0.98889,     0.98889,     0.98889,     0.98889,\n",
       "            0.98889,     0.98889,     0.98889,     0.98889,     0.98889,     0.98889,     0.98889,     0.98889,     0.98889,     0.98889,     0.98889,     0.98889,     0.98889,     0.98889,     0.98889,     0.98889,     0.98889,     0.98889,     0.98889,     0.98889,     0.98889,     0.98889,     0.98889,\n",
       "            0.98889,     0.98889,     0.98889,     0.98889,     0.98889,     0.98889,     0.98889,     0.98889,     0.98889,     0.98889,     0.98889,     0.98889,     0.98889,     0.98774,     0.98626,     0.98515,     0.98504,     0.98493,     0.98482,     0.98471,      0.9846,     0.98449,     0.98438,\n",
       "            0.98427,     0.98415,     0.98404,     0.98393,     0.98382,     0.98371,      0.9836,     0.98349,     0.98338,     0.98327,     0.98315,     0.98304,     0.98293,     0.98282,     0.98271,      0.9826,     0.98249,     0.98238,     0.98227,     0.98215,     0.98204,     0.98193,     0.98182,\n",
       "            0.98171,      0.9816,     0.98149,     0.98072,     0.97992,     0.97911,     0.97831,     0.97727,     0.97576,     0.97426,     0.97328,     0.97237,     0.97146,     0.97055,     0.97037,     0.97037,     0.97037,     0.97037,     0.97037,     0.97037,     0.97037,     0.97037,      0.9703,\n",
       "            0.97016,     0.97002,     0.96988,     0.96974,      0.9696,     0.96946,     0.96932,     0.96918,     0.96904,      0.9689,     0.96876,     0.96862,     0.96848,     0.96834,      0.9682,     0.96806,     0.96792,     0.96778,     0.96764,      0.9675,     0.96736,     0.96722,     0.96708,\n",
       "            0.96695,     0.96681,     0.96667,     0.96667,     0.96667,     0.96667,     0.96667,     0.96667,     0.96666,     0.96654,     0.96642,      0.9663,     0.96618,     0.96606,     0.96594,     0.96581,     0.96569,     0.96557,     0.96545,     0.96533,     0.96521,     0.96509,     0.96497,\n",
       "            0.96485,     0.96473,     0.96461,     0.96449,     0.96437,     0.96425,     0.96413,     0.96401,     0.96389,     0.96377,     0.96365,     0.96353,     0.96341,     0.96329,     0.96317,     0.96305,     0.96286,     0.96251,     0.96215,      0.9618,     0.96144,     0.96109,     0.96074,\n",
       "            0.96038,     0.96003,     0.95968,     0.95932,     0.95926,     0.95926,     0.95926,     0.95926,     0.95926,     0.95926,     0.95926,     0.95899,     0.95812,     0.95726,     0.95639,     0.95549,     0.95349,     0.95179,     0.95147,     0.95115,     0.95082,      0.9505,     0.95018,\n",
       "            0.94986,     0.94953,     0.94921,     0.94889,     0.94856,     0.94824,     0.94807,     0.94796,     0.94786,     0.94775,     0.94764,     0.94754,     0.94743,     0.94732,     0.94721,     0.94711,       0.947,     0.94689,     0.94679,     0.94668,     0.94657,     0.94646,     0.94636,\n",
       "            0.94625,     0.94614,     0.94603,     0.94593,     0.94582,     0.94571,     0.94561,      0.9455,     0.94539,     0.94528,     0.94518,     0.94507,     0.94496,     0.94486,     0.94475,     0.94464,     0.94453,     0.94435,     0.94374,     0.94313,     0.94252,     0.94192,     0.94131,\n",
       "            0.93935,     0.93686,     0.93667,     0.93647,     0.93628,     0.93608,     0.93589,     0.93569,      0.9355,      0.9353,      0.9351,     0.93491,     0.93471,     0.93452,     0.93432,     0.93413,     0.93393,     0.93374,     0.93354,     0.93335,     0.93319,     0.93303,     0.93287,\n",
       "            0.93271,     0.93255,      0.9324,     0.93224,     0.93208,     0.93192,     0.93176,     0.93161,     0.93145,     0.93129,     0.93113,     0.93097,     0.93082,     0.93066,      0.9305,     0.93034,     0.93018,     0.93002,     0.92987,     0.92971,     0.92931,     0.92866,     0.92801,\n",
       "            0.92737,     0.92672,     0.92607,     0.92569,     0.92538,     0.92507,     0.92477,     0.92446,     0.92415,     0.92384,     0.92354,     0.92323,     0.92292,     0.92262,     0.92231,     0.92154,     0.92059,     0.91963,     0.91868,     0.91366,      0.9118,     0.91111,     0.91111,\n",
       "            0.91111,     0.91111,     0.91111,     0.91111,     0.91111,     0.91111,     0.91111,     0.91111,     0.91111,     0.91111,     0.91111,     0.91111,     0.91111,     0.90858,     0.90668,     0.90562,     0.90457,      0.9036,     0.90301,     0.90242,     0.90183,     0.90124,     0.90065,\n",
       "            0.90006,     0.89977,     0.89952,     0.89926,     0.89901,     0.89875,      0.8985,     0.89824,     0.89799,     0.89773,     0.89748,     0.89722,     0.89697,     0.89671,     0.89646,     0.89608,      0.8955,     0.89491,     0.89433,     0.89375,     0.89316,     0.89257,     0.89155,\n",
       "            0.89054,     0.88952,     0.88727,      0.8842,     0.88228,      0.8764,       0.874,     0.87339,     0.87277,     0.87215,     0.87153,     0.87091,     0.87037,     0.87037,     0.87037,     0.87037,     0.87037,     0.87037,     0.87037,     0.87037,     0.87012,      0.8697,     0.86929,\n",
       "            0.86887,     0.86846,     0.86804,     0.86763,     0.86721,      0.8668,     0.86636,     0.86591,     0.86546,     0.86501,     0.86456,     0.86411,     0.86366,     0.86321,      0.8592,     0.85844,     0.85769,     0.85693,     0.85618,     0.85096,      0.8449,     0.84257,     0.84015,\n",
       "            0.83326,     0.83272,     0.83217,     0.83162,     0.83107,     0.83053,     0.82998,      0.8294,     0.82876,     0.82812,     0.82749,     0.82685,     0.82621,     0.82419,     0.81962,     0.81754,     0.81639,     0.81523,     0.81425,     0.81337,     0.81249,      0.8116,     0.80601,\n",
       "            0.80288,     0.80108,     0.79805,     0.79445,     0.79229,     0.79143,     0.79057,     0.78972,     0.78561,     0.78107,     0.78047,     0.77988,     0.77928,     0.77868,     0.77808,     0.77736,     0.77651,     0.77565,      0.7748,     0.77397,     0.77328,      0.7726,     0.77191,\n",
       "            0.77122,     0.77053,     0.76731,     0.76534,     0.76377,      0.7625,     0.76155,      0.7606,     0.75964,     0.75514,     0.75075,     0.74799,     0.74733,     0.74666,     0.74599,     0.74533,     0.74466,     0.73759,     0.73126,     0.72907,     0.72757,     0.72607,     0.72454,\n",
       "              0.723,     0.71481,     0.71394,     0.71307,     0.71219,     0.71132,     0.71042,      0.7095,     0.70858,     0.70767,     0.70667,     0.70563,     0.70459,     0.70282,      0.6968,      0.6959,     0.69546,     0.69502,     0.69459,     0.69415,     0.69372,     0.69328,     0.69285,\n",
       "            0.69088,     0.68517,     0.68406,     0.68295,     0.68184,     0.67674,     0.67456,     0.66811,      0.6562,     0.65378,     0.65195,      0.6438,     0.63855,     0.63547,     0.63349,     0.62452,     0.61848,     0.61756,     0.61664,     0.61572,     0.61463,     0.60362,     0.60283,\n",
       "            0.60204,     0.60124,     0.60045,     0.59908,     0.59696,     0.59263,     0.58495,     0.58067,     0.57676,     0.57499,     0.57219,     0.56958,      0.5681,      0.5666,     0.56452,     0.56218,     0.55901,      0.5547,     0.55098,     0.54749,     0.54571,     0.54292,        0.54,\n",
       "            0.53873,     0.53746,     0.53388,      0.5311,     0.52901,     0.52754,     0.52606,     0.51543,     0.51191,     0.50877,     0.50613,     0.50385,      0.4997,     0.49585,       0.494,      0.4921,     0.49005,     0.48426,     0.47765,     0.47056,     0.46158,     0.45738,     0.45472,\n",
       "            0.45269,     0.44874,     0.44382,     0.44119,     0.43327,     0.42955,     0.42574,     0.42133,     0.41766,     0.41243,     0.40642,     0.40334,     0.40096,     0.39858,     0.39594,     0.38999,     0.38582,     0.38365,     0.38183,      0.3794,     0.37531,     0.36831,     0.35887,\n",
       "            0.35657,     0.35073,     0.34564,     0.34344,     0.34173,      0.3362,     0.33193,     0.32459,     0.32141,     0.31868,     0.31117,     0.29768,     0.28074,     0.27258,     0.26585,     0.26092,     0.25351,     0.24732,     0.24404,     0.22923,     0.22511,     0.22235,     0.21456,\n",
       "            0.21241,     0.20361,     0.19939,      0.1959,     0.19224,     0.19005,     0.18612,     0.18153,     0.17704,     0.17622,      0.1754,     0.17459,       0.173,     0.16987,     0.16132,     0.15503,     0.15285,     0.14643,     0.14349,     0.14112,     0.13078,     0.12885,     0.12792,\n",
       "              0.127,     0.12607,     0.11369,    0.096101,    0.093418,    0.090392,    0.087405,    0.084528,    0.081416,    0.077646,    0.072478,     0.06933,    0.062739,     0.06103,    0.059322,    0.058499,     0.05771,    0.056921,    0.056131,    0.055138,    0.053596,    0.052054,    0.051012,\n",
       "           0.050046,    0.049079,    0.047747,    0.040177,    0.038459,    0.036851,    0.035776,    0.034701,    0.033626,     0.03019,    0.028386,    0.026958,    0.024983,    0.021988,    0.020735,    0.019482,    0.017856,    0.014992,    0.010823,    0.010182,   0.0095399,   0.0088981,   0.0082564,\n",
       "          0.0076146,           0,           0,           0,           0,           0,           0,           0,           0,           0,           0,           0,           0,           0,           0,           0,           0,           0,           0,           0,           0,           0,           0,\n",
       "                  0,           0,           0,           0,           0,           0,           0,           0,           0,           0,           0]]), 'Confidence', 'Recall']]\n",
       "fitness: 1.3720660494947685\n",
       "keys: ['metrics/precision(B)', 'metrics/recall(B)', 'metrics/mAP50(B)', 'metrics/mAP50-95(B)', 'metrics/precision(M)', 'metrics/recall(M)', 'metrics/mAP50(M)', 'metrics/mAP50-95(M)']\n",
       "maps: array([     1.3037])\n",
       "names: {0: 'Individual Tooth'}\n",
       "plot: True\n",
       "results_dict: {'metrics/precision(B)': 0.9737494124998808, 'metrics/recall(B)': 0.9888888888888889, 'metrics/mAP50(B)': 0.9939102007163381, 'metrics/mAP50-95(B)': 0.7077545341198355, 'metrics/precision(M)': 0.9737494124998808, 'metrics/recall(M)': 0.9888888888888889, 'metrics/mAP50(M)': 0.9937228409996416, 'metrics/mAP50-95(M)': 0.5959151829059097, 'fitness': 1.3720660494947685}\n",
       "save_dir: WindowsPath('runs/segment/train20')\n",
       "seg: ultralytics.utils.metrics.Metric object\n",
       "speed: {'preprocess': 1.4232900000024529, 'inference': 68.16699000000881, 'loss': 0.00048000001697801054, 'postprocess': 32.04243000000133}\n",
       "task: 'segment'"
      ]
     },
     "execution_count": 3,
     "metadata": {},
     "output_type": "execute_result"
    }
   ],
   "source": [
    "# 2. Tooth Segmentation – Train a YOLOv8 segmentation model.\n",
    "''' \n",
    "    This script trains a YOLOv8 segmentation model to automatically segment individual teeth from dental X-ray images. \n",
    "    The model is designed for instance segmentation, which detects objects (teeth) and predicts their pixel-wise masks. \n",
    "    Using a dataset of labeled X-rays, the model learns to identify and separate each tooth.\n",
    "    Key training parameters like optimizer, learning rate, and momentum are adjusted for optimal performance.\n",
    "\n",
    "'''\n",
    "from ultralytics import YOLO\n",
    "\n",
    "# Load the YOLOv8 instance segmentation model (the segmentation model)\n",
    "model = YOLO(\"yolov8n-seg.pt\")  # Make sure you use the segmentation variant\n",
    "\n",
    "# Train the model on the instance segmentation dataset\n",
    "model.train(\n",
    "    data=\"C:/Users/pauli/DeepDent/periodontitis/enhanced_data/data.yaml\",  # Path to the data.yaml file\n",
    "    epochs=30,                        # Number of epochs\n",
    "    batch=8,                          # Batch size\n",
    "    device=\"cpu\",                     # Use CPU for training (or \"cuda\" if you have a GPU)\n",
    "    \n",
    "    # Optimization parameters\n",
    "    optimizer=\"AdamW\",                # Use AdamW optimizer (default is Adam)\n",
    "    lr0=0.001,                        # Initial learning rate                        # Final learning rate\n",
    "    momentum=0.937,                    # Momentum for the optimizer\n",
    "    weight_decay=0.0005,               # Regularization term\n",
    "    warmup_epochs=3,                  # Number of epochs for warmup\n",
    "    warmup_momentum=0.8,              # Momentum during warmup\n",
    "    warmup_bias_lr=0.1                # Bias learning rate during warmup\n",
    ")"
   ]
  },
  {
   "cell_type": "code",
   "execution_count": 4,
   "id": "ecf2ab5d",
   "metadata": {},
   "outputs": [
    {
     "name": "stdout",
     "output_type": "stream",
     "text": [
      "Enhanced image saved to ../enhancedtrial\\trial.jpg\n",
      "\n",
      "image 1/1 C:\\Users\\pauli\\DeepDent\\periodontitis\\notebooks\\..\\enhancedtrial\\trial.jpg: 320x640 21 Individual Tooths, 218.3ms\n",
      "Speed: 2.5ms preprocess, 218.3ms inference, 20.2ms postprocess per image at shape (1, 3, 320, 640)\n"
     ]
    },
    {
     "data": {
      "text/plain": [
       "<Figure size 800x800 with 1 Axes>"
      ]
     },
     "metadata": {},
     "output_type": "display_data"
    },
    {
     "name": "stdout",
     "output_type": "stream",
     "text": [
      "✅ Prediction complete! Output saved at ../enhancedtrial\\outputoftrial.jpg\n"
     ]
    }
   ],
   "source": [
    "from ultralytics import YOLO\n",
    "import cv2\n",
    "import matplotlib.pyplot as plt\n",
    "import os\n",
    "import sys\n",
    "\n",
    "sys.path.append('..')  # Add parent directory to path\n",
    "from src.preprocessing import enhance_image_from_user\n",
    "\n",
    "# Function to get the latest 'best.pt' model\n",
    "def get_latest_model(model_dir):\n",
    "    \"\"\"\n",
    "    Get the path to the latest 'best.pt' model in the specified directory.\n",
    "    \n",
    "    Parameters:\n",
    "    -----------\n",
    "    model_dir : str\n",
    "        Directory where the YOLO models are stored.\n",
    "        \n",
    "    Returns:\n",
    "    --------\n",
    "    str\n",
    "        Path to the latest 'best.pt' model.\n",
    "    \"\"\"\n",
    "    # List all directories in the given path\n",
    "    runs_dirs = [d for d in os.listdir(model_dir) if os.path.isdir(os.path.join(model_dir, d))]\n",
    "    \n",
    "    # Find the latest run folder by looking at the timestamp\n",
    "    latest_run = max(runs_dirs, key=lambda d: os.path.getmtime(os.path.join(model_dir, d)))\n",
    "    \n",
    "    # Define the path to the best.pt model in the latest run\n",
    "    model_path = os.path.join(model_dir, latest_run, 'weights', 'best.pt')\n",
    "    \n",
    "    return model_path\n",
    "\n",
    "# Step 1: Enhance the image\n",
    "input_image_path = '../trial.jpg'  # Replace with your input image path\n",
    "output_dir = '../enhancedtrial'  # Ensure this directory exists\n",
    "\n",
    "# Enhance the image - you can customize rho and k parameters here\n",
    "enhance_image_from_user(input_image_path, output_dir, rho=0.5, k=1.5)\n",
    "\n",
    "# Get the path to the enhanced image\n",
    "enhanced_image_path = os.path.join(output_dir, os.path.basename(input_image_path))\n",
    "\n",
    "# Step 2: Get the latest model path\n",
    "model_dir = \"C:/Users/pauli/DeepDent/periodontitis/notebooks/runs/segment\"  # Your base model directory\n",
    "latest_model_path = get_latest_model(model_dir)\n",
    "\n",
    "# Load the YOLOv8 segmentation model\n",
    "model = YOLO(latest_model_path)\n",
    "\n",
    "# Run inference on the enhanced image\n",
    "results = model(enhanced_image_path)\n",
    "\n",
    "# Step 3: Display the segmentation results using Matplotlib\n",
    "for result in results:\n",
    "    # Convert results into an image\n",
    "    segmented_img = result.plot()  # This draws segmentation masks and overlays\n",
    "    \n",
    "    # Save the output manually\n",
    "    output_image_path = os.path.join(output_dir, \"outputoftrial.jpg\")\n",
    "    cv2.imwrite(output_image_path, segmented_img)\n",
    "\n",
    "    # Display the result using Matplotlib (not an external window)\n",
    "    plt.figure(figsize=(8, 8))\n",
    "    plt.imshow(cv2.cvtColor(segmented_img, cv2.COLOR_BGR2RGB))  # Convert BGR to RGB for correct display\n",
    "    plt.axis(\"off\")\n",
    "    plt.title(\"Segmentation Results\")\n",
    "    plt.show()\n",
    "\n",
    "print(f\"✅ Prediction complete! Output saved at {output_image_path}\")\n"
   ]
  },
  {
   "cell_type": "code",
   "execution_count": 7,
   "id": "20a10631",
   "metadata": {},
   "outputs": [
    {
     "name": "stdout",
     "output_type": "stream",
     "text": [
      "Enhanced image saved to ../enhancedtrial\\trial1.jpg\n",
      "\n",
      "image 1/1 C:\\Users\\pauli\\DeepDent\\periodontitis\\notebooks\\..\\enhancedtrial\\trial1.jpg: 352x640 25 Individual Tooths, 78.1ms\n",
      "Speed: 2.4ms preprocess, 78.1ms inference, 21.0ms postprocess per image at shape (1, 3, 352, 640)\n"
     ]
    },
    {
     "data": {
      "text/plain": [
       "<Figure size 800x800 with 1 Axes>"
      ]
     },
     "metadata": {},
     "output_type": "display_data"
    },
    {
     "name": "stdout",
     "output_type": "stream",
     "text": [
      "✅ Prediction complete! Output saved at ../enhancedtrial\\outputoftrial1.jpg\n"
     ]
    }
   ],
   "source": [
    "from ultralytics import YOLO\n",
    "import cv2\n",
    "import matplotlib.pyplot as plt\n",
    "import os\n",
    "import sys\n",
    "\n",
    "sys.path.append('..')  # Add parent directory to path\n",
    "from src.preprocessing import enhance_image_from_user\n",
    "\n",
    "# Function to get the latest 'best.pt' model\n",
    "def get_latest_model(model_dir):\n",
    "    \"\"\"\n",
    "    Get the path to the latest 'best.pt' model in the specified directory.\n",
    "    \n",
    "    Parameters:\n",
    "    -----------\n",
    "    model_dir : str\n",
    "        Directory where the YOLO models are stored.\n",
    "        \n",
    "    Returns:\n",
    "    --------\n",
    "    str\n",
    "        Path to the latest 'best.pt' model.\n",
    "    \"\"\"\n",
    "    # List all directories in the given path\n",
    "    runs_dirs = [d for d in os.listdir(model_dir) if os.path.isdir(os.path.join(model_dir, d))]\n",
    "    \n",
    "    # Find the latest run folder by looking at the timestamp\n",
    "    latest_run = max(runs_dirs, key=lambda d: os.path.getmtime(os.path.join(model_dir, d)))\n",
    "    \n",
    "    # Define the path to the best.pt model in the latest run\n",
    "    model_path = os.path.join(model_dir, latest_run, 'weights', 'best.pt')\n",
    "    \n",
    "    return model_path\n",
    "\n",
    "# Step 1: Enhance the image\n",
    "input_image_path = '../trial1.jpg'  # Replace with your input image path\n",
    "output_dir = '../enhancedtrial'  # Ensure this directory exists\n",
    "\n",
    "# Enhance the image - you can customize rho and k parameters here\n",
    "enhance_image_from_user(input_image_path, output_dir, rho=0.5, k=1.5)\n",
    "\n",
    "# Get the path to the enhanced image\n",
    "enhanced_image_path = os.path.join(output_dir, os.path.basename(input_image_path))\n",
    "\n",
    "# Step 2: Get the latest model path\n",
    "model_dir = \"C:/Users/pauli/DeepDent/periodontitis/notebooks/runs/segment\"  # Your base model directory\n",
    "latest_model_path = get_latest_model(model_dir)\n",
    "\n",
    "# Load the YOLOv8 segmentation model\n",
    "model = YOLO(latest_model_path)\n",
    "\n",
    "# Run inference on the enhanced image\n",
    "results = model(enhanced_image_path)\n",
    "\n",
    "# Step 3: Display the segmentation results using Matplotlib\n",
    "for result in results:\n",
    "    # Convert results into an image\n",
    "    segmented_img = result.plot()  # This draws segmentation masks and overlays\n",
    "    \n",
    "    # Save the output manually\n",
    "    output_image_path = os.path.join(output_dir, \"outputoftrial1.jpg\")\n",
    "    cv2.imwrite(output_image_path, segmented_img)\n",
    "\n",
    "    # Display the result using Matplotlib (not an external window)\n",
    "    plt.figure(figsize=(8, 8))\n",
    "    plt.imshow(cv2.cvtColor(segmented_img, cv2.COLOR_BGR2RGB))  # Convert BGR to RGB for correct display\n",
    "    plt.axis(\"off\")\n",
    "    plt.title(\"Segmentation Results\")\n",
    "    plt.show()\n",
    "\n",
    "print(f\"✅ Prediction complete! Output saved at {output_image_path}\")\n"
   ]
  },
  {
   "cell_type": "code",
   "execution_count": 8,
   "id": "c64ce827",
   "metadata": {},
   "outputs": [
    {
     "name": "stdout",
     "output_type": "stream",
     "text": [
      "Enhanced image saved to ../enhancedtrial\\trial3.jpg\n",
      "\n",
      "image 1/1 C:\\Users\\pauli\\DeepDent\\periodontitis\\notebooks\\..\\enhancedtrial\\trial3.jpg: 384x640 26 Individual Tooths, 132.7ms\n",
      "Speed: 2.7ms preprocess, 132.7ms inference, 25.6ms postprocess per image at shape (1, 3, 384, 640)\n"
     ]
    },
    {
     "data": {
      "text/plain": [
       "<Figure size 800x800 with 1 Axes>"
      ]
     },
     "metadata": {},
     "output_type": "display_data"
    },
    {
     "name": "stdout",
     "output_type": "stream",
     "text": [
      "✅ Prediction complete! Output saved at ../enhancedtrial\\outputoftrial3.jpg\n"
     ]
    }
   ],
   "source": [
    "from ultralytics import YOLO\n",
    "import cv2\n",
    "import matplotlib.pyplot as plt\n",
    "import os\n",
    "import sys\n",
    "\n",
    "sys.path.append('..')  # Add parent directory to path\n",
    "from src.preprocessing import enhance_image_from_user\n",
    "\n",
    "# Function to get the latest 'best.pt' model\n",
    "def get_latest_model(model_dir):\n",
    "    \"\"\"\n",
    "    Get the path to the latest 'best.pt' model in the specified directory.\n",
    "    \n",
    "    Parameters:\n",
    "    -----------\n",
    "    model_dir : str\n",
    "        Directory where the YOLO models are stored.\n",
    "        \n",
    "    Returns:\n",
    "    --------\n",
    "    str\n",
    "        Path to the latest 'best.pt' model.\n",
    "    \"\"\"\n",
    "    # List all directories in the given path\n",
    "    runs_dirs = [d for d in os.listdir(model_dir) if os.path.isdir(os.path.join(model_dir, d))]\n",
    "    \n",
    "    # Find the latest run folder by looking at the timestamp\n",
    "    latest_run = max(runs_dirs, key=lambda d: os.path.getmtime(os.path.join(model_dir, d)))\n",
    "    \n",
    "    # Define the path to the best.pt model in the latest run\n",
    "    model_path = os.path.join(model_dir, latest_run, 'weights', 'best.pt')\n",
    "    \n",
    "    return model_path\n",
    "\n",
    "# Step 1: Enhance the image\n",
    "input_image_path = '../trial3.jpg'  # Replace with your input image path\n",
    "output_dir = '../enhancedtrial'  # Ensure this directory exists\n",
    "\n",
    "# Enhance the image - you can customize rho and k parameters here\n",
    "enhance_image_from_user(input_image_path, output_dir, rho=0.5, k=1.5)\n",
    "\n",
    "# Get the path to the enhanced image\n",
    "enhanced_image_path = os.path.join(output_dir, os.path.basename(input_image_path))\n",
    "\n",
    "# Step 2: Get the latest model path\n",
    "model_dir = \"C:/Users/pauli/DeepDent/periodontitis/notebooks/runs/segment\"  # Your base model directory\n",
    "latest_model_path = get_latest_model(model_dir)\n",
    "\n",
    "# Load the YOLOv8 segmentation model\n",
    "model = YOLO(latest_model_path)\n",
    "\n",
    "# Run inference on the enhanced image\n",
    "results = model(enhanced_image_path)\n",
    "\n",
    "# Step 3: Display the segmentation results using Matplotlib\n",
    "for result in results:\n",
    "    # Convert results into an image\n",
    "    segmented_img = result.plot()  # This draws segmentation masks and overlays\n",
    "    \n",
    "    # Save the output manually\n",
    "    output_image_path = os.path.join(output_dir, \"outputoftrial3.jpg\")\n",
    "    cv2.imwrite(output_image_path, segmented_img)\n",
    "\n",
    "    # Display the result using Matplotlib (not an external window)\n",
    "    plt.figure(figsize=(8, 8))\n",
    "    plt.imshow(cv2.cvtColor(segmented_img, cv2.COLOR_BGR2RGB))  # Convert BGR to RGB for correct display\n",
    "    plt.axis(\"off\")\n",
    "    plt.title(\"Segmentation Results\")\n",
    "    plt.show()\n",
    "\n",
    "print(f\"✅ Prediction complete! Output saved at {output_image_path}\")"
   ]
  },
  {
   "cell_type": "code",
   "execution_count": 20,
   "id": "756767aa",
   "metadata": {},
   "outputs": [
    {
     "name": "stdout",
     "output_type": "stream",
     "text": [
      "Enhanced image saved to ../trial_test_results\\trial.jpg\n",
      "\n",
      "image 1/1 C:\\Users\\pauli\\DeepDent\\periodontitis\\notebooks\\..\\trial_test_results\\trial.jpg: 320x640 24 Individual Tooths, 101.2ms\n",
      "Speed: 4.1ms preprocess, 101.2ms inference, 26.6ms postprocess per image at shape (1, 3, 320, 640)\n",
      "✅ Saved: ../trial_test_results\\extracted_teeth\\tooth_0_0.png\n",
      "✅ Saved: ../trial_test_results\\extracted_teeth\\tooth_0_1.png\n",
      "✅ Saved: ../trial_test_results\\extracted_teeth\\tooth_0_2.png\n",
      "✅ Saved: ../trial_test_results\\extracted_teeth\\tooth_0_3.png\n",
      "✅ Saved: ../trial_test_results\\extracted_teeth\\tooth_0_4.png\n",
      "✅ Saved: ../trial_test_results\\extracted_teeth\\tooth_0_5.png\n",
      "✅ Saved: ../trial_test_results\\extracted_teeth\\tooth_0_6.png\n",
      "✅ Saved: ../trial_test_results\\extracted_teeth\\tooth_0_7.png\n",
      "✅ Saved: ../trial_test_results\\extracted_teeth\\tooth_0_8.png\n",
      "✅ Saved: ../trial_test_results\\extracted_teeth\\tooth_0_9.png\n",
      "✅ Saved: ../trial_test_results\\extracted_teeth\\tooth_0_10.png\n",
      "✅ Saved: ../trial_test_results\\extracted_teeth\\tooth_0_11.png\n",
      "✅ Saved: ../trial_test_results\\extracted_teeth\\tooth_0_12.png\n",
      "✅ Saved: ../trial_test_results\\extracted_teeth\\tooth_0_13.png\n",
      "✅ Saved: ../trial_test_results\\extracted_teeth\\tooth_0_14.png\n",
      "✅ Saved: ../trial_test_results\\extracted_teeth\\tooth_0_15.png\n",
      "✅ Saved: ../trial_test_results\\extracted_teeth\\tooth_0_16.png\n",
      "✅ Saved: ../trial_test_results\\extracted_teeth\\tooth_0_17.png\n",
      "✅ Saved: ../trial_test_results\\extracted_teeth\\tooth_0_18.png\n",
      "✅ Saved: ../trial_test_results\\extracted_teeth\\tooth_0_19.png\n",
      "✅ Saved: ../trial_test_results\\extracted_teeth\\tooth_0_20.png\n",
      "✅ Saved: ../trial_test_results\\extracted_teeth\\tooth_0_21.png\n",
      "✅ Saved: ../trial_test_results\\extracted_teeth\\tooth_0_22.png\n",
      "✅ Saved: ../trial_test_results\\extracted_teeth\\tooth_0_23.png\n",
      "✅ Teeth extraction complete! Extracted teeth saved in ../trial_test_results\\extracted_teeth.\n"
     ]
    }
   ],
   "source": [
    "from ultralytics import YOLO\n",
    "import cv2\n",
    "import matplotlib.pyplot as plt\n",
    "import numpy as np\n",
    "import os\n",
    "import sys\n",
    "\n",
    "sys.path.append('..')\n",
    "from src.preprocessing import enhance_image_from_user\n",
    "\n",
    "# Function to get the latest 'best.pt' model\n",
    "def get_latest_model(model_dir):\n",
    "    \"\"\"\n",
    "    Get the path to the latest 'best.pt' model in the specified directory.\n",
    "    \n",
    "    Parameters:\n",
    "    -----------\n",
    "    model_dir : str\n",
    "        Directory where the YOLO models are stored.\n",
    "        \n",
    "    Returns:\n",
    "    --------\n",
    "    str\n",
    "        Path to the latest 'best.pt' model.\n",
    "    \"\"\"\n",
    "    runs_dirs = [d for d in os.listdir(model_dir) if os.path.isdir(os.path.join(model_dir, d))]\n",
    "    latest_run = max(runs_dirs, key=lambda d: os.path.getmtime(os.path.join(model_dir, d)))\n",
    "    return os.path.join(model_dir, latest_run, 'weights', 'best.pt')\n",
    "\n",
    "# Step 1: Enhance the image\n",
    "input_image_path = '../trial.jpg'  \n",
    "output_dir = '../trial_test_results'  \n",
    "extracted_teeth_dir = os.path.join(output_dir, \"extracted_teeth\")  # Directory for extracted teeth\n",
    "\n",
    "# Ensure output directories exist\n",
    "os.makedirs(output_dir, exist_ok=True)\n",
    "os.makedirs(extracted_teeth_dir, exist_ok=True)\n",
    "\n",
    "# Enhance the image\n",
    "enhance_image_from_user(input_image_path, output_dir, rho=0.5, k=1.5)\n",
    "enhanced_image_path = os.path.join(output_dir, os.path.basename(input_image_path))\n",
    "\n",
    "# Step 2: Get the latest model path\n",
    "model_dir = \"C:/Users/pauli/DeepDent/periodontitis/notebooks/runs/segment\"\n",
    "latest_model_path = get_latest_model(model_dir)\n",
    "\n",
    "# Load YOLOv8 segmentation model\n",
    "model = YOLO(latest_model_path)\n",
    "\n",
    "# Step 3: Run inference\n",
    "results = model(enhanced_image_path)\n",
    "\n",
    "# Step 4: Extract individual teeth\n",
    "image = cv2.imread(enhanced_image_path)  # Load original image\n",
    "\n",
    "for i, result in enumerate(results):\n",
    "    masks = result.masks  # Get segmentation masks\n",
    "\n",
    "    if masks is None:\n",
    "        print(\"❌ No teeth detected.\")\n",
    "        continue\n",
    "\n",
    "    for j, mask in enumerate(masks.xy):  # Loop through each detected tooth mask\n",
    "        # Convert mask to a binary image\n",
    "        mask_img = np.zeros(image.shape[:2], dtype=np.uint8)\n",
    "        cv2.fillPoly(mask_img, [np.array(mask, dtype=np.int32)], 255)  # Fill the mask area with white\n",
    "\n",
    "        # Find bounding box around the tooth\n",
    "        x, y, w, h = cv2.boundingRect(np.array(mask, dtype=np.int32))\n",
    "\n",
    "        # Crop the tooth using the bounding box\n",
    "        tooth_crop = cv2.bitwise_and(image, image, mask=mask_img)[y:y+h, x:x+w]\n",
    "\n",
    "        # Save the extracted tooth\n",
    "        tooth_filename = os.path.join(extracted_teeth_dir, f\"tooth_{i}_{j}.png\")\n",
    "        cv2.imwrite(tooth_filename, tooth_crop)\n",
    "        print(f\"✅ Saved: {tooth_filename}\")\n",
    "\n",
    "print(f\"✅ Teeth extraction complete! Extracted teeth saved in {extracted_teeth_dir}.\")"
   ]
  },
  {
   "cell_type": "code",
   "execution_count": null,
   "id": "f640caa2",
   "metadata": {
    "scrolled": true
   },
   "outputs": [],
   "source": [
    "# 3.1 Creating Masks for the data\n",
    "\n",
    "import os\n",
    "import json\n",
    "import numpy as np\n",
    "import cv2\n",
    "from PIL import Image\n",
    "\n",
    "# --- CONFIGURATION ---\n",
    "COCO_ANNOTATION_FILE = \"../data/cej_alveolar/train/_annotations.coco.json\"\n",
    "IMAGE_DIR = \"../data/cej_alveolar/train\"\n",
    "OUTPUT_MASK_DIR = \"../data/cej_alveolar/cej_alveolar_masked\"  # Where masks will be saved\n",
    "CLASS_MAPPING = {  # Assign grayscale values to each class\n",
    "    \"cej\": 255,\n",
    "    \"alveolar\": 128\n",
    "}\n",
    "\n",
    "# Ensure output directory exists\n",
    "os.makedirs(OUTPUT_MASK_DIR, exist_ok=True)\n",
    "\n",
    "# Load COCO JSON\n",
    "with open(COCO_ANNOTATION_FILE, 'r') as f:\n",
    "    coco_data = json.load(f)\n",
    "\n",
    "# Create a dictionary mapping image_id to file_name\n",
    "image_info = {img[\"id\"]: img[\"file_name\"] for img in coco_data[\"images\"]}\n",
    "\n",
    "# Process each image\n",
    "for image_data in coco_data[\"images\"]:\n",
    "    image_id = image_data[\"id\"]\n",
    "    image_filename = image_data[\"file_name\"]\n",
    "    \n",
    "    # Load corresponding image to get dimensions\n",
    "    image_path = os.path.join(IMAGE_DIR, image_filename)\n",
    "    image = cv2.imread(image_path, cv2.IMREAD_GRAYSCALE)\n",
    "    if image is None:\n",
    "        print(f\"Failed to load image: {image_filename}\")\n",
    "        continue  # Skip to next image\n",
    "    height, width = image.shape\n",
    "\n",
    "    # Initialize an empty mask for the current image (same size as the image)\n",
    "    combined_mask = np.zeros((height, width), dtype=np.uint8)\n",
    "\n",
    "    # Process each annotation for the current image\n",
    "    for ann in coco_data[\"annotations\"]:\n",
    "        if ann[\"image_id\"] != image_id:\n",
    "            continue  # Skip annotations for other images\n",
    "        \n",
    "        # Get class label\n",
    "        category_id = ann[\"category_id\"]\n",
    "        class_name = next((cat[\"name\"] for cat in coco_data[\"categories\"] if cat[\"id\"] == category_id), \"unknown\")\n",
    "        class_value = CLASS_MAPPING.get(class_name, 0)\n",
    "\n",
    "        # Convert COCO polygon segmentation to binary mask for each annotation\n",
    "        if \"segmentation\" in ann:\n",
    "            # Iterate through each segmentation in this annotation (multiple parts could exist)\n",
    "            for seg in ann[\"segmentation\"]:\n",
    "                polygon = np.array(seg, np.int32).reshape((-1, 2))\n",
    "                cv2.fillPoly(combined_mask, [polygon], color=class_value)\n",
    "\n",
    "    # Debugging: Check if the combined mask has any non-zero pixels\n",
    "    print(f\"Unique values in combined mask for {image_filename}: {np.unique(combined_mask)}\")\n",
    "\n",
    "    # Save the combined mask as a single PNG image (you can use JPG if you prefer, but PNG is better for preserving grayscale)\n",
    "    mask_filename = f\"{os.path.splitext(image_filename)[0]}_combined_mask.png\"\n",
    "    mask_path = os.path.join(OUTPUT_MASK_DIR, mask_filename)\n",
    "    Image.fromarray(combined_mask).save(mask_path)\n",
    "\n",
    "print(f\"Masks saved in {OUTPUT_MASK_DIR}\")\n"
   ]
  },
  {
   "cell_type": "code",
   "execution_count": 25,
   "id": "6d447286",
   "metadata": {},
   "outputs": [
    {
     "name": "stdout",
     "output_type": "stream",
     "text": [
      "Using device: cpu\n",
      "Found 10 valid image-mask pairs.\n",
      "Training on 8 samples\n",
      "Validating on 2 samples\n",
      "Starting training...\n",
      "Epoch 1/10, Train Loss: 1.0305, Val Loss: 0.9983\n",
      "Saved model at epoch 1 with validation loss: 0.9983\n",
      "Epoch 2/10, Train Loss: 0.9867, Val Loss: 0.9154\n",
      "Saved model at epoch 2 with validation loss: 0.9154\n",
      "Epoch 3/10, Train Loss: 0.8900, Val Loss: 0.7124\n",
      "Saved model at epoch 3 with validation loss: 0.7124\n",
      "Epoch 4/10, Train Loss: 0.6110, Val Loss: 0.3056\n",
      "Saved model at epoch 4 with validation loss: 0.3056\n",
      "Epoch 5/10, Train Loss: 0.4035, Val Loss: 0.2511\n",
      "Saved model at epoch 5 with validation loss: 0.2511\n",
      "Epoch 6/10, Train Loss: 0.3278, Val Loss: 0.2476\n",
      "Saved model at epoch 6 with validation loss: 0.2476\n",
      "Epoch 7/10, Train Loss: 0.3173, Val Loss: 0.2281\n",
      "Saved model at epoch 7 with validation loss: 0.2281\n",
      "Epoch 8/10, Train Loss: 0.3172, Val Loss: 0.2256\n",
      "Saved model at epoch 8 with validation loss: 0.2256\n",
      "Epoch 9/10, Train Loss: 0.3114, Val Loss: 0.2245\n",
      "Saved model at epoch 9 with validation loss: 0.2245\n",
      "Epoch 10/10, Train Loss: 0.3053, Val Loss: 0.2240\n",
      "Saved model at epoch 10 with validation loss: 0.2240\n"
     ]
    },
    {
     "data": {
      "image/png": "[encoded data removed]",
      "text/plain": [
       "<Figure size 1000x500 with 1 Axes>"
      ]
     },
     "metadata": {},
     "output_type": "display_data"
    },
    {
     "name": "stdout",
     "output_type": "stream",
     "text": [
      "Generating predictions...\n"
     ]
    },
    {
     "data": {
      "image/png": "[encoded data removed]",
      "text/plain": [
       "<Figure size 1500x1500 with 6 Axes>"
      ]
     },
     "metadata": {},
     "output_type": "display_data"
    },
    {
     "name": "stdout",
     "output_type": "stream",
     "text": [
      "Training and evaluation complete!\n",
      "\n",
      "To measure bone loss on a new image, use:\n",
      "model.load_state_dict(torch.load('path/to/model.pth'))\n",
      "mask = predict_on_new_image(model, 'path/to/your/image.jpg', device)\n",
      "measure_bone_loss(mask)\n"
     ]
    }
   ],
   "source": [
    "import os\n",
    "import numpy as np\n",
    "import cv2\n",
    "from PIL import Image\n",
    "import torch\n",
    "import torch.nn as nn\n",
    "import torch.optim as optim\n",
    "from torch.utils.data import Dataset, DataLoader\n",
    "from torchvision import transforms\n",
    "import matplotlib.pyplot as plt\n",
    "from sklearn.model_selection import train_test_split\n",
    "\n",
    "# --- CONFIGURATION ---\n",
    "IMAGE_DIR = \"../data/cej_alveolar/train\"\n",
    "MASK_DIR = \"../data/cej_alveolar/cej_alveolar_masked\"  # Directory where your masks are saved\n",
    "MODEL_OUTPUT_DIR = \"../models\"\n",
    "BATCH_SIZE = 4\n",
    "EPOCHS = 10\n",
    "IMG_HEIGHT = 128\n",
    "IMG_WIDTH = 128\n",
    "NUM_CLASSES = 3  # Background (0), alveolar (128), and cej (255)\n",
    "SEED = 42\n",
    "\n",
    "# Set random seeds for reproducibility\n",
    "torch.manual_seed(SEED)\n",
    "np.random.seed(SEED)\n",
    "\n",
    "# Ensure model output directory exists\n",
    "os.makedirs(MODEL_OUTPUT_DIR, exist_ok=True)\n",
    "\n",
    "# --- DATASET CLASS ---\n",
    "class DentalSegmentationDataset(Dataset):\n",
    "    def __init__(self, image_paths, mask_paths, transform=None):\n",
    "        self.image_paths = image_paths\n",
    "        self.mask_paths = mask_paths\n",
    "        self.transform = transform\n",
    "        \n",
    "    def __len__(self):\n",
    "        return len(self.image_paths)\n",
    "    \n",
    "    def __getitem__(self, idx):\n",
    "        # Load image\n",
    "        img_path = self.image_paths[idx]\n",
    "        img = cv2.imread(img_path)\n",
    "        img = cv2.resize(img, (IMG_WIDTH, IMG_HEIGHT))\n",
    "        img = img / 255.0  # Normalize to [0,1]\n",
    "        img = np.transpose(img, (2, 0, 1))  # Convert to CxHxW format\n",
    "        \n",
    "        # Load mask\n",
    "        mask_path = self.mask_paths[idx]\n",
    "        mask = cv2.imread(mask_path, cv2.IMREAD_GRAYSCALE)\n",
    "        mask = cv2.resize(mask, (IMG_WIDTH, IMG_HEIGHT), interpolation=cv2.INTER_NEAREST)\n",
    "        \n",
    "        # Convert grayscale values to class indices\n",
    "        # 0 = background, 1 = alveolar (128), 2 = cej (255)\n",
    "        mask_classes = np.zeros_like(mask)\n",
    "        mask_classes[mask == 128] = 1  # alveolar\n",
    "        mask_classes[mask == 255] = 2  # cej\n",
    "        \n",
    "        # Convert to tensors\n",
    "        img_tensor = torch.FloatTensor(img)\n",
    "        mask_tensor = torch.LongTensor(mask_classes)\n",
    "        \n",
    "        return img_tensor, mask_tensor\n",
    "\n",
    "# --- PREPARE DATA PATHS ---\n",
    "def prepare_data_paths():\n",
    "    image_paths = []\n",
    "    mask_paths = []\n",
    "    \n",
    "    # Get all image files\n",
    "    image_files = [f for f in os.listdir(IMAGE_DIR) if f.endswith(('.png', '.jpg', '.jpeg'))]\n",
    "    \n",
    "    for img_file in image_files:\n",
    "        img_path = os.path.join(IMAGE_DIR, img_file)\n",
    "        \n",
    "        # Construct mask filename\n",
    "        mask_filename = f\"{os.path.splitext(img_file)[0]}_combined_mask.png\"\n",
    "        mask_path = os.path.join(MASK_DIR, mask_filename)\n",
    "        \n",
    "        # Check if mask exists\n",
    "        if not os.path.exists(mask_path):\n",
    "            print(f\"Mask not found for {img_file}, skipping...\")\n",
    "            continue\n",
    "        \n",
    "        # Check if files can be opened\n",
    "        try:\n",
    "            img = cv2.imread(img_path)\n",
    "            mask = cv2.imread(mask_path, cv2.IMREAD_GRAYSCALE)\n",
    "            \n",
    "            if img is None or mask is None:\n",
    "                print(f\"Failed to load image or mask: {img_file}\")\n",
    "                continue\n",
    "                \n",
    "            image_paths.append(img_path)\n",
    "            mask_paths.append(mask_path)\n",
    "        except Exception as e:\n",
    "            print(f\"Error loading {img_file}: {e}\")\n",
    "    \n",
    "    print(f\"Found {len(image_paths)} valid image-mask pairs.\")\n",
    "    return image_paths, mask_paths\n",
    "\n",
    "# --- U-NET MODEL DEFINITION ---\n",
    "class UNet(nn.Module):\n",
    "    def __init__(self, n_channels=3, n_classes=3):\n",
    "        super(UNet, self).__init__()\n",
    "        # Encoder (downsampling)\n",
    "        self.inc = self._double_conv(n_channels, 32)\n",
    "        self.down1 = self._down(32, 64)\n",
    "        self.down2 = self._down(64, 128)\n",
    "        self.down3 = self._down(128, 256)\n",
    "        \n",
    "        # Decoder (upsampling)\n",
    "        self.up1 = self._up(256, 128)\n",
    "        self.up2 = self._up(128, 64)\n",
    "        self.up3 = self._up(64, 32)\n",
    "        self.outc = nn.Conv2d(32, n_classes, kernel_size=1)\n",
    "        \n",
    "    def forward(self, x):\n",
    "        # Encoder path\n",
    "        x1 = self.inc(x)\n",
    "        x2 = self.down1(x1)\n",
    "        x3 = self.down2(x2)\n",
    "        x4 = self.down3(x3)\n",
    "        \n",
    "        # Decoder path with skip connections\n",
    "        x = self.up1(x4, x3)\n",
    "        x = self.up2(x, x2)\n",
    "        x = self.up3(x, x1)\n",
    "        x = self.outc(x)\n",
    "        return x\n",
    "    \n",
    "    def _double_conv(self, in_channels, out_channels):\n",
    "        return nn.Sequential(\n",
    "            nn.Conv2d(in_channels, out_channels, kernel_size=3, padding=1),\n",
    "            nn.ReLU(inplace=True),\n",
    "            nn.Conv2d(out_channels, out_channels, kernel_size=3, padding=1),\n",
    "            nn.ReLU(inplace=True)\n",
    "        )\n",
    "    \n",
    "    def _down(self, in_channels, out_channels):\n",
    "        return nn.Sequential(\n",
    "            nn.MaxPool2d(2),\n",
    "            self._double_conv(in_channels, out_channels)\n",
    "        )\n",
    "    \n",
    "    def _up(self, in_channels, out_channels):\n",
    "        return _UpBlock(in_channels, out_channels)\n",
    "\n",
    "class _UpBlock(nn.Module):\n",
    "    def __init__(self, in_channels, out_channels):\n",
    "        super(_UpBlock, self).__init__()\n",
    "        self.up = nn.ConvTranspose2d(in_channels, out_channels, kernel_size=2, stride=2)\n",
    "        self.conv = nn.Sequential(\n",
    "            nn.Conv2d(in_channels, out_channels, kernel_size=3, padding=1),\n",
    "            nn.ReLU(inplace=True),\n",
    "            nn.Conv2d(out_channels, out_channels, kernel_size=3, padding=1),\n",
    "            nn.ReLU(inplace=True)\n",
    "        )\n",
    "    \n",
    "    def forward(self, x1, x2):\n",
    "        x1 = self.up(x1)\n",
    "        \n",
    "        # Calculate padding to match dimensions\n",
    "        diffY = x2.size()[2] - x1.size()[2]\n",
    "        diffX = x2.size()[3] - x1.size()[3]\n",
    "        \n",
    "        x1 = nn.functional.pad(x1, [diffX // 2, diffX - diffX // 2,\n",
    "                              diffY // 2, diffY - diffY // 2])\n",
    "        \n",
    "        # Concatenate along channel dimension\n",
    "        x = torch.cat([x2, x1], dim=1)\n",
    "        return self.conv(x)\n",
    "\n",
    "# --- TRAINING FUNCTION ---\n",
    "def train_model(model, train_loader, val_loader, criterion, optimizer, device, num_epochs=EPOCHS):\n",
    "    # For storing metrics\n",
    "    train_losses = []\n",
    "    val_losses = []\n",
    "    best_val_loss = float('inf')\n",
    "    \n",
    "    for epoch in range(num_epochs):\n",
    "        # Training phase\n",
    "        model.train()\n",
    "        running_loss = 0.0\n",
    "        \n",
    "        for images, masks in train_loader:\n",
    "            images = images.to(device)\n",
    "            masks = masks.to(device)\n",
    "            \n",
    "            # Zero the parameter gradients\n",
    "            optimizer.zero_grad()\n",
    "            \n",
    "            # Forward pass\n",
    "            outputs = model(images)\n",
    "            loss = criterion(outputs, masks)\n",
    "            \n",
    "            # Backward pass and optimize\n",
    "            loss.backward()\n",
    "            optimizer.step()\n",
    "            \n",
    "            running_loss += loss.item() * images.size(0)\n",
    "        \n",
    "        epoch_train_loss = running_loss / len(train_loader.dataset)\n",
    "        train_losses.append(epoch_train_loss)\n",
    "        \n",
    "        # Validation phase\n",
    "        model.eval()\n",
    "        running_val_loss = 0.0\n",
    "        \n",
    "        with torch.no_grad():\n",
    "            for images, masks in val_loader:\n",
    "                images = images.to(device)\n",
    "                masks = masks.to(device)\n",
    "                \n",
    "                outputs = model(images)\n",
    "                val_loss = criterion(outputs, masks)\n",
    "                \n",
    "                running_val_loss += val_loss.item() * images.size(0)\n",
    "        \n",
    "        epoch_val_loss = running_val_loss / len(val_loader.dataset)\n",
    "        val_losses.append(epoch_val_loss)\n",
    "        \n",
    "        print(f'Epoch {epoch+1}/{num_epochs}, '\n",
    "              f'Train Loss: {epoch_train_loss:.4f}, '\n",
    "              f'Val Loss: {epoch_val_loss:.4f}')\n",
    "        \n",
    "        # Save best model\n",
    "        if epoch_val_loss < best_val_loss:\n",
    "            best_val_loss = epoch_val_loss\n",
    "            torch.save(model.state_dict(), os.path.join(MODEL_OUTPUT_DIR, 'cej_alveolar_unet_best.pth'))\n",
    "            print(f'Saved model at epoch {epoch+1} with validation loss: {best_val_loss:.4f}')\n",
    "    \n",
    "    # Save final model\n",
    "    torch.save(model.state_dict(), os.path.join(MODEL_OUTPUT_DIR, 'cej_alveolar_unet_final.pth'))\n",
    "    \n",
    "    # Plot training history\n",
    "    plt.figure(figsize=(10, 5))\n",
    "    plt.plot(train_losses, label='Training Loss')\n",
    "    plt.plot(val_losses, label='Validation Loss')\n",
    "    plt.title('Loss Over Epochs')\n",
    "    plt.xlabel('Epoch')\n",
    "    plt.ylabel('Loss')\n",
    "    plt.legend()\n",
    "    plt.savefig(os.path.join(MODEL_OUTPUT_DIR, 'training_history.png'))\n",
    "    plt.show()\n",
    "    \n",
    "    return model, train_losses, val_losses\n",
    "\n",
    "# --- PREDICTION & VISUALIZATION ---\n",
    "def predict_and_visualize(model, val_dataset, device, num_samples=3):\n",
    "    model.eval()\n",
    "    \n",
    "    # Select random samples\n",
    "    indices = np.random.choice(len(val_dataset), min(num_samples, len(val_dataset)), replace=False)\n",
    "    \n",
    "    plt.figure(figsize=(15, 5*num_samples))\n",
    "    \n",
    "    with torch.no_grad():\n",
    "        for i, idx in enumerate(indices):\n",
    "            # Get sample\n",
    "            img, true_mask = val_dataset[idx]\n",
    "            \n",
    "            # Add batch dimension\n",
    "            img = img.unsqueeze(0).to(device)\n",
    "            \n",
    "            # Make prediction\n",
    "            outputs = model(img)\n",
    "            pred_mask = torch.argmax(outputs, dim=1).squeeze().cpu().numpy()\n",
    "            \n",
    "            # Convert tensors to numpy arrays for visualization\n",
    "            img = img.squeeze().cpu().numpy()\n",
    "            img = np.transpose(img, (1, 2, 0))  # Convert from CxHxW to HxWxC\n",
    "            true_mask = true_mask.cpu().numpy()\n",
    "            \n",
    "            # Plot original image\n",
    "            plt.subplot(num_samples, 3, i*3+1)\n",
    "            plt.imshow(img)\n",
    "            plt.title('Original Image')\n",
    "            plt.axis('off')\n",
    "            \n",
    "            # Plot true mask (colormap to distinguish classes)\n",
    "            plt.subplot(num_samples, 3, i*3+2)\n",
    "            plt.imshow(true_mask, cmap='viridis')\n",
    "            plt.title('True Mask')\n",
    "            plt.axis('off')\n",
    "            \n",
    "            # Plot predicted mask (same colormap)\n",
    "            plt.subplot(num_samples, 3, i*3+3)\n",
    "            plt.imshow(pred_mask, cmap='viridis')\n",
    "            plt.title('Predicted Mask')\n",
    "            plt.axis('off')\n",
    "    \n",
    "    plt.tight_layout()\n",
    "    plt.savefig(os.path.join(MODEL_OUTPUT_DIR, 'predictions.png'))\n",
    "    plt.show()\n",
    "\n",
    "# --- INFERENCE ON NEW IMAGES ---\n",
    "def predict_on_new_image(model, image_path, device):\n",
    "    # Load and preprocess the image\n",
    "    img = cv2.imread(image_path)\n",
    "    if img is None:\n",
    "        print(f\"Failed to load image: {image_path}\")\n",
    "        return None\n",
    "    \n",
    "    # Preserve original dimensions for later\n",
    "    original_height, original_width = img.shape[:2]\n",
    "    \n",
    "    # Resize for prediction\n",
    "    img_resized = cv2.resize(img, (IMG_WIDTH, IMG_HEIGHT))\n",
    "    img_normalized = img_resized / 255.0\n",
    "    \n",
    "    # Convert to tensor and add batch dimension\n",
    "    img_tensor = torch.FloatTensor(np.transpose(img_normalized, (2, 0, 1))).unsqueeze(0)\n",
    "    img_tensor = img_tensor.to(device)\n",
    "    \n",
    "    # Make prediction\n",
    "    model.eval()\n",
    "    with torch.no_grad():\n",
    "        outputs = model(img_tensor)\n",
    "        pred_mask = torch.argmax(outputs, dim=1).squeeze().cpu().numpy()\n",
    "    \n",
    "    # Convert back to original class values\n",
    "    output_mask = np.zeros_like(pred_mask, dtype=np.uint8)\n",
    "    output_mask[pred_mask == 1] = 128  # alveolar\n",
    "    output_mask[pred_mask == 2] = 255  # cej\n",
    "    \n",
    "    # Resize back to original dimensions\n",
    "    output_mask_resized = cv2.resize(output_mask, (original_width, original_height), \n",
    "                                     interpolation=cv2.INTER_NEAREST)\n",
    "    \n",
    "    # Visualize\n",
    "    plt.figure(figsize=(12, 6))\n",
    "    \n",
    "    plt.subplot(1, 2, 1)\n",
    "    plt.imshow(cv2.cvtColor(img, cv2.COLOR_BGR2RGB))\n",
    "    plt.title('Original Image')\n",
    "    plt.axis('off')\n",
    "    \n",
    "    plt.subplot(1, 2, 2)\n",
    "    plt.imshow(output_mask_resized, cmap='viridis')\n",
    "    plt.title('Predicted Segmentation')\n",
    "    plt.axis('off')\n",
    "    \n",
    "    plt.tight_layout()\n",
    "    plt.show()\n",
    "    \n",
    "    return output_mask_resized\n",
    "\n",
    "# --- BONE LOSS MEASUREMENT ---\n",
    "def measure_bone_loss(mask):\n",
    "    \"\"\"\n",
    "    Measure the distance between CEJ and alveolar bone crest for bone loss assessment\n",
    "    \"\"\"\n",
    "    # Get coordinates of CEJ pixels (value 255)\n",
    "    cej_coords = np.where(mask == 255)\n",
    "    \n",
    "    # Get coordinates of alveolar bone crest pixels (value 128)\n",
    "    alveolar_coords = np.where(mask == 128)\n",
    "    \n",
    "    if len(cej_coords[0]) == 0 or len(alveolar_coords[0]) == 0:\n",
    "        print(\"Could not find either CEJ or alveolar bone crest in the mask\")\n",
    "        return None\n",
    "    \n",
    "    # Find the lowest point (max y) of CEJ\n",
    "    cej_lowest_y = np.max(cej_coords[0])\n",
    "    cej_lowest_x = cej_coords[1][np.argmax(cej_coords[0])]\n",
    "    \n",
    "    # Find the highest point (min y) of alveolar bone crest near the same x-coordinate\n",
    "    # Consider points within a certain range of the CEJ x-coordinate\n",
    "    tolerance = 20  # Pixels\n",
    "    nearby_alveolar = [(y, x) for y, x in zip(alveolar_coords[0], alveolar_coords[1]) \n",
    "                       if abs(x - cej_lowest_x) < tolerance]\n",
    "    \n",
    "    if not nearby_alveolar:\n",
    "        print(\"No alveolar bone crest found near the CEJ\")\n",
    "        return None\n",
    "    \n",
    "    # Find the highest point (min y) of nearby alveolar points\n",
    "    alveolar_highest_y = min([y for y, _ in nearby_alveolar])\n",
    "    alveolar_highest_x = [x for y, x in nearby_alveolar if y == alveolar_highest_y][0]\n",
    "    \n",
    "    # Calculate Euclidean distance\n",
    "    distance = np.sqrt((cej_lowest_y - alveolar_highest_y)**2 + \n",
    "                       (cej_lowest_x - alveolar_highest_x)**2)\n",
    "    \n",
    "    # Visualize the measurement\n",
    "    vis_mask = np.zeros((mask.shape[0], mask.shape[1], 3), dtype=np.uint8)\n",
    "    vis_mask[mask == 255] = [255, 0, 0]  # CEJ in red\n",
    "    vis_mask[mask == 128] = [0, 255, 0]  # Alveolar in green\n",
    "    \n",
    "    # Draw the measurement line\n",
    "    cv2.line(vis_mask, (cej_lowest_x, cej_lowest_y), \n",
    "             (alveolar_highest_x, alveolar_highest_y), (0, 0, 255), 2)\n",
    "    \n",
    "    # Add text with measurement\n",
    "    cv2.putText(vis_mask, f\"Distance: {distance:.2f} pixels\", \n",
    "                (10, 30), cv2.FONT_HERSHEY_SIMPLEX, 0.7, (255, 255, 255), 2)\n",
    "    \n",
    "    plt.figure(figsize=(10, 10))\n",
    "    plt.imshow(vis_mask)\n",
    "    plt.title('Bone Loss Measurement')\n",
    "    plt.axis('off')\n",
    "    plt.tight_layout()\n",
    "    plt.show()\n",
    "    \n",
    "    return distance\n",
    "\n",
    "# --- MAIN EXECUTION ---\n",
    "def main():\n",
    "    # Check if CUDA is available, otherwise use CPU\n",
    "    device = torch.device('cuda' if torch.cuda.is_available() else 'cpu')\n",
    "    print(f\"Using device: {device}\")\n",
    "    \n",
    "    # Prepare data\n",
    "    image_paths, mask_paths = prepare_data_paths()\n",
    "    \n",
    "    if len(image_paths) == 0:\n",
    "        print(\"No valid data found. Please check paths and file formats.\")\n",
    "        return\n",
    "    \n",
    "    # Split data into train and validation sets\n",
    "    train_img_paths, val_img_paths, train_mask_paths, val_mask_paths = train_test_split(\n",
    "        image_paths, mask_paths, test_size=0.2, random_state=SEED)\n",
    "    \n",
    "    # Create datasets\n",
    "    train_dataset = DentalSegmentationDataset(train_img_paths, train_mask_paths)\n",
    "    val_dataset = DentalSegmentationDataset(val_img_paths, val_mask_paths)\n",
    "    \n",
    "    # Create data loaders\n",
    "    train_loader = DataLoader(train_dataset, batch_size=BATCH_SIZE, shuffle=True)\n",
    "    val_loader = DataLoader(val_dataset, batch_size=BATCH_SIZE, shuffle=False)\n",
    "    \n",
    "    print(f\"Training on {len(train_dataset)} samples\")\n",
    "    print(f\"Validating on {len(val_dataset)} samples\")\n",
    "    \n",
    "    # Initialize model\n",
    "    model = UNet(n_channels=3, n_classes=NUM_CLASSES).to(device)\n",
    "    \n",
    "    # Define loss function and optimizer\n",
    "    criterion = nn.CrossEntropyLoss()\n",
    "    optimizer = optim.Adam(model.parameters(), lr=0.001)\n",
    "    \n",
    "    # Train model\n",
    "    print(\"Starting training...\")\n",
    "    model, train_losses, val_losses = train_model(\n",
    "        model, train_loader, val_loader, criterion, optimizer, device)\n",
    "    \n",
    "    # Visualize some predictions\n",
    "    print(\"Generating predictions...\")\n",
    "    predict_and_visualize(model, val_dataset, device)\n",
    "    \n",
    "    print(\"Training and evaluation complete!\")\n",
    "    \n",
    "    # Example of using the model for bone loss measurement\n",
    "    print(\"\\nTo measure bone loss on a new image, use:\")\n",
    "    print(\"model.load_state_dict(torch.load('path/to/model.pth'))\")\n",
    "    print(\"mask = predict_on_new_image(model, 'path/to/your/image.jpg', device)\")\n",
    "    print(\"measure_bone_loss(mask)\")\n",
    "\n",
    "if __name__ == \"__main__\":\n",
    "    main()"
   ]
  },
  {
   "cell_type": "code",
   "execution_count": 1,
   "id": "1e7cc5cc",
   "metadata": {
    "scrolled": true
   },
   "outputs": [
    {
     "name": "stdout",
     "output_type": "stream",
     "text": [
      "Requirement already satisfied: protobuf in c:\\users\\pauli\\anaconda3\\lib\\site-packages (5.29.4)\n",
      "Collecting protobuf\n",
      "  Using cached protobuf-6.30.2-cp39-cp39-win_amd64.whl (431 kB)\n",
      "Requirement already satisfied: tensorflow in c:\\users\\pauli\\anaconda3\\lib\\site-packages (2.17.0)\n",
      "Collecting tensorflow\n",
      "  Using cached tensorflow-2.19.0-cp39-cp39-win_amd64.whl (375.7 MB)\n",
      "Requirement already satisfied: six>=1.12.0 in c:\\users\\pauli\\anaconda3\\lib\\site-packages (from tensorflow) (1.17.0)\n",
      "Requirement already satisfied: opt-einsum>=2.3.2 in c:\\users\\pauli\\anaconda3\\lib\\site-packages (from tensorflow) (3.3.0)\n",
      "Requirement already satisfied: packaging in c:\\users\\pauli\\anaconda3\\lib\\site-packages (from tensorflow) (24.2)\n",
      "Requirement already satisfied: requests<3,>=2.21.0 in c:\\users\\pauli\\anaconda3\\lib\\site-packages (from tensorflow) (2.28.1)\n",
      "Requirement already satisfied: astunparse>=1.6.0 in c:\\users\\pauli\\anaconda3\\lib\\site-packages (from tensorflow) (1.6.3)\n",
      "Requirement already satisfied: numpy<2.2.0,>=1.26.0 in c:\\users\\pauli\\anaconda3\\lib\\site-packages (from tensorflow) (1.26.4)\n",
      "Requirement already satisfied: libclang>=13.0.0 in c:\\users\\pauli\\anaconda3\\lib\\site-packages (from tensorflow) (18.1.1)\n",
      "Requirement already satisfied: keras>=3.5.0 in c:\\users\\pauli\\anaconda3\\lib\\site-packages (from tensorflow) (3.6.0)\n",
      "Requirement already satisfied: ml-dtypes<1.0.0,>=0.5.1 in c:\\users\\pauli\\anaconda3\\lib\\site-packages (from tensorflow) (0.5.1)\n",
      "Requirement already satisfied: tensorboard~=2.19.0 in c:\\users\\pauli\\anaconda3\\lib\\site-packages (from tensorflow) (2.19.0)\n",
      "Requirement already satisfied: setuptools in c:\\users\\pauli\\anaconda3\\lib\\site-packages (from tensorflow) (78.1.0)\n",
      "Requirement already satisfied: gast!=0.5.0,!=0.5.1,!=0.5.2,>=0.2.1 in c:\\users\\pauli\\anaconda3\\lib\\site-packages (from tensorflow) (0.4.0)\n",
      "Requirement already satisfied: h5py>=3.11.0 in c:\\users\\pauli\\anaconda3\\lib\\site-packages (from tensorflow) (3.12.1)\n",
      "Requirement already satisfied: tensorflow-io-gcs-filesystem>=0.23.1 in c:\\users\\pauli\\anaconda3\\lib\\site-packages (from tensorflow) (0.31.0)\n",
      "Requirement already satisfied: wrapt>=1.11.0 in c:\\users\\pauli\\anaconda3\\lib\\site-packages (from tensorflow) (1.17.2)\n",
      "Requirement already satisfied: google-pasta>=0.1.1 in c:\\users\\pauli\\anaconda3\\lib\\site-packages (from tensorflow) (0.2.0)\n",
      "Requirement already satisfied: flatbuffers>=24.3.25 in c:\\users\\pauli\\anaconda3\\lib\\site-packages (from tensorflow) (25.2.10)\n",
      "Requirement already satisfied: termcolor>=1.1.0 in c:\\users\\pauli\\anaconda3\\lib\\site-packages (from tensorflow) (3.0.1)\n",
      "Requirement already satisfied: absl-py>=1.0.0 in c:\\users\\pauli\\anaconda3\\lib\\site-packages (from tensorflow) (1.4.0)\n",
      "Requirement already satisfied: typing-extensions>=3.6.6 in c:\\users\\pauli\\anaconda3\\lib\\site-packages (from tensorflow) (4.13.0)\n",
      "Requirement already satisfied: grpcio<2.0,>=1.24.3 in c:\\users\\pauli\\anaconda3\\lib\\site-packages (from tensorflow) (1.51.3)\n",
      "Requirement already satisfied: wheel<1.0,>=0.23.0 in c:\\users\\pauli\\anaconda3\\lib\\site-packages (from astunparse>=1.6.0->tensorflow) (0.45.1)\n",
      "Requirement already satisfied: namex in c:\\users\\pauli\\anaconda3\\lib\\site-packages (from keras>=3.5.0->tensorflow) (0.0.8)\n",
      "Requirement already satisfied: optree in c:\\users\\pauli\\anaconda3\\lib\\site-packages (from keras>=3.5.0->tensorflow) (0.13.0)\n",
      "Requirement already satisfied: rich in c:\\users\\pauli\\anaconda3\\lib\\site-packages (from keras>=3.5.0->tensorflow) (13.9.2)\n",
      "Requirement already satisfied: certifi>=2017.4.17 in c:\\users\\pauli\\anaconda3\\lib\\site-packages (from requests<3,>=2.21.0->tensorflow) (2022.9.14)\n",
      "Requirement already satisfied: urllib3<1.27,>=1.21.1 in c:\\users\\pauli\\anaconda3\\lib\\site-packages (from requests<3,>=2.21.0->tensorflow) (1.26.20)\n",
      "Requirement already satisfied: charset-normalizer<3,>=2 in c:\\users\\pauli\\anaconda3\\lib\\site-packages (from requests<3,>=2.21.0->tensorflow) (2.0.4)\n",
      "Requirement already satisfied: idna<4,>=2.5 in c:\\users\\pauli\\anaconda3\\lib\\site-packages (from requests<3,>=2.21.0->tensorflow) (3.3)\n",
      "Requirement already satisfied: tensorboard-data-server<0.8.0,>=0.7.0 in c:\\users\\pauli\\anaconda3\\lib\\site-packages (from tensorboard~=2.19.0->tensorflow) (0.7.2)\n",
      "Requirement already satisfied: markdown>=2.6.8 in c:\\users\\pauli\\anaconda3\\lib\\site-packages (from tensorboard~=2.19.0->tensorflow) (3.3.4)\n",
      "Requirement already satisfied: werkzeug>=1.0.1 in c:\\users\\pauli\\anaconda3\\lib\\site-packages (from tensorboard~=2.19.0->tensorflow) (2.0.3)\n",
      "Requirement already satisfied: pygments<3.0.0,>=2.13.0 in c:\\users\\pauli\\anaconda3\\lib\\site-packages (from rich->keras>=3.5.0->tensorflow) (2.19.1)\n",
      "Requirement already satisfied: markdown-it-py>=2.2.0 in c:\\users\\pauli\\anaconda3\\lib\\site-packages (from rich->keras>=3.5.0->tensorflow) (3.0.0)\n",
      "Requirement already satisfied: mdurl~=0.1 in c:\\users\\pauli\\anaconda3\\lib\\site-packages (from markdown-it-py>=2.2.0->rich->keras>=3.5.0->tensorflow) (0.1.2)\n",
      "Installing collected packages: tensorflow\n",
      "  Attempting uninstall: tensorflow\n",
      "    Found existing installation: tensorflow 2.17.0\n",
      "    Uninstalling tensorflow-2.17.0:\n",
      "      Successfully uninstalled tensorflow-2.17.0\n",
      "Successfully installed tensorflow-2.19.0\n",
      "Note: you may need to restart the kernel to use updated packages.\n"
     ]
    },
    {
     "name": "stderr",
     "output_type": "stream",
     "text": [
      "WARNING: Ignoring invalid distribution -rotobuf (c:\\users\\pauli\\anaconda3\\lib\\site-packages)\n",
      "WARNING: Ignoring invalid distribution -rotobuf (c:\\users\\pauli\\anaconda3\\lib\\site-packages)\n",
      "WARNING: Ignoring invalid distribution -rotobuf (c:\\users\\pauli\\anaconda3\\lib\\site-packages)\n",
      "    WARNING: Ignoring invalid distribution -rotobuf (c:\\users\\pauli\\anaconda3\\lib\\site-packages)\n",
      "WARNING: Ignoring invalid distribution -rotobuf (c:\\users\\pauli\\anaconda3\\lib\\site-packages)\n",
      "WARNING: Ignoring invalid distribution -rotobuf (c:\\users\\pauli\\anaconda3\\lib\\site-packages)\n",
      "WARNING: Ignoring invalid distribution -rotobuf (c:\\users\\pauli\\anaconda3\\lib\\site-packages)\n",
      "WARNING: Ignoring invalid distribution -rotobuf (c:\\users\\pauli\\anaconda3\\lib\\site-packages)\n"
     ]
    }
   ],
   "source": [
    "pip install --upgrade protobuf tensorflow"
   ]
  },
  {
   "cell_type": "code",
   "execution_count": null,
   "id": "9c304fbe",
   "metadata": {},
   "outputs": [],
   "source": []
  }
 ],
 "metadata": {
  "kernelspec": {
   "display_name": "Python 3 (ipykernel)",
   "language": "python",
   "name": "python3"
  },
  "language_info": {
   "codemirror_mode": {
    "name": "ipython",
    "version": 3
   },
   "file_extension": ".py",
   "mimetype": "text/x-python",
   "name": "python",
   "nbconvert_exporter": "python",
   "pygments_lexer": "ipython3",
   "version": "3.9.13"
  }
 },
 "nbformat": 4,
 "nbformat_minor": 5
}
